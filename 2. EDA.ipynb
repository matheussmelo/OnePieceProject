{
 "cells": [
  {
   "cell_type": "markdown",
   "metadata": {},
   "source": [
    "## Análise de Dados com episódios do anime One Piece (Fonte: IMDb)"
   ]
  },
  {
   "cell_type": "markdown",
   "metadata": {},
   "source": [
    "### Introdução"
   ]
  },
  {
   "cell_type": "markdown",
   "metadata": {},
   "source": [
    "Será realizada uma análise completa do conjunto de dados obtido da primeira parte. \n",
    "\n",
    "Nossa motivação com esse conjunto de dados é entender sobre padrões e/ou características relacionadas à quantidade de votos e a avaliação média dos telespectadores para cada episódio, contemplando entre diferentes arcos e tipos de episódio.\n",
    "\n",
    "Os Episódios, Títulos, Votos e Avaliação foram coletados utilizando WebScrapping do site da IMDb e estão em '***episodes.xlsx***'. Com informações da web, complementei os dados pelo Excel com o Tipo e Arco de cada episódio, salvando no arquivo ***'episodes_final.xlsx'***."
   ]
  },
  {
   "cell_type": "markdown",
   "metadata": {},
   "source": [
    "### Descrição dos Dados"
   ]
  },
  {
   "cell_type": "markdown",
   "metadata": {},
   "source": [
    "- ***Episódio***: Número do episódio.\n",
    "- ***Arco***: O arco em questão que o episódio foi lançado. Arcos são partes de uma história maior, com diferentes objetivos e contextos. Nos animes, existem diversos arcos pertencentes a diferentes sagas, que são semelhantes à temporadas.\n",
    "- ***Tipo***: O tipo do episódio em questão. Pode ser: \n",
    "1) Canônico: O conteúdo do episódio é 100% importante para a narrativa do anime.\n",
    "2) Semi-Canônico: O conteúdo do episódio é importante para a narrativa do anime mas algumas partes são apenas para completar o tempo do episódio.\n",
    "3) Filler: O conteúdo do episódio não é importante para a narrativa, abordando um episódio com uma história paralela à história principal.\n",
    "- ***Título***: Titulo do episódio.\n",
    "- ***Votos***: Quantidade de votos realizadas pelos telespectadores no site da IMDb.\n",
    "- ***Avaliação***: Avaliação média dos votos realizados pelos telespectadores no site da IMDb."
   ]
  },
  {
   "cell_type": "markdown",
   "metadata": {},
   "source": [
    "### Perguntas a serem respondidas com as análises:"
   ]
  },
  {
   "cell_type": "markdown",
   "metadata": {},
   "source": [
    "- Qual é a distribuição da avaliação média e quantidade de votos total? \n",
    "- Qual ou quais episódios tiveram a avaliação mais alta e qual ou quais tiveram a avaliação mais baixa? \n",
    "- Qual a quantidade de episódios de cada tipo? \n",
    "- Qual é a avaliação média e quantidade de votos para cada tipo de episódio? \n",
    "- Qual é a quantidade de episódios em cada arco? Quais são os maiores? \n",
    "- Qual é a avaliação média e quantidade de votos em cada arco? \n",
    "- Quais arcos e com quantos episódios com avaliação média acima do 3º quartil (75%) existem? E abaixo do 1º quartil (25%)?\n",
    "- Há uma correlação entre avaliação e quantidade de votos? \n",
    "- A quantidade de votos no anime aumentou ou diminuiu com o tempo? A avaliação média melhorou ou piorou?\n",
    "- Os fillers foram sendo menos votados e tiveram menos avaliações com o tempo? "
   ]
  },
  {
   "cell_type": "markdown",
   "metadata": {},
   "source": [
    "#### Bibliotecas utilizadas nessa parte"
   ]
  },
  {
   "cell_type": "code",
   "execution_count": 388,
   "metadata": {},
   "outputs": [],
   "source": [
    "import pandas as pd\n",
    "import plotly.subplots as sp\n",
    "import plotly.graph_objects as go"
   ]
  },
  {
   "cell_type": "markdown",
   "metadata": {},
   "source": [
    "#### Leitura do Dataset principal"
   ]
  },
  {
   "cell_type": "code",
   "execution_count": 389,
   "metadata": {},
   "outputs": [
    {
     "data": {
      "text/html": [
       "<div>\n",
       "<style scoped>\n",
       "    .dataframe tbody tr th:only-of-type {\n",
       "        vertical-align: middle;\n",
       "    }\n",
       "\n",
       "    .dataframe tbody tr th {\n",
       "        vertical-align: top;\n",
       "    }\n",
       "\n",
       "    .dataframe thead th {\n",
       "        text-align: right;\n",
       "    }\n",
       "</style>\n",
       "<table border=\"1\" class=\"dataframe\">\n",
       "  <thead>\n",
       "    <tr style=\"text-align: right;\">\n",
       "      <th></th>\n",
       "      <th>Episódio</th>\n",
       "      <th>Arco</th>\n",
       "      <th>Tipo</th>\n",
       "      <th>Título</th>\n",
       "      <th>Lançamento</th>\n",
       "      <th>Votos</th>\n",
       "      <th>Avaliação</th>\n",
       "    </tr>\n",
       "  </thead>\n",
       "  <tbody>\n",
       "    <tr>\n",
       "      <th>0</th>\n",
       "      <td>1</td>\n",
       "      <td>Romance Dawn</td>\n",
       "      <td>Semi-Canônico</td>\n",
       "      <td>Ore wa Luffy! Kaizoku Ou ni Naru Otoko Da!</td>\n",
       "      <td>1999-10-20</td>\n",
       "      <td>28293</td>\n",
       "      <td>8.4</td>\n",
       "    </tr>\n",
       "    <tr>\n",
       "      <th>1</th>\n",
       "      <td>2</td>\n",
       "      <td>Romance Dawn</td>\n",
       "      <td>Canônico</td>\n",
       "      <td>Daikengo Arawaru! Kaizokugari Roronoa Zoro</td>\n",
       "      <td>1999-11-17</td>\n",
       "      <td>13351</td>\n",
       "      <td>8.3</td>\n",
       "    </tr>\n",
       "    <tr>\n",
       "      <th>2</th>\n",
       "      <td>3</td>\n",
       "      <td>Romance Dawn</td>\n",
       "      <td>Canônico</td>\n",
       "      <td>Morgan vs. Luffy! Nazo no Bishoujo wa Dare?</td>\n",
       "      <td>1999-11-24</td>\n",
       "      <td>5868</td>\n",
       "      <td>8.0</td>\n",
       "    </tr>\n",
       "    <tr>\n",
       "      <th>3</th>\n",
       "      <td>4</td>\n",
       "      <td>Orange Town</td>\n",
       "      <td>Canônico</td>\n",
       "      <td>Luffy no Kako! Akagami no Shanks Toujou</td>\n",
       "      <td>1999-12-08</td>\n",
       "      <td>4744</td>\n",
       "      <td>8.3</td>\n",
       "    </tr>\n",
       "    <tr>\n",
       "      <th>4</th>\n",
       "      <td>5</td>\n",
       "      <td>Orange Town</td>\n",
       "      <td>Canônico</td>\n",
       "      <td>Kyoufu Nazo no Chikara! Kaizoku Douke Buggy-se...</td>\n",
       "      <td>1999-12-15</td>\n",
       "      <td>3120</td>\n",
       "      <td>7.4</td>\n",
       "    </tr>\n",
       "    <tr>\n",
       "      <th>...</th>\n",
       "      <td>...</td>\n",
       "      <td>...</td>\n",
       "      <td>...</td>\n",
       "      <td>...</td>\n",
       "      <td>...</td>\n",
       "      <td>...</td>\n",
       "      <td>...</td>\n",
       "    </tr>\n",
       "    <tr>\n",
       "      <th>1112</th>\n",
       "      <td>1113</td>\n",
       "      <td>Egghead</td>\n",
       "      <td>Canônico</td>\n",
       "      <td>Run, Koby! A Desperate Escape Strategy!</td>\n",
       "      <td>2024-07-28</td>\n",
       "      <td>1873</td>\n",
       "      <td>8.3</td>\n",
       "    </tr>\n",
       "    <tr>\n",
       "      <th>1113</th>\n",
       "      <td>1114</td>\n",
       "      <td>Egghead</td>\n",
       "      <td>Canônico</td>\n",
       "      <td>For the Beloved Pupil - The Fist of Vice Admir...</td>\n",
       "      <td>2024-08-04</td>\n",
       "      <td>7681</td>\n",
       "      <td>9.7</td>\n",
       "    </tr>\n",
       "    <tr>\n",
       "      <th>1114</th>\n",
       "      <td>1115</td>\n",
       "      <td>Egghead</td>\n",
       "      <td>Canônico</td>\n",
       "      <td>The Navy Surprised! The Navy Headquarters' For...</td>\n",
       "      <td>2024-08-11</td>\n",
       "      <td>3891</td>\n",
       "      <td>9.7</td>\n",
       "    </tr>\n",
       "    <tr>\n",
       "      <th>1115</th>\n",
       "      <td>1116</td>\n",
       "      <td>Egghead</td>\n",
       "      <td>Canônico</td>\n",
       "      <td>Let's Go Get It! Buggy's Big Declaration</td>\n",
       "      <td>2024-08-18</td>\n",
       "      <td>1196</td>\n",
       "      <td>8.3</td>\n",
       "    </tr>\n",
       "    <tr>\n",
       "      <th>1116</th>\n",
       "      <td>1117</td>\n",
       "      <td>Egghead</td>\n",
       "      <td>Canônico</td>\n",
       "      <td>Sabo Returns - The Shocking Truth to Be Told</td>\n",
       "      <td>2024-09-01</td>\n",
       "      <td>736</td>\n",
       "      <td>8.2</td>\n",
       "    </tr>\n",
       "  </tbody>\n",
       "</table>\n",
       "<p>1117 rows × 7 columns</p>\n",
       "</div>"
      ],
      "text/plain": [
       "      Episódio          Arco           Tipo  \\\n",
       "0            1  Romance Dawn  Semi-Canônico   \n",
       "1            2  Romance Dawn       Canônico   \n",
       "2            3  Romance Dawn       Canônico   \n",
       "3            4   Orange Town       Canônico   \n",
       "4            5   Orange Town       Canônico   \n",
       "...        ...           ...            ...   \n",
       "1112      1113       Egghead       Canônico   \n",
       "1113      1114       Egghead       Canônico   \n",
       "1114      1115       Egghead       Canônico   \n",
       "1115      1116       Egghead       Canônico   \n",
       "1116      1117       Egghead       Canônico   \n",
       "\n",
       "                                                 Título Lançamento  Votos  \\\n",
       "0            Ore wa Luffy! Kaizoku Ou ni Naru Otoko Da! 1999-10-20  28293   \n",
       "1            Daikengo Arawaru! Kaizokugari Roronoa Zoro 1999-11-17  13351   \n",
       "2           Morgan vs. Luffy! Nazo no Bishoujo wa Dare? 1999-11-24   5868   \n",
       "3               Luffy no Kako! Akagami no Shanks Toujou 1999-12-08   4744   \n",
       "4     Kyoufu Nazo no Chikara! Kaizoku Douke Buggy-se... 1999-12-15   3120   \n",
       "...                                                 ...        ...    ...   \n",
       "1112            Run, Koby! A Desperate Escape Strategy! 2024-07-28   1873   \n",
       "1113  For the Beloved Pupil - The Fist of Vice Admir... 2024-08-04   7681   \n",
       "1114  The Navy Surprised! The Navy Headquarters' For... 2024-08-11   3891   \n",
       "1115           Let's Go Get It! Buggy's Big Declaration 2024-08-18   1196   \n",
       "1116       Sabo Returns - The Shocking Truth to Be Told 2024-09-01    736   \n",
       "\n",
       "      Avaliação  \n",
       "0           8.4  \n",
       "1           8.3  \n",
       "2           8.0  \n",
       "3           8.3  \n",
       "4           7.4  \n",
       "...         ...  \n",
       "1112        8.3  \n",
       "1113        9.7  \n",
       "1114        9.7  \n",
       "1115        8.3  \n",
       "1116        8.2  \n",
       "\n",
       "[1117 rows x 7 columns]"
      ]
     },
     "execution_count": 389,
     "metadata": {},
     "output_type": "execute_result"
    }
   ],
   "source": [
    "df = pd.read_excel('C:/Users/USER/Documents/EstudosDados/Projetos/One Piece/episodes_final.xlsx')\n",
    "df"
   ]
  },
  {
   "cell_type": "markdown",
   "metadata": {},
   "source": [
    "#### Informações sobre o Dataset"
   ]
  },
  {
   "cell_type": "code",
   "execution_count": 390,
   "metadata": {},
   "outputs": [
    {
     "name": "stdout",
     "output_type": "stream",
     "text": [
      "<class 'pandas.core.frame.DataFrame'>\n",
      "RangeIndex: 1117 entries, 0 to 1116\n",
      "Data columns (total 7 columns):\n",
      " #   Column      Non-Null Count  Dtype         \n",
      "---  ------      --------------  -----         \n",
      " 0   Episódio    1117 non-null   int64         \n",
      " 1   Arco        1117 non-null   object        \n",
      " 2   Tipo        1117 non-null   object        \n",
      " 3   Título      1117 non-null   object        \n",
      " 4   Lançamento  1117 non-null   datetime64[ns]\n",
      " 5   Votos       1117 non-null   int64         \n",
      " 6   Avaliação   1117 non-null   float64       \n",
      "dtypes: datetime64[ns](1), float64(1), int64(2), object(3)\n",
      "memory usage: 61.2+ KB\n"
     ]
    }
   ],
   "source": [
    "df.info()"
   ]
  },
  {
   "cell_type": "markdown",
   "metadata": {},
   "source": [
    "- O conjunto de dados apresenta 1117 linhas (episódios) e 5 colunas. Nenhuma coluna possui dados nulos."
   ]
  },
  {
   "cell_type": "markdown",
   "metadata": {},
   "source": [
    "#### Qual é a distribuição da avaliação média e quantidade de votos?\n",
    "#### Qual ou quais episódios tiveram a avaliação mais alta e qual ou quais tiveram a avaliação mais baixa?"
   ]
  },
  {
   "cell_type": "code",
   "execution_count": 392,
   "metadata": {},
   "outputs": [
    {
     "data": {
      "application/vnd.plotly.v1+json": {
       "config": {
        "plotlyServerURL": "https://plot.ly"
       },
       "data": [
        {
         "marker": {
          "color": "#338bff"
         },
         "nbinsx": 30,
         "type": "histogram",
         "x": [
          28293,
          13351,
          5868,
          4744,
          3120,
          3042,
          2830,
          2691,
          2324,
          2209,
          2111,
          2068,
          2024,
          1975,
          1939,
          1919,
          2093,
          1933,
          3927,
          1863,
          1790,
          1747,
          1826,
          4733,
          1741,
          2923,
          1700,
          1676,
          1747,
          2294,
          1621,
          1583,
          1697,
          1682,
          1932,
          3675,
          4797,
          1973,
          1802,
          1775,
          1747,
          1718,
          2616,
          1752,
          1697,
          1618,
          1598,
          1684,
          1856,
          1589,
          1374,
          1745,
          2121,
          1143,
          1138,
          1116,
          1101,
          1080,
          1068,
          1063,
          1147,
          1276,
          1261,
          1183,
          1341,
          1285,
          1283,
          1190,
          1195,
          1167,
          1184,
          1140,
          1149,
          1172,
          1148,
          1140,
          1151,
          1139,
          1118,
          1125,
          1098,
          1103,
          1474,
          1198,
          1873,
          3761,
          1323,
          1126,
          1125,
          2528,
          1186,
          1110,
          1095,
          3005,
          1299,
          1090,
          1057,
          986,
          960,
          1068,
          967,
          907,
          963,
          1074,
          974,
          1029,
          1019,
          1049,
          1547,
          3110,
          1004,
          1061,
          979,
          1025,
          1080,
          1034,
          1049,
          988,
          3214,
          1018,
          1471,
          2210,
          1096,
          1053,
          2666,
          4476,
          1054,
          1061,
          3067,
          1899,
          831,
          827,
          802,
          800,
          771,
          792,
          784,
          784,
          761,
          764,
          754,
          757,
          763,
          893,
          923,
          1058,
          954,
          880,
          855,
          972,
          3700,
          1042,
          868,
          859,
          842,
          835,
          830,
          843,
          828,
          824,
          827,
          825,
          818,
          850,
          811,
          825,
          807,
          832,
          874,
          893,
          840,
          844,
          860,
          881,
          842,
          881,
          865,
          1298,
          947,
          2405,
          927,
          2454,
          2401,
          894,
          1923,
          828,
          859,
          874,
          2453,
          867,
          870,
          2801,
          921,
          848,
          807,
          702,
          693,
          691,
          712,
          692,
          667,
          667,
          675,
          663,
          666,
          687,
          770,
          753,
          747,
          756,
          751,
          751,
          705,
          697,
          731,
          723,
          758,
          746,
          734,
          715,
          711,
          627,
          617,
          617,
          644,
          651,
          2510,
          1094,
          827,
          790,
          791,
          786,
          816,
          2599,
          3363,
          5467,
          782,
          818,
          773,
          837,
          770,
          841,
          2576,
          2337,
          1341,
          820,
          840,
          837,
          851,
          2341,
          1938,
          785,
          768,
          843,
          788,
          752,
          806,
          841,
          734,
          736,
          775,
          1112,
          776,
          799,
          761,
          739,
          765,
          772,
          799,
          1756,
          902,
          1038,
          2827,
          3678,
          2545,
          2545,
          3139,
          13539,
          657,
          640,
          652,
          633,
          636,
          852,
          747,
          758,
          750,
          778,
          790,
          1488,
          680,
          749,
          783,
          802,
          730,
          836,
          800,
          1382,
          995,
          2782,
          2688,
          886,
          697,
          2545,
          2445,
          820,
          1098,
          2517,
          15122,
          2609,
          2463,
          13999,
          1723,
          2685,
          1045,
          2771,
          611,
          650,
          601,
          814,
          750,
          769,
          953,
          915,
          2773,
          561,
          573,
          567,
          556,
          537,
          534,
          530,
          534,
          522,
          526,
          763,
          877,
          778,
          687,
          675,
          688,
          673,
          650,
          673,
          649,
          642,
          645,
          656,
          664,
          654,
          652,
          659,
          774,
          656,
          649,
          644,
          668,
          642,
          668,
          655,
          664,
          751,
          647,
          643,
          644,
          645,
          694,
          694,
          710,
          697,
          702,
          2301,
          2081,
          1131,
          888,
          2484,
          39203,
          871,
          799,
          2792,
          819,
          550,
          548,
          604,
          701,
          670,
          656,
          666,
          672,
          763,
          949,
          1104,
          1011,
          977,
          1117,
          10072,
          3338,
          2426,
          2442,
          3225,
          2437,
          2474,
          2556,
          4733,
          33820,
          672,
          655,
          788,
          830,
          833,
          935,
          1395,
          2251,
          1515,
          2070,
          1446,
          1475,
          660,
          651,
          632,
          639,
          684,
          707,
          657,
          652,
          513,
          514,
          510,
          511,
          650,
          630,
          704,
          780,
          666,
          895,
          986,
          965,
          666,
          681,
          698,
          680,
          734,
          724,
          767,
          665,
          1005,
          2539,
          845,
          878,
          2046,
          2956,
          761,
          623,
          686,
          614,
          622,
          633,
          710,
          2805,
          2798,
          3074,
          2703,
          2827,
          2648,
          2946,
          3649,
          3093,
          2765,
          2715,
          2713,
          2581,
          2734,
          2653,
          4547,
          2941,
          2734,
          2587,
          3067,
          2707,
          4674,
          5264,
          31159,
          38033,
          32122,
          37079,
          4083,
          3137,
          5136,
          5094,
          1783,
          1868,
          748,
          1508,
          1225,
          1088,
          1248,
          1067,
          891,
          872,
          952,
          952,
          986,
          2183,
          1200,
          2461,
          983,
          945,
          712,
          715,
          699,
          851,
          795,
          694,
          684,
          716,
          2487,
          2668,
          1103,
          946,
          854,
          2648,
          1490,
          1029,
          627,
          602,
          593,
          600,
          608,
          772,
          590,
          593,
          592,
          583,
          585,
          577,
          597,
          591,
          582,
          583,
          602,
          894,
          549,
          981,
          603,
          606,
          648,
          584,
          575,
          581,
          589,
          578,
          586,
          881,
          2254,
          659,
          597,
          583,
          575,
          577,
          589,
          582,
          582,
          592,
          584,
          752,
          703,
          718,
          818,
          672,
          718,
          689,
          591,
          597,
          591,
          492,
          486,
          481,
          508,
          619,
          589,
          578,
          576,
          564,
          560,
          617,
          602,
          766,
          587,
          555,
          614,
          565,
          554,
          557,
          594,
          556,
          548,
          580,
          550,
          562,
          557,
          548,
          545,
          558,
          547,
          563,
          553,
          601,
          562,
          551,
          557,
          550,
          651,
          2094,
          747,
          724,
          2320,
          778,
          560,
          578,
          625,
          603,
          573,
          567,
          1032,
          854,
          485,
          516,
          518,
          962,
          802,
          866,
          787,
          772,
          802,
          808,
          825,
          782,
          839,
          773,
          640,
          665,
          1264,
          1289,
          819,
          646,
          2227,
          651,
          638,
          1261,
          824,
          834,
          637,
          629,
          789,
          1323,
          760,
          627,
          790,
          999,
          1017,
          2229,
          2211,
          3518,
          661,
          628,
          756,
          811,
          761,
          752,
          845,
          749,
          780,
          745,
          934,
          1252,
          1380,
          2748,
          2823,
          1365,
          1366,
          908,
          661,
          860,
          777,
          853,
          829,
          1385,
          780,
          824,
          649,
          643,
          1136,
          648,
          641,
          860,
          1369,
          2335,
          3003,
          2335,
          2180,
          2431,
          2392,
          2812,
          2428,
          2845,
          7473,
          1308,
          2296,
          842,
          908,
          823,
          1243,
          1508,
          800,
          2331,
          1699,
          1527,
          1320,
          3694,
          2174,
          2137,
          2314,
          3570,
          2144,
          3565,
          14816,
          1819,
          2660,
          1611,
          835,
          682,
          881,
          3171,
          808,
          1305,
          2226,
          1536,
          2179,
          2478,
          826,
          782,
          739,
          2172,
          2304,
          2277,
          1579,
          517,
          521,
          512,
          504,
          561,
          568,
          573,
          554,
          585,
          561,
          556,
          560,
          717,
          718,
          622,
          780,
          1278,
          1387,
          604,
          740,
          2281,
          795,
          1585,
          2164,
          661,
          619,
          608,
          689,
          545,
          550,
          623,
          600,
          572,
          519,
          527,
          506,
          790,
          789,
          1513,
          845,
          788,
          752,
          791,
          785,
          637,
          628,
          831,
          824,
          754,
          747,
          786,
          1235,
          1499,
          1471,
          1288,
          2018,
          2303,
          3773,
          2159,
          2485,
          1826,
          27403,
          2373,
          2249,
          2159,
          2119,
          1537,
          1510,
          2099,
          2186,
          4336,
          2352,
          2326,
          2168,
          1573,
          1013,
          1360,
          1654,
          3296,
          2092,
          975,
          1449,
          901,
          1680,
          899,
          2317,
          3779,
          2154,
          2106,
          955,
          2019,
          915,
          1398,
          855,
          1474,
          1480,
          848,
          806,
          844,
          838,
          841,
          866,
          3103,
          2996,
          2136,
          2196,
          1543,
          2076,
          1551,
          2905,
          2139,
          975,
          692,
          810,
          715,
          2401,
          911,
          2143,
          1524,
          1014,
          1644,
          3997,
          2896,
          13424,
          6578,
          2203,
          2269,
          1589,
          1606,
          2254,
          3744,
          1793,
          701,
          702,
          842,
          748,
          726,
          749,
          840,
          730,
          1416,
          757,
          780,
          785,
          1889,
          4008,
          2453,
          2529,
          679,
          684,
          2211,
          1706,
          2722,
          1661,
          927,
          902,
          844,
          804,
          1630,
          1613,
          698,
          1654,
          2314,
          2251,
          1402,
          3175,
          3093,
          6636,
          5990,
          2425,
          2748,
          1342,
          1352,
          1035,
          1035,
          1484,
          1463,
          2517,
          2545,
          1013,
          862,
          852,
          853,
          928,
          862,
          1050,
          2531,
          3761,
          1104,
          1036,
          1004,
          873,
          2286,
          3626,
          2557,
          2385,
          1725,
          1079,
          1809,
          1039,
          1030,
          1056,
          2611,
          2524,
          1637,
          1924,
          2021,
          1897,
          1803,
          2939,
          10921,
          8036,
          4568,
          4844,
          4402,
          4816,
          5831,
          4620,
          9896,
          6550,
          6284,
          25429,
          5630,
          4156,
          4148,
          6675,
          5072,
          10818,
          4870,
          4231,
          5807,
          5869,
          3870,
          3678,
          3957,
          14354,
          2744,
          2203,
          2014,
          1882,
          2140,
          3083,
          2173,
          3088,
          2065,
          3156,
          1961,
          3588,
          6750,
          3610,
          3287,
          3271,
          2324,
          6696,
          3698,
          2331,
          3079,
          4419,
          5907,
          4870,
          3656,
          3100,
          2767,
          2477,
          2111,
          2056,
          3378,
          2885,
          61811,
          5610,
          17661,
          3913,
          1719,
          1782,
          1707,
          1478,
          1407,
          1491,
          3280,
          4982,
          5532,
          6699,
          1362,
          1281,
          1407,
          1358,
          5748,
          1322,
          1324,
          3045,
          1270,
          1690,
          1407,
          1639,
          1286,
          1375,
          1547,
          3941,
          3081,
          7723,
          3439,
          5607,
          7442,
          3181,
          5733,
          2893,
          3436,
          3175,
          2665,
          3192,
          3203,
          2683,
          3398,
          6628,
          25834,
          76272,
          4534,
          4716,
          4277,
          13627,
          10138,
          8423,
          12144,
          22754,
          71979,
          30903,
          12441,
          53265,
          16328,
          19983,
          5314,
          3816,
          3315,
          4262,
          5280,
          5295,
          2970,
          2839,
          2959,
          3786,
          4168,
          4840,
          22869,
          3905,
          3027,
          2939,
          10362,
          2561,
          2399,
          3081,
          2506,
          2174,
          2219,
          21931,
          8459,
          1756,
          2092,
          2027,
          1815,
          2154,
          1908,
          1902,
          3384,
          1891,
          1642,
          15339,
          1873,
          7681,
          3891,
          1196,
          736
         ],
         "xaxis": "x",
         "yaxis": "y"
        },
        {
         "marker": {
          "color": "#FF6600"
         },
         "type": "histogram",
         "x": [
          8.4,
          8.3,
          8,
          8.3,
          7.4,
          7.6,
          7.5,
          7.7,
          7.1,
          7.3,
          7.3,
          7.6,
          7.5,
          7.6,
          7.4,
          7.6,
          8,
          6.8,
          8.9,
          7.6,
          7.6,
          7.5,
          7.8,
          9.1,
          7.5,
          8.7,
          7.5,
          7.6,
          7.9,
          8.3,
          7.6,
          7.7,
          7.8,
          7.4,
          8.1,
          8.9,
          9.2,
          8.2,
          8,
          8,
          8.1,
          8,
          8.6,
          7.9,
          7.7,
          6.3,
          6.2,
          7.9,
          8,
          7.4,
          6.9,
          8.2,
          8.4,
          7,
          6.7,
          6.6,
          6.5,
          6.6,
          6.9,
          7,
          7.5,
          7.6,
          7.5,
          7.6,
          8.1,
          8,
          7.8,
          6.6,
          6.8,
          7.1,
          7.3,
          7.2,
          7.4,
          7.6,
          7.6,
          7.6,
          7.5,
          7.2,
          7.5,
          7.6,
          7.5,
          7.6,
          8,
          7.9,
          8.4,
          9.3,
          8,
          7.7,
          7.7,
          8.8,
          7.9,
          7.6,
          7.2,
          8.9,
          8.2,
          7.3,
          7.2,
          6.9,
          6.9,
          7.4,
          6.7,
          7,
          7.3,
          7.8,
          7.8,
          8.1,
          8.1,
          8.2,
          8.4,
          9.1,
          7.8,
          8,
          7.7,
          7.8,
          8,
          7.9,
          7.8,
          7.7,
          9.1,
          7.9,
          8.3,
          8.8,
          8.1,
          8,
          8.9,
          9.4,
          8.1,
          8,
          9.1,
          8.5,
          7,
          6.5,
          6.7,
          6.7,
          6.9,
          6.5,
          6.6,
          6.5,
          6.8,
          6.7,
          6.6,
          6.6,
          7.4,
          7.2,
          7.5,
          8,
          7.7,
          7.6,
          7.4,
          8.1,
          9.3,
          8.2,
          7.7,
          7.4,
          7.4,
          7.5,
          7.4,
          7.6,
          7.6,
          7.6,
          7.4,
          7.7,
          7.7,
          7.8,
          7.6,
          7.3,
          7.5,
          7.4,
          7.8,
          7.9,
          7.6,
          7.7,
          7.8,
          7.9,
          7.7,
          7.9,
          7.8,
          8.3,
          8.1,
          8.9,
          8.2,
          9,
          9,
          8,
          8.7,
          7.8,
          7.7,
          7.8,
          9,
          8,
          8.1,
          9.2,
          8,
          7.9,
          7.7,
          7.1,
          7.3,
          7.1,
          7.4,
          7.5,
          7.3,
          7.3,
          7,
          7.2,
          7.2,
          7.5,
          7.2,
          7,
          7.1,
          7.1,
          7.3,
          7.6,
          7.1,
          7.4,
          6.8,
          6.7,
          6.9,
          7,
          7.3,
          7.2,
          7,
          6.7,
          7,
          6.8,
          6.5,
          6.6,
          8.9,
          8.2,
          7.6,
          7.7,
          7.6,
          7.7,
          7.9,
          9.1,
          9.3,
          9.5,
          7.7,
          8,
          7.8,
          8,
          7.6,
          8.1,
          9.1,
          8.9,
          8.4,
          7.9,
          8.1,
          8.1,
          8.2,
          8.9,
          8.9,
          7.9,
          7.7,
          8,
          7.9,
          7.8,
          8,
          8,
          7.3,
          7.7,
          7.9,
          8.3,
          7.9,
          8,
          7.8,
          7.8,
          7.9,
          7.9,
          8,
          8.6,
          8.1,
          8.3,
          9.2,
          9.4,
          9,
          9,
          9.3,
          9.5,
          6.3,
          5.9,
          6.1,
          5.9,
          5.9,
          8,
          7.8,
          7.9,
          7.9,
          8.1,
          8,
          8.5,
          5.8,
          5.6,
          7.9,
          8,
          7.7,
          8,
          8.1,
          8.5,
          8.2,
          9.2,
          9.2,
          8.1,
          5.8,
          9,
          8.9,
          8,
          8.2,
          9,
          9.5,
          9.1,
          9,
          9.5,
          8.7,
          9.1,
          8.3,
          9.1,
          6.3,
          6.1,
          6.7,
          8,
          7.9,
          8,
          8.4,
          8.1,
          9.2,
          6.7,
          6.3,
          6.4,
          6.5,
          6.4,
          6.5,
          6.5,
          6.3,
          6.6,
          6.6,
          5.2,
          8.2,
          8,
          7.6,
          7.5,
          7.7,
          7.6,
          7.6,
          7.5,
          7,
          7.5,
          7.4,
          7.7,
          7.8,
          7.7,
          7.5,
          7.6,
          8.2,
          7.2,
          7.7,
          7.6,
          7.8,
          7.6,
          7.5,
          7.7,
          7.8,
          8.1,
          7.6,
          7.2,
          7.5,
          7.5,
          8,
          7.9,
          8,
          7.9,
          8.1,
          9,
          8.9,
          8.4,
          8.2,
          9.1,
          9.7,
          8.2,
          8.1,
          9.2,
          8.2,
          6.3,
          6.3,
          7.2,
          7.5,
          7.5,
          7.3,
          7.6,
          7.7,
          7.6,
          8,
          8.3,
          8.1,
          8.1,
          8.2,
          9.6,
          9.3,
          9,
          9,
          9.3,
          9,
          9.1,
          9.1,
          9.5,
          9.7,
          5.6,
          5.6,
          7.6,
          7.7,
          7.7,
          7.8,
          8.3,
          8.9,
          8.6,
          8.9,
          8.5,
          8.5,
          7.5,
          7,
          7.4,
          7.5,
          7.8,
          7.9,
          7.8,
          7.8,
          6.5,
          6.3,
          6.2,
          6.3,
          7.8,
          7.6,
          7.9,
          8,
          7.6,
          8.1,
          8.3,
          8,
          7.5,
          7.3,
          7.7,
          7.9,
          8.1,
          8.1,
          8.2,
          7.8,
          8.3,
          9,
          7.9,
          8.1,
          8.9,
          9.3,
          7.9,
          7,
          6.3,
          7.1,
          7.1,
          6.6,
          6.7,
          9.1,
          9.2,
          9.2,
          9.1,
          9.2,
          9.1,
          9.3,
          9.4,
          9.3,
          9.2,
          9,
          9.2,
          9.1,
          9.3,
          9.2,
          9.5,
          9.3,
          9.2,
          9.1,
          9.3,
          9.2,
          9.5,
          9.5,
          9.7,
          9.7,
          9.7,
          9.7,
          9.4,
          9.2,
          9.5,
          9.5,
          8.5,
          8.6,
          5.3,
          8.3,
          8.1,
          7.8,
          8,
          7.8,
          7.4,
          7.4,
          7.7,
          7.9,
          7.8,
          8.9,
          8.2,
          9.1,
          7.9,
          7.9,
          7.3,
          7.6,
          7.5,
          8.1,
          7.9,
          7.4,
          7.2,
          7.8,
          9.1,
          9.1,
          8.2,
          7.9,
          7.8,
          9.2,
          8.6,
          7.9,
          7.5,
          7.5,
          7.5,
          7.6,
          7.3,
          7.3,
          7.3,
          7.1,
          7.2,
          7.3,
          7.5,
          7.3,
          7.7,
          7.7,
          7.6,
          7.5,
          7.7,
          8.1,
          5.5,
          8.2,
          7.5,
          7.3,
          7.9,
          7.6,
          7.5,
          7.6,
          7,
          7,
          7.2,
          8.2,
          9,
          7.9,
          7.6,
          7.5,
          7.3,
          7.1,
          7.3,
          7.3,
          7,
          6.9,
          7.2,
          7.7,
          7.6,
          7.6,
          7.8,
          7.4,
          7.9,
          7.9,
          7.6,
          7.4,
          7.4,
          6.9,
          6.8,
          6.7,
          6.6,
          7.5,
          7.4,
          7.2,
          7.3,
          7.2,
          7.5,
          7.8,
          7.9,
          8.3,
          7.8,
          7.3,
          5.5,
          7.4,
          7.1,
          7.6,
          7.8,
          7.4,
          7.3,
          7.9,
          7.5,
          7.6,
          7.2,
          7.2,
          7.3,
          7.8,
          7.5,
          7.4,
          7.5,
          8,
          7.6,
          7.7,
          7.4,
          7.3,
          7.5,
          8.9,
          7.9,
          7.9,
          9.2,
          8.2,
          7.6,
          7.9,
          7.9,
          7.9,
          7.8,
          7.6,
          8.3,
          8,
          6.7,
          6.7,
          6.7,
          8.1,
          7.8,
          8,
          7.7,
          7.7,
          7.9,
          7.8,
          7.9,
          7.8,
          8,
          7.7,
          7.4,
          7.5,
          8.4,
          8.4,
          7.9,
          7.5,
          9,
          7.6,
          7.6,
          8.4,
          7.9,
          8,
          7.6,
          7.4,
          7.9,
          8.4,
          7.7,
          7.6,
          7.9,
          8.2,
          8.2,
          9.1,
          9.1,
          9.4,
          7.6,
          7.5,
          7.8,
          7.9,
          7.8,
          7.6,
          8,
          7.7,
          7.8,
          7.7,
          7.9,
          8.4,
          8.6,
          9.3,
          9.3,
          8.5,
          8.6,
          8.1,
          7.7,
          8,
          7.8,
          8,
          7.9,
          8.6,
          7.7,
          7.8,
          7.5,
          7.5,
          8.2,
          7.3,
          7.2,
          8,
          8.4,
          9.1,
          9.3,
          9.1,
          8.9,
          9.2,
          9.2,
          9.3,
          9.2,
          9.3,
          9.6,
          8.3,
          9.1,
          7.8,
          8.1,
          7.8,
          8.3,
          8.6,
          7.6,
          9.1,
          8.8,
          8.6,
          8.3,
          9.4,
          9,
          9.1,
          9.2,
          9.4,
          9,
          9.3,
          9.6,
          8.8,
          9.2,
          8.7,
          7.8,
          7.6,
          8,
          9.4,
          7.7,
          8.4,
          9,
          8.7,
          9,
          9.1,
          7.8,
          7.7,
          7.7,
          9.1,
          9.2,
          9.1,
          8.7,
          6.4,
          6.2,
          6.3,
          6.4,
          7.1,
          7.7,
          7.4,
          7.5,
          7.5,
          7.5,
          7.5,
          7.4,
          7.8,
          7.8,
          7.6,
          7.9,
          8.4,
          8.5,
          7.2,
          7.7,
          9.1,
          7.8,
          8.7,
          9.1,
          8.1,
          7.9,
          7.9,
          8,
          7.2,
          7.5,
          7,
          7.1,
          7.7,
          6.8,
          6.8,
          7,
          7.6,
          7.6,
          8.4,
          7.9,
          7.7,
          7.5,
          7.8,
          7.7,
          7.3,
          7.4,
          8.1,
          7.9,
          7.6,
          7.6,
          7.7,
          8.2,
          8.5,
          8.5,
          8.2,
          8.9,
          9.1,
          9.4,
          8.9,
          9.1,
          8.4,
          9.7,
          9,
          9,
          8.9,
          8.9,
          8.6,
          8.5,
          8.9,
          9,
          9.5,
          9.1,
          9.1,
          8.9,
          8.5,
          7.9,
          8.3,
          8.8,
          9.4,
          8.9,
          7.8,
          8.4,
          7.9,
          8.7,
          7.9,
          9.2,
          9.5,
          9.1,
          9.1,
          8,
          8.9,
          8.1,
          8.4,
          7.9,
          8.6,
          8.6,
          7.8,
          7.7,
          7.8,
          7.8,
          7.8,
          7.8,
          9.3,
          9.3,
          8.9,
          9,
          8.5,
          8.9,
          8.6,
          9.3,
          9,
          7.9,
          7.5,
          7.9,
          7.7,
          9.1,
          8.1,
          9,
          8.6,
          8,
          8.5,
          9.4,
          9.2,
          9.6,
          9.5,
          8.9,
          9,
          8.6,
          8.6,
          9,
          9.4,
          8.6,
          7.7,
          7.8,
          6.3,
          6.5,
          6.6,
          6.6,
          7.4,
          7.2,
          8.3,
          7.7,
          7.6,
          7.3,
          8.7,
          9.3,
          9,
          9.1,
          5.9,
          5.8,
          8.9,
          8.6,
          9.1,
          8.6,
          7.6,
          7.5,
          7.1,
          7,
          8.5,
          8.6,
          6,
          8.6,
          9,
          8.9,
          8.2,
          9.2,
          9.2,
          9.5,
          9.5,
          8.9,
          9,
          8,
          8.1,
          7.5,
          6.9,
          8,
          8.2,
          8.9,
          9,
          7.7,
          7.5,
          7.5,
          7.4,
          7.6,
          7.5,
          7.8,
          8.9,
          9.3,
          8,
          7.8,
          7.7,
          7.6,
          8.8,
          9.3,
          9.1,
          8.9,
          8.6,
          7.7,
          8.6,
          7.7,
          7.6,
          7.7,
          9,
          8.9,
          8.2,
          8.7,
          8.6,
          8.4,
          8.1,
          9,
          9.5,
          9.5,
          9,
          8.9,
          8.9,
          9.2,
          9.3,
          9.2,
          9.5,
          9.4,
          9.4,
          9.5,
          9.4,
          9.1,
          9.1,
          9.5,
          9.3,
          9.5,
          9.3,
          9.2,
          9.4,
          9.4,
          9,
          9.1,
          9.1,
          9.5,
          8.4,
          7.5,
          7.8,
          7.7,
          8.1,
          8.9,
          8.2,
          8.9,
          7.9,
          8.9,
          7.8,
          9,
          9.5,
          9.2,
          8.9,
          8.9,
          8.2,
          9.4,
          8.9,
          7.7,
          8.2,
          8.7,
          6.6,
          6.6,
          6.5,
          7.2,
          7,
          8,
          7.7,
          7.6,
          8.8,
          8.3,
          9.7,
          9.2,
          9.5,
          9,
          7.7,
          7.6,
          7.7,
          7.7,
          7.5,
          7.7,
          9,
          9.5,
          9.5,
          9.5,
          7,
          7.5,
          7.7,
          7.6,
          9.5,
          7.7,
          7.7,
          9,
          7.2,
          8.3,
          7.7,
          8.4,
          7.3,
          7.1,
          8.1,
          9.3,
          9.1,
          9.2,
          7.8,
          9,
          9.3,
          8.1,
          9.1,
          8,
          7.9,
          8.8,
          7.4,
          8.7,
          8.5,
          7.6,
          8.3,
          9.1,
          9.5,
          9.7,
          8.1,
          8.7,
          8.3,
          9.5,
          9.2,
          8.9,
          9.2,
          9.2,
          9.1,
          9.3,
          7.7,
          9.4,
          9,
          9.4,
          8.5,
          8.6,
          8.3,
          8.8,
          8.8,
          8.2,
          7.9,
          7.9,
          8.5,
          9.1,
          9.3,
          9.2,
          9.7,
          8.4,
          8.3,
          8.5,
          9.5,
          8.1,
          8,
          9,
          8.8,
          8.6,
          8.6,
          9.7,
          9.6,
          8.1,
          8.6,
          8.7,
          8.3,
          7.8,
          7.4,
          7.4,
          9.2,
          8.1,
          8.4,
          9.7,
          8.3,
          9.7,
          9.7,
          8.3,
          8.2
         ],
         "xaxis": "x2",
         "yaxis": "y2"
        },
        {
         "boxpoints": "outliers",
         "marker": {
          "color": "#338bff"
         },
         "name": "",
         "type": "box",
         "x": [
          28293,
          13351,
          5868,
          4744,
          3120,
          3042,
          2830,
          2691,
          2324,
          2209,
          2111,
          2068,
          2024,
          1975,
          1939,
          1919,
          2093,
          1933,
          3927,
          1863,
          1790,
          1747,
          1826,
          4733,
          1741,
          2923,
          1700,
          1676,
          1747,
          2294,
          1621,
          1583,
          1697,
          1682,
          1932,
          3675,
          4797,
          1973,
          1802,
          1775,
          1747,
          1718,
          2616,
          1752,
          1697,
          1618,
          1598,
          1684,
          1856,
          1589,
          1374,
          1745,
          2121,
          1143,
          1138,
          1116,
          1101,
          1080,
          1068,
          1063,
          1147,
          1276,
          1261,
          1183,
          1341,
          1285,
          1283,
          1190,
          1195,
          1167,
          1184,
          1140,
          1149,
          1172,
          1148,
          1140,
          1151,
          1139,
          1118,
          1125,
          1098,
          1103,
          1474,
          1198,
          1873,
          3761,
          1323,
          1126,
          1125,
          2528,
          1186,
          1110,
          1095,
          3005,
          1299,
          1090,
          1057,
          986,
          960,
          1068,
          967,
          907,
          963,
          1074,
          974,
          1029,
          1019,
          1049,
          1547,
          3110,
          1004,
          1061,
          979,
          1025,
          1080,
          1034,
          1049,
          988,
          3214,
          1018,
          1471,
          2210,
          1096,
          1053,
          2666,
          4476,
          1054,
          1061,
          3067,
          1899,
          831,
          827,
          802,
          800,
          771,
          792,
          784,
          784,
          761,
          764,
          754,
          757,
          763,
          893,
          923,
          1058,
          954,
          880,
          855,
          972,
          3700,
          1042,
          868,
          859,
          842,
          835,
          830,
          843,
          828,
          824,
          827,
          825,
          818,
          850,
          811,
          825,
          807,
          832,
          874,
          893,
          840,
          844,
          860,
          881,
          842,
          881,
          865,
          1298,
          947,
          2405,
          927,
          2454,
          2401,
          894,
          1923,
          828,
          859,
          874,
          2453,
          867,
          870,
          2801,
          921,
          848,
          807,
          702,
          693,
          691,
          712,
          692,
          667,
          667,
          675,
          663,
          666,
          687,
          770,
          753,
          747,
          756,
          751,
          751,
          705,
          697,
          731,
          723,
          758,
          746,
          734,
          715,
          711,
          627,
          617,
          617,
          644,
          651,
          2510,
          1094,
          827,
          790,
          791,
          786,
          816,
          2599,
          3363,
          5467,
          782,
          818,
          773,
          837,
          770,
          841,
          2576,
          2337,
          1341,
          820,
          840,
          837,
          851,
          2341,
          1938,
          785,
          768,
          843,
          788,
          752,
          806,
          841,
          734,
          736,
          775,
          1112,
          776,
          799,
          761,
          739,
          765,
          772,
          799,
          1756,
          902,
          1038,
          2827,
          3678,
          2545,
          2545,
          3139,
          13539,
          657,
          640,
          652,
          633,
          636,
          852,
          747,
          758,
          750,
          778,
          790,
          1488,
          680,
          749,
          783,
          802,
          730,
          836,
          800,
          1382,
          995,
          2782,
          2688,
          886,
          697,
          2545,
          2445,
          820,
          1098,
          2517,
          15122,
          2609,
          2463,
          13999,
          1723,
          2685,
          1045,
          2771,
          611,
          650,
          601,
          814,
          750,
          769,
          953,
          915,
          2773,
          561,
          573,
          567,
          556,
          537,
          534,
          530,
          534,
          522,
          526,
          763,
          877,
          778,
          687,
          675,
          688,
          673,
          650,
          673,
          649,
          642,
          645,
          656,
          664,
          654,
          652,
          659,
          774,
          656,
          649,
          644,
          668,
          642,
          668,
          655,
          664,
          751,
          647,
          643,
          644,
          645,
          694,
          694,
          710,
          697,
          702,
          2301,
          2081,
          1131,
          888,
          2484,
          39203,
          871,
          799,
          2792,
          819,
          550,
          548,
          604,
          701,
          670,
          656,
          666,
          672,
          763,
          949,
          1104,
          1011,
          977,
          1117,
          10072,
          3338,
          2426,
          2442,
          3225,
          2437,
          2474,
          2556,
          4733,
          33820,
          672,
          655,
          788,
          830,
          833,
          935,
          1395,
          2251,
          1515,
          2070,
          1446,
          1475,
          660,
          651,
          632,
          639,
          684,
          707,
          657,
          652,
          513,
          514,
          510,
          511,
          650,
          630,
          704,
          780,
          666,
          895,
          986,
          965,
          666,
          681,
          698,
          680,
          734,
          724,
          767,
          665,
          1005,
          2539,
          845,
          878,
          2046,
          2956,
          761,
          623,
          686,
          614,
          622,
          633,
          710,
          2805,
          2798,
          3074,
          2703,
          2827,
          2648,
          2946,
          3649,
          3093,
          2765,
          2715,
          2713,
          2581,
          2734,
          2653,
          4547,
          2941,
          2734,
          2587,
          3067,
          2707,
          4674,
          5264,
          31159,
          38033,
          32122,
          37079,
          4083,
          3137,
          5136,
          5094,
          1783,
          1868,
          748,
          1508,
          1225,
          1088,
          1248,
          1067,
          891,
          872,
          952,
          952,
          986,
          2183,
          1200,
          2461,
          983,
          945,
          712,
          715,
          699,
          851,
          795,
          694,
          684,
          716,
          2487,
          2668,
          1103,
          946,
          854,
          2648,
          1490,
          1029,
          627,
          602,
          593,
          600,
          608,
          772,
          590,
          593,
          592,
          583,
          585,
          577,
          597,
          591,
          582,
          583,
          602,
          894,
          549,
          981,
          603,
          606,
          648,
          584,
          575,
          581,
          589,
          578,
          586,
          881,
          2254,
          659,
          597,
          583,
          575,
          577,
          589,
          582,
          582,
          592,
          584,
          752,
          703,
          718,
          818,
          672,
          718,
          689,
          591,
          597,
          591,
          492,
          486,
          481,
          508,
          619,
          589,
          578,
          576,
          564,
          560,
          617,
          602,
          766,
          587,
          555,
          614,
          565,
          554,
          557,
          594,
          556,
          548,
          580,
          550,
          562,
          557,
          548,
          545,
          558,
          547,
          563,
          553,
          601,
          562,
          551,
          557,
          550,
          651,
          2094,
          747,
          724,
          2320,
          778,
          560,
          578,
          625,
          603,
          573,
          567,
          1032,
          854,
          485,
          516,
          518,
          962,
          802,
          866,
          787,
          772,
          802,
          808,
          825,
          782,
          839,
          773,
          640,
          665,
          1264,
          1289,
          819,
          646,
          2227,
          651,
          638,
          1261,
          824,
          834,
          637,
          629,
          789,
          1323,
          760,
          627,
          790,
          999,
          1017,
          2229,
          2211,
          3518,
          661,
          628,
          756,
          811,
          761,
          752,
          845,
          749,
          780,
          745,
          934,
          1252,
          1380,
          2748,
          2823,
          1365,
          1366,
          908,
          661,
          860,
          777,
          853,
          829,
          1385,
          780,
          824,
          649,
          643,
          1136,
          648,
          641,
          860,
          1369,
          2335,
          3003,
          2335,
          2180,
          2431,
          2392,
          2812,
          2428,
          2845,
          7473,
          1308,
          2296,
          842,
          908,
          823,
          1243,
          1508,
          800,
          2331,
          1699,
          1527,
          1320,
          3694,
          2174,
          2137,
          2314,
          3570,
          2144,
          3565,
          14816,
          1819,
          2660,
          1611,
          835,
          682,
          881,
          3171,
          808,
          1305,
          2226,
          1536,
          2179,
          2478,
          826,
          782,
          739,
          2172,
          2304,
          2277,
          1579,
          517,
          521,
          512,
          504,
          561,
          568,
          573,
          554,
          585,
          561,
          556,
          560,
          717,
          718,
          622,
          780,
          1278,
          1387,
          604,
          740,
          2281,
          795,
          1585,
          2164,
          661,
          619,
          608,
          689,
          545,
          550,
          623,
          600,
          572,
          519,
          527,
          506,
          790,
          789,
          1513,
          845,
          788,
          752,
          791,
          785,
          637,
          628,
          831,
          824,
          754,
          747,
          786,
          1235,
          1499,
          1471,
          1288,
          2018,
          2303,
          3773,
          2159,
          2485,
          1826,
          27403,
          2373,
          2249,
          2159,
          2119,
          1537,
          1510,
          2099,
          2186,
          4336,
          2352,
          2326,
          2168,
          1573,
          1013,
          1360,
          1654,
          3296,
          2092,
          975,
          1449,
          901,
          1680,
          899,
          2317,
          3779,
          2154,
          2106,
          955,
          2019,
          915,
          1398,
          855,
          1474,
          1480,
          848,
          806,
          844,
          838,
          841,
          866,
          3103,
          2996,
          2136,
          2196,
          1543,
          2076,
          1551,
          2905,
          2139,
          975,
          692,
          810,
          715,
          2401,
          911,
          2143,
          1524,
          1014,
          1644,
          3997,
          2896,
          13424,
          6578,
          2203,
          2269,
          1589,
          1606,
          2254,
          3744,
          1793,
          701,
          702,
          842,
          748,
          726,
          749,
          840,
          730,
          1416,
          757,
          780,
          785,
          1889,
          4008,
          2453,
          2529,
          679,
          684,
          2211,
          1706,
          2722,
          1661,
          927,
          902,
          844,
          804,
          1630,
          1613,
          698,
          1654,
          2314,
          2251,
          1402,
          3175,
          3093,
          6636,
          5990,
          2425,
          2748,
          1342,
          1352,
          1035,
          1035,
          1484,
          1463,
          2517,
          2545,
          1013,
          862,
          852,
          853,
          928,
          862,
          1050,
          2531,
          3761,
          1104,
          1036,
          1004,
          873,
          2286,
          3626,
          2557,
          2385,
          1725,
          1079,
          1809,
          1039,
          1030,
          1056,
          2611,
          2524,
          1637,
          1924,
          2021,
          1897,
          1803,
          2939,
          10921,
          8036,
          4568,
          4844,
          4402,
          4816,
          5831,
          4620,
          9896,
          6550,
          6284,
          25429,
          5630,
          4156,
          4148,
          6675,
          5072,
          10818,
          4870,
          4231,
          5807,
          5869,
          3870,
          3678,
          3957,
          14354,
          2744,
          2203,
          2014,
          1882,
          2140,
          3083,
          2173,
          3088,
          2065,
          3156,
          1961,
          3588,
          6750,
          3610,
          3287,
          3271,
          2324,
          6696,
          3698,
          2331,
          3079,
          4419,
          5907,
          4870,
          3656,
          3100,
          2767,
          2477,
          2111,
          2056,
          3378,
          2885,
          61811,
          5610,
          17661,
          3913,
          1719,
          1782,
          1707,
          1478,
          1407,
          1491,
          3280,
          4982,
          5532,
          6699,
          1362,
          1281,
          1407,
          1358,
          5748,
          1322,
          1324,
          3045,
          1270,
          1690,
          1407,
          1639,
          1286,
          1375,
          1547,
          3941,
          3081,
          7723,
          3439,
          5607,
          7442,
          3181,
          5733,
          2893,
          3436,
          3175,
          2665,
          3192,
          3203,
          2683,
          3398,
          6628,
          25834,
          76272,
          4534,
          4716,
          4277,
          13627,
          10138,
          8423,
          12144,
          22754,
          71979,
          30903,
          12441,
          53265,
          16328,
          19983,
          5314,
          3816,
          3315,
          4262,
          5280,
          5295,
          2970,
          2839,
          2959,
          3786,
          4168,
          4840,
          22869,
          3905,
          3027,
          2939,
          10362,
          2561,
          2399,
          3081,
          2506,
          2174,
          2219,
          21931,
          8459,
          1756,
          2092,
          2027,
          1815,
          2154,
          1908,
          1902,
          3384,
          1891,
          1642,
          15339,
          1873,
          7681,
          3891,
          1196,
          736
         ],
         "xaxis": "x3",
         "yaxis": "y3"
        },
        {
         "boxpoints": "outliers",
         "marker": {
          "color": "#FF6600"
         },
         "name": "",
         "type": "box",
         "x": [
          8.4,
          8.3,
          8,
          8.3,
          7.4,
          7.6,
          7.5,
          7.7,
          7.1,
          7.3,
          7.3,
          7.6,
          7.5,
          7.6,
          7.4,
          7.6,
          8,
          6.8,
          8.9,
          7.6,
          7.6,
          7.5,
          7.8,
          9.1,
          7.5,
          8.7,
          7.5,
          7.6,
          7.9,
          8.3,
          7.6,
          7.7,
          7.8,
          7.4,
          8.1,
          8.9,
          9.2,
          8.2,
          8,
          8,
          8.1,
          8,
          8.6,
          7.9,
          7.7,
          6.3,
          6.2,
          7.9,
          8,
          7.4,
          6.9,
          8.2,
          8.4,
          7,
          6.7,
          6.6,
          6.5,
          6.6,
          6.9,
          7,
          7.5,
          7.6,
          7.5,
          7.6,
          8.1,
          8,
          7.8,
          6.6,
          6.8,
          7.1,
          7.3,
          7.2,
          7.4,
          7.6,
          7.6,
          7.6,
          7.5,
          7.2,
          7.5,
          7.6,
          7.5,
          7.6,
          8,
          7.9,
          8.4,
          9.3,
          8,
          7.7,
          7.7,
          8.8,
          7.9,
          7.6,
          7.2,
          8.9,
          8.2,
          7.3,
          7.2,
          6.9,
          6.9,
          7.4,
          6.7,
          7,
          7.3,
          7.8,
          7.8,
          8.1,
          8.1,
          8.2,
          8.4,
          9.1,
          7.8,
          8,
          7.7,
          7.8,
          8,
          7.9,
          7.8,
          7.7,
          9.1,
          7.9,
          8.3,
          8.8,
          8.1,
          8,
          8.9,
          9.4,
          8.1,
          8,
          9.1,
          8.5,
          7,
          6.5,
          6.7,
          6.7,
          6.9,
          6.5,
          6.6,
          6.5,
          6.8,
          6.7,
          6.6,
          6.6,
          7.4,
          7.2,
          7.5,
          8,
          7.7,
          7.6,
          7.4,
          8.1,
          9.3,
          8.2,
          7.7,
          7.4,
          7.4,
          7.5,
          7.4,
          7.6,
          7.6,
          7.6,
          7.4,
          7.7,
          7.7,
          7.8,
          7.6,
          7.3,
          7.5,
          7.4,
          7.8,
          7.9,
          7.6,
          7.7,
          7.8,
          7.9,
          7.7,
          7.9,
          7.8,
          8.3,
          8.1,
          8.9,
          8.2,
          9,
          9,
          8,
          8.7,
          7.8,
          7.7,
          7.8,
          9,
          8,
          8.1,
          9.2,
          8,
          7.9,
          7.7,
          7.1,
          7.3,
          7.1,
          7.4,
          7.5,
          7.3,
          7.3,
          7,
          7.2,
          7.2,
          7.5,
          7.2,
          7,
          7.1,
          7.1,
          7.3,
          7.6,
          7.1,
          7.4,
          6.8,
          6.7,
          6.9,
          7,
          7.3,
          7.2,
          7,
          6.7,
          7,
          6.8,
          6.5,
          6.6,
          8.9,
          8.2,
          7.6,
          7.7,
          7.6,
          7.7,
          7.9,
          9.1,
          9.3,
          9.5,
          7.7,
          8,
          7.8,
          8,
          7.6,
          8.1,
          9.1,
          8.9,
          8.4,
          7.9,
          8.1,
          8.1,
          8.2,
          8.9,
          8.9,
          7.9,
          7.7,
          8,
          7.9,
          7.8,
          8,
          8,
          7.3,
          7.7,
          7.9,
          8.3,
          7.9,
          8,
          7.8,
          7.8,
          7.9,
          7.9,
          8,
          8.6,
          8.1,
          8.3,
          9.2,
          9.4,
          9,
          9,
          9.3,
          9.5,
          6.3,
          5.9,
          6.1,
          5.9,
          5.9,
          8,
          7.8,
          7.9,
          7.9,
          8.1,
          8,
          8.5,
          5.8,
          5.6,
          7.9,
          8,
          7.7,
          8,
          8.1,
          8.5,
          8.2,
          9.2,
          9.2,
          8.1,
          5.8,
          9,
          8.9,
          8,
          8.2,
          9,
          9.5,
          9.1,
          9,
          9.5,
          8.7,
          9.1,
          8.3,
          9.1,
          6.3,
          6.1,
          6.7,
          8,
          7.9,
          8,
          8.4,
          8.1,
          9.2,
          6.7,
          6.3,
          6.4,
          6.5,
          6.4,
          6.5,
          6.5,
          6.3,
          6.6,
          6.6,
          5.2,
          8.2,
          8,
          7.6,
          7.5,
          7.7,
          7.6,
          7.6,
          7.5,
          7,
          7.5,
          7.4,
          7.7,
          7.8,
          7.7,
          7.5,
          7.6,
          8.2,
          7.2,
          7.7,
          7.6,
          7.8,
          7.6,
          7.5,
          7.7,
          7.8,
          8.1,
          7.6,
          7.2,
          7.5,
          7.5,
          8,
          7.9,
          8,
          7.9,
          8.1,
          9,
          8.9,
          8.4,
          8.2,
          9.1,
          9.7,
          8.2,
          8.1,
          9.2,
          8.2,
          6.3,
          6.3,
          7.2,
          7.5,
          7.5,
          7.3,
          7.6,
          7.7,
          7.6,
          8,
          8.3,
          8.1,
          8.1,
          8.2,
          9.6,
          9.3,
          9,
          9,
          9.3,
          9,
          9.1,
          9.1,
          9.5,
          9.7,
          5.6,
          5.6,
          7.6,
          7.7,
          7.7,
          7.8,
          8.3,
          8.9,
          8.6,
          8.9,
          8.5,
          8.5,
          7.5,
          7,
          7.4,
          7.5,
          7.8,
          7.9,
          7.8,
          7.8,
          6.5,
          6.3,
          6.2,
          6.3,
          7.8,
          7.6,
          7.9,
          8,
          7.6,
          8.1,
          8.3,
          8,
          7.5,
          7.3,
          7.7,
          7.9,
          8.1,
          8.1,
          8.2,
          7.8,
          8.3,
          9,
          7.9,
          8.1,
          8.9,
          9.3,
          7.9,
          7,
          6.3,
          7.1,
          7.1,
          6.6,
          6.7,
          9.1,
          9.2,
          9.2,
          9.1,
          9.2,
          9.1,
          9.3,
          9.4,
          9.3,
          9.2,
          9,
          9.2,
          9.1,
          9.3,
          9.2,
          9.5,
          9.3,
          9.2,
          9.1,
          9.3,
          9.2,
          9.5,
          9.5,
          9.7,
          9.7,
          9.7,
          9.7,
          9.4,
          9.2,
          9.5,
          9.5,
          8.5,
          8.6,
          5.3,
          8.3,
          8.1,
          7.8,
          8,
          7.8,
          7.4,
          7.4,
          7.7,
          7.9,
          7.8,
          8.9,
          8.2,
          9.1,
          7.9,
          7.9,
          7.3,
          7.6,
          7.5,
          8.1,
          7.9,
          7.4,
          7.2,
          7.8,
          9.1,
          9.1,
          8.2,
          7.9,
          7.8,
          9.2,
          8.6,
          7.9,
          7.5,
          7.5,
          7.5,
          7.6,
          7.3,
          7.3,
          7.3,
          7.1,
          7.2,
          7.3,
          7.5,
          7.3,
          7.7,
          7.7,
          7.6,
          7.5,
          7.7,
          8.1,
          5.5,
          8.2,
          7.5,
          7.3,
          7.9,
          7.6,
          7.5,
          7.6,
          7,
          7,
          7.2,
          8.2,
          9,
          7.9,
          7.6,
          7.5,
          7.3,
          7.1,
          7.3,
          7.3,
          7,
          6.9,
          7.2,
          7.7,
          7.6,
          7.6,
          7.8,
          7.4,
          7.9,
          7.9,
          7.6,
          7.4,
          7.4,
          6.9,
          6.8,
          6.7,
          6.6,
          7.5,
          7.4,
          7.2,
          7.3,
          7.2,
          7.5,
          7.8,
          7.9,
          8.3,
          7.8,
          7.3,
          5.5,
          7.4,
          7.1,
          7.6,
          7.8,
          7.4,
          7.3,
          7.9,
          7.5,
          7.6,
          7.2,
          7.2,
          7.3,
          7.8,
          7.5,
          7.4,
          7.5,
          8,
          7.6,
          7.7,
          7.4,
          7.3,
          7.5,
          8.9,
          7.9,
          7.9,
          9.2,
          8.2,
          7.6,
          7.9,
          7.9,
          7.9,
          7.8,
          7.6,
          8.3,
          8,
          6.7,
          6.7,
          6.7,
          8.1,
          7.8,
          8,
          7.7,
          7.7,
          7.9,
          7.8,
          7.9,
          7.8,
          8,
          7.7,
          7.4,
          7.5,
          8.4,
          8.4,
          7.9,
          7.5,
          9,
          7.6,
          7.6,
          8.4,
          7.9,
          8,
          7.6,
          7.4,
          7.9,
          8.4,
          7.7,
          7.6,
          7.9,
          8.2,
          8.2,
          9.1,
          9.1,
          9.4,
          7.6,
          7.5,
          7.8,
          7.9,
          7.8,
          7.6,
          8,
          7.7,
          7.8,
          7.7,
          7.9,
          8.4,
          8.6,
          9.3,
          9.3,
          8.5,
          8.6,
          8.1,
          7.7,
          8,
          7.8,
          8,
          7.9,
          8.6,
          7.7,
          7.8,
          7.5,
          7.5,
          8.2,
          7.3,
          7.2,
          8,
          8.4,
          9.1,
          9.3,
          9.1,
          8.9,
          9.2,
          9.2,
          9.3,
          9.2,
          9.3,
          9.6,
          8.3,
          9.1,
          7.8,
          8.1,
          7.8,
          8.3,
          8.6,
          7.6,
          9.1,
          8.8,
          8.6,
          8.3,
          9.4,
          9,
          9.1,
          9.2,
          9.4,
          9,
          9.3,
          9.6,
          8.8,
          9.2,
          8.7,
          7.8,
          7.6,
          8,
          9.4,
          7.7,
          8.4,
          9,
          8.7,
          9,
          9.1,
          7.8,
          7.7,
          7.7,
          9.1,
          9.2,
          9.1,
          8.7,
          6.4,
          6.2,
          6.3,
          6.4,
          7.1,
          7.7,
          7.4,
          7.5,
          7.5,
          7.5,
          7.5,
          7.4,
          7.8,
          7.8,
          7.6,
          7.9,
          8.4,
          8.5,
          7.2,
          7.7,
          9.1,
          7.8,
          8.7,
          9.1,
          8.1,
          7.9,
          7.9,
          8,
          7.2,
          7.5,
          7,
          7.1,
          7.7,
          6.8,
          6.8,
          7,
          7.6,
          7.6,
          8.4,
          7.9,
          7.7,
          7.5,
          7.8,
          7.7,
          7.3,
          7.4,
          8.1,
          7.9,
          7.6,
          7.6,
          7.7,
          8.2,
          8.5,
          8.5,
          8.2,
          8.9,
          9.1,
          9.4,
          8.9,
          9.1,
          8.4,
          9.7,
          9,
          9,
          8.9,
          8.9,
          8.6,
          8.5,
          8.9,
          9,
          9.5,
          9.1,
          9.1,
          8.9,
          8.5,
          7.9,
          8.3,
          8.8,
          9.4,
          8.9,
          7.8,
          8.4,
          7.9,
          8.7,
          7.9,
          9.2,
          9.5,
          9.1,
          9.1,
          8,
          8.9,
          8.1,
          8.4,
          7.9,
          8.6,
          8.6,
          7.8,
          7.7,
          7.8,
          7.8,
          7.8,
          7.8,
          9.3,
          9.3,
          8.9,
          9,
          8.5,
          8.9,
          8.6,
          9.3,
          9,
          7.9,
          7.5,
          7.9,
          7.7,
          9.1,
          8.1,
          9,
          8.6,
          8,
          8.5,
          9.4,
          9.2,
          9.6,
          9.5,
          8.9,
          9,
          8.6,
          8.6,
          9,
          9.4,
          8.6,
          7.7,
          7.8,
          6.3,
          6.5,
          6.6,
          6.6,
          7.4,
          7.2,
          8.3,
          7.7,
          7.6,
          7.3,
          8.7,
          9.3,
          9,
          9.1,
          5.9,
          5.8,
          8.9,
          8.6,
          9.1,
          8.6,
          7.6,
          7.5,
          7.1,
          7,
          8.5,
          8.6,
          6,
          8.6,
          9,
          8.9,
          8.2,
          9.2,
          9.2,
          9.5,
          9.5,
          8.9,
          9,
          8,
          8.1,
          7.5,
          6.9,
          8,
          8.2,
          8.9,
          9,
          7.7,
          7.5,
          7.5,
          7.4,
          7.6,
          7.5,
          7.8,
          8.9,
          9.3,
          8,
          7.8,
          7.7,
          7.6,
          8.8,
          9.3,
          9.1,
          8.9,
          8.6,
          7.7,
          8.6,
          7.7,
          7.6,
          7.7,
          9,
          8.9,
          8.2,
          8.7,
          8.6,
          8.4,
          8.1,
          9,
          9.5,
          9.5,
          9,
          8.9,
          8.9,
          9.2,
          9.3,
          9.2,
          9.5,
          9.4,
          9.4,
          9.5,
          9.4,
          9.1,
          9.1,
          9.5,
          9.3,
          9.5,
          9.3,
          9.2,
          9.4,
          9.4,
          9,
          9.1,
          9.1,
          9.5,
          8.4,
          7.5,
          7.8,
          7.7,
          8.1,
          8.9,
          8.2,
          8.9,
          7.9,
          8.9,
          7.8,
          9,
          9.5,
          9.2,
          8.9,
          8.9,
          8.2,
          9.4,
          8.9,
          7.7,
          8.2,
          8.7,
          6.6,
          6.6,
          6.5,
          7.2,
          7,
          8,
          7.7,
          7.6,
          8.8,
          8.3,
          9.7,
          9.2,
          9.5,
          9,
          7.7,
          7.6,
          7.7,
          7.7,
          7.5,
          7.7,
          9,
          9.5,
          9.5,
          9.5,
          7,
          7.5,
          7.7,
          7.6,
          9.5,
          7.7,
          7.7,
          9,
          7.2,
          8.3,
          7.7,
          8.4,
          7.3,
          7.1,
          8.1,
          9.3,
          9.1,
          9.2,
          7.8,
          9,
          9.3,
          8.1,
          9.1,
          8,
          7.9,
          8.8,
          7.4,
          8.7,
          8.5,
          7.6,
          8.3,
          9.1,
          9.5,
          9.7,
          8.1,
          8.7,
          8.3,
          9.5,
          9.2,
          8.9,
          9.2,
          9.2,
          9.1,
          9.3,
          7.7,
          9.4,
          9,
          9.4,
          8.5,
          8.6,
          8.3,
          8.8,
          8.8,
          8.2,
          7.9,
          7.9,
          8.5,
          9.1,
          9.3,
          9.2,
          9.7,
          8.4,
          8.3,
          8.5,
          9.5,
          8.1,
          8,
          9,
          8.8,
          8.6,
          8.6,
          9.7,
          9.6,
          8.1,
          8.6,
          8.7,
          8.3,
          7.8,
          7.4,
          7.4,
          9.2,
          8.1,
          8.4,
          9.7,
          8.3,
          9.7,
          9.7,
          8.3,
          8.2
         ],
         "xaxis": "x4",
         "yaxis": "y4"
        }
       ],
       "layout": {
        "annotations": [
         {
          "font": {
           "size": 16
          },
          "showarrow": false,
          "text": "Histograma dos votos",
          "x": 0.2,
          "xanchor": "center",
          "xref": "paper",
          "y": 1,
          "yanchor": "bottom",
          "yref": "paper"
         },
         {
          "font": {
           "size": 16
          },
          "showarrow": false,
          "text": "Histograma das avaliações",
          "x": 0.8,
          "xanchor": "center",
          "xref": "paper",
          "y": 1,
          "yanchor": "bottom",
          "yref": "paper"
         },
         {
          "font": {
           "size": 16
          },
          "showarrow": false,
          "text": "Boxplot dos votos",
          "x": 0.2,
          "xanchor": "center",
          "xref": "paper",
          "y": 0.375,
          "yanchor": "bottom",
          "yref": "paper"
         },
         {
          "font": {
           "size": 16
          },
          "showarrow": false,
          "text": "Boxplot das avaliações",
          "x": 0.8,
          "xanchor": "center",
          "xref": "paper",
          "y": 0.375,
          "yanchor": "bottom",
          "yref": "paper"
         }
        ],
        "height": 600,
        "showlegend": false,
        "template": {
         "data": {
          "bar": [
           {
            "error_x": {
             "color": "#2a3f5f"
            },
            "error_y": {
             "color": "#2a3f5f"
            },
            "marker": {
             "line": {
              "color": "#E5ECF6",
              "width": 0.5
             },
             "pattern": {
              "fillmode": "overlay",
              "size": 10,
              "solidity": 0.2
             }
            },
            "type": "bar"
           }
          ],
          "barpolar": [
           {
            "marker": {
             "line": {
              "color": "#E5ECF6",
              "width": 0.5
             },
             "pattern": {
              "fillmode": "overlay",
              "size": 10,
              "solidity": 0.2
             }
            },
            "type": "barpolar"
           }
          ],
          "carpet": [
           {
            "aaxis": {
             "endlinecolor": "#2a3f5f",
             "gridcolor": "white",
             "linecolor": "white",
             "minorgridcolor": "white",
             "startlinecolor": "#2a3f5f"
            },
            "baxis": {
             "endlinecolor": "#2a3f5f",
             "gridcolor": "white",
             "linecolor": "white",
             "minorgridcolor": "white",
             "startlinecolor": "#2a3f5f"
            },
            "type": "carpet"
           }
          ],
          "choropleth": [
           {
            "colorbar": {
             "outlinewidth": 0,
             "ticks": ""
            },
            "type": "choropleth"
           }
          ],
          "contour": [
           {
            "colorbar": {
             "outlinewidth": 0,
             "ticks": ""
            },
            "colorscale": [
             [
              0,
              "#0d0887"
             ],
             [
              0.1111111111111111,
              "#46039f"
             ],
             [
              0.2222222222222222,
              "#7201a8"
             ],
             [
              0.3333333333333333,
              "#9c179e"
             ],
             [
              0.4444444444444444,
              "#bd3786"
             ],
             [
              0.5555555555555556,
              "#d8576b"
             ],
             [
              0.6666666666666666,
              "#ed7953"
             ],
             [
              0.7777777777777778,
              "#fb9f3a"
             ],
             [
              0.8888888888888888,
              "#fdca26"
             ],
             [
              1,
              "#f0f921"
             ]
            ],
            "type": "contour"
           }
          ],
          "contourcarpet": [
           {
            "colorbar": {
             "outlinewidth": 0,
             "ticks": ""
            },
            "type": "contourcarpet"
           }
          ],
          "heatmap": [
           {
            "colorbar": {
             "outlinewidth": 0,
             "ticks": ""
            },
            "colorscale": [
             [
              0,
              "#0d0887"
             ],
             [
              0.1111111111111111,
              "#46039f"
             ],
             [
              0.2222222222222222,
              "#7201a8"
             ],
             [
              0.3333333333333333,
              "#9c179e"
             ],
             [
              0.4444444444444444,
              "#bd3786"
             ],
             [
              0.5555555555555556,
              "#d8576b"
             ],
             [
              0.6666666666666666,
              "#ed7953"
             ],
             [
              0.7777777777777778,
              "#fb9f3a"
             ],
             [
              0.8888888888888888,
              "#fdca26"
             ],
             [
              1,
              "#f0f921"
             ]
            ],
            "type": "heatmap"
           }
          ],
          "heatmapgl": [
           {
            "colorbar": {
             "outlinewidth": 0,
             "ticks": ""
            },
            "colorscale": [
             [
              0,
              "#0d0887"
             ],
             [
              0.1111111111111111,
              "#46039f"
             ],
             [
              0.2222222222222222,
              "#7201a8"
             ],
             [
              0.3333333333333333,
              "#9c179e"
             ],
             [
              0.4444444444444444,
              "#bd3786"
             ],
             [
              0.5555555555555556,
              "#d8576b"
             ],
             [
              0.6666666666666666,
              "#ed7953"
             ],
             [
              0.7777777777777778,
              "#fb9f3a"
             ],
             [
              0.8888888888888888,
              "#fdca26"
             ],
             [
              1,
              "#f0f921"
             ]
            ],
            "type": "heatmapgl"
           }
          ],
          "histogram": [
           {
            "marker": {
             "pattern": {
              "fillmode": "overlay",
              "size": 10,
              "solidity": 0.2
             }
            },
            "type": "histogram"
           }
          ],
          "histogram2d": [
           {
            "colorbar": {
             "outlinewidth": 0,
             "ticks": ""
            },
            "colorscale": [
             [
              0,
              "#0d0887"
             ],
             [
              0.1111111111111111,
              "#46039f"
             ],
             [
              0.2222222222222222,
              "#7201a8"
             ],
             [
              0.3333333333333333,
              "#9c179e"
             ],
             [
              0.4444444444444444,
              "#bd3786"
             ],
             [
              0.5555555555555556,
              "#d8576b"
             ],
             [
              0.6666666666666666,
              "#ed7953"
             ],
             [
              0.7777777777777778,
              "#fb9f3a"
             ],
             [
              0.8888888888888888,
              "#fdca26"
             ],
             [
              1,
              "#f0f921"
             ]
            ],
            "type": "histogram2d"
           }
          ],
          "histogram2dcontour": [
           {
            "colorbar": {
             "outlinewidth": 0,
             "ticks": ""
            },
            "colorscale": [
             [
              0,
              "#0d0887"
             ],
             [
              0.1111111111111111,
              "#46039f"
             ],
             [
              0.2222222222222222,
              "#7201a8"
             ],
             [
              0.3333333333333333,
              "#9c179e"
             ],
             [
              0.4444444444444444,
              "#bd3786"
             ],
             [
              0.5555555555555556,
              "#d8576b"
             ],
             [
              0.6666666666666666,
              "#ed7953"
             ],
             [
              0.7777777777777778,
              "#fb9f3a"
             ],
             [
              0.8888888888888888,
              "#fdca26"
             ],
             [
              1,
              "#f0f921"
             ]
            ],
            "type": "histogram2dcontour"
           }
          ],
          "mesh3d": [
           {
            "colorbar": {
             "outlinewidth": 0,
             "ticks": ""
            },
            "type": "mesh3d"
           }
          ],
          "parcoords": [
           {
            "line": {
             "colorbar": {
              "outlinewidth": 0,
              "ticks": ""
             }
            },
            "type": "parcoords"
           }
          ],
          "pie": [
           {
            "automargin": true,
            "type": "pie"
           }
          ],
          "scatter": [
           {
            "fillpattern": {
             "fillmode": "overlay",
             "size": 10,
             "solidity": 0.2
            },
            "type": "scatter"
           }
          ],
          "scatter3d": [
           {
            "line": {
             "colorbar": {
              "outlinewidth": 0,
              "ticks": ""
             }
            },
            "marker": {
             "colorbar": {
              "outlinewidth": 0,
              "ticks": ""
             }
            },
            "type": "scatter3d"
           }
          ],
          "scattercarpet": [
           {
            "marker": {
             "colorbar": {
              "outlinewidth": 0,
              "ticks": ""
             }
            },
            "type": "scattercarpet"
           }
          ],
          "scattergeo": [
           {
            "marker": {
             "colorbar": {
              "outlinewidth": 0,
              "ticks": ""
             }
            },
            "type": "scattergeo"
           }
          ],
          "scattergl": [
           {
            "marker": {
             "colorbar": {
              "outlinewidth": 0,
              "ticks": ""
             }
            },
            "type": "scattergl"
           }
          ],
          "scattermapbox": [
           {
            "marker": {
             "colorbar": {
              "outlinewidth": 0,
              "ticks": ""
             }
            },
            "type": "scattermapbox"
           }
          ],
          "scatterpolar": [
           {
            "marker": {
             "colorbar": {
              "outlinewidth": 0,
              "ticks": ""
             }
            },
            "type": "scatterpolar"
           }
          ],
          "scatterpolargl": [
           {
            "marker": {
             "colorbar": {
              "outlinewidth": 0,
              "ticks": ""
             }
            },
            "type": "scatterpolargl"
           }
          ],
          "scatterternary": [
           {
            "marker": {
             "colorbar": {
              "outlinewidth": 0,
              "ticks": ""
             }
            },
            "type": "scatterternary"
           }
          ],
          "surface": [
           {
            "colorbar": {
             "outlinewidth": 0,
             "ticks": ""
            },
            "colorscale": [
             [
              0,
              "#0d0887"
             ],
             [
              0.1111111111111111,
              "#46039f"
             ],
             [
              0.2222222222222222,
              "#7201a8"
             ],
             [
              0.3333333333333333,
              "#9c179e"
             ],
             [
              0.4444444444444444,
              "#bd3786"
             ],
             [
              0.5555555555555556,
              "#d8576b"
             ],
             [
              0.6666666666666666,
              "#ed7953"
             ],
             [
              0.7777777777777778,
              "#fb9f3a"
             ],
             [
              0.8888888888888888,
              "#fdca26"
             ],
             [
              1,
              "#f0f921"
             ]
            ],
            "type": "surface"
           }
          ],
          "table": [
           {
            "cells": {
             "fill": {
              "color": "#EBF0F8"
             },
             "line": {
              "color": "white"
             }
            },
            "header": {
             "fill": {
              "color": "#C8D4E3"
             },
             "line": {
              "color": "white"
             }
            },
            "type": "table"
           }
          ]
         },
         "layout": {
          "annotationdefaults": {
           "arrowcolor": "#2a3f5f",
           "arrowhead": 0,
           "arrowwidth": 1
          },
          "autotypenumbers": "strict",
          "coloraxis": {
           "colorbar": {
            "outlinewidth": 0,
            "ticks": ""
           }
          },
          "colorscale": {
           "diverging": [
            [
             0,
             "#8e0152"
            ],
            [
             0.1,
             "#c51b7d"
            ],
            [
             0.2,
             "#de77ae"
            ],
            [
             0.3,
             "#f1b6da"
            ],
            [
             0.4,
             "#fde0ef"
            ],
            [
             0.5,
             "#f7f7f7"
            ],
            [
             0.6,
             "#e6f5d0"
            ],
            [
             0.7,
             "#b8e186"
            ],
            [
             0.8,
             "#7fbc41"
            ],
            [
             0.9,
             "#4d9221"
            ],
            [
             1,
             "#276419"
            ]
           ],
           "sequential": [
            [
             0,
             "#0d0887"
            ],
            [
             0.1111111111111111,
             "#46039f"
            ],
            [
             0.2222222222222222,
             "#7201a8"
            ],
            [
             0.3333333333333333,
             "#9c179e"
            ],
            [
             0.4444444444444444,
             "#bd3786"
            ],
            [
             0.5555555555555556,
             "#d8576b"
            ],
            [
             0.6666666666666666,
             "#ed7953"
            ],
            [
             0.7777777777777778,
             "#fb9f3a"
            ],
            [
             0.8888888888888888,
             "#fdca26"
            ],
            [
             1,
             "#f0f921"
            ]
           ],
           "sequentialminus": [
            [
             0,
             "#0d0887"
            ],
            [
             0.1111111111111111,
             "#46039f"
            ],
            [
             0.2222222222222222,
             "#7201a8"
            ],
            [
             0.3333333333333333,
             "#9c179e"
            ],
            [
             0.4444444444444444,
             "#bd3786"
            ],
            [
             0.5555555555555556,
             "#d8576b"
            ],
            [
             0.6666666666666666,
             "#ed7953"
            ],
            [
             0.7777777777777778,
             "#fb9f3a"
            ],
            [
             0.8888888888888888,
             "#fdca26"
            ],
            [
             1,
             "#f0f921"
            ]
           ]
          },
          "colorway": [
           "#636efa",
           "#EF553B",
           "#00cc96",
           "#ab63fa",
           "#FFA15A",
           "#19d3f3",
           "#FF6692",
           "#B6E880",
           "#FF97FF",
           "#FECB52"
          ],
          "font": {
           "color": "#2a3f5f"
          },
          "geo": {
           "bgcolor": "white",
           "lakecolor": "white",
           "landcolor": "#E5ECF6",
           "showlakes": true,
           "showland": true,
           "subunitcolor": "white"
          },
          "hoverlabel": {
           "align": "left"
          },
          "hovermode": "closest",
          "mapbox": {
           "style": "light"
          },
          "paper_bgcolor": "white",
          "plot_bgcolor": "#E5ECF6",
          "polar": {
           "angularaxis": {
            "gridcolor": "white",
            "linecolor": "white",
            "ticks": ""
           },
           "bgcolor": "#E5ECF6",
           "radialaxis": {
            "gridcolor": "white",
            "linecolor": "white",
            "ticks": ""
           }
          },
          "scene": {
           "xaxis": {
            "backgroundcolor": "#E5ECF6",
            "gridcolor": "white",
            "gridwidth": 2,
            "linecolor": "white",
            "showbackground": true,
            "ticks": "",
            "zerolinecolor": "white"
           },
           "yaxis": {
            "backgroundcolor": "#E5ECF6",
            "gridcolor": "white",
            "gridwidth": 2,
            "linecolor": "white",
            "showbackground": true,
            "ticks": "",
            "zerolinecolor": "white"
           },
           "zaxis": {
            "backgroundcolor": "#E5ECF6",
            "gridcolor": "white",
            "gridwidth": 2,
            "linecolor": "white",
            "showbackground": true,
            "ticks": "",
            "zerolinecolor": "white"
           }
          },
          "shapedefaults": {
           "line": {
            "color": "#2a3f5f"
           }
          },
          "ternary": {
           "aaxis": {
            "gridcolor": "white",
            "linecolor": "white",
            "ticks": ""
           },
           "baxis": {
            "gridcolor": "white",
            "linecolor": "white",
            "ticks": ""
           },
           "bgcolor": "#E5ECF6",
           "caxis": {
            "gridcolor": "white",
            "linecolor": "white",
            "ticks": ""
           }
          },
          "title": {
           "x": 0.05
          },
          "xaxis": {
           "automargin": true,
           "gridcolor": "white",
           "linecolor": "white",
           "ticks": "",
           "title": {
            "standoff": 15
           },
           "zerolinecolor": "white",
           "zerolinewidth": 2
          },
          "yaxis": {
           "automargin": true,
           "gridcolor": "white",
           "linecolor": "white",
           "ticks": "",
           "title": {
            "standoff": 15
           },
           "zerolinecolor": "white",
           "zerolinewidth": 2
          }
         }
        },
        "width": 1000,
        "xaxis": {
         "anchor": "y",
         "domain": [
          0,
          0.4
         ],
         "title": {
          "text": "Votos"
         }
        },
        "xaxis2": {
         "anchor": "y2",
         "domain": [
          0.6000000000000001,
          1
         ],
         "title": {
          "text": "Avaliações"
         }
        },
        "xaxis3": {
         "anchor": "y3",
         "domain": [
          0,
          0.4
         ],
         "title": {
          "text": "Votos"
         }
        },
        "xaxis4": {
         "anchor": "y4",
         "domain": [
          0.6000000000000001,
          1
         ],
         "title": {
          "text": "Avaliações"
         }
        },
        "yaxis": {
         "anchor": "x",
         "domain": [
          0.625,
          1
         ],
         "title": {
          "text": "Quantidade de Episódios"
         }
        },
        "yaxis2": {
         "anchor": "x2",
         "domain": [
          0.625,
          1
         ],
         "title": {
          "text": "Quantidade de Episódios"
         }
        },
        "yaxis3": {
         "anchor": "x3",
         "domain": [
          0,
          0.375
         ]
        },
        "yaxis4": {
         "anchor": "x4",
         "domain": [
          0,
          0.375
         ]
        }
       }
      }
     },
     "metadata": {},
     "output_type": "display_data"
    }
   ],
   "source": [
    "# Criando os subplots\n",
    "fig = sp.make_subplots(rows=2, cols=2, vertical_spacing=0.25, horizontal_spacing=0.2, \n",
    "                       subplot_titles=['Histograma dos votos', 'Histograma das avaliações', \n",
    "                                       'Boxplot dos votos', 'Boxplot das avaliações'])\n",
    "# Histogramas\n",
    "fig.add_trace(go.Histogram(x=df['Votos'], nbinsx=30, marker_color='#338bff'), row=1, col=1)\n",
    "fig.add_trace(go.Histogram(x=df['Avaliação'], marker_color='#FF6600'), row=1, col=2)\n",
    "fig.update_xaxes(title_text=\"Votos\", row=1, col=1)\n",
    "fig.update_yaxes(title_text=\"Quantidade de Episódios\", row=1, col=1)\n",
    "fig.update_xaxes(title_text=\"Avaliações\", row=1, col=2)\n",
    "fig.update_yaxes(title_text=\"Quantidade de Episódios\", row=1, col=2)\n",
    "\n",
    "# Boxplots\n",
    "fig.add_trace(go.Box(x=df['Votos'], marker_color='#338bff', boxpoints='outliers', name=''), row=2, col=1)\n",
    "fig.add_trace(go.Box(x=df['Avaliação'], marker_color='#FF6600', boxpoints='outliers', name=''), row=2, col=2)\n",
    "fig.update_xaxes(title_text=\"Votos\", row=2, col=1)\n",
    "fig.update_xaxes(title_text=\"Avaliações\", row=2, col=2)\n",
    "\n",
    "# Atualizando layout com rótulos dos eixos\n",
    "fig.update_layout(height=600, width=1000, showlegend=False)\n",
    "\n",
    "# Exibindo o gráfico\n",
    "fig.show()"
   ]
  },
  {
   "cell_type": "markdown",
   "metadata": {},
   "source": [
    "- A média de quantidade de votos é de 2415 votos e a média da avaliação média é de 8.05.\n",
    "- A quantidade de votos está distribuida em sua maioria entre 0 a 3000 votos e existem diversos outliers com quantidades de votos acima do normal. A maior quantidade de votos foi de 76.272 e a menor foi de 481.\n",
    "- Além disso, as avaliações estão mais concentradas entre 7.5 a 8, com a menor avaliação equivalente a 5.2 e a maior equivalente a 9.7."
   ]
  },
  {
   "cell_type": "code",
   "execution_count": 393,
   "metadata": {},
   "outputs": [
    {
     "data": {
      "text/html": [
       "<div>\n",
       "<style scoped>\n",
       "    .dataframe tbody tr th:only-of-type {\n",
       "        vertical-align: middle;\n",
       "    }\n",
       "\n",
       "    .dataframe tbody tr th {\n",
       "        vertical-align: top;\n",
       "    }\n",
       "\n",
       "    .dataframe thead th {\n",
       "        text-align: right;\n",
       "    }\n",
       "</style>\n",
       "<table border=\"1\" class=\"dataframe\">\n",
       "  <thead>\n",
       "    <tr style=\"text-align: right;\">\n",
       "      <th></th>\n",
       "      <th>Episódio</th>\n",
       "      <th>Arco</th>\n",
       "      <th>Tipo</th>\n",
       "      <th>Título</th>\n",
       "      <th>Lançamento</th>\n",
       "      <th>Votos</th>\n",
       "      <th>Avaliação</th>\n",
       "    </tr>\n",
       "  </thead>\n",
       "  <tbody>\n",
       "    <tr>\n",
       "      <th>376</th>\n",
       "      <td>377</td>\n",
       "      <td>Thriller Bark</td>\n",
       "      <td>Canônico</td>\n",
       "      <td>Nakama no Itami wa Waga Itami: Zoro Kesshi no ...</td>\n",
       "      <td>2008-11-16</td>\n",
       "      <td>39203</td>\n",
       "      <td>9.7</td>\n",
       "    </tr>\n",
       "    <tr>\n",
       "      <th>404</th>\n",
       "      <td>405</td>\n",
       "      <td>Arquipélago de Sabaody</td>\n",
       "      <td>Canônico</td>\n",
       "      <td>Kesareta Nakama-tachi: Mugiwara Ichimi Saigo n...</td>\n",
       "      <td>2009-06-14</td>\n",
       "      <td>33820</td>\n",
       "      <td>9.7</td>\n",
       "    </tr>\n",
       "    <tr>\n",
       "      <th>481</th>\n",
       "      <td>482</td>\n",
       "      <td>Marineford</td>\n",
       "      <td>Canônico</td>\n",
       "      <td>Hi o mo Yaki Tsukusu Chikara: Akainu Hijou no ...</td>\n",
       "      <td>2011-01-09</td>\n",
       "      <td>31159</td>\n",
       "      <td>9.7</td>\n",
       "    </tr>\n",
       "    <tr>\n",
       "      <th>482</th>\n",
       "      <td>483</td>\n",
       "      <td>Marineford</td>\n",
       "      <td>Canônico</td>\n",
       "      <td>Kotae o Sagashite: Hiken Ace Senjou ni Shisu</td>\n",
       "      <td>2011-01-16</td>\n",
       "      <td>38033</td>\n",
       "      <td>9.7</td>\n",
       "    </tr>\n",
       "    <tr>\n",
       "      <th>483</th>\n",
       "      <td>484</td>\n",
       "      <td>Marineford</td>\n",
       "      <td>Canônico</td>\n",
       "      <td>Kaigun Honbu Houkai! Shirohige Kotobanaki Ikari!</td>\n",
       "      <td>2011-01-23</td>\n",
       "      <td>32122</td>\n",
       "      <td>9.7</td>\n",
       "    </tr>\n",
       "    <tr>\n",
       "      <th>484</th>\n",
       "      <td>485</td>\n",
       "      <td>Marineford</td>\n",
       "      <td>Canônico</td>\n",
       "      <td>Kejime o Tsukeru: Shirohige vs Kurohige Kaizok...</td>\n",
       "      <td>2011-01-30</td>\n",
       "      <td>37079</td>\n",
       "      <td>9.7</td>\n",
       "    </tr>\n",
       "    <tr>\n",
       "      <th>807</th>\n",
       "      <td>808</td>\n",
       "      <td>Ilha Whole Cake</td>\n",
       "      <td>Canônico</td>\n",
       "      <td>Kanashiki Kettou: Luffy tai Sanji (Kouhen)</td>\n",
       "      <td>2017-10-01</td>\n",
       "      <td>27403</td>\n",
       "      <td>9.7</td>\n",
       "    </tr>\n",
       "    <tr>\n",
       "      <th>1014</th>\n",
       "      <td>1015</td>\n",
       "      <td>País de Wano</td>\n",
       "      <td>Canônico</td>\n",
       "      <td>Straw Hat Luffy! The Man Who Will Become the K...</td>\n",
       "      <td>2022-04-24</td>\n",
       "      <td>61811</td>\n",
       "      <td>9.7</td>\n",
       "    </tr>\n",
       "    <tr>\n",
       "      <th>1061</th>\n",
       "      <td>1062</td>\n",
       "      <td>País de Wano</td>\n",
       "      <td>Canônico</td>\n",
       "      <td>The Three-Sword Style of the Supreme King! Zor...</td>\n",
       "      <td>2023-05-21</td>\n",
       "      <td>76272</td>\n",
       "      <td>9.7</td>\n",
       "    </tr>\n",
       "    <tr>\n",
       "      <th>1088</th>\n",
       "      <td>1089</td>\n",
       "      <td>Egghead</td>\n",
       "      <td>Canônico</td>\n",
       "      <td>Entering a New Chapter! Luffy and Sabo's Paths!</td>\n",
       "      <td>2024-01-07</td>\n",
       "      <td>22869</td>\n",
       "      <td>9.7</td>\n",
       "    </tr>\n",
       "    <tr>\n",
       "      <th>1099</th>\n",
       "      <td>1100</td>\n",
       "      <td>Egghead</td>\n",
       "      <td>Canônico</td>\n",
       "      <td>Powers on a Different Level! Luffy vs. Lucci!</td>\n",
       "      <td>2024-04-07</td>\n",
       "      <td>21931</td>\n",
       "      <td>9.7</td>\n",
       "    </tr>\n",
       "    <tr>\n",
       "      <th>1111</th>\n",
       "      <td>1112</td>\n",
       "      <td>Egghead</td>\n",
       "      <td>Canônico</td>\n",
       "      <td>Clash! Shanks vs. Eustass Kid</td>\n",
       "      <td>2024-07-14</td>\n",
       "      <td>15339</td>\n",
       "      <td>9.7</td>\n",
       "    </tr>\n",
       "    <tr>\n",
       "      <th>1113</th>\n",
       "      <td>1114</td>\n",
       "      <td>Egghead</td>\n",
       "      <td>Canônico</td>\n",
       "      <td>For the Beloved Pupil - The Fist of Vice Admir...</td>\n",
       "      <td>2024-08-04</td>\n",
       "      <td>7681</td>\n",
       "      <td>9.7</td>\n",
       "    </tr>\n",
       "    <tr>\n",
       "      <th>1114</th>\n",
       "      <td>1115</td>\n",
       "      <td>Egghead</td>\n",
       "      <td>Canônico</td>\n",
       "      <td>The Navy Surprised! The Navy Headquarters' For...</td>\n",
       "      <td>2024-08-11</td>\n",
       "      <td>3891</td>\n",
       "      <td>9.7</td>\n",
       "    </tr>\n",
       "  </tbody>\n",
       "</table>\n",
       "</div>"
      ],
      "text/plain": [
       "      Episódio                    Arco      Tipo  \\\n",
       "376        377           Thriller Bark  Canônico   \n",
       "404        405  Arquipélago de Sabaody  Canônico   \n",
       "481        482              Marineford  Canônico   \n",
       "482        483              Marineford  Canônico   \n",
       "483        484              Marineford  Canônico   \n",
       "484        485              Marineford  Canônico   \n",
       "807        808         Ilha Whole Cake  Canônico   \n",
       "1014      1015            País de Wano  Canônico   \n",
       "1061      1062            País de Wano  Canônico   \n",
       "1088      1089                 Egghead  Canônico   \n",
       "1099      1100                 Egghead  Canônico   \n",
       "1111      1112                 Egghead  Canônico   \n",
       "1113      1114                 Egghead  Canônico   \n",
       "1114      1115                 Egghead  Canônico   \n",
       "\n",
       "                                                 Título Lançamento  Votos  \\\n",
       "376   Nakama no Itami wa Waga Itami: Zoro Kesshi no ... 2008-11-16  39203   \n",
       "404   Kesareta Nakama-tachi: Mugiwara Ichimi Saigo n... 2009-06-14  33820   \n",
       "481   Hi o mo Yaki Tsukusu Chikara: Akainu Hijou no ... 2011-01-09  31159   \n",
       "482        Kotae o Sagashite: Hiken Ace Senjou ni Shisu 2011-01-16  38033   \n",
       "483    Kaigun Honbu Houkai! Shirohige Kotobanaki Ikari! 2011-01-23  32122   \n",
       "484   Kejime o Tsukeru: Shirohige vs Kurohige Kaizok... 2011-01-30  37079   \n",
       "807          Kanashiki Kettou: Luffy tai Sanji (Kouhen) 2017-10-01  27403   \n",
       "1014  Straw Hat Luffy! The Man Who Will Become the K... 2022-04-24  61811   \n",
       "1061  The Three-Sword Style of the Supreme King! Zor... 2023-05-21  76272   \n",
       "1088    Entering a New Chapter! Luffy and Sabo's Paths! 2024-01-07  22869   \n",
       "1099      Powers on a Different Level! Luffy vs. Lucci! 2024-04-07  21931   \n",
       "1111                      Clash! Shanks vs. Eustass Kid 2024-07-14  15339   \n",
       "1113  For the Beloved Pupil - The Fist of Vice Admir... 2024-08-04   7681   \n",
       "1114  The Navy Surprised! The Navy Headquarters' For... 2024-08-11   3891   \n",
       "\n",
       "      Avaliação  \n",
       "376         9.7  \n",
       "404         9.7  \n",
       "481         9.7  \n",
       "482         9.7  \n",
       "483         9.7  \n",
       "484         9.7  \n",
       "807         9.7  \n",
       "1014        9.7  \n",
       "1061        9.7  \n",
       "1088        9.7  \n",
       "1099        9.7  \n",
       "1111        9.7  \n",
       "1113        9.7  \n",
       "1114        9.7  "
      ]
     },
     "execution_count": 393,
     "metadata": {},
     "output_type": "execute_result"
    }
   ],
   "source": [
    "maior_avaliacao = df[df['Avaliação'] == df['Avaliação'].max()]\n",
    "maior_avaliacao"
   ]
  },
  {
   "cell_type": "markdown",
   "metadata": {},
   "source": [
    "- 14 episódios foram avaliados com a maior nota de todas, equivalente à 9.7. \n",
    "- Todos os episódios são canônicos e são episódios emblemáticos, pertencentes aos arcos de Thriller Bark, Arquipélago de Sabaody, Marineford, Ilha de Whole Cake, Wano e Egghead. \n",
    "- O episódio 1062 além de ter a avaliação máxima, também possui a quantidade de votos mais alta de todas.\n",
    "- Vale notar que Egghead é o último arco que ainda está em lançamento e já possui avaliação 9.7 cinco vezes, dando a entender que os fãs estão gostando. Entretanto, esse arco apresenta uma quantidade de votos bem menor eu comparação aos episódios de destaque dos outros arcos."
   ]
  },
  {
   "cell_type": "code",
   "execution_count": 394,
   "metadata": {},
   "outputs": [
    {
     "data": {
      "text/html": [
       "<div>\n",
       "<style scoped>\n",
       "    .dataframe tbody tr th:only-of-type {\n",
       "        vertical-align: middle;\n",
       "    }\n",
       "\n",
       "    .dataframe tbody tr th {\n",
       "        vertical-align: top;\n",
       "    }\n",
       "\n",
       "    .dataframe thead th {\n",
       "        text-align: right;\n",
       "    }\n",
       "</style>\n",
       "<table border=\"1\" class=\"dataframe\">\n",
       "  <thead>\n",
       "    <tr style=\"text-align: right;\">\n",
       "      <th></th>\n",
       "      <th>Episódio</th>\n",
       "      <th>Arco</th>\n",
       "      <th>Tipo</th>\n",
       "      <th>Título</th>\n",
       "      <th>Lançamento</th>\n",
       "      <th>Votos</th>\n",
       "      <th>Avaliação</th>\n",
       "    </tr>\n",
       "  </thead>\n",
       "  <tbody>\n",
       "    <tr>\n",
       "      <th>335</th>\n",
       "      <td>336</td>\n",
       "      <td>Ice Hunter</td>\n",
       "      <td>Filler</td>\n",
       "      <td>Shutsudou Chopperman! Mamore Nagisa no TV-kyoku</td>\n",
       "      <td>2007-12-23</td>\n",
       "      <td>763</td>\n",
       "      <td>5.2</td>\n",
       "    </tr>\n",
       "  </tbody>\n",
       "</table>\n",
       "</div>"
      ],
      "text/plain": [
       "     Episódio        Arco    Tipo  \\\n",
       "335       336  Ice Hunter  Filler   \n",
       "\n",
       "                                              Título Lançamento  Votos  \\\n",
       "335  Shutsudou Chopperman! Mamore Nagisa no TV-kyoku 2007-12-23    763   \n",
       "\n",
       "     Avaliação  \n",
       "335        5.2  "
      ]
     },
     "execution_count": 394,
     "metadata": {},
     "output_type": "execute_result"
    }
   ],
   "source": [
    "menor_avaliacao = df[df['Avaliação'] == df['Avaliação'].min()]\n",
    "menor_avaliacao"
   ]
  },
  {
   "cell_type": "markdown",
   "metadata": {},
   "source": [
    "- O episódio com a menor avaliação de todas é um Filler e não é o episódio com a menor quantidade de votos."
   ]
  },
  {
   "cell_type": "markdown",
   "metadata": {},
   "source": [
    "#### Qual a quantidade de episódios de cada tipo?"
   ]
  },
  {
   "cell_type": "code",
   "execution_count": 395,
   "metadata": {},
   "outputs": [
    {
     "data": {
      "application/vnd.plotly.v1+json": {
       "config": {
        "plotlyServerURL": "https://plot.ly"
       },
       "data": [
        {
         "insidetextorientation": "auto",
         "labels": [
          "Canônico",
          "Filler",
          "Semi-Canônico"
         ],
         "textfont": {
          "color": "white",
          "weight": "bold"
         },
         "textinfo": "value+percent",
         "texttemplate": "%{value:.0f} (%{percent:.0%})",
         "type": "pie",
         "values": [
          949,
          97,
          71
         ]
        }
       ],
       "layout": {
        "height": 400,
        "template": {
         "data": {
          "bar": [
           {
            "error_x": {
             "color": "#2a3f5f"
            },
            "error_y": {
             "color": "#2a3f5f"
            },
            "marker": {
             "line": {
              "color": "#E5ECF6",
              "width": 0.5
             },
             "pattern": {
              "fillmode": "overlay",
              "size": 10,
              "solidity": 0.2
             }
            },
            "type": "bar"
           }
          ],
          "barpolar": [
           {
            "marker": {
             "line": {
              "color": "#E5ECF6",
              "width": 0.5
             },
             "pattern": {
              "fillmode": "overlay",
              "size": 10,
              "solidity": 0.2
             }
            },
            "type": "barpolar"
           }
          ],
          "carpet": [
           {
            "aaxis": {
             "endlinecolor": "#2a3f5f",
             "gridcolor": "white",
             "linecolor": "white",
             "minorgridcolor": "white",
             "startlinecolor": "#2a3f5f"
            },
            "baxis": {
             "endlinecolor": "#2a3f5f",
             "gridcolor": "white",
             "linecolor": "white",
             "minorgridcolor": "white",
             "startlinecolor": "#2a3f5f"
            },
            "type": "carpet"
           }
          ],
          "choropleth": [
           {
            "colorbar": {
             "outlinewidth": 0,
             "ticks": ""
            },
            "type": "choropleth"
           }
          ],
          "contour": [
           {
            "colorbar": {
             "outlinewidth": 0,
             "ticks": ""
            },
            "colorscale": [
             [
              0,
              "#0d0887"
             ],
             [
              0.1111111111111111,
              "#46039f"
             ],
             [
              0.2222222222222222,
              "#7201a8"
             ],
             [
              0.3333333333333333,
              "#9c179e"
             ],
             [
              0.4444444444444444,
              "#bd3786"
             ],
             [
              0.5555555555555556,
              "#d8576b"
             ],
             [
              0.6666666666666666,
              "#ed7953"
             ],
             [
              0.7777777777777778,
              "#fb9f3a"
             ],
             [
              0.8888888888888888,
              "#fdca26"
             ],
             [
              1,
              "#f0f921"
             ]
            ],
            "type": "contour"
           }
          ],
          "contourcarpet": [
           {
            "colorbar": {
             "outlinewidth": 0,
             "ticks": ""
            },
            "type": "contourcarpet"
           }
          ],
          "heatmap": [
           {
            "colorbar": {
             "outlinewidth": 0,
             "ticks": ""
            },
            "colorscale": [
             [
              0,
              "#0d0887"
             ],
             [
              0.1111111111111111,
              "#46039f"
             ],
             [
              0.2222222222222222,
              "#7201a8"
             ],
             [
              0.3333333333333333,
              "#9c179e"
             ],
             [
              0.4444444444444444,
              "#bd3786"
             ],
             [
              0.5555555555555556,
              "#d8576b"
             ],
             [
              0.6666666666666666,
              "#ed7953"
             ],
             [
              0.7777777777777778,
              "#fb9f3a"
             ],
             [
              0.8888888888888888,
              "#fdca26"
             ],
             [
              1,
              "#f0f921"
             ]
            ],
            "type": "heatmap"
           }
          ],
          "heatmapgl": [
           {
            "colorbar": {
             "outlinewidth": 0,
             "ticks": ""
            },
            "colorscale": [
             [
              0,
              "#0d0887"
             ],
             [
              0.1111111111111111,
              "#46039f"
             ],
             [
              0.2222222222222222,
              "#7201a8"
             ],
             [
              0.3333333333333333,
              "#9c179e"
             ],
             [
              0.4444444444444444,
              "#bd3786"
             ],
             [
              0.5555555555555556,
              "#d8576b"
             ],
             [
              0.6666666666666666,
              "#ed7953"
             ],
             [
              0.7777777777777778,
              "#fb9f3a"
             ],
             [
              0.8888888888888888,
              "#fdca26"
             ],
             [
              1,
              "#f0f921"
             ]
            ],
            "type": "heatmapgl"
           }
          ],
          "histogram": [
           {
            "marker": {
             "pattern": {
              "fillmode": "overlay",
              "size": 10,
              "solidity": 0.2
             }
            },
            "type": "histogram"
           }
          ],
          "histogram2d": [
           {
            "colorbar": {
             "outlinewidth": 0,
             "ticks": ""
            },
            "colorscale": [
             [
              0,
              "#0d0887"
             ],
             [
              0.1111111111111111,
              "#46039f"
             ],
             [
              0.2222222222222222,
              "#7201a8"
             ],
             [
              0.3333333333333333,
              "#9c179e"
             ],
             [
              0.4444444444444444,
              "#bd3786"
             ],
             [
              0.5555555555555556,
              "#d8576b"
             ],
             [
              0.6666666666666666,
              "#ed7953"
             ],
             [
              0.7777777777777778,
              "#fb9f3a"
             ],
             [
              0.8888888888888888,
              "#fdca26"
             ],
             [
              1,
              "#f0f921"
             ]
            ],
            "type": "histogram2d"
           }
          ],
          "histogram2dcontour": [
           {
            "colorbar": {
             "outlinewidth": 0,
             "ticks": ""
            },
            "colorscale": [
             [
              0,
              "#0d0887"
             ],
             [
              0.1111111111111111,
              "#46039f"
             ],
             [
              0.2222222222222222,
              "#7201a8"
             ],
             [
              0.3333333333333333,
              "#9c179e"
             ],
             [
              0.4444444444444444,
              "#bd3786"
             ],
             [
              0.5555555555555556,
              "#d8576b"
             ],
             [
              0.6666666666666666,
              "#ed7953"
             ],
             [
              0.7777777777777778,
              "#fb9f3a"
             ],
             [
              0.8888888888888888,
              "#fdca26"
             ],
             [
              1,
              "#f0f921"
             ]
            ],
            "type": "histogram2dcontour"
           }
          ],
          "mesh3d": [
           {
            "colorbar": {
             "outlinewidth": 0,
             "ticks": ""
            },
            "type": "mesh3d"
           }
          ],
          "parcoords": [
           {
            "line": {
             "colorbar": {
              "outlinewidth": 0,
              "ticks": ""
             }
            },
            "type": "parcoords"
           }
          ],
          "pie": [
           {
            "automargin": true,
            "type": "pie"
           }
          ],
          "scatter": [
           {
            "fillpattern": {
             "fillmode": "overlay",
             "size": 10,
             "solidity": 0.2
            },
            "type": "scatter"
           }
          ],
          "scatter3d": [
           {
            "line": {
             "colorbar": {
              "outlinewidth": 0,
              "ticks": ""
             }
            },
            "marker": {
             "colorbar": {
              "outlinewidth": 0,
              "ticks": ""
             }
            },
            "type": "scatter3d"
           }
          ],
          "scattercarpet": [
           {
            "marker": {
             "colorbar": {
              "outlinewidth": 0,
              "ticks": ""
             }
            },
            "type": "scattercarpet"
           }
          ],
          "scattergeo": [
           {
            "marker": {
             "colorbar": {
              "outlinewidth": 0,
              "ticks": ""
             }
            },
            "type": "scattergeo"
           }
          ],
          "scattergl": [
           {
            "marker": {
             "colorbar": {
              "outlinewidth": 0,
              "ticks": ""
             }
            },
            "type": "scattergl"
           }
          ],
          "scattermapbox": [
           {
            "marker": {
             "colorbar": {
              "outlinewidth": 0,
              "ticks": ""
             }
            },
            "type": "scattermapbox"
           }
          ],
          "scatterpolar": [
           {
            "marker": {
             "colorbar": {
              "outlinewidth": 0,
              "ticks": ""
             }
            },
            "type": "scatterpolar"
           }
          ],
          "scatterpolargl": [
           {
            "marker": {
             "colorbar": {
              "outlinewidth": 0,
              "ticks": ""
             }
            },
            "type": "scatterpolargl"
           }
          ],
          "scatterternary": [
           {
            "marker": {
             "colorbar": {
              "outlinewidth": 0,
              "ticks": ""
             }
            },
            "type": "scatterternary"
           }
          ],
          "surface": [
           {
            "colorbar": {
             "outlinewidth": 0,
             "ticks": ""
            },
            "colorscale": [
             [
              0,
              "#0d0887"
             ],
             [
              0.1111111111111111,
              "#46039f"
             ],
             [
              0.2222222222222222,
              "#7201a8"
             ],
             [
              0.3333333333333333,
              "#9c179e"
             ],
             [
              0.4444444444444444,
              "#bd3786"
             ],
             [
              0.5555555555555556,
              "#d8576b"
             ],
             [
              0.6666666666666666,
              "#ed7953"
             ],
             [
              0.7777777777777778,
              "#fb9f3a"
             ],
             [
              0.8888888888888888,
              "#fdca26"
             ],
             [
              1,
              "#f0f921"
             ]
            ],
            "type": "surface"
           }
          ],
          "table": [
           {
            "cells": {
             "fill": {
              "color": "#EBF0F8"
             },
             "line": {
              "color": "white"
             }
            },
            "header": {
             "fill": {
              "color": "#C8D4E3"
             },
             "line": {
              "color": "white"
             }
            },
            "type": "table"
           }
          ]
         },
         "layout": {
          "annotationdefaults": {
           "arrowcolor": "#2a3f5f",
           "arrowhead": 0,
           "arrowwidth": 1
          },
          "autotypenumbers": "strict",
          "coloraxis": {
           "colorbar": {
            "outlinewidth": 0,
            "ticks": ""
           }
          },
          "colorscale": {
           "diverging": [
            [
             0,
             "#8e0152"
            ],
            [
             0.1,
             "#c51b7d"
            ],
            [
             0.2,
             "#de77ae"
            ],
            [
             0.3,
             "#f1b6da"
            ],
            [
             0.4,
             "#fde0ef"
            ],
            [
             0.5,
             "#f7f7f7"
            ],
            [
             0.6,
             "#e6f5d0"
            ],
            [
             0.7,
             "#b8e186"
            ],
            [
             0.8,
             "#7fbc41"
            ],
            [
             0.9,
             "#4d9221"
            ],
            [
             1,
             "#276419"
            ]
           ],
           "sequential": [
            [
             0,
             "#0d0887"
            ],
            [
             0.1111111111111111,
             "#46039f"
            ],
            [
             0.2222222222222222,
             "#7201a8"
            ],
            [
             0.3333333333333333,
             "#9c179e"
            ],
            [
             0.4444444444444444,
             "#bd3786"
            ],
            [
             0.5555555555555556,
             "#d8576b"
            ],
            [
             0.6666666666666666,
             "#ed7953"
            ],
            [
             0.7777777777777778,
             "#fb9f3a"
            ],
            [
             0.8888888888888888,
             "#fdca26"
            ],
            [
             1,
             "#f0f921"
            ]
           ],
           "sequentialminus": [
            [
             0,
             "#0d0887"
            ],
            [
             0.1111111111111111,
             "#46039f"
            ],
            [
             0.2222222222222222,
             "#7201a8"
            ],
            [
             0.3333333333333333,
             "#9c179e"
            ],
            [
             0.4444444444444444,
             "#bd3786"
            ],
            [
             0.5555555555555556,
             "#d8576b"
            ],
            [
             0.6666666666666666,
             "#ed7953"
            ],
            [
             0.7777777777777778,
             "#fb9f3a"
            ],
            [
             0.8888888888888888,
             "#fdca26"
            ],
            [
             1,
             "#f0f921"
            ]
           ]
          },
          "colorway": [
           "#636efa",
           "#EF553B",
           "#00cc96",
           "#ab63fa",
           "#FFA15A",
           "#19d3f3",
           "#FF6692",
           "#B6E880",
           "#FF97FF",
           "#FECB52"
          ],
          "font": {
           "color": "#2a3f5f"
          },
          "geo": {
           "bgcolor": "white",
           "lakecolor": "white",
           "landcolor": "#E5ECF6",
           "showlakes": true,
           "showland": true,
           "subunitcolor": "white"
          },
          "hoverlabel": {
           "align": "left"
          },
          "hovermode": "closest",
          "mapbox": {
           "style": "light"
          },
          "paper_bgcolor": "white",
          "plot_bgcolor": "#E5ECF6",
          "polar": {
           "angularaxis": {
            "gridcolor": "white",
            "linecolor": "white",
            "ticks": ""
           },
           "bgcolor": "#E5ECF6",
           "radialaxis": {
            "gridcolor": "white",
            "linecolor": "white",
            "ticks": ""
           }
          },
          "scene": {
           "xaxis": {
            "backgroundcolor": "#E5ECF6",
            "gridcolor": "white",
            "gridwidth": 2,
            "linecolor": "white",
            "showbackground": true,
            "ticks": "",
            "zerolinecolor": "white"
           },
           "yaxis": {
            "backgroundcolor": "#E5ECF6",
            "gridcolor": "white",
            "gridwidth": 2,
            "linecolor": "white",
            "showbackground": true,
            "ticks": "",
            "zerolinecolor": "white"
           },
           "zaxis": {
            "backgroundcolor": "#E5ECF6",
            "gridcolor": "white",
            "gridwidth": 2,
            "linecolor": "white",
            "showbackground": true,
            "ticks": "",
            "zerolinecolor": "white"
           }
          },
          "shapedefaults": {
           "line": {
            "color": "#2a3f5f"
           }
          },
          "ternary": {
           "aaxis": {
            "gridcolor": "white",
            "linecolor": "white",
            "ticks": ""
           },
           "baxis": {
            "gridcolor": "white",
            "linecolor": "white",
            "ticks": ""
           },
           "bgcolor": "#E5ECF6",
           "caxis": {
            "gridcolor": "white",
            "linecolor": "white",
            "ticks": ""
           }
          },
          "title": {
           "x": 0.05
          },
          "xaxis": {
           "automargin": true,
           "gridcolor": "white",
           "linecolor": "white",
           "ticks": "",
           "title": {
            "standoff": 15
           },
           "zerolinecolor": "white",
           "zerolinewidth": 2
          },
          "yaxis": {
           "automargin": true,
           "gridcolor": "white",
           "linecolor": "white",
           "ticks": "",
           "title": {
            "standoff": 15
           },
           "zerolinecolor": "white",
           "zerolinewidth": 2
          }
         }
        },
        "title": {
         "text": "Quantidade de episódios por Tipo"
        },
        "width": 500
       }
      }
     },
     "metadata": {},
     "output_type": "display_data"
    }
   ],
   "source": [
    "eps_por_tipo = df.groupby('Tipo')['Episódio'].count()\n",
    "\n",
    "fig = go.Figure()\n",
    "fig.add_trace(go.Pie(labels=eps_por_tipo.index, values=eps_por_tipo.values, textinfo='value+percent', insidetextorientation='auto', \n",
    "                     texttemplate='%{value:.0f} (%{percent:.0%})', textfont=dict(color='white', weight='bold')))\n",
    "\n",
    "fig.update_layout(height=400, width=500, title = 'Quantidade de episódios por Tipo')\n",
    "fig.show()"
   ]
  },
  {
   "cell_type": "markdown",
   "metadata": {},
   "source": [
    "- Dos 1117 episódios, 97 episódios (9%) são filler, 71 (6%) são semi-canônicos e 949 (85%) são canônicos.\n",
    "- Isso sugere que, no geral, uma esmagadora porcentagem dos episódios é relevante para a narrativa principal do anime, contemplando 1020 episódios (91%)."
   ]
  },
  {
   "cell_type": "markdown",
   "metadata": {},
   "source": [
    "#### Qual é a avaliação média e quantidade de votos para cada tipo de episódio?"
   ]
  },
  {
   "cell_type": "code",
   "execution_count": 396,
   "metadata": {},
   "outputs": [
    {
     "data": {
      "application/vnd.plotly.v1+json": {
       "config": {
        "plotlyServerURL": "https://plot.ly"
       },
       "data": [
        {
         "textfont": {
          "color": "white",
          "weight": "bold"
         },
         "texttemplate": "%{y:.1f}",
         "type": "bar",
         "x": [
          "Filler",
          "Semi-Canônico",
          "Canônico"
         ],
         "xaxis": "x",
         "y": [
          693.0618556701031,
          2060.3098591549297,
          2617.9030558482614
         ],
         "yaxis": "y"
        },
        {
         "textfont": {
          "color": "white",
          "weight": "bold"
         },
         "texttemplate": "%{y:.1f}",
         "type": "bar",
         "x": [
          "Filler",
          "Semi-Canônico",
          "Canônico"
         ],
         "xaxis": "x2",
         "y": [
          6.568041237113403,
          8.091549295774648,
          8.199578503688093
         ],
         "yaxis": "y2"
        }
       ],
       "layout": {
        "annotations": [
         {
          "font": {
           "size": 16
          },
          "showarrow": false,
          "text": "Votação Média por Tipo de Episódio",
          "x": 0.2125,
          "xanchor": "center",
          "xref": "paper",
          "y": 1,
          "yanchor": "bottom",
          "yref": "paper"
         },
         {
          "font": {
           "size": 16
          },
          "showarrow": false,
          "text": "Avaliação Média por Tipo de Episódio",
          "x": 0.7875,
          "xanchor": "center",
          "xref": "paper",
          "y": 1,
          "yanchor": "bottom",
          "yref": "paper"
         }
        ],
        "height": 400,
        "showlegend": false,
        "template": {
         "data": {
          "bar": [
           {
            "error_x": {
             "color": "#2a3f5f"
            },
            "error_y": {
             "color": "#2a3f5f"
            },
            "marker": {
             "line": {
              "color": "#E5ECF6",
              "width": 0.5
             },
             "pattern": {
              "fillmode": "overlay",
              "size": 10,
              "solidity": 0.2
             }
            },
            "type": "bar"
           }
          ],
          "barpolar": [
           {
            "marker": {
             "line": {
              "color": "#E5ECF6",
              "width": 0.5
             },
             "pattern": {
              "fillmode": "overlay",
              "size": 10,
              "solidity": 0.2
             }
            },
            "type": "barpolar"
           }
          ],
          "carpet": [
           {
            "aaxis": {
             "endlinecolor": "#2a3f5f",
             "gridcolor": "white",
             "linecolor": "white",
             "minorgridcolor": "white",
             "startlinecolor": "#2a3f5f"
            },
            "baxis": {
             "endlinecolor": "#2a3f5f",
             "gridcolor": "white",
             "linecolor": "white",
             "minorgridcolor": "white",
             "startlinecolor": "#2a3f5f"
            },
            "type": "carpet"
           }
          ],
          "choropleth": [
           {
            "colorbar": {
             "outlinewidth": 0,
             "ticks": ""
            },
            "type": "choropleth"
           }
          ],
          "contour": [
           {
            "colorbar": {
             "outlinewidth": 0,
             "ticks": ""
            },
            "colorscale": [
             [
              0,
              "#0d0887"
             ],
             [
              0.1111111111111111,
              "#46039f"
             ],
             [
              0.2222222222222222,
              "#7201a8"
             ],
             [
              0.3333333333333333,
              "#9c179e"
             ],
             [
              0.4444444444444444,
              "#bd3786"
             ],
             [
              0.5555555555555556,
              "#d8576b"
             ],
             [
              0.6666666666666666,
              "#ed7953"
             ],
             [
              0.7777777777777778,
              "#fb9f3a"
             ],
             [
              0.8888888888888888,
              "#fdca26"
             ],
             [
              1,
              "#f0f921"
             ]
            ],
            "type": "contour"
           }
          ],
          "contourcarpet": [
           {
            "colorbar": {
             "outlinewidth": 0,
             "ticks": ""
            },
            "type": "contourcarpet"
           }
          ],
          "heatmap": [
           {
            "colorbar": {
             "outlinewidth": 0,
             "ticks": ""
            },
            "colorscale": [
             [
              0,
              "#0d0887"
             ],
             [
              0.1111111111111111,
              "#46039f"
             ],
             [
              0.2222222222222222,
              "#7201a8"
             ],
             [
              0.3333333333333333,
              "#9c179e"
             ],
             [
              0.4444444444444444,
              "#bd3786"
             ],
             [
              0.5555555555555556,
              "#d8576b"
             ],
             [
              0.6666666666666666,
              "#ed7953"
             ],
             [
              0.7777777777777778,
              "#fb9f3a"
             ],
             [
              0.8888888888888888,
              "#fdca26"
             ],
             [
              1,
              "#f0f921"
             ]
            ],
            "type": "heatmap"
           }
          ],
          "heatmapgl": [
           {
            "colorbar": {
             "outlinewidth": 0,
             "ticks": ""
            },
            "colorscale": [
             [
              0,
              "#0d0887"
             ],
             [
              0.1111111111111111,
              "#46039f"
             ],
             [
              0.2222222222222222,
              "#7201a8"
             ],
             [
              0.3333333333333333,
              "#9c179e"
             ],
             [
              0.4444444444444444,
              "#bd3786"
             ],
             [
              0.5555555555555556,
              "#d8576b"
             ],
             [
              0.6666666666666666,
              "#ed7953"
             ],
             [
              0.7777777777777778,
              "#fb9f3a"
             ],
             [
              0.8888888888888888,
              "#fdca26"
             ],
             [
              1,
              "#f0f921"
             ]
            ],
            "type": "heatmapgl"
           }
          ],
          "histogram": [
           {
            "marker": {
             "pattern": {
              "fillmode": "overlay",
              "size": 10,
              "solidity": 0.2
             }
            },
            "type": "histogram"
           }
          ],
          "histogram2d": [
           {
            "colorbar": {
             "outlinewidth": 0,
             "ticks": ""
            },
            "colorscale": [
             [
              0,
              "#0d0887"
             ],
             [
              0.1111111111111111,
              "#46039f"
             ],
             [
              0.2222222222222222,
              "#7201a8"
             ],
             [
              0.3333333333333333,
              "#9c179e"
             ],
             [
              0.4444444444444444,
              "#bd3786"
             ],
             [
              0.5555555555555556,
              "#d8576b"
             ],
             [
              0.6666666666666666,
              "#ed7953"
             ],
             [
              0.7777777777777778,
              "#fb9f3a"
             ],
             [
              0.8888888888888888,
              "#fdca26"
             ],
             [
              1,
              "#f0f921"
             ]
            ],
            "type": "histogram2d"
           }
          ],
          "histogram2dcontour": [
           {
            "colorbar": {
             "outlinewidth": 0,
             "ticks": ""
            },
            "colorscale": [
             [
              0,
              "#0d0887"
             ],
             [
              0.1111111111111111,
              "#46039f"
             ],
             [
              0.2222222222222222,
              "#7201a8"
             ],
             [
              0.3333333333333333,
              "#9c179e"
             ],
             [
              0.4444444444444444,
              "#bd3786"
             ],
             [
              0.5555555555555556,
              "#d8576b"
             ],
             [
              0.6666666666666666,
              "#ed7953"
             ],
             [
              0.7777777777777778,
              "#fb9f3a"
             ],
             [
              0.8888888888888888,
              "#fdca26"
             ],
             [
              1,
              "#f0f921"
             ]
            ],
            "type": "histogram2dcontour"
           }
          ],
          "mesh3d": [
           {
            "colorbar": {
             "outlinewidth": 0,
             "ticks": ""
            },
            "type": "mesh3d"
           }
          ],
          "parcoords": [
           {
            "line": {
             "colorbar": {
              "outlinewidth": 0,
              "ticks": ""
             }
            },
            "type": "parcoords"
           }
          ],
          "pie": [
           {
            "automargin": true,
            "type": "pie"
           }
          ],
          "scatter": [
           {
            "fillpattern": {
             "fillmode": "overlay",
             "size": 10,
             "solidity": 0.2
            },
            "type": "scatter"
           }
          ],
          "scatter3d": [
           {
            "line": {
             "colorbar": {
              "outlinewidth": 0,
              "ticks": ""
             }
            },
            "marker": {
             "colorbar": {
              "outlinewidth": 0,
              "ticks": ""
             }
            },
            "type": "scatter3d"
           }
          ],
          "scattercarpet": [
           {
            "marker": {
             "colorbar": {
              "outlinewidth": 0,
              "ticks": ""
             }
            },
            "type": "scattercarpet"
           }
          ],
          "scattergeo": [
           {
            "marker": {
             "colorbar": {
              "outlinewidth": 0,
              "ticks": ""
             }
            },
            "type": "scattergeo"
           }
          ],
          "scattergl": [
           {
            "marker": {
             "colorbar": {
              "outlinewidth": 0,
              "ticks": ""
             }
            },
            "type": "scattergl"
           }
          ],
          "scattermapbox": [
           {
            "marker": {
             "colorbar": {
              "outlinewidth": 0,
              "ticks": ""
             }
            },
            "type": "scattermapbox"
           }
          ],
          "scatterpolar": [
           {
            "marker": {
             "colorbar": {
              "outlinewidth": 0,
              "ticks": ""
             }
            },
            "type": "scatterpolar"
           }
          ],
          "scatterpolargl": [
           {
            "marker": {
             "colorbar": {
              "outlinewidth": 0,
              "ticks": ""
             }
            },
            "type": "scatterpolargl"
           }
          ],
          "scatterternary": [
           {
            "marker": {
             "colorbar": {
              "outlinewidth": 0,
              "ticks": ""
             }
            },
            "type": "scatterternary"
           }
          ],
          "surface": [
           {
            "colorbar": {
             "outlinewidth": 0,
             "ticks": ""
            },
            "colorscale": [
             [
              0,
              "#0d0887"
             ],
             [
              0.1111111111111111,
              "#46039f"
             ],
             [
              0.2222222222222222,
              "#7201a8"
             ],
             [
              0.3333333333333333,
              "#9c179e"
             ],
             [
              0.4444444444444444,
              "#bd3786"
             ],
             [
              0.5555555555555556,
              "#d8576b"
             ],
             [
              0.6666666666666666,
              "#ed7953"
             ],
             [
              0.7777777777777778,
              "#fb9f3a"
             ],
             [
              0.8888888888888888,
              "#fdca26"
             ],
             [
              1,
              "#f0f921"
             ]
            ],
            "type": "surface"
           }
          ],
          "table": [
           {
            "cells": {
             "fill": {
              "color": "#EBF0F8"
             },
             "line": {
              "color": "white"
             }
            },
            "header": {
             "fill": {
              "color": "#C8D4E3"
             },
             "line": {
              "color": "white"
             }
            },
            "type": "table"
           }
          ]
         },
         "layout": {
          "annotationdefaults": {
           "arrowcolor": "#2a3f5f",
           "arrowhead": 0,
           "arrowwidth": 1
          },
          "autotypenumbers": "strict",
          "coloraxis": {
           "colorbar": {
            "outlinewidth": 0,
            "ticks": ""
           }
          },
          "colorscale": {
           "diverging": [
            [
             0,
             "#8e0152"
            ],
            [
             0.1,
             "#c51b7d"
            ],
            [
             0.2,
             "#de77ae"
            ],
            [
             0.3,
             "#f1b6da"
            ],
            [
             0.4,
             "#fde0ef"
            ],
            [
             0.5,
             "#f7f7f7"
            ],
            [
             0.6,
             "#e6f5d0"
            ],
            [
             0.7,
             "#b8e186"
            ],
            [
             0.8,
             "#7fbc41"
            ],
            [
             0.9,
             "#4d9221"
            ],
            [
             1,
             "#276419"
            ]
           ],
           "sequential": [
            [
             0,
             "#0d0887"
            ],
            [
             0.1111111111111111,
             "#46039f"
            ],
            [
             0.2222222222222222,
             "#7201a8"
            ],
            [
             0.3333333333333333,
             "#9c179e"
            ],
            [
             0.4444444444444444,
             "#bd3786"
            ],
            [
             0.5555555555555556,
             "#d8576b"
            ],
            [
             0.6666666666666666,
             "#ed7953"
            ],
            [
             0.7777777777777778,
             "#fb9f3a"
            ],
            [
             0.8888888888888888,
             "#fdca26"
            ],
            [
             1,
             "#f0f921"
            ]
           ],
           "sequentialminus": [
            [
             0,
             "#0d0887"
            ],
            [
             0.1111111111111111,
             "#46039f"
            ],
            [
             0.2222222222222222,
             "#7201a8"
            ],
            [
             0.3333333333333333,
             "#9c179e"
            ],
            [
             0.4444444444444444,
             "#bd3786"
            ],
            [
             0.5555555555555556,
             "#d8576b"
            ],
            [
             0.6666666666666666,
             "#ed7953"
            ],
            [
             0.7777777777777778,
             "#fb9f3a"
            ],
            [
             0.8888888888888888,
             "#fdca26"
            ],
            [
             1,
             "#f0f921"
            ]
           ]
          },
          "colorway": [
           "#636efa",
           "#EF553B",
           "#00cc96",
           "#ab63fa",
           "#FFA15A",
           "#19d3f3",
           "#FF6692",
           "#B6E880",
           "#FF97FF",
           "#FECB52"
          ],
          "font": {
           "color": "#2a3f5f"
          },
          "geo": {
           "bgcolor": "white",
           "lakecolor": "white",
           "landcolor": "#E5ECF6",
           "showlakes": true,
           "showland": true,
           "subunitcolor": "white"
          },
          "hoverlabel": {
           "align": "left"
          },
          "hovermode": "closest",
          "mapbox": {
           "style": "light"
          },
          "paper_bgcolor": "white",
          "plot_bgcolor": "#E5ECF6",
          "polar": {
           "angularaxis": {
            "gridcolor": "white",
            "linecolor": "white",
            "ticks": ""
           },
           "bgcolor": "#E5ECF6",
           "radialaxis": {
            "gridcolor": "white",
            "linecolor": "white",
            "ticks": ""
           }
          },
          "scene": {
           "xaxis": {
            "backgroundcolor": "#E5ECF6",
            "gridcolor": "white",
            "gridwidth": 2,
            "linecolor": "white",
            "showbackground": true,
            "ticks": "",
            "zerolinecolor": "white"
           },
           "yaxis": {
            "backgroundcolor": "#E5ECF6",
            "gridcolor": "white",
            "gridwidth": 2,
            "linecolor": "white",
            "showbackground": true,
            "ticks": "",
            "zerolinecolor": "white"
           },
           "zaxis": {
            "backgroundcolor": "#E5ECF6",
            "gridcolor": "white",
            "gridwidth": 2,
            "linecolor": "white",
            "showbackground": true,
            "ticks": "",
            "zerolinecolor": "white"
           }
          },
          "shapedefaults": {
           "line": {
            "color": "#2a3f5f"
           }
          },
          "ternary": {
           "aaxis": {
            "gridcolor": "white",
            "linecolor": "white",
            "ticks": ""
           },
           "baxis": {
            "gridcolor": "white",
            "linecolor": "white",
            "ticks": ""
           },
           "bgcolor": "#E5ECF6",
           "caxis": {
            "gridcolor": "white",
            "linecolor": "white",
            "ticks": ""
           }
          },
          "title": {
           "x": 0.05
          },
          "xaxis": {
           "automargin": true,
           "gridcolor": "white",
           "linecolor": "white",
           "ticks": "",
           "title": {
            "standoff": 15
           },
           "zerolinecolor": "white",
           "zerolinewidth": 2
          },
          "yaxis": {
           "automargin": true,
           "gridcolor": "white",
           "linecolor": "white",
           "ticks": "",
           "title": {
            "standoff": 15
           },
           "zerolinecolor": "white",
           "zerolinewidth": 2
          }
         }
        },
        "width": 850,
        "xaxis": {
         "anchor": "y",
         "domain": [
          0,
          0.425
         ],
         "title": {
          "text": "Tipos"
         }
        },
        "xaxis2": {
         "anchor": "y2",
         "domain": [
          0.575,
          1
         ],
         "title": {
          "text": "Tipos"
         }
        },
        "yaxis": {
         "anchor": "x",
         "domain": [
          0,
          1
         ],
         "title": {
          "text": "Votos"
         }
        },
        "yaxis2": {
         "anchor": "x2",
         "domain": [
          0,
          1
         ],
         "title": {
          "text": "Avaliações"
         }
        }
       }
      }
     },
     "metadata": {},
     "output_type": "display_data"
    }
   ],
   "source": [
    "tipo_mean_votos = df.groupby('Tipo')['Votos'].mean().sort_values()\n",
    "tipo_mean_avaliacao = df.groupby('Tipo')['Avaliação'].mean().sort_values()\n",
    "\n",
    "fig = sp.make_subplots(rows=1, cols=2, subplot_titles=['Votação Média por Tipo de Episódio', 'Avaliação Média por Tipo de Episódio'], horizontal_spacing=0.15)\n",
    "\n",
    "fig.add_trace(go.Bar(x=tipo_mean_votos.index, y=tipo_mean_votos.values, texttemplate=\"%{y:.1f}\", textfont=dict(color='white', weight='bold')), row=1, col=1)\n",
    "fig.update_xaxes(title_text=\"Tipos\", row=1, col=1)\n",
    "fig.update_yaxes(title_text=\"Votos\", row=1, col=1)\n",
    "\n",
    "fig.add_trace(go.Bar(x=tipo_mean_avaliacao.index, y=tipo_mean_avaliacao.values, texttemplate=\"%{y:.1f}\", textfont=dict(color='white', weight='bold')), row=1, col=2)\n",
    "fig.update_xaxes(title_text=\"Tipos\", row=1, col=2)\n",
    "fig.update_yaxes(title_text=\"Avaliações\", row=1, col=2)\n",
    "\n",
    "fig.update_layout(height=400, width=850, showlegend=False)\n",
    "fig.show()"
   ]
  },
  {
   "cell_type": "markdown",
   "metadata": {},
   "source": [
    "- A votação média indica que, como esperado, os episódios canônicos são mais votados do que semi-canônicos ou fillers.\n",
    "- Apesar disso, os episódios semi-canônicos mostraram uma avaliação média bem próxima à dos episódios canônicos, enquanto que fillers continuou bem abaixo."
   ]
  },
  {
   "cell_type": "markdown",
   "metadata": {},
   "source": [
    "#### Qual a quantidade de episódios em cada arco? Quais são os maiores?"
   ]
  },
  {
   "cell_type": "code",
   "execution_count": 397,
   "metadata": {},
   "outputs": [
    {
     "data": {
      "application/vnd.plotly.v1+json": {
       "config": {
        "plotlyServerURL": "https://plot.ly"
       },
       "data": [
        {
         "type": "bar",
         "x": [
          "Koby e Helmeppo",
          "Rei do Ácido Carbônico",
          "Bando do Buggy!",
          "Retorno de Foxy",
          "Ilha dos Carneiros",
          "Romance Dawn",
          "Ilha Spa",
          "Marinha Supernova",
          "Reverse Mountain",
          "Passado de Uta",
          "Recuperando Caesar",
          "Silver Mine",
          "Whiskey Peak",
          "Ambição de Z",
          "Little East Blue",
          "Orange Town",
          "Pós-Alabasta",
          "Névoa Arco-Íris",
          "Sonho do Oceano",
          "Retorno a Sabaody",
          "Loguetown",
          "Dragão Milenar",
          "Little Garden",
          "Jaya",
          "Vila Syrup",
          "Ice Hunter",
          "G-8",
          "Levely",
          "Baratie",
          "Pós-Enies Lobby",
          "Long Ring Long Land",
          "Ilha Drum",
          "Amazon Lily",
          "Arlong Park",
          "Arquipélago de Sabaody",
          "Pós-Guerra",
          "Zou",
          "Egghead",
          "Impel Down",
          "Marineford",
          "Water 7",
          "Alabasta",
          "Skypiea",
          "Thriller Bark",
          "Punk Hazard",
          "Enies Lobby",
          "Ilha dos Homens-Peixe",
          "Ilha Whole Cake",
          "Dressrosa",
          "País de Wano"
         ],
         "y": [
          2,
          2,
          2,
          2,
          3,
          3,
          3,
          3,
          3,
          3,
          3,
          4,
          4,
          4,
          4,
          5,
          5,
          5,
          5,
          6,
          6,
          7,
          8,
          9,
          10,
          11,
          11,
          12,
          12,
          13,
          13,
          14,
          14,
          15,
          23,
          27,
          29,
          29,
          31,
          33,
          37,
          39,
          43,
          45,
          47,
          49,
          52,
          95,
          118,
          194
         ]
        }
       ],
       "layout": {
        "height": 500,
        "showlegend": false,
        "template": {
         "data": {
          "bar": [
           {
            "error_x": {
             "color": "#2a3f5f"
            },
            "error_y": {
             "color": "#2a3f5f"
            },
            "marker": {
             "line": {
              "color": "#E5ECF6",
              "width": 0.5
             },
             "pattern": {
              "fillmode": "overlay",
              "size": 10,
              "solidity": 0.2
             }
            },
            "type": "bar"
           }
          ],
          "barpolar": [
           {
            "marker": {
             "line": {
              "color": "#E5ECF6",
              "width": 0.5
             },
             "pattern": {
              "fillmode": "overlay",
              "size": 10,
              "solidity": 0.2
             }
            },
            "type": "barpolar"
           }
          ],
          "carpet": [
           {
            "aaxis": {
             "endlinecolor": "#2a3f5f",
             "gridcolor": "white",
             "linecolor": "white",
             "minorgridcolor": "white",
             "startlinecolor": "#2a3f5f"
            },
            "baxis": {
             "endlinecolor": "#2a3f5f",
             "gridcolor": "white",
             "linecolor": "white",
             "minorgridcolor": "white",
             "startlinecolor": "#2a3f5f"
            },
            "type": "carpet"
           }
          ],
          "choropleth": [
           {
            "colorbar": {
             "outlinewidth": 0,
             "ticks": ""
            },
            "type": "choropleth"
           }
          ],
          "contour": [
           {
            "colorbar": {
             "outlinewidth": 0,
             "ticks": ""
            },
            "colorscale": [
             [
              0,
              "#0d0887"
             ],
             [
              0.1111111111111111,
              "#46039f"
             ],
             [
              0.2222222222222222,
              "#7201a8"
             ],
             [
              0.3333333333333333,
              "#9c179e"
             ],
             [
              0.4444444444444444,
              "#bd3786"
             ],
             [
              0.5555555555555556,
              "#d8576b"
             ],
             [
              0.6666666666666666,
              "#ed7953"
             ],
             [
              0.7777777777777778,
              "#fb9f3a"
             ],
             [
              0.8888888888888888,
              "#fdca26"
             ],
             [
              1,
              "#f0f921"
             ]
            ],
            "type": "contour"
           }
          ],
          "contourcarpet": [
           {
            "colorbar": {
             "outlinewidth": 0,
             "ticks": ""
            },
            "type": "contourcarpet"
           }
          ],
          "heatmap": [
           {
            "colorbar": {
             "outlinewidth": 0,
             "ticks": ""
            },
            "colorscale": [
             [
              0,
              "#0d0887"
             ],
             [
              0.1111111111111111,
              "#46039f"
             ],
             [
              0.2222222222222222,
              "#7201a8"
             ],
             [
              0.3333333333333333,
              "#9c179e"
             ],
             [
              0.4444444444444444,
              "#bd3786"
             ],
             [
              0.5555555555555556,
              "#d8576b"
             ],
             [
              0.6666666666666666,
              "#ed7953"
             ],
             [
              0.7777777777777778,
              "#fb9f3a"
             ],
             [
              0.8888888888888888,
              "#fdca26"
             ],
             [
              1,
              "#f0f921"
             ]
            ],
            "type": "heatmap"
           }
          ],
          "heatmapgl": [
           {
            "colorbar": {
             "outlinewidth": 0,
             "ticks": ""
            },
            "colorscale": [
             [
              0,
              "#0d0887"
             ],
             [
              0.1111111111111111,
              "#46039f"
             ],
             [
              0.2222222222222222,
              "#7201a8"
             ],
             [
              0.3333333333333333,
              "#9c179e"
             ],
             [
              0.4444444444444444,
              "#bd3786"
             ],
             [
              0.5555555555555556,
              "#d8576b"
             ],
             [
              0.6666666666666666,
              "#ed7953"
             ],
             [
              0.7777777777777778,
              "#fb9f3a"
             ],
             [
              0.8888888888888888,
              "#fdca26"
             ],
             [
              1,
              "#f0f921"
             ]
            ],
            "type": "heatmapgl"
           }
          ],
          "histogram": [
           {
            "marker": {
             "pattern": {
              "fillmode": "overlay",
              "size": 10,
              "solidity": 0.2
             }
            },
            "type": "histogram"
           }
          ],
          "histogram2d": [
           {
            "colorbar": {
             "outlinewidth": 0,
             "ticks": ""
            },
            "colorscale": [
             [
              0,
              "#0d0887"
             ],
             [
              0.1111111111111111,
              "#46039f"
             ],
             [
              0.2222222222222222,
              "#7201a8"
             ],
             [
              0.3333333333333333,
              "#9c179e"
             ],
             [
              0.4444444444444444,
              "#bd3786"
             ],
             [
              0.5555555555555556,
              "#d8576b"
             ],
             [
              0.6666666666666666,
              "#ed7953"
             ],
             [
              0.7777777777777778,
              "#fb9f3a"
             ],
             [
              0.8888888888888888,
              "#fdca26"
             ],
             [
              1,
              "#f0f921"
             ]
            ],
            "type": "histogram2d"
           }
          ],
          "histogram2dcontour": [
           {
            "colorbar": {
             "outlinewidth": 0,
             "ticks": ""
            },
            "colorscale": [
             [
              0,
              "#0d0887"
             ],
             [
              0.1111111111111111,
              "#46039f"
             ],
             [
              0.2222222222222222,
              "#7201a8"
             ],
             [
              0.3333333333333333,
              "#9c179e"
             ],
             [
              0.4444444444444444,
              "#bd3786"
             ],
             [
              0.5555555555555556,
              "#d8576b"
             ],
             [
              0.6666666666666666,
              "#ed7953"
             ],
             [
              0.7777777777777778,
              "#fb9f3a"
             ],
             [
              0.8888888888888888,
              "#fdca26"
             ],
             [
              1,
              "#f0f921"
             ]
            ],
            "type": "histogram2dcontour"
           }
          ],
          "mesh3d": [
           {
            "colorbar": {
             "outlinewidth": 0,
             "ticks": ""
            },
            "type": "mesh3d"
           }
          ],
          "parcoords": [
           {
            "line": {
             "colorbar": {
              "outlinewidth": 0,
              "ticks": ""
             }
            },
            "type": "parcoords"
           }
          ],
          "pie": [
           {
            "automargin": true,
            "type": "pie"
           }
          ],
          "scatter": [
           {
            "fillpattern": {
             "fillmode": "overlay",
             "size": 10,
             "solidity": 0.2
            },
            "type": "scatter"
           }
          ],
          "scatter3d": [
           {
            "line": {
             "colorbar": {
              "outlinewidth": 0,
              "ticks": ""
             }
            },
            "marker": {
             "colorbar": {
              "outlinewidth": 0,
              "ticks": ""
             }
            },
            "type": "scatter3d"
           }
          ],
          "scattercarpet": [
           {
            "marker": {
             "colorbar": {
              "outlinewidth": 0,
              "ticks": ""
             }
            },
            "type": "scattercarpet"
           }
          ],
          "scattergeo": [
           {
            "marker": {
             "colorbar": {
              "outlinewidth": 0,
              "ticks": ""
             }
            },
            "type": "scattergeo"
           }
          ],
          "scattergl": [
           {
            "marker": {
             "colorbar": {
              "outlinewidth": 0,
              "ticks": ""
             }
            },
            "type": "scattergl"
           }
          ],
          "scattermapbox": [
           {
            "marker": {
             "colorbar": {
              "outlinewidth": 0,
              "ticks": ""
             }
            },
            "type": "scattermapbox"
           }
          ],
          "scatterpolar": [
           {
            "marker": {
             "colorbar": {
              "outlinewidth": 0,
              "ticks": ""
             }
            },
            "type": "scatterpolar"
           }
          ],
          "scatterpolargl": [
           {
            "marker": {
             "colorbar": {
              "outlinewidth": 0,
              "ticks": ""
             }
            },
            "type": "scatterpolargl"
           }
          ],
          "scatterternary": [
           {
            "marker": {
             "colorbar": {
              "outlinewidth": 0,
              "ticks": ""
             }
            },
            "type": "scatterternary"
           }
          ],
          "surface": [
           {
            "colorbar": {
             "outlinewidth": 0,
             "ticks": ""
            },
            "colorscale": [
             [
              0,
              "#0d0887"
             ],
             [
              0.1111111111111111,
              "#46039f"
             ],
             [
              0.2222222222222222,
              "#7201a8"
             ],
             [
              0.3333333333333333,
              "#9c179e"
             ],
             [
              0.4444444444444444,
              "#bd3786"
             ],
             [
              0.5555555555555556,
              "#d8576b"
             ],
             [
              0.6666666666666666,
              "#ed7953"
             ],
             [
              0.7777777777777778,
              "#fb9f3a"
             ],
             [
              0.8888888888888888,
              "#fdca26"
             ],
             [
              1,
              "#f0f921"
             ]
            ],
            "type": "surface"
           }
          ],
          "table": [
           {
            "cells": {
             "fill": {
              "color": "#EBF0F8"
             },
             "line": {
              "color": "white"
             }
            },
            "header": {
             "fill": {
              "color": "#C8D4E3"
             },
             "line": {
              "color": "white"
             }
            },
            "type": "table"
           }
          ]
         },
         "layout": {
          "annotationdefaults": {
           "arrowcolor": "#2a3f5f",
           "arrowhead": 0,
           "arrowwidth": 1
          },
          "autotypenumbers": "strict",
          "coloraxis": {
           "colorbar": {
            "outlinewidth": 0,
            "ticks": ""
           }
          },
          "colorscale": {
           "diverging": [
            [
             0,
             "#8e0152"
            ],
            [
             0.1,
             "#c51b7d"
            ],
            [
             0.2,
             "#de77ae"
            ],
            [
             0.3,
             "#f1b6da"
            ],
            [
             0.4,
             "#fde0ef"
            ],
            [
             0.5,
             "#f7f7f7"
            ],
            [
             0.6,
             "#e6f5d0"
            ],
            [
             0.7,
             "#b8e186"
            ],
            [
             0.8,
             "#7fbc41"
            ],
            [
             0.9,
             "#4d9221"
            ],
            [
             1,
             "#276419"
            ]
           ],
           "sequential": [
            [
             0,
             "#0d0887"
            ],
            [
             0.1111111111111111,
             "#46039f"
            ],
            [
             0.2222222222222222,
             "#7201a8"
            ],
            [
             0.3333333333333333,
             "#9c179e"
            ],
            [
             0.4444444444444444,
             "#bd3786"
            ],
            [
             0.5555555555555556,
             "#d8576b"
            ],
            [
             0.6666666666666666,
             "#ed7953"
            ],
            [
             0.7777777777777778,
             "#fb9f3a"
            ],
            [
             0.8888888888888888,
             "#fdca26"
            ],
            [
             1,
             "#f0f921"
            ]
           ],
           "sequentialminus": [
            [
             0,
             "#0d0887"
            ],
            [
             0.1111111111111111,
             "#46039f"
            ],
            [
             0.2222222222222222,
             "#7201a8"
            ],
            [
             0.3333333333333333,
             "#9c179e"
            ],
            [
             0.4444444444444444,
             "#bd3786"
            ],
            [
             0.5555555555555556,
             "#d8576b"
            ],
            [
             0.6666666666666666,
             "#ed7953"
            ],
            [
             0.7777777777777778,
             "#fb9f3a"
            ],
            [
             0.8888888888888888,
             "#fdca26"
            ],
            [
             1,
             "#f0f921"
            ]
           ]
          },
          "colorway": [
           "#636efa",
           "#EF553B",
           "#00cc96",
           "#ab63fa",
           "#FFA15A",
           "#19d3f3",
           "#FF6692",
           "#B6E880",
           "#FF97FF",
           "#FECB52"
          ],
          "font": {
           "color": "#2a3f5f"
          },
          "geo": {
           "bgcolor": "white",
           "lakecolor": "white",
           "landcolor": "#E5ECF6",
           "showlakes": true,
           "showland": true,
           "subunitcolor": "white"
          },
          "hoverlabel": {
           "align": "left"
          },
          "hovermode": "closest",
          "mapbox": {
           "style": "light"
          },
          "paper_bgcolor": "white",
          "plot_bgcolor": "#E5ECF6",
          "polar": {
           "angularaxis": {
            "gridcolor": "white",
            "linecolor": "white",
            "ticks": ""
           },
           "bgcolor": "#E5ECF6",
           "radialaxis": {
            "gridcolor": "white",
            "linecolor": "white",
            "ticks": ""
           }
          },
          "scene": {
           "xaxis": {
            "backgroundcolor": "#E5ECF6",
            "gridcolor": "white",
            "gridwidth": 2,
            "linecolor": "white",
            "showbackground": true,
            "ticks": "",
            "zerolinecolor": "white"
           },
           "yaxis": {
            "backgroundcolor": "#E5ECF6",
            "gridcolor": "white",
            "gridwidth": 2,
            "linecolor": "white",
            "showbackground": true,
            "ticks": "",
            "zerolinecolor": "white"
           },
           "zaxis": {
            "backgroundcolor": "#E5ECF6",
            "gridcolor": "white",
            "gridwidth": 2,
            "linecolor": "white",
            "showbackground": true,
            "ticks": "",
            "zerolinecolor": "white"
           }
          },
          "shapedefaults": {
           "line": {
            "color": "#2a3f5f"
           }
          },
          "ternary": {
           "aaxis": {
            "gridcolor": "white",
            "linecolor": "white",
            "ticks": ""
           },
           "baxis": {
            "gridcolor": "white",
            "linecolor": "white",
            "ticks": ""
           },
           "bgcolor": "#E5ECF6",
           "caxis": {
            "gridcolor": "white",
            "linecolor": "white",
            "ticks": ""
           }
          },
          "title": {
           "x": 0.05
          },
          "xaxis": {
           "automargin": true,
           "gridcolor": "white",
           "linecolor": "white",
           "ticks": "",
           "title": {
            "standoff": 15
           },
           "zerolinecolor": "white",
           "zerolinewidth": 2
          },
          "yaxis": {
           "automargin": true,
           "gridcolor": "white",
           "linecolor": "white",
           "ticks": "",
           "title": {
            "standoff": 15
           },
           "zerolinecolor": "white",
           "zerolinewidth": 2
          }
         }
        },
        "title": {
         "text": "Quantidade de episódios por Arco"
        },
        "width": 1500,
        "xaxis": {
         "title": {
          "text": "Arcos"
         }
        },
        "yaxis": {
         "title": {
          "text": "Quantidade de episódios"
         }
        }
       }
      }
     },
     "metadata": {},
     "output_type": "display_data"
    }
   ],
   "source": [
    "eps_por_arco = df.groupby('Arco')['Episódio'].count().sort_values()\n",
    "\n",
    "fig = go.Figure()\n",
    "fig.add_trace(go.Bar(x=eps_por_arco.index, y=eps_por_arco.values))\n",
    "fig.update_xaxes(title_text=\"Arcos\")\n",
    "fig.update_yaxes(title_text=\"Quantidade de episódios\")\n",
    "fig.update_layout(title= 'Quantidade de episódios por Arco', height=500, width=1500, showlegend=False)\n",
    "fig.show()"
   ]
  },
  {
   "cell_type": "markdown",
   "metadata": {},
   "source": [
    "- Os maiores arcos são, principalmente: País de Wano (194 episódios), Dressrosa (118 episódios) e Ilha Whole Cake (95 episódios)."
   ]
  },
  {
   "cell_type": "markdown",
   "metadata": {},
   "source": [
    "#### Qual é a avaliação média e quantidade de votos em cada arco?"
   ]
  },
  {
   "cell_type": "code",
   "execution_count": 398,
   "metadata": {},
   "outputs": [
    {
     "data": {
      "application/vnd.plotly.v1+json": {
       "config": {
        "plotlyServerURL": "https://plot.ly"
       },
       "data": [
        {
         "type": "bar",
         "x": [
          "Ambição de Z",
          "Recuperando Caesar",
          "Little East Blue",
          "Silver Mine",
          "Marinha Supernova",
          "Ice Hunter",
          "Ilha Spa",
          "Retorno de Foxy",
          "Sonho do Oceano",
          "Ilha dos Homens-Peixe",
          "Punk Hazard",
          "Rei do Ácido Carbônico",
          "G-8",
          "Long Ring Long Land",
          "Névoa Arco-Íris",
          "Ilha dos Carneiros",
          "Pós-Alabasta",
          "Zou",
          "Levely",
          "Impel Down",
          "Skypiea",
          "Dragão Milenar",
          "Amazon Lily",
          "Little Garden",
          "Pós-Guerra",
          "Koby e Helmeppo",
          "Reverse Mountain",
          "Jaya",
          "Whiskey Peak",
          "Water 7",
          "Pós-Enies Lobby",
          "Passado de Uta",
          "Alabasta",
          "Ilha Drum",
          "Dressrosa",
          "Bando do Buggy!",
          "Retorno a Sabaody",
          "Thriller Bark",
          "Loguetown",
          "Vila Syrup",
          "Enies Lobby",
          "Ilha Whole Cake",
          "Arlong Park",
          "Baratie",
          "Orange Town",
          "Arquipélago de Sabaody",
          "Egghead",
          "País de Wano",
          "Marineford",
          "Romance Dawn"
         ],
         "xaxis": "x",
         "y": [
          491.75,
          506.3333333333333,
          512,
          513.5,
          517.3333333333334,
          563.9090909090909,
          567.3333333333334,
          647.5,
          657.4,
          672.7692307692307,
          674.2765957446809,
          681.5,
          683.1818181818181,
          740.1538461538462,
          759.8,
          786.6666666666666,
          806.2,
          815.7241379310345,
          898.6666666666666,
          908.5806451612904,
          1080.953488372093,
          1101.2857142857142,
          1151.4285714285713,
          1156.375,
          1159.7407407407406,
          1192.5,
          1228,
          1253,
          1273,
          1282.7297297297298,
          1312.3076923076924,
          1350,
          1456.7692307692307,
          1512.642857142857,
          1555.9915254237287,
          1608,
          1618.1666666666667,
          1714.1777777777777,
          1728.1666666666667,
          2059.5,
          2130.877551020408,
          2132.157894736842,
          2137.8,
          2330.5833333333335,
          3285.4,
          3397.217391304348,
          4817.896551724138,
          5446.319587628866,
          6921.545454545455,
          15837.333333333334
         ],
         "yaxis": "y"
        },
        {
         "type": "bar",
         "x": [
          "Rei do Ácido Carbônico",
          "Bando do Buggy!",
          "Little East Blue",
          "Silver Mine",
          "Ice Hunter",
          "Ilha dos Carneiros",
          "Retorno de Foxy",
          "Ilha Spa",
          "Koby e Helmeppo",
          "Recuperando Caesar",
          "Ambição de Z",
          "Dragão Milenar",
          "Pós-Alabasta",
          "Névoa Arco-Íris",
          "Marinha Supernova",
          "Sonho do Oceano",
          "Long Ring Long Land",
          "G-8",
          "Levely",
          "Passado de Uta",
          "Little Garden",
          "Vila Syrup",
          "Ilha dos Homens-Peixe",
          "Reverse Mountain",
          "Punk Hazard",
          "Orange Town",
          "Zou",
          "Loguetown",
          "Pós-Guerra",
          "Impel Down",
          "Whiskey Peak",
          "Jaya",
          "Thriller Bark",
          "Skypiea",
          "Ilha Drum",
          "Alabasta",
          "Pós-Enies Lobby",
          "Amazon Lily",
          "Baratie",
          "Enies Lobby",
          "Arlong Park",
          "Water 7",
          "Romance Dawn",
          "Arquipélago de Sabaody",
          "Dressrosa",
          "Retorno a Sabaody",
          "País de Wano",
          "Ilha Whole Cake",
          "Egghead",
          "Marineford"
         ],
         "xaxis": "x2",
         "y": [
          5.85,
          6.25,
          6.325,
          6.325,
          6.363636363636363,
          6.533333333333334,
          6.55,
          6.6000000000000005,
          6.699999999999999,
          6.7,
          6.75,
          6.757142857142857,
          6.76,
          6.82,
          6.866666666666667,
          6.94,
          7.115384615384615,
          7.263636363636365,
          7.358333333333333,
          7.3999999999999995,
          7.4125,
          7.42,
          7.490384615384615,
          7.533333333333334,
          7.63404255319149,
          7.7,
          7.779310344827586,
          7.8,
          7.87037037037037,
          7.874193548387097,
          7.875,
          7.888888888888889,
          7.906666666666667,
          7.909302325581396,
          7.935714285714285,
          7.9743589743589745,
          7.992307692307692,
          7.992857142857143,
          8,
          8.048979591836734,
          8.08,
          8.151351351351352,
          8.233333333333334,
          8.247826086956522,
          8.317796610169491,
          8.466666666666667,
          8.514432989690722,
          8.51578947368421,
          8.644827586206896,
          9.157575757575756
         ],
         "yaxis": "y2"
        }
       ],
       "layout": {
        "annotations": [
         {
          "font": {
           "size": 16
          },
          "showarrow": false,
          "text": "Votação Média por Arco",
          "x": 0.5,
          "xanchor": "center",
          "xref": "paper",
          "y": 1,
          "yanchor": "bottom",
          "yref": "paper"
         },
         {
          "font": {
           "size": 16
          },
          "showarrow": false,
          "text": "Avaliação Média por Arco",
          "x": 0.5,
          "xanchor": "center",
          "xref": "paper",
          "y": 0.3,
          "yanchor": "bottom",
          "yref": "paper"
         }
        ],
        "height": 800,
        "showlegend": false,
        "template": {
         "data": {
          "bar": [
           {
            "error_x": {
             "color": "#2a3f5f"
            },
            "error_y": {
             "color": "#2a3f5f"
            },
            "marker": {
             "line": {
              "color": "#E5ECF6",
              "width": 0.5
             },
             "pattern": {
              "fillmode": "overlay",
              "size": 10,
              "solidity": 0.2
             }
            },
            "type": "bar"
           }
          ],
          "barpolar": [
           {
            "marker": {
             "line": {
              "color": "#E5ECF6",
              "width": 0.5
             },
             "pattern": {
              "fillmode": "overlay",
              "size": 10,
              "solidity": 0.2
             }
            },
            "type": "barpolar"
           }
          ],
          "carpet": [
           {
            "aaxis": {
             "endlinecolor": "#2a3f5f",
             "gridcolor": "white",
             "linecolor": "white",
             "minorgridcolor": "white",
             "startlinecolor": "#2a3f5f"
            },
            "baxis": {
             "endlinecolor": "#2a3f5f",
             "gridcolor": "white",
             "linecolor": "white",
             "minorgridcolor": "white",
             "startlinecolor": "#2a3f5f"
            },
            "type": "carpet"
           }
          ],
          "choropleth": [
           {
            "colorbar": {
             "outlinewidth": 0,
             "ticks": ""
            },
            "type": "choropleth"
           }
          ],
          "contour": [
           {
            "colorbar": {
             "outlinewidth": 0,
             "ticks": ""
            },
            "colorscale": [
             [
              0,
              "#0d0887"
             ],
             [
              0.1111111111111111,
              "#46039f"
             ],
             [
              0.2222222222222222,
              "#7201a8"
             ],
             [
              0.3333333333333333,
              "#9c179e"
             ],
             [
              0.4444444444444444,
              "#bd3786"
             ],
             [
              0.5555555555555556,
              "#d8576b"
             ],
             [
              0.6666666666666666,
              "#ed7953"
             ],
             [
              0.7777777777777778,
              "#fb9f3a"
             ],
             [
              0.8888888888888888,
              "#fdca26"
             ],
             [
              1,
              "#f0f921"
             ]
            ],
            "type": "contour"
           }
          ],
          "contourcarpet": [
           {
            "colorbar": {
             "outlinewidth": 0,
             "ticks": ""
            },
            "type": "contourcarpet"
           }
          ],
          "heatmap": [
           {
            "colorbar": {
             "outlinewidth": 0,
             "ticks": ""
            },
            "colorscale": [
             [
              0,
              "#0d0887"
             ],
             [
              0.1111111111111111,
              "#46039f"
             ],
             [
              0.2222222222222222,
              "#7201a8"
             ],
             [
              0.3333333333333333,
              "#9c179e"
             ],
             [
              0.4444444444444444,
              "#bd3786"
             ],
             [
              0.5555555555555556,
              "#d8576b"
             ],
             [
              0.6666666666666666,
              "#ed7953"
             ],
             [
              0.7777777777777778,
              "#fb9f3a"
             ],
             [
              0.8888888888888888,
              "#fdca26"
             ],
             [
              1,
              "#f0f921"
             ]
            ],
            "type": "heatmap"
           }
          ],
          "heatmapgl": [
           {
            "colorbar": {
             "outlinewidth": 0,
             "ticks": ""
            },
            "colorscale": [
             [
              0,
              "#0d0887"
             ],
             [
              0.1111111111111111,
              "#46039f"
             ],
             [
              0.2222222222222222,
              "#7201a8"
             ],
             [
              0.3333333333333333,
              "#9c179e"
             ],
             [
              0.4444444444444444,
              "#bd3786"
             ],
             [
              0.5555555555555556,
              "#d8576b"
             ],
             [
              0.6666666666666666,
              "#ed7953"
             ],
             [
              0.7777777777777778,
              "#fb9f3a"
             ],
             [
              0.8888888888888888,
              "#fdca26"
             ],
             [
              1,
              "#f0f921"
             ]
            ],
            "type": "heatmapgl"
           }
          ],
          "histogram": [
           {
            "marker": {
             "pattern": {
              "fillmode": "overlay",
              "size": 10,
              "solidity": 0.2
             }
            },
            "type": "histogram"
           }
          ],
          "histogram2d": [
           {
            "colorbar": {
             "outlinewidth": 0,
             "ticks": ""
            },
            "colorscale": [
             [
              0,
              "#0d0887"
             ],
             [
              0.1111111111111111,
              "#46039f"
             ],
             [
              0.2222222222222222,
              "#7201a8"
             ],
             [
              0.3333333333333333,
              "#9c179e"
             ],
             [
              0.4444444444444444,
              "#bd3786"
             ],
             [
              0.5555555555555556,
              "#d8576b"
             ],
             [
              0.6666666666666666,
              "#ed7953"
             ],
             [
              0.7777777777777778,
              "#fb9f3a"
             ],
             [
              0.8888888888888888,
              "#fdca26"
             ],
             [
              1,
              "#f0f921"
             ]
            ],
            "type": "histogram2d"
           }
          ],
          "histogram2dcontour": [
           {
            "colorbar": {
             "outlinewidth": 0,
             "ticks": ""
            },
            "colorscale": [
             [
              0,
              "#0d0887"
             ],
             [
              0.1111111111111111,
              "#46039f"
             ],
             [
              0.2222222222222222,
              "#7201a8"
             ],
             [
              0.3333333333333333,
              "#9c179e"
             ],
             [
              0.4444444444444444,
              "#bd3786"
             ],
             [
              0.5555555555555556,
              "#d8576b"
             ],
             [
              0.6666666666666666,
              "#ed7953"
             ],
             [
              0.7777777777777778,
              "#fb9f3a"
             ],
             [
              0.8888888888888888,
              "#fdca26"
             ],
             [
              1,
              "#f0f921"
             ]
            ],
            "type": "histogram2dcontour"
           }
          ],
          "mesh3d": [
           {
            "colorbar": {
             "outlinewidth": 0,
             "ticks": ""
            },
            "type": "mesh3d"
           }
          ],
          "parcoords": [
           {
            "line": {
             "colorbar": {
              "outlinewidth": 0,
              "ticks": ""
             }
            },
            "type": "parcoords"
           }
          ],
          "pie": [
           {
            "automargin": true,
            "type": "pie"
           }
          ],
          "scatter": [
           {
            "fillpattern": {
             "fillmode": "overlay",
             "size": 10,
             "solidity": 0.2
            },
            "type": "scatter"
           }
          ],
          "scatter3d": [
           {
            "line": {
             "colorbar": {
              "outlinewidth": 0,
              "ticks": ""
             }
            },
            "marker": {
             "colorbar": {
              "outlinewidth": 0,
              "ticks": ""
             }
            },
            "type": "scatter3d"
           }
          ],
          "scattercarpet": [
           {
            "marker": {
             "colorbar": {
              "outlinewidth": 0,
              "ticks": ""
             }
            },
            "type": "scattercarpet"
           }
          ],
          "scattergeo": [
           {
            "marker": {
             "colorbar": {
              "outlinewidth": 0,
              "ticks": ""
             }
            },
            "type": "scattergeo"
           }
          ],
          "scattergl": [
           {
            "marker": {
             "colorbar": {
              "outlinewidth": 0,
              "ticks": ""
             }
            },
            "type": "scattergl"
           }
          ],
          "scattermapbox": [
           {
            "marker": {
             "colorbar": {
              "outlinewidth": 0,
              "ticks": ""
             }
            },
            "type": "scattermapbox"
           }
          ],
          "scatterpolar": [
           {
            "marker": {
             "colorbar": {
              "outlinewidth": 0,
              "ticks": ""
             }
            },
            "type": "scatterpolar"
           }
          ],
          "scatterpolargl": [
           {
            "marker": {
             "colorbar": {
              "outlinewidth": 0,
              "ticks": ""
             }
            },
            "type": "scatterpolargl"
           }
          ],
          "scatterternary": [
           {
            "marker": {
             "colorbar": {
              "outlinewidth": 0,
              "ticks": ""
             }
            },
            "type": "scatterternary"
           }
          ],
          "surface": [
           {
            "colorbar": {
             "outlinewidth": 0,
             "ticks": ""
            },
            "colorscale": [
             [
              0,
              "#0d0887"
             ],
             [
              0.1111111111111111,
              "#46039f"
             ],
             [
              0.2222222222222222,
              "#7201a8"
             ],
             [
              0.3333333333333333,
              "#9c179e"
             ],
             [
              0.4444444444444444,
              "#bd3786"
             ],
             [
              0.5555555555555556,
              "#d8576b"
             ],
             [
              0.6666666666666666,
              "#ed7953"
             ],
             [
              0.7777777777777778,
              "#fb9f3a"
             ],
             [
              0.8888888888888888,
              "#fdca26"
             ],
             [
              1,
              "#f0f921"
             ]
            ],
            "type": "surface"
           }
          ],
          "table": [
           {
            "cells": {
             "fill": {
              "color": "#EBF0F8"
             },
             "line": {
              "color": "white"
             }
            },
            "header": {
             "fill": {
              "color": "#C8D4E3"
             },
             "line": {
              "color": "white"
             }
            },
            "type": "table"
           }
          ]
         },
         "layout": {
          "annotationdefaults": {
           "arrowcolor": "#2a3f5f",
           "arrowhead": 0,
           "arrowwidth": 1
          },
          "autotypenumbers": "strict",
          "coloraxis": {
           "colorbar": {
            "outlinewidth": 0,
            "ticks": ""
           }
          },
          "colorscale": {
           "diverging": [
            [
             0,
             "#8e0152"
            ],
            [
             0.1,
             "#c51b7d"
            ],
            [
             0.2,
             "#de77ae"
            ],
            [
             0.3,
             "#f1b6da"
            ],
            [
             0.4,
             "#fde0ef"
            ],
            [
             0.5,
             "#f7f7f7"
            ],
            [
             0.6,
             "#e6f5d0"
            ],
            [
             0.7,
             "#b8e186"
            ],
            [
             0.8,
             "#7fbc41"
            ],
            [
             0.9,
             "#4d9221"
            ],
            [
             1,
             "#276419"
            ]
           ],
           "sequential": [
            [
             0,
             "#0d0887"
            ],
            [
             0.1111111111111111,
             "#46039f"
            ],
            [
             0.2222222222222222,
             "#7201a8"
            ],
            [
             0.3333333333333333,
             "#9c179e"
            ],
            [
             0.4444444444444444,
             "#bd3786"
            ],
            [
             0.5555555555555556,
             "#d8576b"
            ],
            [
             0.6666666666666666,
             "#ed7953"
            ],
            [
             0.7777777777777778,
             "#fb9f3a"
            ],
            [
             0.8888888888888888,
             "#fdca26"
            ],
            [
             1,
             "#f0f921"
            ]
           ],
           "sequentialminus": [
            [
             0,
             "#0d0887"
            ],
            [
             0.1111111111111111,
             "#46039f"
            ],
            [
             0.2222222222222222,
             "#7201a8"
            ],
            [
             0.3333333333333333,
             "#9c179e"
            ],
            [
             0.4444444444444444,
             "#bd3786"
            ],
            [
             0.5555555555555556,
             "#d8576b"
            ],
            [
             0.6666666666666666,
             "#ed7953"
            ],
            [
             0.7777777777777778,
             "#fb9f3a"
            ],
            [
             0.8888888888888888,
             "#fdca26"
            ],
            [
             1,
             "#f0f921"
            ]
           ]
          },
          "colorway": [
           "#636efa",
           "#EF553B",
           "#00cc96",
           "#ab63fa",
           "#FFA15A",
           "#19d3f3",
           "#FF6692",
           "#B6E880",
           "#FF97FF",
           "#FECB52"
          ],
          "font": {
           "color": "#2a3f5f"
          },
          "geo": {
           "bgcolor": "white",
           "lakecolor": "white",
           "landcolor": "#E5ECF6",
           "showlakes": true,
           "showland": true,
           "subunitcolor": "white"
          },
          "hoverlabel": {
           "align": "left"
          },
          "hovermode": "closest",
          "mapbox": {
           "style": "light"
          },
          "paper_bgcolor": "white",
          "plot_bgcolor": "#E5ECF6",
          "polar": {
           "angularaxis": {
            "gridcolor": "white",
            "linecolor": "white",
            "ticks": ""
           },
           "bgcolor": "#E5ECF6",
           "radialaxis": {
            "gridcolor": "white",
            "linecolor": "white",
            "ticks": ""
           }
          },
          "scene": {
           "xaxis": {
            "backgroundcolor": "#E5ECF6",
            "gridcolor": "white",
            "gridwidth": 2,
            "linecolor": "white",
            "showbackground": true,
            "ticks": "",
            "zerolinecolor": "white"
           },
           "yaxis": {
            "backgroundcolor": "#E5ECF6",
            "gridcolor": "white",
            "gridwidth": 2,
            "linecolor": "white",
            "showbackground": true,
            "ticks": "",
            "zerolinecolor": "white"
           },
           "zaxis": {
            "backgroundcolor": "#E5ECF6",
            "gridcolor": "white",
            "gridwidth": 2,
            "linecolor": "white",
            "showbackground": true,
            "ticks": "",
            "zerolinecolor": "white"
           }
          },
          "shapedefaults": {
           "line": {
            "color": "#2a3f5f"
           }
          },
          "ternary": {
           "aaxis": {
            "gridcolor": "white",
            "linecolor": "white",
            "ticks": ""
           },
           "baxis": {
            "gridcolor": "white",
            "linecolor": "white",
            "ticks": ""
           },
           "bgcolor": "#E5ECF6",
           "caxis": {
            "gridcolor": "white",
            "linecolor": "white",
            "ticks": ""
           }
          },
          "title": {
           "x": 0.05
          },
          "xaxis": {
           "automargin": true,
           "gridcolor": "white",
           "linecolor": "white",
           "ticks": "",
           "title": {
            "standoff": 15
           },
           "zerolinecolor": "white",
           "zerolinewidth": 2
          },
          "yaxis": {
           "automargin": true,
           "gridcolor": "white",
           "linecolor": "white",
           "ticks": "",
           "title": {
            "standoff": 15
           },
           "zerolinecolor": "white",
           "zerolinewidth": 2
          }
         }
        },
        "width": 1500,
        "xaxis": {
         "anchor": "y",
         "domain": [
          0,
          1
         ],
         "title": {
          "text": "Arcos"
         }
        },
        "xaxis2": {
         "anchor": "y2",
         "domain": [
          0,
          1
         ],
         "title": {
          "text": "Arcos"
         }
        },
        "yaxis": {
         "anchor": "x",
         "domain": [
          0.7,
          1
         ],
         "title": {
          "text": "Votos"
         }
        },
        "yaxis2": {
         "anchor": "x2",
         "domain": [
          0,
          0.3
         ],
         "title": {
          "text": "Avaliações"
         }
        }
       }
      }
     },
     "metadata": {},
     "output_type": "display_data"
    }
   ],
   "source": [
    "arco_mean_votos = df.groupby('Arco')['Votos'].mean().sort_values()\n",
    "arco_mean_avaliacao = df.groupby('Arco')['Avaliação'].mean().sort_values()\n",
    "\n",
    "fig = sp.make_subplots(rows=2, cols=1, subplot_titles=['Votação Média por Arco', 'Avaliação Média por Arco'], vertical_spacing=0.4)\n",
    "\n",
    "fig.add_trace(go.Bar(x=arco_mean_votos.index, y=arco_mean_votos.values), row=1, col=1)\n",
    "fig.update_xaxes(title_text=\"Arcos\", row=1, col=1)\n",
    "fig.update_yaxes(title_text=\"Votos\", row=1, col=1)\n",
    "\n",
    "fig.add_trace(go.Bar(x=arco_mean_avaliacao.index, y=arco_mean_avaliacao.values), row=2, col=1)\n",
    "fig.update_xaxes(title_text=\"Arcos\", row=2, col=1)\n",
    "fig.update_yaxes(title_text=\"Avaliações\", row=2, col=1)\n",
    "\n",
    "fig.update_layout(height=800, width=1500, showlegend=False)\n",
    "fig.show()"
   ]
  },
  {
   "cell_type": "markdown",
   "metadata": {},
   "source": [
    "- Curiosamente, o primeiro arco teve maior quantidade de votos, provavelmente por conta do começo de um anime famoso. Além disso, a votação se manteve em uma faixa de 2000 a 3000 votos, com exceção de alguns arcos, como Arquipélago de Sabaody, Egghead, País de Wano e, principalmente, Marineford.\n",
    "- Apesar da quantidade mais baixa de votação média, os episódios continuaram mantendo uma boa avaliação média.\n",
    "- Marineford foi o segundo arco com a maior quantidade média de votos e o que teve a maior avaliação média (9.15)."
   ]
  },
  {
   "cell_type": "markdown",
   "metadata": {},
   "source": [
    "#### Quais arcos e com quantos episódios com avaliação média acima do 3º quartil (75%) existem? E abaixo do 1º quartil (25%)?"
   ]
  },
  {
   "cell_type": "code",
   "execution_count": 399,
   "metadata": {},
   "outputs": [
    {
     "data": {
      "application/vnd.plotly.v1+json": {
       "config": {
        "plotlyServerURL": "https://plot.ly"
       },
       "data": [
        {
         "type": "bar",
         "x": [
          "Water 7",
          "Arlong Park",
          "Marineford",
          "Loguetown",
          "Bando do Buggy!",
          "Koby e Helmeppo",
          "Rei do Ácido Carbônico",
          "Egghead",
          "Retorno de Foxy",
          "Passado de Uta",
          "Orange Town",
          "Reverse Mountain",
          "Marinha Supernova",
          "Jaya",
          "Ilha dos Carneiros",
          "Recuperando Caesar",
          "Ilha Spa",
          "Baratie",
          "Pós-Enies Lobby",
          "Ilha Drum",
          "Silver Mine",
          "Little East Blue",
          "Ambição de Z",
          "Amazon Lily",
          "Ilha Whole Cake",
          "Névoa Arco-Íris",
          "Pós-Alabasta",
          "Little Garden",
          "Sonho do Oceano",
          "Arquipélago de Sabaody",
          "Vila Syrup",
          "Levely",
          "Impel Down",
          "Pós-Guerra",
          "Dragão Milenar",
          "Skypiea",
          "Enies Lobby",
          "Alabasta",
          "Dressrosa",
          "Ice Hunter",
          "G-8",
          "Thriller Bark",
          "Long Ring Long Land",
          "Zou",
          "País de Wano",
          "Punk Hazard",
          "Ilha dos Homens-Peixe"
         ],
         "xaxis": "x",
         "y": [
          1,
          1,
          2,
          2,
          2,
          2,
          2,
          2,
          2,
          2,
          2,
          2,
          3,
          3,
          3,
          3,
          3,
          3,
          3,
          3,
          4,
          4,
          4,
          4,
          4,
          5,
          5,
          5,
          5,
          5,
          6,
          6,
          6,
          7,
          7,
          8,
          8,
          9,
          9,
          11,
          11,
          11,
          12,
          12,
          22,
          22,
          30
         ],
         "yaxis": "y"
        },
        {
         "type": "bar",
         "x": [
          "Jaya",
          "Ilha dos Homens-Peixe",
          "Zou",
          "Amazon Lily",
          "Arlong Park",
          "Retorno a Sabaody",
          "Baratie",
          "Punk Hazard",
          "Ilha Drum",
          "Pós-Guerra",
          "Pós-Enies Lobby",
          "Impel Down",
          "Skypiea",
          "Thriller Bark",
          "Alabasta",
          "Water 7",
          "Egghead",
          "Arquipélago de Sabaody",
          "Enies Lobby",
          "Marineford",
          "Dressrosa",
          "Ilha Whole Cake",
          "País de Wano"
         ],
         "xaxis": "x2",
         "y": [
          1,
          1,
          2,
          2,
          2,
          2,
          2,
          2,
          2,
          3,
          3,
          3,
          5,
          5,
          7,
          8,
          10,
          10,
          15,
          31,
          36,
          41,
          96
         ],
         "yaxis": "y2"
        }
       ],
       "layout": {
        "annotations": [
         {
          "font": {
           "size": 16
          },
          "showarrow": false,
          "text": "Arcos com episódios igual ou abaixo do 1º Quartil",
          "x": 0.5,
          "xanchor": "center",
          "xref": "paper",
          "y": 1,
          "yanchor": "bottom",
          "yref": "paper"
         },
         {
          "font": {
           "size": 16
          },
          "showarrow": false,
          "text": "Arcos com episódios igual ou acima do 3º Quartil",
          "x": 0.5,
          "xanchor": "center",
          "xref": "paper",
          "y": 0.325,
          "yanchor": "bottom",
          "yref": "paper"
         }
        ],
        "height": 900,
        "showlegend": false,
        "template": {
         "data": {
          "bar": [
           {
            "error_x": {
             "color": "#2a3f5f"
            },
            "error_y": {
             "color": "#2a3f5f"
            },
            "marker": {
             "line": {
              "color": "#E5ECF6",
              "width": 0.5
             },
             "pattern": {
              "fillmode": "overlay",
              "size": 10,
              "solidity": 0.2
             }
            },
            "type": "bar"
           }
          ],
          "barpolar": [
           {
            "marker": {
             "line": {
              "color": "#E5ECF6",
              "width": 0.5
             },
             "pattern": {
              "fillmode": "overlay",
              "size": 10,
              "solidity": 0.2
             }
            },
            "type": "barpolar"
           }
          ],
          "carpet": [
           {
            "aaxis": {
             "endlinecolor": "#2a3f5f",
             "gridcolor": "white",
             "linecolor": "white",
             "minorgridcolor": "white",
             "startlinecolor": "#2a3f5f"
            },
            "baxis": {
             "endlinecolor": "#2a3f5f",
             "gridcolor": "white",
             "linecolor": "white",
             "minorgridcolor": "white",
             "startlinecolor": "#2a3f5f"
            },
            "type": "carpet"
           }
          ],
          "choropleth": [
           {
            "colorbar": {
             "outlinewidth": 0,
             "ticks": ""
            },
            "type": "choropleth"
           }
          ],
          "contour": [
           {
            "colorbar": {
             "outlinewidth": 0,
             "ticks": ""
            },
            "colorscale": [
             [
              0,
              "#0d0887"
             ],
             [
              0.1111111111111111,
              "#46039f"
             ],
             [
              0.2222222222222222,
              "#7201a8"
             ],
             [
              0.3333333333333333,
              "#9c179e"
             ],
             [
              0.4444444444444444,
              "#bd3786"
             ],
             [
              0.5555555555555556,
              "#d8576b"
             ],
             [
              0.6666666666666666,
              "#ed7953"
             ],
             [
              0.7777777777777778,
              "#fb9f3a"
             ],
             [
              0.8888888888888888,
              "#fdca26"
             ],
             [
              1,
              "#f0f921"
             ]
            ],
            "type": "contour"
           }
          ],
          "contourcarpet": [
           {
            "colorbar": {
             "outlinewidth": 0,
             "ticks": ""
            },
            "type": "contourcarpet"
           }
          ],
          "heatmap": [
           {
            "colorbar": {
             "outlinewidth": 0,
             "ticks": ""
            },
            "colorscale": [
             [
              0,
              "#0d0887"
             ],
             [
              0.1111111111111111,
              "#46039f"
             ],
             [
              0.2222222222222222,
              "#7201a8"
             ],
             [
              0.3333333333333333,
              "#9c179e"
             ],
             [
              0.4444444444444444,
              "#bd3786"
             ],
             [
              0.5555555555555556,
              "#d8576b"
             ],
             [
              0.6666666666666666,
              "#ed7953"
             ],
             [
              0.7777777777777778,
              "#fb9f3a"
             ],
             [
              0.8888888888888888,
              "#fdca26"
             ],
             [
              1,
              "#f0f921"
             ]
            ],
            "type": "heatmap"
           }
          ],
          "heatmapgl": [
           {
            "colorbar": {
             "outlinewidth": 0,
             "ticks": ""
            },
            "colorscale": [
             [
              0,
              "#0d0887"
             ],
             [
              0.1111111111111111,
              "#46039f"
             ],
             [
              0.2222222222222222,
              "#7201a8"
             ],
             [
              0.3333333333333333,
              "#9c179e"
             ],
             [
              0.4444444444444444,
              "#bd3786"
             ],
             [
              0.5555555555555556,
              "#d8576b"
             ],
             [
              0.6666666666666666,
              "#ed7953"
             ],
             [
              0.7777777777777778,
              "#fb9f3a"
             ],
             [
              0.8888888888888888,
              "#fdca26"
             ],
             [
              1,
              "#f0f921"
             ]
            ],
            "type": "heatmapgl"
           }
          ],
          "histogram": [
           {
            "marker": {
             "pattern": {
              "fillmode": "overlay",
              "size": 10,
              "solidity": 0.2
             }
            },
            "type": "histogram"
           }
          ],
          "histogram2d": [
           {
            "colorbar": {
             "outlinewidth": 0,
             "ticks": ""
            },
            "colorscale": [
             [
              0,
              "#0d0887"
             ],
             [
              0.1111111111111111,
              "#46039f"
             ],
             [
              0.2222222222222222,
              "#7201a8"
             ],
             [
              0.3333333333333333,
              "#9c179e"
             ],
             [
              0.4444444444444444,
              "#bd3786"
             ],
             [
              0.5555555555555556,
              "#d8576b"
             ],
             [
              0.6666666666666666,
              "#ed7953"
             ],
             [
              0.7777777777777778,
              "#fb9f3a"
             ],
             [
              0.8888888888888888,
              "#fdca26"
             ],
             [
              1,
              "#f0f921"
             ]
            ],
            "type": "histogram2d"
           }
          ],
          "histogram2dcontour": [
           {
            "colorbar": {
             "outlinewidth": 0,
             "ticks": ""
            },
            "colorscale": [
             [
              0,
              "#0d0887"
             ],
             [
              0.1111111111111111,
              "#46039f"
             ],
             [
              0.2222222222222222,
              "#7201a8"
             ],
             [
              0.3333333333333333,
              "#9c179e"
             ],
             [
              0.4444444444444444,
              "#bd3786"
             ],
             [
              0.5555555555555556,
              "#d8576b"
             ],
             [
              0.6666666666666666,
              "#ed7953"
             ],
             [
              0.7777777777777778,
              "#fb9f3a"
             ],
             [
              0.8888888888888888,
              "#fdca26"
             ],
             [
              1,
              "#f0f921"
             ]
            ],
            "type": "histogram2dcontour"
           }
          ],
          "mesh3d": [
           {
            "colorbar": {
             "outlinewidth": 0,
             "ticks": ""
            },
            "type": "mesh3d"
           }
          ],
          "parcoords": [
           {
            "line": {
             "colorbar": {
              "outlinewidth": 0,
              "ticks": ""
             }
            },
            "type": "parcoords"
           }
          ],
          "pie": [
           {
            "automargin": true,
            "type": "pie"
           }
          ],
          "scatter": [
           {
            "fillpattern": {
             "fillmode": "overlay",
             "size": 10,
             "solidity": 0.2
            },
            "type": "scatter"
           }
          ],
          "scatter3d": [
           {
            "line": {
             "colorbar": {
              "outlinewidth": 0,
              "ticks": ""
             }
            },
            "marker": {
             "colorbar": {
              "outlinewidth": 0,
              "ticks": ""
             }
            },
            "type": "scatter3d"
           }
          ],
          "scattercarpet": [
           {
            "marker": {
             "colorbar": {
              "outlinewidth": 0,
              "ticks": ""
             }
            },
            "type": "scattercarpet"
           }
          ],
          "scattergeo": [
           {
            "marker": {
             "colorbar": {
              "outlinewidth": 0,
              "ticks": ""
             }
            },
            "type": "scattergeo"
           }
          ],
          "scattergl": [
           {
            "marker": {
             "colorbar": {
              "outlinewidth": 0,
              "ticks": ""
             }
            },
            "type": "scattergl"
           }
          ],
          "scattermapbox": [
           {
            "marker": {
             "colorbar": {
              "outlinewidth": 0,
              "ticks": ""
             }
            },
            "type": "scattermapbox"
           }
          ],
          "scatterpolar": [
           {
            "marker": {
             "colorbar": {
              "outlinewidth": 0,
              "ticks": ""
             }
            },
            "type": "scatterpolar"
           }
          ],
          "scatterpolargl": [
           {
            "marker": {
             "colorbar": {
              "outlinewidth": 0,
              "ticks": ""
             }
            },
            "type": "scatterpolargl"
           }
          ],
          "scatterternary": [
           {
            "marker": {
             "colorbar": {
              "outlinewidth": 0,
              "ticks": ""
             }
            },
            "type": "scatterternary"
           }
          ],
          "surface": [
           {
            "colorbar": {
             "outlinewidth": 0,
             "ticks": ""
            },
            "colorscale": [
             [
              0,
              "#0d0887"
             ],
             [
              0.1111111111111111,
              "#46039f"
             ],
             [
              0.2222222222222222,
              "#7201a8"
             ],
             [
              0.3333333333333333,
              "#9c179e"
             ],
             [
              0.4444444444444444,
              "#bd3786"
             ],
             [
              0.5555555555555556,
              "#d8576b"
             ],
             [
              0.6666666666666666,
              "#ed7953"
             ],
             [
              0.7777777777777778,
              "#fb9f3a"
             ],
             [
              0.8888888888888888,
              "#fdca26"
             ],
             [
              1,
              "#f0f921"
             ]
            ],
            "type": "surface"
           }
          ],
          "table": [
           {
            "cells": {
             "fill": {
              "color": "#EBF0F8"
             },
             "line": {
              "color": "white"
             }
            },
            "header": {
             "fill": {
              "color": "#C8D4E3"
             },
             "line": {
              "color": "white"
             }
            },
            "type": "table"
           }
          ]
         },
         "layout": {
          "annotationdefaults": {
           "arrowcolor": "#2a3f5f",
           "arrowhead": 0,
           "arrowwidth": 1
          },
          "autotypenumbers": "strict",
          "coloraxis": {
           "colorbar": {
            "outlinewidth": 0,
            "ticks": ""
           }
          },
          "colorscale": {
           "diverging": [
            [
             0,
             "#8e0152"
            ],
            [
             0.1,
             "#c51b7d"
            ],
            [
             0.2,
             "#de77ae"
            ],
            [
             0.3,
             "#f1b6da"
            ],
            [
             0.4,
             "#fde0ef"
            ],
            [
             0.5,
             "#f7f7f7"
            ],
            [
             0.6,
             "#e6f5d0"
            ],
            [
             0.7,
             "#b8e186"
            ],
            [
             0.8,
             "#7fbc41"
            ],
            [
             0.9,
             "#4d9221"
            ],
            [
             1,
             "#276419"
            ]
           ],
           "sequential": [
            [
             0,
             "#0d0887"
            ],
            [
             0.1111111111111111,
             "#46039f"
            ],
            [
             0.2222222222222222,
             "#7201a8"
            ],
            [
             0.3333333333333333,
             "#9c179e"
            ],
            [
             0.4444444444444444,
             "#bd3786"
            ],
            [
             0.5555555555555556,
             "#d8576b"
            ],
            [
             0.6666666666666666,
             "#ed7953"
            ],
            [
             0.7777777777777778,
             "#fb9f3a"
            ],
            [
             0.8888888888888888,
             "#fdca26"
            ],
            [
             1,
             "#f0f921"
            ]
           ],
           "sequentialminus": [
            [
             0,
             "#0d0887"
            ],
            [
             0.1111111111111111,
             "#46039f"
            ],
            [
             0.2222222222222222,
             "#7201a8"
            ],
            [
             0.3333333333333333,
             "#9c179e"
            ],
            [
             0.4444444444444444,
             "#bd3786"
            ],
            [
             0.5555555555555556,
             "#d8576b"
            ],
            [
             0.6666666666666666,
             "#ed7953"
            ],
            [
             0.7777777777777778,
             "#fb9f3a"
            ],
            [
             0.8888888888888888,
             "#fdca26"
            ],
            [
             1,
             "#f0f921"
            ]
           ]
          },
          "colorway": [
           "#636efa",
           "#EF553B",
           "#00cc96",
           "#ab63fa",
           "#FFA15A",
           "#19d3f3",
           "#FF6692",
           "#B6E880",
           "#FF97FF",
           "#FECB52"
          ],
          "font": {
           "color": "#2a3f5f"
          },
          "geo": {
           "bgcolor": "white",
           "lakecolor": "white",
           "landcolor": "#E5ECF6",
           "showlakes": true,
           "showland": true,
           "subunitcolor": "white"
          },
          "hoverlabel": {
           "align": "left"
          },
          "hovermode": "closest",
          "mapbox": {
           "style": "light"
          },
          "paper_bgcolor": "white",
          "plot_bgcolor": "#E5ECF6",
          "polar": {
           "angularaxis": {
            "gridcolor": "white",
            "linecolor": "white",
            "ticks": ""
           },
           "bgcolor": "#E5ECF6",
           "radialaxis": {
            "gridcolor": "white",
            "linecolor": "white",
            "ticks": ""
           }
          },
          "scene": {
           "xaxis": {
            "backgroundcolor": "#E5ECF6",
            "gridcolor": "white",
            "gridwidth": 2,
            "linecolor": "white",
            "showbackground": true,
            "ticks": "",
            "zerolinecolor": "white"
           },
           "yaxis": {
            "backgroundcolor": "#E5ECF6",
            "gridcolor": "white",
            "gridwidth": 2,
            "linecolor": "white",
            "showbackground": true,
            "ticks": "",
            "zerolinecolor": "white"
           },
           "zaxis": {
            "backgroundcolor": "#E5ECF6",
            "gridcolor": "white",
            "gridwidth": 2,
            "linecolor": "white",
            "showbackground": true,
            "ticks": "",
            "zerolinecolor": "white"
           }
          },
          "shapedefaults": {
           "line": {
            "color": "#2a3f5f"
           }
          },
          "ternary": {
           "aaxis": {
            "gridcolor": "white",
            "linecolor": "white",
            "ticks": ""
           },
           "baxis": {
            "gridcolor": "white",
            "linecolor": "white",
            "ticks": ""
           },
           "bgcolor": "#E5ECF6",
           "caxis": {
            "gridcolor": "white",
            "linecolor": "white",
            "ticks": ""
           }
          },
          "title": {
           "x": 0.05
          },
          "xaxis": {
           "automargin": true,
           "gridcolor": "white",
           "linecolor": "white",
           "ticks": "",
           "title": {
            "standoff": 15
           },
           "zerolinecolor": "white",
           "zerolinewidth": 2
          },
          "yaxis": {
           "automargin": true,
           "gridcolor": "white",
           "linecolor": "white",
           "ticks": "",
           "title": {
            "standoff": 15
           },
           "zerolinecolor": "white",
           "zerolinewidth": 2
          }
         }
        },
        "width": 1100,
        "xaxis": {
         "anchor": "y",
         "domain": [
          0,
          1
         ],
         "title": {
          "text": "Arcos"
         }
        },
        "xaxis2": {
         "anchor": "y2",
         "domain": [
          0,
          1
         ],
         "title": {
          "text": "Arcos"
         }
        },
        "yaxis": {
         "anchor": "x",
         "domain": [
          0.675,
          1
         ],
         "title": {
          "text": "Qtd de episódios"
         }
        },
        "yaxis2": {
         "anchor": "x2",
         "domain": [
          0,
          0.325
         ],
         "title": {
          "text": "Qtd de episódios"
         }
        }
       }
      }
     },
     "metadata": {},
     "output_type": "display_data"
    }
   ],
   "source": [
    "avaliacao_q1 = df['Avaliação'].quantile(0.25)\n",
    "eps_menor_igual_a_q1 = df[df['Avaliação'] <= avaliacao_q1].groupby('Arco')['Episódio'].count().sort_values()\n",
    "\n",
    "avaliacao_q3 = df['Avaliação'].quantile(0.75)\n",
    "eps_menor_igual_a_q3 = df[df['Avaliação'] >= avaliacao_q3].groupby('Arco')['Episódio'].count().sort_values()\n",
    "\n",
    "fig = sp.make_subplots(rows=2, cols=1, subplot_titles=['Arcos com episódios igual ou abaixo do 1º Quartil', 'Arcos com episódios igual ou acima do 3º Quartil'], vertical_spacing=0.35)\n",
    "\n",
    "fig.add_trace(go.Bar(x=eps_menor_igual_a_q1.index, y=eps_menor_igual_a_q1.values), row=1, col=1)\n",
    "fig.update_xaxes(title_text=\"Arcos\", row=1, col=1)\n",
    "fig.update_yaxes(title_text=\"Qtd de episódios\", row=1, col=1)\n",
    "\n",
    "fig.add_trace(go.Bar(x=eps_menor_igual_a_q3.index, y=eps_menor_igual_a_q3.values), row=2, col=1)\n",
    "fig.update_xaxes(title_text=\"Arcos\", row=2, col=1)\n",
    "fig.update_yaxes(title_text=\"Qtd de episódios\", row=2, col=1)\n",
    "\n",
    "fig.update_layout(height=900, width=1100, showlegend=False)\n",
    "fig.show()"
   ]
  },
  {
   "cell_type": "markdown",
   "metadata": {},
   "source": [
    "- Os arcos com maior quantidade de episódios com avaliação abaixo do 1º quartil (7.5) foram, principalmente: Ilha dos Homens-Peixe (30 episódios), País de Wano e Punk Hazard (ambos com 22 episódios).\n",
    "- Enquanto isso, os arcos com maior quantidade de episódios com avaliação acima do 3º quartil foram, principalmente: País de Wano com 96 episódios (49.5% do arco), Ilha Whole Cake com 41 episódios (43% do arco), Dressrosa com 36 episódios (30% do arco) e Marineford com 31 episódios (94% do arco).\n",
    "- País de Wano está destacado em ambos provavelmente por conta do tamanho do arco, sugerindo episódios com menor e relevância, mas também muitos com grande relevância.  "
   ]
  },
  {
   "cell_type": "code",
   "execution_count": 400,
   "metadata": {},
   "outputs": [
    {
     "data": {
      "application/vnd.plotly.v1+json": {
       "config": {
        "plotlyServerURL": "https://plot.ly"
       },
       "data": [
        {
         "mode": "markers",
         "type": "scatter",
         "x": [
          8.4,
          8.3,
          8,
          8.3,
          7.4,
          7.6,
          7.5,
          7.7,
          7.1,
          7.3,
          7.3,
          7.6,
          7.5,
          7.6,
          7.4,
          7.6,
          8,
          6.8,
          8.9,
          7.6,
          7.6,
          7.5,
          7.8,
          9.1,
          7.5,
          8.7,
          7.5,
          7.6,
          7.9,
          8.3,
          7.6,
          7.7,
          7.8,
          7.4,
          8.1,
          8.9,
          9.2,
          8.2,
          8,
          8,
          8.1,
          8,
          8.6,
          7.9,
          7.7,
          6.3,
          6.2,
          7.9,
          8,
          7.4,
          6.9,
          8.2,
          8.4,
          7,
          6.7,
          6.6,
          6.5,
          6.6,
          6.9,
          7,
          7.5,
          7.6,
          7.5,
          7.6,
          8.1,
          8,
          7.8,
          6.6,
          6.8,
          7.1,
          7.3,
          7.2,
          7.4,
          7.6,
          7.6,
          7.6,
          7.5,
          7.2,
          7.5,
          7.6,
          7.5,
          7.6,
          8,
          7.9,
          8.4,
          9.3,
          8,
          7.7,
          7.7,
          8.8,
          7.9,
          7.6,
          7.2,
          8.9,
          8.2,
          7.3,
          7.2,
          6.9,
          6.9,
          7.4,
          6.7,
          7,
          7.3,
          7.8,
          7.8,
          8.1,
          8.1,
          8.2,
          8.4,
          9.1,
          7.8,
          8,
          7.7,
          7.8,
          8,
          7.9,
          7.8,
          7.7,
          9.1,
          7.9,
          8.3,
          8.8,
          8.1,
          8,
          8.9,
          9.4,
          8.1,
          8,
          9.1,
          8.5,
          7,
          6.5,
          6.7,
          6.7,
          6.9,
          6.5,
          6.6,
          6.5,
          6.8,
          6.7,
          6.6,
          6.6,
          7.4,
          7.2,
          7.5,
          8,
          7.7,
          7.6,
          7.4,
          8.1,
          9.3,
          8.2,
          7.7,
          7.4,
          7.4,
          7.5,
          7.4,
          7.6,
          7.6,
          7.6,
          7.4,
          7.7,
          7.7,
          7.8,
          7.6,
          7.3,
          7.5,
          7.4,
          7.8,
          7.9,
          7.6,
          7.7,
          7.8,
          7.9,
          7.7,
          7.9,
          7.8,
          8.3,
          8.1,
          8.9,
          8.2,
          9,
          9,
          8,
          8.7,
          7.8,
          7.7,
          7.8,
          9,
          8,
          8.1,
          9.2,
          8,
          7.9,
          7.7,
          7.1,
          7.3,
          7.1,
          7.4,
          7.5,
          7.3,
          7.3,
          7,
          7.2,
          7.2,
          7.5,
          7.2,
          7,
          7.1,
          7.1,
          7.3,
          7.6,
          7.1,
          7.4,
          6.8,
          6.7,
          6.9,
          7,
          7.3,
          7.2,
          7,
          6.7,
          7,
          6.8,
          6.5,
          6.6,
          8.9,
          8.2,
          7.6,
          7.7,
          7.6,
          7.7,
          7.9,
          9.1,
          9.3,
          9.5,
          7.7,
          8,
          7.8,
          8,
          7.6,
          8.1,
          9.1,
          8.9,
          8.4,
          7.9,
          8.1,
          8.1,
          8.2,
          8.9,
          8.9,
          7.9,
          7.7,
          8,
          7.9,
          7.8,
          8,
          8,
          7.3,
          7.7,
          7.9,
          8.3,
          7.9,
          8,
          7.8,
          7.8,
          7.9,
          7.9,
          8,
          8.6,
          8.1,
          8.3,
          9.2,
          9.4,
          9,
          9,
          9.3,
          9.5,
          6.3,
          5.9,
          6.1,
          5.9,
          5.9,
          8,
          7.8,
          7.9,
          7.9,
          8.1,
          8,
          8.5,
          5.8,
          5.6,
          7.9,
          8,
          7.7,
          8,
          8.1,
          8.5,
          8.2,
          9.2,
          9.2,
          8.1,
          5.8,
          9,
          8.9,
          8,
          8.2,
          9,
          9.5,
          9.1,
          9,
          9.5,
          8.7,
          9.1,
          8.3,
          9.1,
          6.3,
          6.1,
          6.7,
          8,
          7.9,
          8,
          8.4,
          8.1,
          9.2,
          6.7,
          6.3,
          6.4,
          6.5,
          6.4,
          6.5,
          6.5,
          6.3,
          6.6,
          6.6,
          5.2,
          8.2,
          8,
          7.6,
          7.5,
          7.7,
          7.6,
          7.6,
          7.5,
          7,
          7.5,
          7.4,
          7.7,
          7.8,
          7.7,
          7.5,
          7.6,
          8.2,
          7.2,
          7.7,
          7.6,
          7.8,
          7.6,
          7.5,
          7.7,
          7.8,
          8.1,
          7.6,
          7.2,
          7.5,
          7.5,
          8,
          7.9,
          8,
          7.9,
          8.1,
          9,
          8.9,
          8.4,
          8.2,
          9.1,
          9.7,
          8.2,
          8.1,
          9.2,
          8.2,
          6.3,
          6.3,
          7.2,
          7.5,
          7.5,
          7.3,
          7.6,
          7.7,
          7.6,
          8,
          8.3,
          8.1,
          8.1,
          8.2,
          9.6,
          9.3,
          9,
          9,
          9.3,
          9,
          9.1,
          9.1,
          9.5,
          9.7,
          5.6,
          5.6,
          7.6,
          7.7,
          7.7,
          7.8,
          8.3,
          8.9,
          8.6,
          8.9,
          8.5,
          8.5,
          7.5,
          7,
          7.4,
          7.5,
          7.8,
          7.9,
          7.8,
          7.8,
          6.5,
          6.3,
          6.2,
          6.3,
          7.8,
          7.6,
          7.9,
          8,
          7.6,
          8.1,
          8.3,
          8,
          7.5,
          7.3,
          7.7,
          7.9,
          8.1,
          8.1,
          8.2,
          7.8,
          8.3,
          9,
          7.9,
          8.1,
          8.9,
          9.3,
          7.9,
          7,
          6.3,
          7.1,
          7.1,
          6.6,
          6.7,
          9.1,
          9.2,
          9.2,
          9.1,
          9.2,
          9.1,
          9.3,
          9.4,
          9.3,
          9.2,
          9,
          9.2,
          9.1,
          9.3,
          9.2,
          9.5,
          9.3,
          9.2,
          9.1,
          9.3,
          9.2,
          9.5,
          9.5,
          9.7,
          9.7,
          9.7,
          9.7,
          9.4,
          9.2,
          9.5,
          9.5,
          8.5,
          8.6,
          5.3,
          8.3,
          8.1,
          7.8,
          8,
          7.8,
          7.4,
          7.4,
          7.7,
          7.9,
          7.8,
          8.9,
          8.2,
          9.1,
          7.9,
          7.9,
          7.3,
          7.6,
          7.5,
          8.1,
          7.9,
          7.4,
          7.2,
          7.8,
          9.1,
          9.1,
          8.2,
          7.9,
          7.8,
          9.2,
          8.6,
          7.9,
          7.5,
          7.5,
          7.5,
          7.6,
          7.3,
          7.3,
          7.3,
          7.1,
          7.2,
          7.3,
          7.5,
          7.3,
          7.7,
          7.7,
          7.6,
          7.5,
          7.7,
          8.1,
          5.5,
          8.2,
          7.5,
          7.3,
          7.9,
          7.6,
          7.5,
          7.6,
          7,
          7,
          7.2,
          8.2,
          9,
          7.9,
          7.6,
          7.5,
          7.3,
          7.1,
          7.3,
          7.3,
          7,
          6.9,
          7.2,
          7.7,
          7.6,
          7.6,
          7.8,
          7.4,
          7.9,
          7.9,
          7.6,
          7.4,
          7.4,
          6.9,
          6.8,
          6.7,
          6.6,
          7.5,
          7.4,
          7.2,
          7.3,
          7.2,
          7.5,
          7.8,
          7.9,
          8.3,
          7.8,
          7.3,
          5.5,
          7.4,
          7.1,
          7.6,
          7.8,
          7.4,
          7.3,
          7.9,
          7.5,
          7.6,
          7.2,
          7.2,
          7.3,
          7.8,
          7.5,
          7.4,
          7.5,
          8,
          7.6,
          7.7,
          7.4,
          7.3,
          7.5,
          8.9,
          7.9,
          7.9,
          9.2,
          8.2,
          7.6,
          7.9,
          7.9,
          7.9,
          7.8,
          7.6,
          8.3,
          8,
          6.7,
          6.7,
          6.7,
          8.1,
          7.8,
          8,
          7.7,
          7.7,
          7.9,
          7.8,
          7.9,
          7.8,
          8,
          7.7,
          7.4,
          7.5,
          8.4,
          8.4,
          7.9,
          7.5,
          9,
          7.6,
          7.6,
          8.4,
          7.9,
          8,
          7.6,
          7.4,
          7.9,
          8.4,
          7.7,
          7.6,
          7.9,
          8.2,
          8.2,
          9.1,
          9.1,
          9.4,
          7.6,
          7.5,
          7.8,
          7.9,
          7.8,
          7.6,
          8,
          7.7,
          7.8,
          7.7,
          7.9,
          8.4,
          8.6,
          9.3,
          9.3,
          8.5,
          8.6,
          8.1,
          7.7,
          8,
          7.8,
          8,
          7.9,
          8.6,
          7.7,
          7.8,
          7.5,
          7.5,
          8.2,
          7.3,
          7.2,
          8,
          8.4,
          9.1,
          9.3,
          9.1,
          8.9,
          9.2,
          9.2,
          9.3,
          9.2,
          9.3,
          9.6,
          8.3,
          9.1,
          7.8,
          8.1,
          7.8,
          8.3,
          8.6,
          7.6,
          9.1,
          8.8,
          8.6,
          8.3,
          9.4,
          9,
          9.1,
          9.2,
          9.4,
          9,
          9.3,
          9.6,
          8.8,
          9.2,
          8.7,
          7.8,
          7.6,
          8,
          9.4,
          7.7,
          8.4,
          9,
          8.7,
          9,
          9.1,
          7.8,
          7.7,
          7.7,
          9.1,
          9.2,
          9.1,
          8.7,
          6.4,
          6.2,
          6.3,
          6.4,
          7.1,
          7.7,
          7.4,
          7.5,
          7.5,
          7.5,
          7.5,
          7.4,
          7.8,
          7.8,
          7.6,
          7.9,
          8.4,
          8.5,
          7.2,
          7.7,
          9.1,
          7.8,
          8.7,
          9.1,
          8.1,
          7.9,
          7.9,
          8,
          7.2,
          7.5,
          7,
          7.1,
          7.7,
          6.8,
          6.8,
          7,
          7.6,
          7.6,
          8.4,
          7.9,
          7.7,
          7.5,
          7.8,
          7.7,
          7.3,
          7.4,
          8.1,
          7.9,
          7.6,
          7.6,
          7.7,
          8.2,
          8.5,
          8.5,
          8.2,
          8.9,
          9.1,
          9.4,
          8.9,
          9.1,
          8.4,
          9.7,
          9,
          9,
          8.9,
          8.9,
          8.6,
          8.5,
          8.9,
          9,
          9.5,
          9.1,
          9.1,
          8.9,
          8.5,
          7.9,
          8.3,
          8.8,
          9.4,
          8.9,
          7.8,
          8.4,
          7.9,
          8.7,
          7.9,
          9.2,
          9.5,
          9.1,
          9.1,
          8,
          8.9,
          8.1,
          8.4,
          7.9,
          8.6,
          8.6,
          7.8,
          7.7,
          7.8,
          7.8,
          7.8,
          7.8,
          9.3,
          9.3,
          8.9,
          9,
          8.5,
          8.9,
          8.6,
          9.3,
          9,
          7.9,
          7.5,
          7.9,
          7.7,
          9.1,
          8.1,
          9,
          8.6,
          8,
          8.5,
          9.4,
          9.2,
          9.6,
          9.5,
          8.9,
          9,
          8.6,
          8.6,
          9,
          9.4,
          8.6,
          7.7,
          7.8,
          6.3,
          6.5,
          6.6,
          6.6,
          7.4,
          7.2,
          8.3,
          7.7,
          7.6,
          7.3,
          8.7,
          9.3,
          9,
          9.1,
          5.9,
          5.8,
          8.9,
          8.6,
          9.1,
          8.6,
          7.6,
          7.5,
          7.1,
          7,
          8.5,
          8.6,
          6,
          8.6,
          9,
          8.9,
          8.2,
          9.2,
          9.2,
          9.5,
          9.5,
          8.9,
          9,
          8,
          8.1,
          7.5,
          6.9,
          8,
          8.2,
          8.9,
          9,
          7.7,
          7.5,
          7.5,
          7.4,
          7.6,
          7.5,
          7.8,
          8.9,
          9.3,
          8,
          7.8,
          7.7,
          7.6,
          8.8,
          9.3,
          9.1,
          8.9,
          8.6,
          7.7,
          8.6,
          7.7,
          7.6,
          7.7,
          9,
          8.9,
          8.2,
          8.7,
          8.6,
          8.4,
          8.1,
          9,
          9.5,
          9.5,
          9,
          8.9,
          8.9,
          9.2,
          9.3,
          9.2,
          9.5,
          9.4,
          9.4,
          9.5,
          9.4,
          9.1,
          9.1,
          9.5,
          9.3,
          9.5,
          9.3,
          9.2,
          9.4,
          9.4,
          9,
          9.1,
          9.1,
          9.5,
          8.4,
          7.5,
          7.8,
          7.7,
          8.1,
          8.9,
          8.2,
          8.9,
          7.9,
          8.9,
          7.8,
          9,
          9.5,
          9.2,
          8.9,
          8.9,
          8.2,
          9.4,
          8.9,
          7.7,
          8.2,
          8.7,
          6.6,
          6.6,
          6.5,
          7.2,
          7,
          8,
          7.7,
          7.6,
          8.8,
          8.3,
          9.7,
          9.2,
          9.5,
          9,
          7.7,
          7.6,
          7.7,
          7.7,
          7.5,
          7.7,
          9,
          9.5,
          9.5,
          9.5,
          7,
          7.5,
          7.7,
          7.6,
          9.5,
          7.7,
          7.7,
          9,
          7.2,
          8.3,
          7.7,
          8.4,
          7.3,
          7.1,
          8.1,
          9.3,
          9.1,
          9.2,
          7.8,
          9,
          9.3,
          8.1,
          9.1,
          8,
          7.9,
          8.8,
          7.4,
          8.7,
          8.5,
          7.6,
          8.3,
          9.1,
          9.5,
          9.7,
          8.1,
          8.7,
          8.3,
          9.5,
          9.2,
          8.9,
          9.2,
          9.2,
          9.1,
          9.3,
          7.7,
          9.4,
          9,
          9.4,
          8.5,
          8.6,
          8.3,
          8.8,
          8.8,
          8.2,
          7.9,
          7.9,
          8.5,
          9.1,
          9.3,
          9.2,
          9.7,
          8.4,
          8.3,
          8.5,
          9.5,
          8.1,
          8,
          9,
          8.8,
          8.6,
          8.6,
          9.7,
          9.6,
          8.1,
          8.6,
          8.7,
          8.3,
          7.8,
          7.4,
          7.4,
          9.2,
          8.1,
          8.4,
          9.7,
          8.3,
          9.7,
          9.7,
          8.3,
          8.2
         ],
         "y": [
          28293,
          13351,
          5868,
          4744,
          3120,
          3042,
          2830,
          2691,
          2324,
          2209,
          2111,
          2068,
          2024,
          1975,
          1939,
          1919,
          2093,
          1933,
          3927,
          1863,
          1790,
          1747,
          1826,
          4733,
          1741,
          2923,
          1700,
          1676,
          1747,
          2294,
          1621,
          1583,
          1697,
          1682,
          1932,
          3675,
          4797,
          1973,
          1802,
          1775,
          1747,
          1718,
          2616,
          1752,
          1697,
          1618,
          1598,
          1684,
          1856,
          1589,
          1374,
          1745,
          2121,
          1143,
          1138,
          1116,
          1101,
          1080,
          1068,
          1063,
          1147,
          1276,
          1261,
          1183,
          1341,
          1285,
          1283,
          1190,
          1195,
          1167,
          1184,
          1140,
          1149,
          1172,
          1148,
          1140,
          1151,
          1139,
          1118,
          1125,
          1098,
          1103,
          1474,
          1198,
          1873,
          3761,
          1323,
          1126,
          1125,
          2528,
          1186,
          1110,
          1095,
          3005,
          1299,
          1090,
          1057,
          986,
          960,
          1068,
          967,
          907,
          963,
          1074,
          974,
          1029,
          1019,
          1049,
          1547,
          3110,
          1004,
          1061,
          979,
          1025,
          1080,
          1034,
          1049,
          988,
          3214,
          1018,
          1471,
          2210,
          1096,
          1053,
          2666,
          4476,
          1054,
          1061,
          3067,
          1899,
          831,
          827,
          802,
          800,
          771,
          792,
          784,
          784,
          761,
          764,
          754,
          757,
          763,
          893,
          923,
          1058,
          954,
          880,
          855,
          972,
          3700,
          1042,
          868,
          859,
          842,
          835,
          830,
          843,
          828,
          824,
          827,
          825,
          818,
          850,
          811,
          825,
          807,
          832,
          874,
          893,
          840,
          844,
          860,
          881,
          842,
          881,
          865,
          1298,
          947,
          2405,
          927,
          2454,
          2401,
          894,
          1923,
          828,
          859,
          874,
          2453,
          867,
          870,
          2801,
          921,
          848,
          807,
          702,
          693,
          691,
          712,
          692,
          667,
          667,
          675,
          663,
          666,
          687,
          770,
          753,
          747,
          756,
          751,
          751,
          705,
          697,
          731,
          723,
          758,
          746,
          734,
          715,
          711,
          627,
          617,
          617,
          644,
          651,
          2510,
          1094,
          827,
          790,
          791,
          786,
          816,
          2599,
          3363,
          5467,
          782,
          818,
          773,
          837,
          770,
          841,
          2576,
          2337,
          1341,
          820,
          840,
          837,
          851,
          2341,
          1938,
          785,
          768,
          843,
          788,
          752,
          806,
          841,
          734,
          736,
          775,
          1112,
          776,
          799,
          761,
          739,
          765,
          772,
          799,
          1756,
          902,
          1038,
          2827,
          3678,
          2545,
          2545,
          3139,
          13539,
          657,
          640,
          652,
          633,
          636,
          852,
          747,
          758,
          750,
          778,
          790,
          1488,
          680,
          749,
          783,
          802,
          730,
          836,
          800,
          1382,
          995,
          2782,
          2688,
          886,
          697,
          2545,
          2445,
          820,
          1098,
          2517,
          15122,
          2609,
          2463,
          13999,
          1723,
          2685,
          1045,
          2771,
          611,
          650,
          601,
          814,
          750,
          769,
          953,
          915,
          2773,
          561,
          573,
          567,
          556,
          537,
          534,
          530,
          534,
          522,
          526,
          763,
          877,
          778,
          687,
          675,
          688,
          673,
          650,
          673,
          649,
          642,
          645,
          656,
          664,
          654,
          652,
          659,
          774,
          656,
          649,
          644,
          668,
          642,
          668,
          655,
          664,
          751,
          647,
          643,
          644,
          645,
          694,
          694,
          710,
          697,
          702,
          2301,
          2081,
          1131,
          888,
          2484,
          39203,
          871,
          799,
          2792,
          819,
          550,
          548,
          604,
          701,
          670,
          656,
          666,
          672,
          763,
          949,
          1104,
          1011,
          977,
          1117,
          10072,
          3338,
          2426,
          2442,
          3225,
          2437,
          2474,
          2556,
          4733,
          33820,
          672,
          655,
          788,
          830,
          833,
          935,
          1395,
          2251,
          1515,
          2070,
          1446,
          1475,
          660,
          651,
          632,
          639,
          684,
          707,
          657,
          652,
          513,
          514,
          510,
          511,
          650,
          630,
          704,
          780,
          666,
          895,
          986,
          965,
          666,
          681,
          698,
          680,
          734,
          724,
          767,
          665,
          1005,
          2539,
          845,
          878,
          2046,
          2956,
          761,
          623,
          686,
          614,
          622,
          633,
          710,
          2805,
          2798,
          3074,
          2703,
          2827,
          2648,
          2946,
          3649,
          3093,
          2765,
          2715,
          2713,
          2581,
          2734,
          2653,
          4547,
          2941,
          2734,
          2587,
          3067,
          2707,
          4674,
          5264,
          31159,
          38033,
          32122,
          37079,
          4083,
          3137,
          5136,
          5094,
          1783,
          1868,
          748,
          1508,
          1225,
          1088,
          1248,
          1067,
          891,
          872,
          952,
          952,
          986,
          2183,
          1200,
          2461,
          983,
          945,
          712,
          715,
          699,
          851,
          795,
          694,
          684,
          716,
          2487,
          2668,
          1103,
          946,
          854,
          2648,
          1490,
          1029,
          627,
          602,
          593,
          600,
          608,
          772,
          590,
          593,
          592,
          583,
          585,
          577,
          597,
          591,
          582,
          583,
          602,
          894,
          549,
          981,
          603,
          606,
          648,
          584,
          575,
          581,
          589,
          578,
          586,
          881,
          2254,
          659,
          597,
          583,
          575,
          577,
          589,
          582,
          582,
          592,
          584,
          752,
          703,
          718,
          818,
          672,
          718,
          689,
          591,
          597,
          591,
          492,
          486,
          481,
          508,
          619,
          589,
          578,
          576,
          564,
          560,
          617,
          602,
          766,
          587,
          555,
          614,
          565,
          554,
          557,
          594,
          556,
          548,
          580,
          550,
          562,
          557,
          548,
          545,
          558,
          547,
          563,
          553,
          601,
          562,
          551,
          557,
          550,
          651,
          2094,
          747,
          724,
          2320,
          778,
          560,
          578,
          625,
          603,
          573,
          567,
          1032,
          854,
          485,
          516,
          518,
          962,
          802,
          866,
          787,
          772,
          802,
          808,
          825,
          782,
          839,
          773,
          640,
          665,
          1264,
          1289,
          819,
          646,
          2227,
          651,
          638,
          1261,
          824,
          834,
          637,
          629,
          789,
          1323,
          760,
          627,
          790,
          999,
          1017,
          2229,
          2211,
          3518,
          661,
          628,
          756,
          811,
          761,
          752,
          845,
          749,
          780,
          745,
          934,
          1252,
          1380,
          2748,
          2823,
          1365,
          1366,
          908,
          661,
          860,
          777,
          853,
          829,
          1385,
          780,
          824,
          649,
          643,
          1136,
          648,
          641,
          860,
          1369,
          2335,
          3003,
          2335,
          2180,
          2431,
          2392,
          2812,
          2428,
          2845,
          7473,
          1308,
          2296,
          842,
          908,
          823,
          1243,
          1508,
          800,
          2331,
          1699,
          1527,
          1320,
          3694,
          2174,
          2137,
          2314,
          3570,
          2144,
          3565,
          14816,
          1819,
          2660,
          1611,
          835,
          682,
          881,
          3171,
          808,
          1305,
          2226,
          1536,
          2179,
          2478,
          826,
          782,
          739,
          2172,
          2304,
          2277,
          1579,
          517,
          521,
          512,
          504,
          561,
          568,
          573,
          554,
          585,
          561,
          556,
          560,
          717,
          718,
          622,
          780,
          1278,
          1387,
          604,
          740,
          2281,
          795,
          1585,
          2164,
          661,
          619,
          608,
          689,
          545,
          550,
          623,
          600,
          572,
          519,
          527,
          506,
          790,
          789,
          1513,
          845,
          788,
          752,
          791,
          785,
          637,
          628,
          831,
          824,
          754,
          747,
          786,
          1235,
          1499,
          1471,
          1288,
          2018,
          2303,
          3773,
          2159,
          2485,
          1826,
          27403,
          2373,
          2249,
          2159,
          2119,
          1537,
          1510,
          2099,
          2186,
          4336,
          2352,
          2326,
          2168,
          1573,
          1013,
          1360,
          1654,
          3296,
          2092,
          975,
          1449,
          901,
          1680,
          899,
          2317,
          3779,
          2154,
          2106,
          955,
          2019,
          915,
          1398,
          855,
          1474,
          1480,
          848,
          806,
          844,
          838,
          841,
          866,
          3103,
          2996,
          2136,
          2196,
          1543,
          2076,
          1551,
          2905,
          2139,
          975,
          692,
          810,
          715,
          2401,
          911,
          2143,
          1524,
          1014,
          1644,
          3997,
          2896,
          13424,
          6578,
          2203,
          2269,
          1589,
          1606,
          2254,
          3744,
          1793,
          701,
          702,
          842,
          748,
          726,
          749,
          840,
          730,
          1416,
          757,
          780,
          785,
          1889,
          4008,
          2453,
          2529,
          679,
          684,
          2211,
          1706,
          2722,
          1661,
          927,
          902,
          844,
          804,
          1630,
          1613,
          698,
          1654,
          2314,
          2251,
          1402,
          3175,
          3093,
          6636,
          5990,
          2425,
          2748,
          1342,
          1352,
          1035,
          1035,
          1484,
          1463,
          2517,
          2545,
          1013,
          862,
          852,
          853,
          928,
          862,
          1050,
          2531,
          3761,
          1104,
          1036,
          1004,
          873,
          2286,
          3626,
          2557,
          2385,
          1725,
          1079,
          1809,
          1039,
          1030,
          1056,
          2611,
          2524,
          1637,
          1924,
          2021,
          1897,
          1803,
          2939,
          10921,
          8036,
          4568,
          4844,
          4402,
          4816,
          5831,
          4620,
          9896,
          6550,
          6284,
          25429,
          5630,
          4156,
          4148,
          6675,
          5072,
          10818,
          4870,
          4231,
          5807,
          5869,
          3870,
          3678,
          3957,
          14354,
          2744,
          2203,
          2014,
          1882,
          2140,
          3083,
          2173,
          3088,
          2065,
          3156,
          1961,
          3588,
          6750,
          3610,
          3287,
          3271,
          2324,
          6696,
          3698,
          2331,
          3079,
          4419,
          5907,
          4870,
          3656,
          3100,
          2767,
          2477,
          2111,
          2056,
          3378,
          2885,
          61811,
          5610,
          17661,
          3913,
          1719,
          1782,
          1707,
          1478,
          1407,
          1491,
          3280,
          4982,
          5532,
          6699,
          1362,
          1281,
          1407,
          1358,
          5748,
          1322,
          1324,
          3045,
          1270,
          1690,
          1407,
          1639,
          1286,
          1375,
          1547,
          3941,
          3081,
          7723,
          3439,
          5607,
          7442,
          3181,
          5733,
          2893,
          3436,
          3175,
          2665,
          3192,
          3203,
          2683,
          3398,
          6628,
          25834,
          76272,
          4534,
          4716,
          4277,
          13627,
          10138,
          8423,
          12144,
          22754,
          71979,
          30903,
          12441,
          53265,
          16328,
          19983,
          5314,
          3816,
          3315,
          4262,
          5280,
          5295,
          2970,
          2839,
          2959,
          3786,
          4168,
          4840,
          22869,
          3905,
          3027,
          2939,
          10362,
          2561,
          2399,
          3081,
          2506,
          2174,
          2219,
          21931,
          8459,
          1756,
          2092,
          2027,
          1815,
          2154,
          1908,
          1902,
          3384,
          1891,
          1642,
          15339,
          1873,
          7681,
          3891,
          1196,
          736
         ]
        }
       ],
       "layout": {
        "height": 400,
        "template": {
         "data": {
          "bar": [
           {
            "error_x": {
             "color": "#2a3f5f"
            },
            "error_y": {
             "color": "#2a3f5f"
            },
            "marker": {
             "line": {
              "color": "#E5ECF6",
              "width": 0.5
             },
             "pattern": {
              "fillmode": "overlay",
              "size": 10,
              "solidity": 0.2
             }
            },
            "type": "bar"
           }
          ],
          "barpolar": [
           {
            "marker": {
             "line": {
              "color": "#E5ECF6",
              "width": 0.5
             },
             "pattern": {
              "fillmode": "overlay",
              "size": 10,
              "solidity": 0.2
             }
            },
            "type": "barpolar"
           }
          ],
          "carpet": [
           {
            "aaxis": {
             "endlinecolor": "#2a3f5f",
             "gridcolor": "white",
             "linecolor": "white",
             "minorgridcolor": "white",
             "startlinecolor": "#2a3f5f"
            },
            "baxis": {
             "endlinecolor": "#2a3f5f",
             "gridcolor": "white",
             "linecolor": "white",
             "minorgridcolor": "white",
             "startlinecolor": "#2a3f5f"
            },
            "type": "carpet"
           }
          ],
          "choropleth": [
           {
            "colorbar": {
             "outlinewidth": 0,
             "ticks": ""
            },
            "type": "choropleth"
           }
          ],
          "contour": [
           {
            "colorbar": {
             "outlinewidth": 0,
             "ticks": ""
            },
            "colorscale": [
             [
              0,
              "#0d0887"
             ],
             [
              0.1111111111111111,
              "#46039f"
             ],
             [
              0.2222222222222222,
              "#7201a8"
             ],
             [
              0.3333333333333333,
              "#9c179e"
             ],
             [
              0.4444444444444444,
              "#bd3786"
             ],
             [
              0.5555555555555556,
              "#d8576b"
             ],
             [
              0.6666666666666666,
              "#ed7953"
             ],
             [
              0.7777777777777778,
              "#fb9f3a"
             ],
             [
              0.8888888888888888,
              "#fdca26"
             ],
             [
              1,
              "#f0f921"
             ]
            ],
            "type": "contour"
           }
          ],
          "contourcarpet": [
           {
            "colorbar": {
             "outlinewidth": 0,
             "ticks": ""
            },
            "type": "contourcarpet"
           }
          ],
          "heatmap": [
           {
            "colorbar": {
             "outlinewidth": 0,
             "ticks": ""
            },
            "colorscale": [
             [
              0,
              "#0d0887"
             ],
             [
              0.1111111111111111,
              "#46039f"
             ],
             [
              0.2222222222222222,
              "#7201a8"
             ],
             [
              0.3333333333333333,
              "#9c179e"
             ],
             [
              0.4444444444444444,
              "#bd3786"
             ],
             [
              0.5555555555555556,
              "#d8576b"
             ],
             [
              0.6666666666666666,
              "#ed7953"
             ],
             [
              0.7777777777777778,
              "#fb9f3a"
             ],
             [
              0.8888888888888888,
              "#fdca26"
             ],
             [
              1,
              "#f0f921"
             ]
            ],
            "type": "heatmap"
           }
          ],
          "heatmapgl": [
           {
            "colorbar": {
             "outlinewidth": 0,
             "ticks": ""
            },
            "colorscale": [
             [
              0,
              "#0d0887"
             ],
             [
              0.1111111111111111,
              "#46039f"
             ],
             [
              0.2222222222222222,
              "#7201a8"
             ],
             [
              0.3333333333333333,
              "#9c179e"
             ],
             [
              0.4444444444444444,
              "#bd3786"
             ],
             [
              0.5555555555555556,
              "#d8576b"
             ],
             [
              0.6666666666666666,
              "#ed7953"
             ],
             [
              0.7777777777777778,
              "#fb9f3a"
             ],
             [
              0.8888888888888888,
              "#fdca26"
             ],
             [
              1,
              "#f0f921"
             ]
            ],
            "type": "heatmapgl"
           }
          ],
          "histogram": [
           {
            "marker": {
             "pattern": {
              "fillmode": "overlay",
              "size": 10,
              "solidity": 0.2
             }
            },
            "type": "histogram"
           }
          ],
          "histogram2d": [
           {
            "colorbar": {
             "outlinewidth": 0,
             "ticks": ""
            },
            "colorscale": [
             [
              0,
              "#0d0887"
             ],
             [
              0.1111111111111111,
              "#46039f"
             ],
             [
              0.2222222222222222,
              "#7201a8"
             ],
             [
              0.3333333333333333,
              "#9c179e"
             ],
             [
              0.4444444444444444,
              "#bd3786"
             ],
             [
              0.5555555555555556,
              "#d8576b"
             ],
             [
              0.6666666666666666,
              "#ed7953"
             ],
             [
              0.7777777777777778,
              "#fb9f3a"
             ],
             [
              0.8888888888888888,
              "#fdca26"
             ],
             [
              1,
              "#f0f921"
             ]
            ],
            "type": "histogram2d"
           }
          ],
          "histogram2dcontour": [
           {
            "colorbar": {
             "outlinewidth": 0,
             "ticks": ""
            },
            "colorscale": [
             [
              0,
              "#0d0887"
             ],
             [
              0.1111111111111111,
              "#46039f"
             ],
             [
              0.2222222222222222,
              "#7201a8"
             ],
             [
              0.3333333333333333,
              "#9c179e"
             ],
             [
              0.4444444444444444,
              "#bd3786"
             ],
             [
              0.5555555555555556,
              "#d8576b"
             ],
             [
              0.6666666666666666,
              "#ed7953"
             ],
             [
              0.7777777777777778,
              "#fb9f3a"
             ],
             [
              0.8888888888888888,
              "#fdca26"
             ],
             [
              1,
              "#f0f921"
             ]
            ],
            "type": "histogram2dcontour"
           }
          ],
          "mesh3d": [
           {
            "colorbar": {
             "outlinewidth": 0,
             "ticks": ""
            },
            "type": "mesh3d"
           }
          ],
          "parcoords": [
           {
            "line": {
             "colorbar": {
              "outlinewidth": 0,
              "ticks": ""
             }
            },
            "type": "parcoords"
           }
          ],
          "pie": [
           {
            "automargin": true,
            "type": "pie"
           }
          ],
          "scatter": [
           {
            "fillpattern": {
             "fillmode": "overlay",
             "size": 10,
             "solidity": 0.2
            },
            "type": "scatter"
           }
          ],
          "scatter3d": [
           {
            "line": {
             "colorbar": {
              "outlinewidth": 0,
              "ticks": ""
             }
            },
            "marker": {
             "colorbar": {
              "outlinewidth": 0,
              "ticks": ""
             }
            },
            "type": "scatter3d"
           }
          ],
          "scattercarpet": [
           {
            "marker": {
             "colorbar": {
              "outlinewidth": 0,
              "ticks": ""
             }
            },
            "type": "scattercarpet"
           }
          ],
          "scattergeo": [
           {
            "marker": {
             "colorbar": {
              "outlinewidth": 0,
              "ticks": ""
             }
            },
            "type": "scattergeo"
           }
          ],
          "scattergl": [
           {
            "marker": {
             "colorbar": {
              "outlinewidth": 0,
              "ticks": ""
             }
            },
            "type": "scattergl"
           }
          ],
          "scattermapbox": [
           {
            "marker": {
             "colorbar": {
              "outlinewidth": 0,
              "ticks": ""
             }
            },
            "type": "scattermapbox"
           }
          ],
          "scatterpolar": [
           {
            "marker": {
             "colorbar": {
              "outlinewidth": 0,
              "ticks": ""
             }
            },
            "type": "scatterpolar"
           }
          ],
          "scatterpolargl": [
           {
            "marker": {
             "colorbar": {
              "outlinewidth": 0,
              "ticks": ""
             }
            },
            "type": "scatterpolargl"
           }
          ],
          "scatterternary": [
           {
            "marker": {
             "colorbar": {
              "outlinewidth": 0,
              "ticks": ""
             }
            },
            "type": "scatterternary"
           }
          ],
          "surface": [
           {
            "colorbar": {
             "outlinewidth": 0,
             "ticks": ""
            },
            "colorscale": [
             [
              0,
              "#0d0887"
             ],
             [
              0.1111111111111111,
              "#46039f"
             ],
             [
              0.2222222222222222,
              "#7201a8"
             ],
             [
              0.3333333333333333,
              "#9c179e"
             ],
             [
              0.4444444444444444,
              "#bd3786"
             ],
             [
              0.5555555555555556,
              "#d8576b"
             ],
             [
              0.6666666666666666,
              "#ed7953"
             ],
             [
              0.7777777777777778,
              "#fb9f3a"
             ],
             [
              0.8888888888888888,
              "#fdca26"
             ],
             [
              1,
              "#f0f921"
             ]
            ],
            "type": "surface"
           }
          ],
          "table": [
           {
            "cells": {
             "fill": {
              "color": "#EBF0F8"
             },
             "line": {
              "color": "white"
             }
            },
            "header": {
             "fill": {
              "color": "#C8D4E3"
             },
             "line": {
              "color": "white"
             }
            },
            "type": "table"
           }
          ]
         },
         "layout": {
          "annotationdefaults": {
           "arrowcolor": "#2a3f5f",
           "arrowhead": 0,
           "arrowwidth": 1
          },
          "autotypenumbers": "strict",
          "coloraxis": {
           "colorbar": {
            "outlinewidth": 0,
            "ticks": ""
           }
          },
          "colorscale": {
           "diverging": [
            [
             0,
             "#8e0152"
            ],
            [
             0.1,
             "#c51b7d"
            ],
            [
             0.2,
             "#de77ae"
            ],
            [
             0.3,
             "#f1b6da"
            ],
            [
             0.4,
             "#fde0ef"
            ],
            [
             0.5,
             "#f7f7f7"
            ],
            [
             0.6,
             "#e6f5d0"
            ],
            [
             0.7,
             "#b8e186"
            ],
            [
             0.8,
             "#7fbc41"
            ],
            [
             0.9,
             "#4d9221"
            ],
            [
             1,
             "#276419"
            ]
           ],
           "sequential": [
            [
             0,
             "#0d0887"
            ],
            [
             0.1111111111111111,
             "#46039f"
            ],
            [
             0.2222222222222222,
             "#7201a8"
            ],
            [
             0.3333333333333333,
             "#9c179e"
            ],
            [
             0.4444444444444444,
             "#bd3786"
            ],
            [
             0.5555555555555556,
             "#d8576b"
            ],
            [
             0.6666666666666666,
             "#ed7953"
            ],
            [
             0.7777777777777778,
             "#fb9f3a"
            ],
            [
             0.8888888888888888,
             "#fdca26"
            ],
            [
             1,
             "#f0f921"
            ]
           ],
           "sequentialminus": [
            [
             0,
             "#0d0887"
            ],
            [
             0.1111111111111111,
             "#46039f"
            ],
            [
             0.2222222222222222,
             "#7201a8"
            ],
            [
             0.3333333333333333,
             "#9c179e"
            ],
            [
             0.4444444444444444,
             "#bd3786"
            ],
            [
             0.5555555555555556,
             "#d8576b"
            ],
            [
             0.6666666666666666,
             "#ed7953"
            ],
            [
             0.7777777777777778,
             "#fb9f3a"
            ],
            [
             0.8888888888888888,
             "#fdca26"
            ],
            [
             1,
             "#f0f921"
            ]
           ]
          },
          "colorway": [
           "#636efa",
           "#EF553B",
           "#00cc96",
           "#ab63fa",
           "#FFA15A",
           "#19d3f3",
           "#FF6692",
           "#B6E880",
           "#FF97FF",
           "#FECB52"
          ],
          "font": {
           "color": "#2a3f5f"
          },
          "geo": {
           "bgcolor": "white",
           "lakecolor": "white",
           "landcolor": "#E5ECF6",
           "showlakes": true,
           "showland": true,
           "subunitcolor": "white"
          },
          "hoverlabel": {
           "align": "left"
          },
          "hovermode": "closest",
          "mapbox": {
           "style": "light"
          },
          "paper_bgcolor": "white",
          "plot_bgcolor": "#E5ECF6",
          "polar": {
           "angularaxis": {
            "gridcolor": "white",
            "linecolor": "white",
            "ticks": ""
           },
           "bgcolor": "#E5ECF6",
           "radialaxis": {
            "gridcolor": "white",
            "linecolor": "white",
            "ticks": ""
           }
          },
          "scene": {
           "xaxis": {
            "backgroundcolor": "#E5ECF6",
            "gridcolor": "white",
            "gridwidth": 2,
            "linecolor": "white",
            "showbackground": true,
            "ticks": "",
            "zerolinecolor": "white"
           },
           "yaxis": {
            "backgroundcolor": "#E5ECF6",
            "gridcolor": "white",
            "gridwidth": 2,
            "linecolor": "white",
            "showbackground": true,
            "ticks": "",
            "zerolinecolor": "white"
           },
           "zaxis": {
            "backgroundcolor": "#E5ECF6",
            "gridcolor": "white",
            "gridwidth": 2,
            "linecolor": "white",
            "showbackground": true,
            "ticks": "",
            "zerolinecolor": "white"
           }
          },
          "shapedefaults": {
           "line": {
            "color": "#2a3f5f"
           }
          },
          "ternary": {
           "aaxis": {
            "gridcolor": "white",
            "linecolor": "white",
            "ticks": ""
           },
           "baxis": {
            "gridcolor": "white",
            "linecolor": "white",
            "ticks": ""
           },
           "bgcolor": "#E5ECF6",
           "caxis": {
            "gridcolor": "white",
            "linecolor": "white",
            "ticks": ""
           }
          },
          "title": {
           "x": 0.05
          },
          "xaxis": {
           "automargin": true,
           "gridcolor": "white",
           "linecolor": "white",
           "ticks": "",
           "title": {
            "standoff": 15
           },
           "zerolinecolor": "white",
           "zerolinewidth": 2
          },
          "yaxis": {
           "automargin": true,
           "gridcolor": "white",
           "linecolor": "white",
           "ticks": "",
           "title": {
            "standoff": 15
           },
           "zerolinecolor": "white",
           "zerolinewidth": 2
          }
         }
        },
        "title": {
         "text": "Votos x Avaliação"
        },
        "width": 900,
        "xaxis": {
         "title": {
          "text": "Avaliações"
         }
        },
        "yaxis": {
         "title": {
          "text": "Votos"
         }
        }
       }
      }
     },
     "metadata": {},
     "output_type": "display_data"
    }
   ],
   "source": [
    "fig = go.Figure()\n",
    "\n",
    "fig.add_trace(go.Scatter(x=df['Avaliação'], y=df['Votos'], mode= 'markers'))\n",
    "fig.update_layout(title=\"Votos x Avaliação\", xaxis_title=\"Avaliações\", yaxis_title=\"Votos\", height=400, width=900)\n",
    "fig.show()"
   ]
  },
  {
   "cell_type": "markdown",
   "metadata": {},
   "source": [
    "- Não parece haver uma correlação fortemente considerável entre a quantidade de votos e a avaliação média. "
   ]
  },
  {
   "cell_type": "markdown",
   "metadata": {},
   "source": [
    "#### A quantidade de votos no anime aumentou ou diminuiu com o tempo? A avaliação média melhorou ou piorou?"
   ]
  },
  {
   "cell_type": "code",
   "execution_count": 401,
   "metadata": {},
   "outputs": [
    {
     "data": {
      "application/vnd.plotly.v1+json": {
       "config": {
        "plotlyServerURL": "https://plot.ly"
       },
       "data": [
        {
         "mode": "lines",
         "type": "scatter",
         "x": [
          "1999-10-20T00:00:00",
          "1999-11-17T00:00:00",
          "1999-11-24T00:00:00",
          "1999-12-08T00:00:00",
          "1999-12-15T00:00:00",
          "1999-12-29T00:00:00",
          "1999-12-29T00:00:00",
          "1999-12-29T00:00:00",
          "2000-01-12T00:00:00",
          "2000-01-19T00:00:00",
          "2000-01-26T00:00:00",
          "2000-02-02T00:00:00",
          "2000-02-09T00:00:00",
          "2000-02-16T00:00:00",
          "2000-02-23T00:00:00",
          "2000-03-01T00:00:00",
          "2000-03-08T00:00:00",
          "2000-03-15T00:00:00",
          "2000-03-22T00:00:00",
          "2000-04-12T00:00:00",
          "2000-04-12T00:00:00",
          "2000-04-26T00:00:00",
          "2000-05-03T00:00:00",
          "2000-05-10T00:00:00",
          "2000-05-17T00:00:00",
          "2000-05-24T00:00:00",
          "2000-05-31T00:00:00",
          "2000-06-07T00:00:00",
          "2000-06-21T00:00:00",
          "2000-06-28T00:00:00",
          "2000-07-12T00:00:00",
          "2000-07-19T00:00:00",
          "2000-07-19T00:00:00",
          "2000-07-26T00:00:00",
          "2000-08-02T00:00:00",
          "2000-08-09T00:00:00",
          "2000-08-16T00:00:00",
          "2000-08-23T00:00:00",
          "2000-08-30T00:00:00",
          "2000-09-06T00:00:00",
          "2000-09-13T00:00:00",
          "2000-09-27T00:00:00",
          "2000-09-27T00:00:00",
          "2000-10-11T00:00:00",
          "2000-10-25T00:00:00",
          "2000-11-01T00:00:00",
          "2000-11-08T00:00:00",
          "2000-11-22T00:00:00",
          "2000-11-22T00:00:00",
          "2000-11-29T00:00:00",
          "2000-12-06T00:00:00",
          "2000-12-13T00:00:00",
          "2001-01-10T00:00:00",
          "2001-01-17T00:00:00",
          "2001-01-24T00:00:00",
          "2001-01-31T00:00:00",
          "2001-02-07T00:00:00",
          "2001-02-21T00:00:00",
          "2001-02-21T00:00:00",
          "2001-02-28T00:00:00",
          "2001-03-07T00:00:00",
          "2001-03-21T00:00:00",
          "2001-03-21T00:00:00",
          "2001-04-15T00:00:00",
          "2001-04-15T00:00:00",
          "2001-04-22T00:00:00",
          "2001-04-29T00:00:00",
          "2001-05-13T00:00:00",
          "2001-05-20T00:00:00",
          "2001-05-27T00:00:00",
          "2001-06-03T00:00:00",
          "2001-06-17T00:00:00",
          "2001-06-24T00:00:00",
          "2001-07-15T00:00:00",
          "2001-08-12T00:00:00",
          "2001-08-19T00:00:00",
          "2001-08-19T00:00:00",
          "2001-08-26T00:00:00",
          "2001-09-02T00:00:00",
          "2001-09-09T00:00:00",
          "2001-09-16T00:00:00",
          "2001-10-07T00:00:00",
          "2001-10-07T00:00:00",
          "2001-10-21T00:00:00",
          "2001-10-28T00:00:00",
          "2001-11-04T00:00:00",
          "2001-11-11T00:00:00",
          "2001-11-18T00:00:00",
          "2001-11-25T00:00:00",
          "2001-12-02T00:00:00",
          "2001-12-09T00:00:00",
          "2001-12-09T00:00:00",
          "2001-12-16T00:00:00",
          "2001-12-23T00:00:00",
          "2002-01-06T00:00:00",
          "2002-01-13T00:00:00",
          "2002-01-20T00:00:00",
          "2002-01-27T00:00:00",
          "2002-02-03T00:00:00",
          "2002-02-10T00:00:00",
          "2002-02-17T00:00:00",
          "2002-02-24T00:00:00",
          "2002-03-03T00:00:00",
          "2002-03-10T00:00:00",
          "2002-03-17T00:00:00",
          "2002-03-24T00:00:00",
          "2002-04-14T00:00:00",
          "2002-04-21T00:00:00",
          "2002-04-28T00:00:00",
          "2002-05-05T00:00:00",
          "2002-05-12T00:00:00",
          "2002-05-19T00:00:00",
          "2002-06-02T00:00:00",
          "2002-06-09T00:00:00",
          "2002-06-16T00:00:00",
          "2002-06-23T00:00:00",
          "2002-06-30T00:00:00",
          "2002-07-14T00:00:00",
          "2002-07-21T00:00:00",
          "2002-08-04T00:00:00",
          "2002-08-11T00:00:00",
          "2002-08-18T00:00:00",
          "2002-08-25T00:00:00",
          "2002-09-01T00:00:00",
          "2002-09-08T00:00:00",
          "2002-09-15T00:00:00",
          "2002-10-06T00:00:00",
          "2002-10-06T00:00:00",
          "2002-10-20T00:00:00",
          "2002-10-27T00:00:00",
          "2002-11-03T00:00:00",
          "2002-11-10T00:00:00",
          "2002-11-17T00:00:00",
          "2002-11-24T00:00:00",
          "2002-12-01T00:00:00",
          "2002-12-08T00:00:00",
          "2002-12-15T00:00:00",
          "2002-12-22T00:00:00",
          "2003-01-08T00:00:00",
          "2003-01-12T00:00:00",
          "2003-01-19T00:00:00",
          "2003-01-26T00:00:00",
          "2003-02-02T00:00:00",
          "2003-02-09T00:00:00",
          "2003-02-16T00:00:00",
          "2003-02-23T00:00:00",
          "2003-03-09T00:00:00",
          "2003-03-16T00:00:00",
          "2003-03-23T00:00:00",
          "2003-04-13T00:00:00",
          "2003-04-20T00:00:00",
          "2003-04-27T00:00:00",
          "2003-05-04T00:00:00",
          "2003-05-11T00:00:00",
          "2003-05-18T00:00:00",
          "2003-06-08T00:00:00",
          "2003-06-15T00:00:00",
          "2003-06-22T00:00:00",
          "2003-07-06T00:00:00",
          "2003-07-13T00:00:00",
          "2003-07-20T00:00:00",
          "2003-08-03T00:00:00",
          "2003-08-10T00:00:00",
          "2003-08-17T00:00:00",
          "2003-08-24T00:00:00",
          "2003-09-07T00:00:00",
          "2003-09-21T00:00:00",
          "2003-10-12T00:00:00",
          "2003-10-19T00:00:00",
          "2003-10-19T00:00:00",
          "2003-10-26T00:00:00",
          "2003-11-02T00:00:00",
          "2003-11-09T00:00:00",
          "2003-11-16T00:00:00",
          "2003-12-21T00:00:00",
          "2004-01-11T00:00:00",
          "2004-01-18T00:00:00",
          "2004-01-25T00:00:00",
          "2004-02-01T00:00:00",
          "2004-02-08T00:00:00",
          "2004-02-15T00:00:00",
          "2004-02-22T00:00:00",
          "2004-02-29T00:00:00",
          "2004-03-07T00:00:00",
          "2004-03-14T00:00:00",
          "2004-03-21T00:00:00",
          "2004-03-28T00:00:00",
          "2004-03-28T00:00:00",
          "2004-04-07T00:00:00",
          "2004-04-25T00:00:00",
          "2004-05-02T00:00:00",
          "2004-05-09T00:00:00",
          "2004-05-23T00:00:00",
          "2004-06-06T00:00:00",
          "2004-06-13T00:00:00",
          "2004-06-20T00:00:00",
          "2004-07-04T00:00:00",
          "2004-07-11T00:00:00",
          "2004-07-18T00:00:00",
          "2004-08-08T00:00:00",
          "2004-09-05T00:00:00",
          "2004-09-12T00:00:00",
          "2004-09-19T00:00:00",
          "2004-10-03T00:00:00",
          "2004-10-03T00:00:00",
          "2004-10-10T00:00:00",
          "2004-10-31T00:00:00",
          "2004-11-07T00:00:00",
          "2004-11-14T00:00:00",
          "2004-11-21T00:00:00",
          "2004-11-28T00:00:00",
          "2004-12-05T00:00:00",
          "2004-12-12T00:00:00",
          "2004-12-19T00:00:00",
          "2005-01-09T00:00:00",
          "2005-01-09T00:00:00",
          "2005-01-16T00:00:00",
          "2005-01-23T00:00:00",
          "2005-01-30T00:00:00",
          "2005-02-06T00:00:00",
          "2005-02-13T00:00:00",
          "2005-02-20T00:00:00",
          "2005-02-27T00:00:00",
          "2005-03-06T00:00:00",
          "2005-03-13T00:00:00",
          "2005-03-20T00:00:00",
          "2005-03-27T00:00:00",
          "2005-03-27T00:00:00",
          "2005-04-17T00:00:00",
          "2005-04-24T00:00:00",
          "2005-05-01T00:00:00",
          "2005-05-15T00:00:00",
          "2005-05-22T00:00:00",
          "2005-06-05T00:00:00",
          "2005-06-12T00:00:00",
          "2005-06-19T00:00:00",
          "2005-07-03T00:00:00",
          "2005-07-10T00:00:00",
          "2005-07-31T00:00:00",
          "2005-08-07T00:00:00",
          "2005-08-14T00:00:00",
          "2005-08-21T00:00:00",
          "2005-09-04T00:00:00",
          "2005-09-11T00:00:00",
          "2005-09-18T00:00:00",
          "2005-10-23T00:00:00",
          "2005-10-30T00:00:00",
          "2005-11-06T00:00:00",
          "2005-11-13T00:00:00",
          "2005-11-20T00:00:00",
          "2005-11-20T00:00:00",
          "2005-12-04T00:00:00",
          "2005-12-11T00:00:00",
          "2006-01-22T00:00:00",
          "2006-01-29T00:00:00",
          "2006-02-05T00:00:00",
          "2006-02-26T00:00:00",
          "2006-03-05T00:00:00",
          "2006-03-12T00:00:00",
          "2006-03-19T00:00:00",
          "2006-04-02T00:00:00",
          "2006-04-16T00:00:00",
          "2006-04-30T00:00:00",
          "2006-05-21T00:00:00",
          "2006-06-04T00:00:00",
          "2006-06-11T00:00:00",
          "2006-06-18T00:00:00",
          "2006-06-25T00:00:00",
          "2006-06-25T00:00:00",
          "2006-07-02T00:00:00",
          "2006-07-09T00:00:00",
          "2006-07-23T00:00:00",
          "2006-07-30T00:00:00",
          "2006-08-06T00:00:00",
          "2006-08-13T00:00:00",
          "2006-09-10T00:00:00",
          "2006-09-24T00:00:00",
          "2006-09-24T00:00:00",
          "2006-10-01T00:00:00",
          "2006-10-08T00:00:00",
          "2006-10-15T00:00:00",
          "2006-10-22T00:00:00",
          "2006-10-29T00:00:00",
          "2006-11-05T00:00:00",
          "2006-11-12T00:00:00",
          "2006-11-19T00:00:00",
          "2006-11-26T00:00:00",
          "2006-12-03T00:00:00",
          "2006-12-10T00:00:00",
          "2006-12-17T00:00:00",
          "2006-12-24T00:00:00",
          "2007-01-07T00:00:00",
          "2007-01-14T00:00:00",
          "2007-01-21T00:00:00",
          "2007-01-28T00:00:00",
          "2007-02-04T00:00:00",
          "2007-02-11T00:00:00",
          "2007-02-25T00:00:00",
          "2007-03-04T00:00:00",
          "2007-03-11T00:00:00",
          "2007-03-18T00:00:00",
          "2007-03-25T00:00:00",
          "2007-04-01T00:00:00",
          "2007-04-08T00:00:00",
          "2007-04-15T00:00:00",
          "2007-04-22T00:00:00",
          "2007-04-29T00:00:00",
          "2007-05-06T00:00:00",
          "2007-05-13T00:00:00",
          "2007-05-20T00:00:00",
          "2007-05-27T00:00:00",
          "2007-06-03T00:00:00",
          "2007-06-10T00:00:00",
          "2007-06-17T00:00:00",
          "2007-06-24T00:00:00",
          "2007-07-01T00:00:00",
          "2007-07-08T00:00:00",
          "2007-07-15T00:00:00",
          "2007-07-22T00:00:00",
          "2007-08-19T00:00:00",
          "2007-08-26T00:00:00",
          "2007-09-02T00:00:00",
          "2007-09-09T00:00:00",
          "2007-09-16T00:00:00",
          "2007-09-23T00:00:00",
          "2007-10-14T00:00:00",
          "2007-10-21T00:00:00",
          "2007-10-28T00:00:00",
          "2007-11-04T00:00:00",
          "2007-11-11T00:00:00",
          "2007-11-18T00:00:00",
          "2007-11-25T00:00:00",
          "2007-12-02T00:00:00",
          "2007-12-09T00:00:00",
          "2007-12-16T00:00:00",
          "2007-12-23T00:00:00",
          "2008-01-06T00:00:00",
          "2008-01-13T00:00:00",
          "2008-01-20T00:00:00",
          "2008-01-27T00:00:00",
          "2008-02-03T00:00:00",
          "2008-02-10T00:00:00",
          "2008-02-17T00:00:00",
          "2008-02-24T00:00:00",
          "2008-03-02T00:00:00",
          "2008-03-09T00:00:00",
          "2008-03-16T00:00:00",
          "2008-03-23T00:00:00",
          "2008-03-30T00:00:00",
          "2008-04-20T00:00:00",
          "2008-04-27T00:00:00",
          "2008-05-04T00:00:00",
          "2008-05-11T00:00:00",
          "2008-05-18T00:00:00",
          "2008-05-25T00:00:00",
          "2008-06-01T00:00:00",
          "2008-06-08T00:00:00",
          "2008-06-15T00:00:00",
          "2008-06-22T00:00:00",
          "2008-06-29T00:00:00",
          "2008-07-06T00:00:00",
          "2008-07-13T00:00:00",
          "2008-07-20T00:00:00",
          "2008-08-03T00:00:00",
          "2008-08-10T00:00:00",
          "2008-08-17T00:00:00",
          "2008-08-23T00:00:00",
          "2008-08-30T00:00:00",
          "2008-09-07T00:00:00",
          "2008-09-14T00:00:00",
          "2008-09-21T00:00:00",
          "2008-09-28T00:00:00",
          "2008-10-05T00:00:00",
          "2008-10-12T00:00:00",
          "2008-10-19T00:00:00",
          "2008-11-09T00:00:00",
          "2008-11-16T00:00:00",
          "2008-11-23T00:00:00",
          "2008-11-30T00:00:00",
          "2008-12-07T00:00:00",
          "2008-12-14T00:00:00",
          "2008-12-21T00:00:00",
          "2008-12-28T00:00:00",
          "2009-01-11T00:00:00",
          "2009-01-18T00:00:00",
          "2009-01-25T00:00:00",
          "2009-02-01T00:00:00",
          "2009-02-08T00:00:00",
          "2009-02-15T00:00:00",
          "2009-02-22T00:00:00",
          "2009-03-01T00:00:00",
          "2009-03-08T00:00:00",
          "2009-03-15T00:00:00",
          "2009-03-22T00:00:00",
          "2009-03-29T00:00:00",
          "2009-04-12T00:00:00",
          "2009-04-19T00:00:00",
          "2009-04-26T00:00:00",
          "2009-05-03T00:00:00",
          "2009-05-10T00:00:00",
          "2009-05-17T00:00:00",
          "2009-05-24T00:00:00",
          "2009-05-31T00:00:00",
          "2009-06-07T00:00:00",
          "2009-06-14T00:00:00",
          "2009-06-21T00:00:00",
          "2009-06-28T00:00:00",
          "2009-07-05T00:00:00",
          "2009-07-12T00:00:00",
          "2009-07-19T00:00:00",
          "2009-08-02T00:00:00",
          "2009-08-09T00:00:00",
          "2009-08-16T00:00:00",
          "2009-08-23T00:00:00",
          "2009-08-30T00:00:00",
          "2009-09-06T00:00:00",
          "2009-09-13T00:00:00",
          "2009-09-20T00:00:00",
          "2009-09-27T00:00:00",
          "2009-10-04T00:00:00",
          "2009-10-11T00:00:00",
          "2009-10-18T00:00:00",
          "2009-10-25T00:00:00",
          "2009-11-01T00:00:00",
          "2009-11-08T00:00:00",
          "2009-11-15T00:00:00",
          "2009-11-22T00:00:00",
          "2009-11-29T00:00:00",
          "2009-12-06T00:00:00",
          "2009-12-13T00:00:00",
          "2009-12-20T00:00:00",
          "2009-12-27T00:00:00",
          "2010-01-10T00:00:00",
          "2010-01-17T00:00:00",
          "2010-01-24T00:00:00",
          "2010-01-31T00:00:00",
          "2010-02-07T00:00:00",
          "2010-02-14T00:00:00",
          "2010-02-21T00:00:00",
          "2010-02-28T00:00:00",
          "2010-03-07T00:00:00",
          "2010-03-14T00:00:00",
          "2010-03-21T00:00:00",
          "2010-03-28T00:00:00",
          "2010-04-04T00:00:00",
          "2010-04-11T00:00:00",
          "2010-04-18T00:00:00",
          "2010-04-25T00:00:00",
          "2010-05-02T00:00:00",
          "2010-05-09T00:00:00",
          "2010-05-16T00:00:00",
          "2010-05-23T00:00:00",
          "2010-05-30T00:00:00",
          "2010-06-06T00:00:00",
          "2010-06-13T00:00:00",
          "2010-06-20T00:00:00",
          "2010-06-27T00:00:00",
          "2010-07-11T00:00:00",
          "2010-07-18T00:00:00",
          "2010-08-01T00:00:00",
          "2010-08-08T00:00:00",
          "2010-08-15T00:00:00",
          "2010-08-22T00:00:00",
          "2010-08-29T00:00:00",
          "2010-09-05T00:00:00",
          "2010-09-12T00:00:00",
          "2010-09-19T00:00:00",
          "2010-09-26T00:00:00",
          "2010-10-03T00:00:00",
          "2010-10-10T00:00:00",
          "2010-10-17T00:00:00",
          "2010-10-24T00:00:00",
          "2010-10-31T00:00:00",
          "2010-11-07T00:00:00",
          "2010-11-14T00:00:00",
          "2010-11-21T00:00:00",
          "2010-11-28T00:00:00",
          "2010-12-05T00:00:00",
          "2010-12-12T00:00:00",
          "2010-12-19T00:00:00",
          "2010-12-26T00:00:00",
          "2011-01-09T00:00:00",
          "2011-01-16T00:00:00",
          "2011-01-23T00:00:00",
          "2011-01-30T00:00:00",
          "2011-02-06T00:00:00",
          "2011-02-13T00:00:00",
          "2011-02-20T00:00:00",
          "2011-03-06T00:00:00",
          "2011-03-20T00:00:00",
          "2011-03-27T00:00:00",
          "2011-04-03T00:00:00",
          "2011-04-10T00:00:00",
          "2011-04-17T00:00:00",
          "2011-04-24T00:00:00",
          "2011-05-01T00:00:00",
          "2011-05-08T00:00:00",
          "2011-05-15T00:00:00",
          "2011-05-22T00:00:00",
          "2011-05-29T00:00:00",
          "2011-06-05T00:00:00",
          "2011-06-12T00:00:00",
          "2011-06-19T00:00:00",
          "2011-06-26T00:00:00",
          "2011-07-03T00:00:00",
          "2011-07-10T00:00:00",
          "2011-07-17T00:00:00",
          "2011-07-31T00:00:00",
          "2011-08-07T00:00:00",
          "2011-08-14T00:00:00",
          "2011-08-21T00:00:00",
          "2011-08-28T00:00:00",
          "2011-09-04T00:00:00",
          "2011-09-11T00:00:00",
          "2011-09-18T00:00:00",
          "2011-09-25T00:00:00",
          "2011-10-02T00:00:00",
          "2011-10-09T00:00:00",
          "2011-10-16T00:00:00",
          "2011-10-23T00:00:00",
          "2011-10-30T00:00:00",
          "2011-11-06T00:00:00",
          "2011-11-13T00:00:00",
          "2011-11-20T00:00:00",
          "2011-11-27T00:00:00",
          "2011-12-04T00:00:00",
          "2011-12-11T00:00:00",
          "2011-12-18T00:00:00",
          "2011-12-25T00:00:00",
          "2012-01-08T00:00:00",
          "2012-01-15T00:00:00",
          "2012-01-22T00:00:00",
          "2012-01-29T00:00:00",
          "2012-02-05T00:00:00",
          "2012-02-12T00:00:00",
          "2012-02-19T00:00:00",
          "2012-02-26T00:00:00",
          "2012-03-04T00:00:00",
          "2012-03-18T00:00:00",
          "2012-03-25T00:00:00",
          "2012-04-01T00:00:00",
          "2012-04-08T00:00:00",
          "2012-04-15T00:00:00",
          "2012-04-22T00:00:00",
          "2012-04-29T00:00:00",
          "2012-05-06T00:00:00",
          "2012-05-13T00:00:00",
          "2012-05-20T00:00:00",
          "2012-05-27T00:00:00",
          "2012-06-01T00:00:00",
          "2012-06-10T00:00:00",
          "2012-06-17T00:00:00",
          "2012-06-24T00:00:00",
          "2012-07-01T00:00:00",
          "2012-07-08T00:00:00",
          "2012-07-15T00:00:00",
          "2012-07-29T00:00:00",
          "2012-08-05T00:00:00",
          "2012-08-12T00:00:00",
          "2012-08-19T00:00:00",
          "2012-08-26T00:00:00",
          "2012-09-02T00:00:00",
          "2012-09-09T00:00:00",
          "2012-09-16T00:00:00",
          "2012-09-23T00:00:00",
          "2012-09-30T00:00:00",
          "2012-10-07T00:00:00",
          "2012-10-14T00:00:00",
          "2012-10-21T00:00:00",
          "2012-11-28T00:00:00",
          "2012-11-04T00:00:00",
          "2012-11-11T00:00:00",
          "2012-11-18T00:00:00",
          "2012-11-25T00:00:00",
          "2012-12-02T00:00:00",
          "2012-12-09T00:00:00",
          "2012-12-16T00:00:00",
          "2012-12-23T00:00:00",
          "2013-01-08T00:00:00",
          "2013-01-13T00:00:00",
          "2013-01-20T00:00:00",
          "2013-01-27T00:00:00",
          "2013-02-03T00:00:00",
          "2013-02-10T00:00:00",
          "2013-02-17T00:00:00",
          "2013-03-03T00:00:00",
          "2013-03-17T00:00:00",
          "2013-03-24T00:00:00",
          "2013-03-31T00:00:00",
          "2013-04-07T00:00:00",
          "2013-04-14T00:00:00",
          "2013-04-21T00:00:00",
          "2013-04-28T00:00:00",
          "2013-05-05T00:00:00",
          "2013-05-12T00:00:00",
          "2013-05-19T00:00:00",
          "2013-05-26T00:00:00",
          "2013-06-02T00:00:00",
          "2013-06-09T00:00:00",
          "2013-06-16T00:00:00",
          "2013-06-23T00:00:00",
          "2013-06-30T00:00:00",
          "2013-07-07T00:00:00",
          "2013-07-14T00:00:00",
          "2013-07-21T00:00:00",
          "2013-07-28T00:00:00",
          "2013-08-11T00:00:00",
          "2013-08-18T00:00:00",
          "2013-08-25T00:00:00",
          "2013-09-01T00:00:00",
          "2013-09-08T00:00:00",
          "2013-09-15T00:00:00",
          "2013-09-22T00:00:00",
          "2013-09-29T00:00:00",
          "2013-10-06T00:00:00",
          "2013-10-13T00:00:00",
          "2013-10-20T00:00:00",
          "2013-10-27T00:00:00",
          "2013-11-03T00:00:00",
          "2013-11-10T00:00:00",
          "2013-11-17T00:00:00",
          "2013-11-24T00:00:00",
          "2013-12-01T00:00:00",
          "2013-12-08T00:00:00",
          "2013-12-15T00:00:00",
          "2013-12-22T00:00:00",
          "2014-01-05T00:00:00",
          "2014-01-12T00:00:00",
          "2014-01-19T00:00:00",
          "2014-01-26T00:00:00",
          "2014-02-02T00:00:00",
          "2014-02-09T00:00:00",
          "2014-02-16T00:00:00",
          "2014-02-23T00:00:00",
          "2014-03-02T00:00:00",
          "2014-03-16T00:00:00",
          "2014-03-23T00:00:00",
          "2014-03-30T00:00:00",
          "2014-04-06T00:00:00",
          "2014-04-13T00:00:00",
          "2014-04-20T00:00:00",
          "2014-04-27T00:00:00",
          "2014-05-04T00:00:00",
          "2014-05-11T00:00:00",
          "2014-05-18T00:00:00",
          "2014-05-25T00:00:00",
          "2014-06-01T00:00:00",
          "2014-06-08T00:00:00",
          "2014-06-15T00:00:00",
          "2014-06-22T00:00:00",
          "2014-06-29T00:00:00",
          "2014-07-06T00:00:00",
          "2014-07-13T00:00:00",
          "2014-07-20T00:00:00",
          "2014-08-03T00:00:00",
          "2014-08-10T00:00:00",
          "2014-08-17T00:00:00",
          "2014-08-24T00:00:00",
          "2014-08-31T00:00:00",
          "2014-09-07T00:00:00",
          "2014-09-14T00:00:00",
          "2014-09-21T00:00:00",
          "2014-09-28T00:00:00",
          "2014-10-05T00:00:00",
          "2014-10-12T00:00:00",
          "2014-10-19T00:00:00",
          "2014-10-26T00:00:00",
          "2014-11-02T00:00:00",
          "2014-11-09T00:00:00",
          "2014-11-16T00:00:00",
          "2014-11-23T00:00:00",
          "2014-11-30T00:00:00",
          "2014-12-07T00:00:00",
          "2014-12-14T00:00:00",
          "2014-12-21T00:00:00",
          "2014-12-28T00:00:00",
          "2015-01-11T00:00:00",
          "2015-01-18T00:00:00",
          "2015-01-25T00:00:00",
          "2015-02-01T00:00:00",
          "2015-02-08T00:00:00",
          "2015-02-15T00:00:00",
          "2015-03-01T00:00:00",
          "2015-03-15T00:00:00",
          "2015-03-22T00:00:00",
          "2015-03-29T00:00:00",
          "2015-04-05T00:00:00",
          "2015-04-12T00:00:00",
          "2015-04-19T00:00:00",
          "2015-04-26T00:00:00",
          "2015-05-03T00:00:00",
          "2015-05-10T00:00:00",
          "2015-05-17T00:00:00",
          "2015-05-24T00:00:00",
          "2015-05-31T00:00:00",
          "2015-06-07T00:00:00",
          "2015-06-14T00:00:00",
          "2015-06-21T00:00:00",
          "2015-06-28T00:00:00",
          "2015-07-05T00:00:00",
          "2015-07-12T00:00:00",
          "2015-07-19T00:00:00",
          "2015-08-02T00:00:00",
          "2015-08-09T00:00:00",
          "2015-08-16T00:00:00",
          "2015-08-23T00:00:00",
          "2015-08-30T00:00:00",
          "2015-09-06T00:00:00",
          "2015-09-13T00:00:00",
          "2015-09-20T00:00:00",
          "2015-09-27T00:00:00",
          "2015-10-04T00:00:00",
          "2015-10-11T00:00:00",
          "2015-10-18T00:00:00",
          "2015-10-25T00:00:00",
          "2015-11-01T00:00:00",
          "2015-11-08T00:00:00",
          "2015-11-15T00:00:00",
          "2015-11-22T00:00:00",
          "2015-11-29T00:00:00",
          "2015-12-06T00:00:00",
          "2015-12-13T00:00:00",
          "2015-12-20T00:00:00",
          "2015-12-27T00:00:00",
          "2016-01-10T00:00:00",
          "2016-01-17T00:00:00",
          "2016-01-24T00:00:00",
          "2016-01-31T00:00:00",
          "2016-02-14T00:00:00",
          "2016-02-21T00:00:00",
          "2016-02-28T00:00:00",
          "2016-03-06T00:00:00",
          "2016-03-20T00:00:00",
          "2016-03-27T00:00:00",
          "2016-04-03T00:00:00",
          "2016-04-10T00:00:00",
          "2016-04-17T00:00:00",
          "2016-04-24T00:00:00",
          "2016-05-01T00:00:00",
          "2016-05-08T00:00:00",
          "2016-05-15T00:00:00",
          "2016-05-22T00:00:00",
          "2016-05-29T00:00:00",
          "2016-06-05T00:00:00",
          "2016-06-12T00:00:00",
          "2016-06-19T00:00:00",
          "2016-06-26T00:00:00",
          "2016-07-03T00:00:00",
          "2016-07-10T00:00:00",
          "2016-07-17T00:00:00",
          "2016-07-31T00:00:00",
          "2016-08-07T00:00:00",
          "2016-08-21T00:00:00",
          "2016-08-28T00:00:00",
          "2016-09-04T00:00:00",
          "2016-09-11T00:00:00",
          "2016-09-25T00:00:00",
          "2016-10-02T00:00:00",
          "2016-10-09T00:00:00",
          "2016-10-16T00:00:00",
          "2016-10-23T00:00:00",
          "2016-10-30T00:00:00",
          "2016-11-06T00:00:00",
          "2016-11-13T00:00:00",
          "2016-11-20T00:00:00",
          "2016-11-27T00:00:00",
          "2016-12-04T00:00:00",
          "2016-12-11T00:00:00",
          "2016-12-18T00:00:00",
          "2016-12-25T00:00:00",
          "2017-01-08T00:00:00",
          "2017-01-15T00:00:00",
          "2017-01-22T00:00:00",
          "2017-01-29T00:00:00",
          "2017-02-05T00:00:00",
          "2017-02-12T00:00:00",
          "2017-02-19T00:00:00",
          "2017-02-26T00:00:00",
          "2017-03-05T00:00:00",
          "2017-03-19T00:00:00",
          "2017-03-26T00:00:00",
          "2017-04-02T00:00:00",
          "2017-04-09T00:00:00",
          "2017-04-16T00:00:00",
          "2017-04-23T00:00:00",
          "2017-04-30T00:00:00",
          "2017-05-07T00:00:00",
          "2017-05-14T00:00:00",
          "2017-05-21T00:00:00",
          "2017-05-28T00:00:00",
          "2017-06-04T00:00:00",
          "2017-06-11T00:00:00",
          "2017-06-18T00:00:00",
          "2017-06-25T00:00:00",
          "2017-07-02T00:00:00",
          "2017-07-09T00:00:00",
          "2017-07-16T00:00:00",
          "2017-07-23T00:00:00",
          "2017-07-30T00:00:00",
          "2017-08-06T00:00:00",
          "2017-08-13T00:00:00",
          "2017-08-20T00:00:00",
          "2017-08-27T00:00:00",
          "2017-09-03T00:00:00",
          "2017-09-17T00:00:00",
          "2017-09-24T00:00:00",
          "2017-10-01T00:00:00",
          "2017-10-01T00:00:00",
          "2017-10-15T00:00:00",
          "2017-10-22T00:00:00",
          "2017-10-29T00:00:00",
          "2017-11-05T00:00:00",
          "2017-11-12T00:00:00",
          "2017-11-19T00:00:00",
          "2017-11-26T00:00:00",
          "2017-12-03T00:00:00",
          "2017-12-10T00:00:00",
          "2017-12-17T00:00:00",
          "2017-12-24T00:00:00",
          "2018-01-07T00:00:00",
          "2018-01-14T00:00:00",
          "2018-01-21T00:00:00",
          "2018-01-28T00:00:00",
          "2018-02-04T00:00:00",
          "2018-02-11T00:00:00",
          "2018-02-18T00:00:00",
          "2018-03-04T00:00:00",
          "2018-03-18T00:00:00",
          "2018-03-25T00:00:00",
          "2018-04-01T00:00:00",
          "2018-04-08T00:00:00",
          "2018-04-15T00:00:00",
          "2018-04-22T00:00:00",
          "2018-04-29T00:00:00",
          "2018-05-06T00:00:00",
          "2018-05-13T00:00:00",
          "2018-05-20T00:00:00",
          "2018-05-27T00:00:00",
          "2018-06-03T00:00:00",
          "2018-06-10T00:00:00",
          "2018-06-17T00:00:00",
          "2018-06-24T00:00:00",
          "2018-07-01T00:00:00",
          "2018-07-08T00:00:00",
          "2018-07-15T00:00:00",
          "2018-07-22T00:00:00",
          "2018-07-29T00:00:00",
          "2018-08-05T00:00:00",
          "2018-08-12T00:00:00",
          "2018-08-19T00:00:00",
          "2018-08-26T00:00:00",
          "2018-09-02T00:00:00",
          "2018-09-16T00:00:00",
          "2018-09-23T00:00:00",
          "2018-09-30T00:00:00",
          "2018-10-07T00:00:00",
          "2018-10-14T00:00:00",
          "2018-10-21T00:00:00",
          "2018-10-28T00:00:00",
          "2018-11-04T00:00:00",
          "2018-11-11T00:00:00",
          "2018-11-18T00:00:00",
          "2018-11-25T00:00:00",
          "2018-12-09T00:00:00",
          "2018-12-16T00:00:00",
          "2018-12-23T00:00:00",
          "2019-01-06T00:00:00",
          "2019-01-13T00:00:00",
          "2019-01-20T00:00:00",
          "2019-01-27T00:00:00",
          "2019-02-03T00:00:00",
          "2019-02-10T00:00:00",
          "2019-02-17T00:00:00",
          "2019-02-24T00:00:00",
          "2019-03-03T00:00:00",
          "2019-03-17T00:00:00",
          "2019-03-24T00:00:00",
          "2019-03-31T00:00:00",
          "2019-04-07T00:00:00",
          "2019-04-14T00:00:00",
          "2019-04-21T00:00:00",
          "2019-04-28T00:00:00",
          "2019-05-05T00:00:00",
          "2019-05-12T00:00:00",
          "2019-05-19T00:00:00",
          "2019-05-26T00:00:00",
          "2019-06-02T00:00:00",
          "2019-06-09T00:00:00",
          "2019-06-16T00:00:00",
          "2019-06-23T00:00:00",
          "2019-06-30T00:00:00",
          "2019-07-07T00:00:00",
          "2019-07-14T00:00:00",
          "2019-07-21T00:00:00",
          "2019-07-28T00:00:00",
          "2019-08-04T00:00:00",
          "2019-08-11T00:00:00",
          "2019-08-18T00:00:00",
          "2019-08-25T00:00:00",
          "2019-09-01T00:00:00",
          "2019-09-08T00:00:00",
          "2019-09-15T00:00:00",
          "2019-09-22T00:00:00",
          "2019-09-29T00:00:00",
          "2019-10-06T00:00:00",
          "2019-10-13T00:00:00",
          "2019-10-20T00:00:00",
          "2019-10-27T00:00:00",
          "2019-11-10T00:00:00",
          "2019-11-17T00:00:00",
          "2019-11-24T00:00:00",
          "2019-12-01T00:00:00",
          "2019-12-08T00:00:00",
          "2019-12-15T00:00:00",
          "2019-12-22T00:00:00",
          "2020-01-05T00:00:00",
          "2020-01-12T00:00:00",
          "2020-01-19T00:00:00",
          "2020-01-26T00:00:00",
          "2020-02-02T00:00:00",
          "2020-02-09T00:00:00",
          "2020-02-16T00:00:00",
          "2020-02-23T00:00:00",
          "2020-03-15T00:00:00",
          "2020-03-22T00:00:00",
          "2020-03-29T00:00:00",
          "2020-04-05T00:00:00",
          "2020-04-12T00:00:00",
          "2020-04-19T00:00:00",
          "2020-06-28T00:00:00",
          "2020-07-05T00:00:00",
          "2020-07-12T00:00:00",
          "2020-07-19T00:00:00",
          "2020-07-26T00:00:00",
          "2020-08-02T00:00:00",
          "2020-08-09T00:00:00",
          "2020-08-16T00:00:00",
          "2020-08-23T00:00:00",
          "2020-08-30T00:00:00",
          "2020-09-06T00:00:00",
          "2020-09-13T00:00:00",
          "2020-09-20T00:00:00",
          "2020-09-27T00:00:00",
          "2020-10-04T00:00:00",
          "2020-10-11T00:00:00",
          "2020-10-18T00:00:00",
          "2020-10-25T00:00:00",
          "2020-11-01T00:00:00",
          "2020-11-08T00:00:00",
          "2020-11-15T00:00:00",
          "2020-11-22T00:00:00",
          "2020-11-29T00:00:00",
          "2020-12-06T00:00:00",
          "2020-12-13T00:00:00",
          "2020-12-20T00:00:00",
          "2020-12-27T00:00:00",
          "2021-01-10T00:00:00",
          "2021-01-17T00:00:00",
          "2021-01-24T00:00:00",
          "2021-01-31T00:00:00",
          "2021-02-07T00:00:00",
          "2021-02-14T00:00:00",
          "2021-02-21T00:00:00",
          "2021-02-28T00:00:00",
          "2021-03-07T00:00:00",
          "2021-03-21T00:00:00",
          "2021-03-28T00:00:00",
          "2021-04-04T00:00:00",
          "2021-04-11T00:00:00",
          "2021-04-18T00:00:00",
          "2021-04-25T00:00:00",
          "2021-05-02T00:00:00",
          "2021-05-09T00:00:00",
          "2021-05-15T00:00:00",
          "2021-05-22T00:00:00",
          "2021-05-30T00:00:00",
          "2021-06-06T00:00:00",
          "2021-06-13T00:00:00",
          "2021-06-20T00:00:00",
          "2021-06-27T00:00:00",
          "2021-07-04T00:00:00",
          "2021-07-11T00:00:00",
          "2021-07-18T00:00:00",
          "2021-07-25T00:00:00",
          "2021-08-01T00:00:00",
          "2021-08-08T00:00:00",
          "2021-08-15T00:00:00",
          "2021-08-22T00:00:00",
          "2021-08-29T00:00:00",
          "2021-09-05T00:00:00",
          "2021-09-12T00:00:00",
          "2021-09-19T00:00:00",
          "2021-09-26T00:00:00",
          "2021-10-03T00:00:00",
          "2021-10-10T00:00:00",
          "2021-10-23T00:00:00",
          "2021-10-30T00:00:00",
          "2021-11-07T00:00:00",
          "2021-11-14T00:00:00",
          "2021-11-21T00:00:00",
          "2021-11-28T00:00:00",
          "2021-12-05T00:00:00",
          "2021-12-12T00:00:00",
          "2021-12-18T00:00:00",
          "2022-01-09T00:00:00",
          "2022-01-16T00:00:00",
          "2022-01-23T00:00:00",
          "2022-01-30T00:00:00",
          "2022-02-06T00:00:00",
          "2022-02-13T00:00:00",
          "2022-02-20T00:00:00",
          "2022-02-27T00:00:00",
          "2022-03-06T00:00:00",
          "2022-04-17T00:00:00",
          "2022-04-24T00:00:00",
          "2022-05-08T00:00:00",
          "2022-05-15T00:00:00",
          "2022-05-22T00:00:00",
          "2022-05-29T00:00:00",
          "2022-06-05T00:00:00",
          "2022-06-12T00:00:00",
          "2022-06-19T00:00:00",
          "2022-07-03T00:00:00",
          "2022-07-10T00:00:00",
          "2022-07-17T00:00:00",
          "2022-07-24T00:00:00",
          "2022-07-31T00:00:00",
          "2022-08-07T00:00:00",
          "2022-08-14T00:00:00",
          "2022-08-21T00:00:00",
          "2022-09-04T00:00:00",
          "2022-09-11T00:00:00",
          "2022-09-18T00:00:00",
          "2022-09-25T00:00:00",
          "2022-10-02T00:00:00",
          "2022-10-16T00:00:00",
          "2022-10-23T00:00:00",
          "2022-10-29T00:00:00",
          "2022-11-06T00:00:00",
          "2022-11-12T00:00:00",
          "2022-11-19T00:00:00",
          "2022-11-26T00:00:00",
          "2022-12-03T00:00:00",
          "2022-12-11T00:00:00",
          "2022-12-17T00:00:00",
          "2023-01-08T00:00:00",
          "2023-01-14T00:00:00",
          "2023-01-22T00:00:00",
          "2023-01-29T00:00:00",
          "2023-02-04T00:00:00",
          "2023-02-12T00:00:00",
          "2023-02-18T00:00:00",
          "2023-02-25T00:00:00",
          "2023-03-18T00:00:00",
          "2023-03-25T00:00:00",
          "2023-04-01T00:00:00",
          "2023-04-09T00:00:00",
          "2023-04-15T00:00:00",
          "2023-04-23T00:00:00",
          "2023-04-29T00:00:00",
          "2023-05-06T00:00:00",
          "2023-05-21T00:00:00",
          "2023-05-27T00:00:00",
          "2023-06-03T00:00:00",
          "2023-06-11T00:00:00",
          "2023-06-25T00:00:00",
          "2023-07-02T00:00:00",
          "2023-07-08T00:00:00",
          "2023-07-16T00:00:00",
          "2023-07-30T00:00:00",
          "2023-08-06T00:00:00",
          "2023-08-13T00:00:00",
          "2023-08-20T00:00:00",
          "2023-09-03T00:00:00",
          "2023-09-09T00:00:00",
          "2023-09-16T00:00:00",
          "2023-09-23T00:00:00",
          "2023-10-01T00:00:00",
          "2023-10-14T00:00:00",
          "2023-10-22T00:00:00",
          "2023-10-29T00:00:00",
          "2023-11-05T00:00:00",
          "2023-11-12T00:00:00",
          "2023-11-19T00:00:00",
          "2023-11-26T00:00:00",
          "2023-12-03T00:00:00",
          "2023-12-10T00:00:00",
          "2023-12-17T00:00:00",
          "2024-01-07T00:00:00",
          "2024-01-14T00:00:00",
          "2024-01-21T00:00:00",
          "2024-01-28T00:00:00",
          "2024-02-11T00:00:00",
          "2024-02-18T00:00:00",
          "2024-02-25T00:00:00",
          "2024-03-03T00:00:00",
          "2024-03-17T00:00:00",
          "2024-03-24T00:00:00",
          "2024-03-31T00:00:00",
          "2024-04-07T00:00:00",
          "2024-04-21T00:00:00",
          "2024-04-28T00:00:00",
          "2024-05-05T00:00:00",
          "2024-05-12T00:00:00",
          "2024-05-19T00:00:00",
          "2024-05-26T00:00:00",
          "2024-06-02T00:00:00",
          "2024-06-09T00:00:00",
          "2024-06-23T00:00:00",
          "2024-06-30T00:00:00",
          "2024-07-07T00:00:00",
          "2024-07-14T00:00:00",
          "2024-07-28T00:00:00",
          "2024-08-04T00:00:00",
          "2024-08-11T00:00:00",
          "2024-08-18T00:00:00",
          "2024-09-01T00:00:00"
         ],
         "xaxis": "x",
         "y": [
          28293,
          13351,
          5868,
          4744,
          3120,
          3042,
          2830,
          2691,
          2324,
          2209,
          2111,
          2068,
          2024,
          1975,
          1939,
          1919,
          2093,
          1933,
          3927,
          1863,
          1790,
          1747,
          1826,
          4733,
          1741,
          2923,
          1700,
          1676,
          1747,
          2294,
          1621,
          1583,
          1697,
          1682,
          1932,
          3675,
          4797,
          1973,
          1802,
          1775,
          1747,
          1718,
          2616,
          1752,
          1697,
          1618,
          1598,
          1684,
          1856,
          1589,
          1374,
          1745,
          2121,
          1143,
          1138,
          1116,
          1101,
          1080,
          1068,
          1063,
          1147,
          1276,
          1261,
          1183,
          1341,
          1285,
          1283,
          1190,
          1195,
          1167,
          1184,
          1140,
          1149,
          1172,
          1148,
          1140,
          1151,
          1139,
          1118,
          1125,
          1098,
          1103,
          1474,
          1198,
          1873,
          3761,
          1323,
          1126,
          1125,
          2528,
          1186,
          1110,
          1095,
          3005,
          1299,
          1090,
          1057,
          986,
          960,
          1068,
          967,
          907,
          963,
          1074,
          974,
          1029,
          1019,
          1049,
          1547,
          3110,
          1004,
          1061,
          979,
          1025,
          1080,
          1034,
          1049,
          988,
          3214,
          1018,
          1471,
          2210,
          1096,
          1053,
          2666,
          4476,
          1054,
          1061,
          3067,
          1899,
          831,
          827,
          802,
          800,
          771,
          792,
          784,
          784,
          761,
          764,
          754,
          757,
          763,
          893,
          923,
          1058,
          954,
          880,
          855,
          972,
          3700,
          1042,
          868,
          859,
          842,
          835,
          830,
          843,
          828,
          824,
          827,
          825,
          818,
          850,
          811,
          825,
          807,
          832,
          874,
          893,
          840,
          844,
          860,
          881,
          842,
          881,
          865,
          1298,
          947,
          2405,
          927,
          2454,
          2401,
          894,
          1923,
          828,
          859,
          874,
          2453,
          867,
          870,
          2801,
          921,
          848,
          807,
          702,
          693,
          691,
          712,
          692,
          667,
          667,
          675,
          663,
          666,
          687,
          770,
          753,
          747,
          756,
          751,
          751,
          705,
          697,
          731,
          723,
          758,
          746,
          734,
          715,
          711,
          627,
          617,
          617,
          644,
          651,
          2510,
          1094,
          827,
          790,
          791,
          786,
          816,
          2599,
          3363,
          5467,
          782,
          818,
          773,
          837,
          770,
          841,
          2576,
          2337,
          1341,
          820,
          840,
          837,
          851,
          2341,
          1938,
          785,
          768,
          843,
          788,
          752,
          806,
          841,
          734,
          736,
          775,
          1112,
          776,
          799,
          761,
          739,
          765,
          772,
          799,
          1756,
          902,
          1038,
          2827,
          3678,
          2545,
          2545,
          3139,
          13539,
          657,
          640,
          652,
          633,
          636,
          852,
          747,
          758,
          750,
          778,
          790,
          1488,
          680,
          749,
          783,
          802,
          730,
          836,
          800,
          1382,
          995,
          2782,
          2688,
          886,
          697,
          2545,
          2445,
          820,
          1098,
          2517,
          15122,
          2609,
          2463,
          13999,
          1723,
          2685,
          1045,
          2771,
          611,
          650,
          601,
          814,
          750,
          769,
          953,
          915,
          2773,
          561,
          573,
          567,
          556,
          537,
          534,
          530,
          534,
          522,
          526,
          763,
          877,
          778,
          687,
          675,
          688,
          673,
          650,
          673,
          649,
          642,
          645,
          656,
          664,
          654,
          652,
          659,
          774,
          656,
          649,
          644,
          668,
          642,
          668,
          655,
          664,
          751,
          647,
          643,
          644,
          645,
          694,
          694,
          710,
          697,
          702,
          2301,
          2081,
          1131,
          888,
          2484,
          39203,
          871,
          799,
          2792,
          819,
          550,
          548,
          604,
          701,
          670,
          656,
          666,
          672,
          763,
          949,
          1104,
          1011,
          977,
          1117,
          10072,
          3338,
          2426,
          2442,
          3225,
          2437,
          2474,
          2556,
          4733,
          33820,
          672,
          655,
          788,
          830,
          833,
          935,
          1395,
          2251,
          1515,
          2070,
          1446,
          1475,
          660,
          651,
          632,
          639,
          684,
          707,
          657,
          652,
          513,
          514,
          510,
          511,
          650,
          630,
          704,
          780,
          666,
          895,
          986,
          965,
          666,
          681,
          698,
          680,
          734,
          724,
          767,
          665,
          1005,
          2539,
          845,
          878,
          2046,
          2956,
          761,
          623,
          686,
          614,
          622,
          633,
          710,
          2805,
          2798,
          3074,
          2703,
          2827,
          2648,
          2946,
          3649,
          3093,
          2765,
          2715,
          2713,
          2581,
          2734,
          2653,
          4547,
          2941,
          2734,
          2587,
          3067,
          2707,
          4674,
          5264,
          31159,
          38033,
          32122,
          37079,
          4083,
          3137,
          5136,
          5094,
          1783,
          1868,
          748,
          1508,
          1225,
          1088,
          1248,
          1067,
          891,
          872,
          952,
          952,
          986,
          2183,
          1200,
          2461,
          983,
          945,
          712,
          715,
          699,
          851,
          795,
          694,
          684,
          716,
          2487,
          2668,
          1103,
          946,
          854,
          2648,
          1490,
          1029,
          627,
          602,
          593,
          600,
          608,
          772,
          590,
          593,
          592,
          583,
          585,
          577,
          597,
          591,
          582,
          583,
          602,
          894,
          549,
          981,
          603,
          606,
          648,
          584,
          575,
          581,
          589,
          578,
          586,
          881,
          2254,
          659,
          597,
          583,
          575,
          577,
          589,
          582,
          582,
          592,
          584,
          752,
          703,
          718,
          818,
          672,
          718,
          689,
          591,
          597,
          591,
          492,
          486,
          481,
          508,
          619,
          589,
          578,
          576,
          564,
          560,
          617,
          602,
          766,
          587,
          555,
          614,
          565,
          554,
          557,
          594,
          556,
          548,
          580,
          550,
          562,
          557,
          548,
          545,
          558,
          547,
          563,
          553,
          601,
          562,
          551,
          557,
          550,
          651,
          2094,
          747,
          724,
          2320,
          778,
          560,
          578,
          625,
          603,
          573,
          567,
          1032,
          854,
          485,
          516,
          518,
          962,
          802,
          866,
          787,
          772,
          802,
          808,
          825,
          782,
          839,
          773,
          640,
          665,
          1264,
          1289,
          819,
          646,
          2227,
          651,
          638,
          1261,
          824,
          834,
          637,
          629,
          789,
          1323,
          760,
          627,
          790,
          999,
          1017,
          2229,
          2211,
          3518,
          661,
          628,
          756,
          811,
          761,
          752,
          845,
          749,
          780,
          745,
          934,
          1252,
          1380,
          2748,
          2823,
          1365,
          1366,
          908,
          661,
          860,
          777,
          853,
          829,
          1385,
          780,
          824,
          649,
          643,
          1136,
          648,
          641,
          860,
          1369,
          2335,
          3003,
          2335,
          2180,
          2431,
          2392,
          2812,
          2428,
          2845,
          7473,
          1308,
          2296,
          842,
          908,
          823,
          1243,
          1508,
          800,
          2331,
          1699,
          1527,
          1320,
          3694,
          2174,
          2137,
          2314,
          3570,
          2144,
          3565,
          14816,
          1819,
          2660,
          1611,
          835,
          682,
          881,
          3171,
          808,
          1305,
          2226,
          1536,
          2179,
          2478,
          826,
          782,
          739,
          2172,
          2304,
          2277,
          1579,
          517,
          521,
          512,
          504,
          561,
          568,
          573,
          554,
          585,
          561,
          556,
          560,
          717,
          718,
          622,
          780,
          1278,
          1387,
          604,
          740,
          2281,
          795,
          1585,
          2164,
          661,
          619,
          608,
          689,
          545,
          550,
          623,
          600,
          572,
          519,
          527,
          506,
          790,
          789,
          1513,
          845,
          788,
          752,
          791,
          785,
          637,
          628,
          831,
          824,
          754,
          747,
          786,
          1235,
          1499,
          1471,
          1288,
          2018,
          2303,
          3773,
          2159,
          2485,
          1826,
          27403,
          2373,
          2249,
          2159,
          2119,
          1537,
          1510,
          2099,
          2186,
          4336,
          2352,
          2326,
          2168,
          1573,
          1013,
          1360,
          1654,
          3296,
          2092,
          975,
          1449,
          901,
          1680,
          899,
          2317,
          3779,
          2154,
          2106,
          955,
          2019,
          915,
          1398,
          855,
          1474,
          1480,
          848,
          806,
          844,
          838,
          841,
          866,
          3103,
          2996,
          2136,
          2196,
          1543,
          2076,
          1551,
          2905,
          2139,
          975,
          692,
          810,
          715,
          2401,
          911,
          2143,
          1524,
          1014,
          1644,
          3997,
          2896,
          13424,
          6578,
          2203,
          2269,
          1589,
          1606,
          2254,
          3744,
          1793,
          701,
          702,
          842,
          748,
          726,
          749,
          840,
          730,
          1416,
          757,
          780,
          785,
          1889,
          4008,
          2453,
          2529,
          679,
          684,
          2211,
          1706,
          2722,
          1661,
          927,
          902,
          844,
          804,
          1630,
          1613,
          698,
          1654,
          2314,
          2251,
          1402,
          3175,
          3093,
          6636,
          5990,
          2425,
          2748,
          1342,
          1352,
          1035,
          1035,
          1484,
          1463,
          2517,
          2545,
          1013,
          862,
          852,
          853,
          928,
          862,
          1050,
          2531,
          3761,
          1104,
          1036,
          1004,
          873,
          2286,
          3626,
          2557,
          2385,
          1725,
          1079,
          1809,
          1039,
          1030,
          1056,
          2611,
          2524,
          1637,
          1924,
          2021,
          1897,
          1803,
          2939,
          10921,
          8036,
          4568,
          4844,
          4402,
          4816,
          5831,
          4620,
          9896,
          6550,
          6284,
          25429,
          5630,
          4156,
          4148,
          6675,
          5072,
          10818,
          4870,
          4231,
          5807,
          5869,
          3870,
          3678,
          3957,
          14354,
          2744,
          2203,
          2014,
          1882,
          2140,
          3083,
          2173,
          3088,
          2065,
          3156,
          1961,
          3588,
          6750,
          3610,
          3287,
          3271,
          2324,
          6696,
          3698,
          2331,
          3079,
          4419,
          5907,
          4870,
          3656,
          3100,
          2767,
          2477,
          2111,
          2056,
          3378,
          2885,
          61811,
          5610,
          17661,
          3913,
          1719,
          1782,
          1707,
          1478,
          1407,
          1491,
          3280,
          4982,
          5532,
          6699,
          1362,
          1281,
          1407,
          1358,
          5748,
          1322,
          1324,
          3045,
          1270,
          1690,
          1407,
          1639,
          1286,
          1375,
          1547,
          3941,
          3081,
          7723,
          3439,
          5607,
          7442,
          3181,
          5733,
          2893,
          3436,
          3175,
          2665,
          3192,
          3203,
          2683,
          3398,
          6628,
          25834,
          76272,
          4534,
          4716,
          4277,
          13627,
          10138,
          8423,
          12144,
          22754,
          71979,
          30903,
          12441,
          53265,
          16328,
          19983,
          5314,
          3816,
          3315,
          4262,
          5280,
          5295,
          2970,
          2839,
          2959,
          3786,
          4168,
          4840,
          22869,
          3905,
          3027,
          2939,
          10362,
          2561,
          2399,
          3081,
          2506,
          2174,
          2219,
          21931,
          8459,
          1756,
          2092,
          2027,
          1815,
          2154,
          1908,
          1902,
          3384,
          1891,
          1642,
          15339,
          1873,
          7681,
          3891,
          1196,
          736
         ],
         "yaxis": "y"
        },
        {
         "mode": "lines",
         "type": "scatter",
         "x": [
          "1999-10-20T00:00:00",
          "1999-11-17T00:00:00",
          "1999-11-24T00:00:00",
          "1999-12-08T00:00:00",
          "1999-12-15T00:00:00",
          "1999-12-29T00:00:00",
          "1999-12-29T00:00:00",
          "1999-12-29T00:00:00",
          "2000-01-12T00:00:00",
          "2000-01-19T00:00:00",
          "2000-01-26T00:00:00",
          "2000-02-02T00:00:00",
          "2000-02-09T00:00:00",
          "2000-02-16T00:00:00",
          "2000-02-23T00:00:00",
          "2000-03-01T00:00:00",
          "2000-03-08T00:00:00",
          "2000-03-15T00:00:00",
          "2000-03-22T00:00:00",
          "2000-04-12T00:00:00",
          "2000-04-12T00:00:00",
          "2000-04-26T00:00:00",
          "2000-05-03T00:00:00",
          "2000-05-10T00:00:00",
          "2000-05-17T00:00:00",
          "2000-05-24T00:00:00",
          "2000-05-31T00:00:00",
          "2000-06-07T00:00:00",
          "2000-06-21T00:00:00",
          "2000-06-28T00:00:00",
          "2000-07-12T00:00:00",
          "2000-07-19T00:00:00",
          "2000-07-19T00:00:00",
          "2000-07-26T00:00:00",
          "2000-08-02T00:00:00",
          "2000-08-09T00:00:00",
          "2000-08-16T00:00:00",
          "2000-08-23T00:00:00",
          "2000-08-30T00:00:00",
          "2000-09-06T00:00:00",
          "2000-09-13T00:00:00",
          "2000-09-27T00:00:00",
          "2000-09-27T00:00:00",
          "2000-10-11T00:00:00",
          "2000-10-25T00:00:00",
          "2000-11-01T00:00:00",
          "2000-11-08T00:00:00",
          "2000-11-22T00:00:00",
          "2000-11-22T00:00:00",
          "2000-11-29T00:00:00",
          "2000-12-06T00:00:00",
          "2000-12-13T00:00:00",
          "2001-01-10T00:00:00",
          "2001-01-17T00:00:00",
          "2001-01-24T00:00:00",
          "2001-01-31T00:00:00",
          "2001-02-07T00:00:00",
          "2001-02-21T00:00:00",
          "2001-02-21T00:00:00",
          "2001-02-28T00:00:00",
          "2001-03-07T00:00:00",
          "2001-03-21T00:00:00",
          "2001-03-21T00:00:00",
          "2001-04-15T00:00:00",
          "2001-04-15T00:00:00",
          "2001-04-22T00:00:00",
          "2001-04-29T00:00:00",
          "2001-05-13T00:00:00",
          "2001-05-20T00:00:00",
          "2001-05-27T00:00:00",
          "2001-06-03T00:00:00",
          "2001-06-17T00:00:00",
          "2001-06-24T00:00:00",
          "2001-07-15T00:00:00",
          "2001-08-12T00:00:00",
          "2001-08-19T00:00:00",
          "2001-08-19T00:00:00",
          "2001-08-26T00:00:00",
          "2001-09-02T00:00:00",
          "2001-09-09T00:00:00",
          "2001-09-16T00:00:00",
          "2001-10-07T00:00:00",
          "2001-10-07T00:00:00",
          "2001-10-21T00:00:00",
          "2001-10-28T00:00:00",
          "2001-11-04T00:00:00",
          "2001-11-11T00:00:00",
          "2001-11-18T00:00:00",
          "2001-11-25T00:00:00",
          "2001-12-02T00:00:00",
          "2001-12-09T00:00:00",
          "2001-12-09T00:00:00",
          "2001-12-16T00:00:00",
          "2001-12-23T00:00:00",
          "2002-01-06T00:00:00",
          "2002-01-13T00:00:00",
          "2002-01-20T00:00:00",
          "2002-01-27T00:00:00",
          "2002-02-03T00:00:00",
          "2002-02-10T00:00:00",
          "2002-02-17T00:00:00",
          "2002-02-24T00:00:00",
          "2002-03-03T00:00:00",
          "2002-03-10T00:00:00",
          "2002-03-17T00:00:00",
          "2002-03-24T00:00:00",
          "2002-04-14T00:00:00",
          "2002-04-21T00:00:00",
          "2002-04-28T00:00:00",
          "2002-05-05T00:00:00",
          "2002-05-12T00:00:00",
          "2002-05-19T00:00:00",
          "2002-06-02T00:00:00",
          "2002-06-09T00:00:00",
          "2002-06-16T00:00:00",
          "2002-06-23T00:00:00",
          "2002-06-30T00:00:00",
          "2002-07-14T00:00:00",
          "2002-07-21T00:00:00",
          "2002-08-04T00:00:00",
          "2002-08-11T00:00:00",
          "2002-08-18T00:00:00",
          "2002-08-25T00:00:00",
          "2002-09-01T00:00:00",
          "2002-09-08T00:00:00",
          "2002-09-15T00:00:00",
          "2002-10-06T00:00:00",
          "2002-10-06T00:00:00",
          "2002-10-20T00:00:00",
          "2002-10-27T00:00:00",
          "2002-11-03T00:00:00",
          "2002-11-10T00:00:00",
          "2002-11-17T00:00:00",
          "2002-11-24T00:00:00",
          "2002-12-01T00:00:00",
          "2002-12-08T00:00:00",
          "2002-12-15T00:00:00",
          "2002-12-22T00:00:00",
          "2003-01-08T00:00:00",
          "2003-01-12T00:00:00",
          "2003-01-19T00:00:00",
          "2003-01-26T00:00:00",
          "2003-02-02T00:00:00",
          "2003-02-09T00:00:00",
          "2003-02-16T00:00:00",
          "2003-02-23T00:00:00",
          "2003-03-09T00:00:00",
          "2003-03-16T00:00:00",
          "2003-03-23T00:00:00",
          "2003-04-13T00:00:00",
          "2003-04-20T00:00:00",
          "2003-04-27T00:00:00",
          "2003-05-04T00:00:00",
          "2003-05-11T00:00:00",
          "2003-05-18T00:00:00",
          "2003-06-08T00:00:00",
          "2003-06-15T00:00:00",
          "2003-06-22T00:00:00",
          "2003-07-06T00:00:00",
          "2003-07-13T00:00:00",
          "2003-07-20T00:00:00",
          "2003-08-03T00:00:00",
          "2003-08-10T00:00:00",
          "2003-08-17T00:00:00",
          "2003-08-24T00:00:00",
          "2003-09-07T00:00:00",
          "2003-09-21T00:00:00",
          "2003-10-12T00:00:00",
          "2003-10-19T00:00:00",
          "2003-10-19T00:00:00",
          "2003-10-26T00:00:00",
          "2003-11-02T00:00:00",
          "2003-11-09T00:00:00",
          "2003-11-16T00:00:00",
          "2003-12-21T00:00:00",
          "2004-01-11T00:00:00",
          "2004-01-18T00:00:00",
          "2004-01-25T00:00:00",
          "2004-02-01T00:00:00",
          "2004-02-08T00:00:00",
          "2004-02-15T00:00:00",
          "2004-02-22T00:00:00",
          "2004-02-29T00:00:00",
          "2004-03-07T00:00:00",
          "2004-03-14T00:00:00",
          "2004-03-21T00:00:00",
          "2004-03-28T00:00:00",
          "2004-03-28T00:00:00",
          "2004-04-07T00:00:00",
          "2004-04-25T00:00:00",
          "2004-05-02T00:00:00",
          "2004-05-09T00:00:00",
          "2004-05-23T00:00:00",
          "2004-06-06T00:00:00",
          "2004-06-13T00:00:00",
          "2004-06-20T00:00:00",
          "2004-07-04T00:00:00",
          "2004-07-11T00:00:00",
          "2004-07-18T00:00:00",
          "2004-08-08T00:00:00",
          "2004-09-05T00:00:00",
          "2004-09-12T00:00:00",
          "2004-09-19T00:00:00",
          "2004-10-03T00:00:00",
          "2004-10-03T00:00:00",
          "2004-10-10T00:00:00",
          "2004-10-31T00:00:00",
          "2004-11-07T00:00:00",
          "2004-11-14T00:00:00",
          "2004-11-21T00:00:00",
          "2004-11-28T00:00:00",
          "2004-12-05T00:00:00",
          "2004-12-12T00:00:00",
          "2004-12-19T00:00:00",
          "2005-01-09T00:00:00",
          "2005-01-09T00:00:00",
          "2005-01-16T00:00:00",
          "2005-01-23T00:00:00",
          "2005-01-30T00:00:00",
          "2005-02-06T00:00:00",
          "2005-02-13T00:00:00",
          "2005-02-20T00:00:00",
          "2005-02-27T00:00:00",
          "2005-03-06T00:00:00",
          "2005-03-13T00:00:00",
          "2005-03-20T00:00:00",
          "2005-03-27T00:00:00",
          "2005-03-27T00:00:00",
          "2005-04-17T00:00:00",
          "2005-04-24T00:00:00",
          "2005-05-01T00:00:00",
          "2005-05-15T00:00:00",
          "2005-05-22T00:00:00",
          "2005-06-05T00:00:00",
          "2005-06-12T00:00:00",
          "2005-06-19T00:00:00",
          "2005-07-03T00:00:00",
          "2005-07-10T00:00:00",
          "2005-07-31T00:00:00",
          "2005-08-07T00:00:00",
          "2005-08-14T00:00:00",
          "2005-08-21T00:00:00",
          "2005-09-04T00:00:00",
          "2005-09-11T00:00:00",
          "2005-09-18T00:00:00",
          "2005-10-23T00:00:00",
          "2005-10-30T00:00:00",
          "2005-11-06T00:00:00",
          "2005-11-13T00:00:00",
          "2005-11-20T00:00:00",
          "2005-11-20T00:00:00",
          "2005-12-04T00:00:00",
          "2005-12-11T00:00:00",
          "2006-01-22T00:00:00",
          "2006-01-29T00:00:00",
          "2006-02-05T00:00:00",
          "2006-02-26T00:00:00",
          "2006-03-05T00:00:00",
          "2006-03-12T00:00:00",
          "2006-03-19T00:00:00",
          "2006-04-02T00:00:00",
          "2006-04-16T00:00:00",
          "2006-04-30T00:00:00",
          "2006-05-21T00:00:00",
          "2006-06-04T00:00:00",
          "2006-06-11T00:00:00",
          "2006-06-18T00:00:00",
          "2006-06-25T00:00:00",
          "2006-06-25T00:00:00",
          "2006-07-02T00:00:00",
          "2006-07-09T00:00:00",
          "2006-07-23T00:00:00",
          "2006-07-30T00:00:00",
          "2006-08-06T00:00:00",
          "2006-08-13T00:00:00",
          "2006-09-10T00:00:00",
          "2006-09-24T00:00:00",
          "2006-09-24T00:00:00",
          "2006-10-01T00:00:00",
          "2006-10-08T00:00:00",
          "2006-10-15T00:00:00",
          "2006-10-22T00:00:00",
          "2006-10-29T00:00:00",
          "2006-11-05T00:00:00",
          "2006-11-12T00:00:00",
          "2006-11-19T00:00:00",
          "2006-11-26T00:00:00",
          "2006-12-03T00:00:00",
          "2006-12-10T00:00:00",
          "2006-12-17T00:00:00",
          "2006-12-24T00:00:00",
          "2007-01-07T00:00:00",
          "2007-01-14T00:00:00",
          "2007-01-21T00:00:00",
          "2007-01-28T00:00:00",
          "2007-02-04T00:00:00",
          "2007-02-11T00:00:00",
          "2007-02-25T00:00:00",
          "2007-03-04T00:00:00",
          "2007-03-11T00:00:00",
          "2007-03-18T00:00:00",
          "2007-03-25T00:00:00",
          "2007-04-01T00:00:00",
          "2007-04-08T00:00:00",
          "2007-04-15T00:00:00",
          "2007-04-22T00:00:00",
          "2007-04-29T00:00:00",
          "2007-05-06T00:00:00",
          "2007-05-13T00:00:00",
          "2007-05-20T00:00:00",
          "2007-05-27T00:00:00",
          "2007-06-03T00:00:00",
          "2007-06-10T00:00:00",
          "2007-06-17T00:00:00",
          "2007-06-24T00:00:00",
          "2007-07-01T00:00:00",
          "2007-07-08T00:00:00",
          "2007-07-15T00:00:00",
          "2007-07-22T00:00:00",
          "2007-08-19T00:00:00",
          "2007-08-26T00:00:00",
          "2007-09-02T00:00:00",
          "2007-09-09T00:00:00",
          "2007-09-16T00:00:00",
          "2007-09-23T00:00:00",
          "2007-10-14T00:00:00",
          "2007-10-21T00:00:00",
          "2007-10-28T00:00:00",
          "2007-11-04T00:00:00",
          "2007-11-11T00:00:00",
          "2007-11-18T00:00:00",
          "2007-11-25T00:00:00",
          "2007-12-02T00:00:00",
          "2007-12-09T00:00:00",
          "2007-12-16T00:00:00",
          "2007-12-23T00:00:00",
          "2008-01-06T00:00:00",
          "2008-01-13T00:00:00",
          "2008-01-20T00:00:00",
          "2008-01-27T00:00:00",
          "2008-02-03T00:00:00",
          "2008-02-10T00:00:00",
          "2008-02-17T00:00:00",
          "2008-02-24T00:00:00",
          "2008-03-02T00:00:00",
          "2008-03-09T00:00:00",
          "2008-03-16T00:00:00",
          "2008-03-23T00:00:00",
          "2008-03-30T00:00:00",
          "2008-04-20T00:00:00",
          "2008-04-27T00:00:00",
          "2008-05-04T00:00:00",
          "2008-05-11T00:00:00",
          "2008-05-18T00:00:00",
          "2008-05-25T00:00:00",
          "2008-06-01T00:00:00",
          "2008-06-08T00:00:00",
          "2008-06-15T00:00:00",
          "2008-06-22T00:00:00",
          "2008-06-29T00:00:00",
          "2008-07-06T00:00:00",
          "2008-07-13T00:00:00",
          "2008-07-20T00:00:00",
          "2008-08-03T00:00:00",
          "2008-08-10T00:00:00",
          "2008-08-17T00:00:00",
          "2008-08-23T00:00:00",
          "2008-08-30T00:00:00",
          "2008-09-07T00:00:00",
          "2008-09-14T00:00:00",
          "2008-09-21T00:00:00",
          "2008-09-28T00:00:00",
          "2008-10-05T00:00:00",
          "2008-10-12T00:00:00",
          "2008-10-19T00:00:00",
          "2008-11-09T00:00:00",
          "2008-11-16T00:00:00",
          "2008-11-23T00:00:00",
          "2008-11-30T00:00:00",
          "2008-12-07T00:00:00",
          "2008-12-14T00:00:00",
          "2008-12-21T00:00:00",
          "2008-12-28T00:00:00",
          "2009-01-11T00:00:00",
          "2009-01-18T00:00:00",
          "2009-01-25T00:00:00",
          "2009-02-01T00:00:00",
          "2009-02-08T00:00:00",
          "2009-02-15T00:00:00",
          "2009-02-22T00:00:00",
          "2009-03-01T00:00:00",
          "2009-03-08T00:00:00",
          "2009-03-15T00:00:00",
          "2009-03-22T00:00:00",
          "2009-03-29T00:00:00",
          "2009-04-12T00:00:00",
          "2009-04-19T00:00:00",
          "2009-04-26T00:00:00",
          "2009-05-03T00:00:00",
          "2009-05-10T00:00:00",
          "2009-05-17T00:00:00",
          "2009-05-24T00:00:00",
          "2009-05-31T00:00:00",
          "2009-06-07T00:00:00",
          "2009-06-14T00:00:00",
          "2009-06-21T00:00:00",
          "2009-06-28T00:00:00",
          "2009-07-05T00:00:00",
          "2009-07-12T00:00:00",
          "2009-07-19T00:00:00",
          "2009-08-02T00:00:00",
          "2009-08-09T00:00:00",
          "2009-08-16T00:00:00",
          "2009-08-23T00:00:00",
          "2009-08-30T00:00:00",
          "2009-09-06T00:00:00",
          "2009-09-13T00:00:00",
          "2009-09-20T00:00:00",
          "2009-09-27T00:00:00",
          "2009-10-04T00:00:00",
          "2009-10-11T00:00:00",
          "2009-10-18T00:00:00",
          "2009-10-25T00:00:00",
          "2009-11-01T00:00:00",
          "2009-11-08T00:00:00",
          "2009-11-15T00:00:00",
          "2009-11-22T00:00:00",
          "2009-11-29T00:00:00",
          "2009-12-06T00:00:00",
          "2009-12-13T00:00:00",
          "2009-12-20T00:00:00",
          "2009-12-27T00:00:00",
          "2010-01-10T00:00:00",
          "2010-01-17T00:00:00",
          "2010-01-24T00:00:00",
          "2010-01-31T00:00:00",
          "2010-02-07T00:00:00",
          "2010-02-14T00:00:00",
          "2010-02-21T00:00:00",
          "2010-02-28T00:00:00",
          "2010-03-07T00:00:00",
          "2010-03-14T00:00:00",
          "2010-03-21T00:00:00",
          "2010-03-28T00:00:00",
          "2010-04-04T00:00:00",
          "2010-04-11T00:00:00",
          "2010-04-18T00:00:00",
          "2010-04-25T00:00:00",
          "2010-05-02T00:00:00",
          "2010-05-09T00:00:00",
          "2010-05-16T00:00:00",
          "2010-05-23T00:00:00",
          "2010-05-30T00:00:00",
          "2010-06-06T00:00:00",
          "2010-06-13T00:00:00",
          "2010-06-20T00:00:00",
          "2010-06-27T00:00:00",
          "2010-07-11T00:00:00",
          "2010-07-18T00:00:00",
          "2010-08-01T00:00:00",
          "2010-08-08T00:00:00",
          "2010-08-15T00:00:00",
          "2010-08-22T00:00:00",
          "2010-08-29T00:00:00",
          "2010-09-05T00:00:00",
          "2010-09-12T00:00:00",
          "2010-09-19T00:00:00",
          "2010-09-26T00:00:00",
          "2010-10-03T00:00:00",
          "2010-10-10T00:00:00",
          "2010-10-17T00:00:00",
          "2010-10-24T00:00:00",
          "2010-10-31T00:00:00",
          "2010-11-07T00:00:00",
          "2010-11-14T00:00:00",
          "2010-11-21T00:00:00",
          "2010-11-28T00:00:00",
          "2010-12-05T00:00:00",
          "2010-12-12T00:00:00",
          "2010-12-19T00:00:00",
          "2010-12-26T00:00:00",
          "2011-01-09T00:00:00",
          "2011-01-16T00:00:00",
          "2011-01-23T00:00:00",
          "2011-01-30T00:00:00",
          "2011-02-06T00:00:00",
          "2011-02-13T00:00:00",
          "2011-02-20T00:00:00",
          "2011-03-06T00:00:00",
          "2011-03-20T00:00:00",
          "2011-03-27T00:00:00",
          "2011-04-03T00:00:00",
          "2011-04-10T00:00:00",
          "2011-04-17T00:00:00",
          "2011-04-24T00:00:00",
          "2011-05-01T00:00:00",
          "2011-05-08T00:00:00",
          "2011-05-15T00:00:00",
          "2011-05-22T00:00:00",
          "2011-05-29T00:00:00",
          "2011-06-05T00:00:00",
          "2011-06-12T00:00:00",
          "2011-06-19T00:00:00",
          "2011-06-26T00:00:00",
          "2011-07-03T00:00:00",
          "2011-07-10T00:00:00",
          "2011-07-17T00:00:00",
          "2011-07-31T00:00:00",
          "2011-08-07T00:00:00",
          "2011-08-14T00:00:00",
          "2011-08-21T00:00:00",
          "2011-08-28T00:00:00",
          "2011-09-04T00:00:00",
          "2011-09-11T00:00:00",
          "2011-09-18T00:00:00",
          "2011-09-25T00:00:00",
          "2011-10-02T00:00:00",
          "2011-10-09T00:00:00",
          "2011-10-16T00:00:00",
          "2011-10-23T00:00:00",
          "2011-10-30T00:00:00",
          "2011-11-06T00:00:00",
          "2011-11-13T00:00:00",
          "2011-11-20T00:00:00",
          "2011-11-27T00:00:00",
          "2011-12-04T00:00:00",
          "2011-12-11T00:00:00",
          "2011-12-18T00:00:00",
          "2011-12-25T00:00:00",
          "2012-01-08T00:00:00",
          "2012-01-15T00:00:00",
          "2012-01-22T00:00:00",
          "2012-01-29T00:00:00",
          "2012-02-05T00:00:00",
          "2012-02-12T00:00:00",
          "2012-02-19T00:00:00",
          "2012-02-26T00:00:00",
          "2012-03-04T00:00:00",
          "2012-03-18T00:00:00",
          "2012-03-25T00:00:00",
          "2012-04-01T00:00:00",
          "2012-04-08T00:00:00",
          "2012-04-15T00:00:00",
          "2012-04-22T00:00:00",
          "2012-04-29T00:00:00",
          "2012-05-06T00:00:00",
          "2012-05-13T00:00:00",
          "2012-05-20T00:00:00",
          "2012-05-27T00:00:00",
          "2012-06-01T00:00:00",
          "2012-06-10T00:00:00",
          "2012-06-17T00:00:00",
          "2012-06-24T00:00:00",
          "2012-07-01T00:00:00",
          "2012-07-08T00:00:00",
          "2012-07-15T00:00:00",
          "2012-07-29T00:00:00",
          "2012-08-05T00:00:00",
          "2012-08-12T00:00:00",
          "2012-08-19T00:00:00",
          "2012-08-26T00:00:00",
          "2012-09-02T00:00:00",
          "2012-09-09T00:00:00",
          "2012-09-16T00:00:00",
          "2012-09-23T00:00:00",
          "2012-09-30T00:00:00",
          "2012-10-07T00:00:00",
          "2012-10-14T00:00:00",
          "2012-10-21T00:00:00",
          "2012-11-28T00:00:00",
          "2012-11-04T00:00:00",
          "2012-11-11T00:00:00",
          "2012-11-18T00:00:00",
          "2012-11-25T00:00:00",
          "2012-12-02T00:00:00",
          "2012-12-09T00:00:00",
          "2012-12-16T00:00:00",
          "2012-12-23T00:00:00",
          "2013-01-08T00:00:00",
          "2013-01-13T00:00:00",
          "2013-01-20T00:00:00",
          "2013-01-27T00:00:00",
          "2013-02-03T00:00:00",
          "2013-02-10T00:00:00",
          "2013-02-17T00:00:00",
          "2013-03-03T00:00:00",
          "2013-03-17T00:00:00",
          "2013-03-24T00:00:00",
          "2013-03-31T00:00:00",
          "2013-04-07T00:00:00",
          "2013-04-14T00:00:00",
          "2013-04-21T00:00:00",
          "2013-04-28T00:00:00",
          "2013-05-05T00:00:00",
          "2013-05-12T00:00:00",
          "2013-05-19T00:00:00",
          "2013-05-26T00:00:00",
          "2013-06-02T00:00:00",
          "2013-06-09T00:00:00",
          "2013-06-16T00:00:00",
          "2013-06-23T00:00:00",
          "2013-06-30T00:00:00",
          "2013-07-07T00:00:00",
          "2013-07-14T00:00:00",
          "2013-07-21T00:00:00",
          "2013-07-28T00:00:00",
          "2013-08-11T00:00:00",
          "2013-08-18T00:00:00",
          "2013-08-25T00:00:00",
          "2013-09-01T00:00:00",
          "2013-09-08T00:00:00",
          "2013-09-15T00:00:00",
          "2013-09-22T00:00:00",
          "2013-09-29T00:00:00",
          "2013-10-06T00:00:00",
          "2013-10-13T00:00:00",
          "2013-10-20T00:00:00",
          "2013-10-27T00:00:00",
          "2013-11-03T00:00:00",
          "2013-11-10T00:00:00",
          "2013-11-17T00:00:00",
          "2013-11-24T00:00:00",
          "2013-12-01T00:00:00",
          "2013-12-08T00:00:00",
          "2013-12-15T00:00:00",
          "2013-12-22T00:00:00",
          "2014-01-05T00:00:00",
          "2014-01-12T00:00:00",
          "2014-01-19T00:00:00",
          "2014-01-26T00:00:00",
          "2014-02-02T00:00:00",
          "2014-02-09T00:00:00",
          "2014-02-16T00:00:00",
          "2014-02-23T00:00:00",
          "2014-03-02T00:00:00",
          "2014-03-16T00:00:00",
          "2014-03-23T00:00:00",
          "2014-03-30T00:00:00",
          "2014-04-06T00:00:00",
          "2014-04-13T00:00:00",
          "2014-04-20T00:00:00",
          "2014-04-27T00:00:00",
          "2014-05-04T00:00:00",
          "2014-05-11T00:00:00",
          "2014-05-18T00:00:00",
          "2014-05-25T00:00:00",
          "2014-06-01T00:00:00",
          "2014-06-08T00:00:00",
          "2014-06-15T00:00:00",
          "2014-06-22T00:00:00",
          "2014-06-29T00:00:00",
          "2014-07-06T00:00:00",
          "2014-07-13T00:00:00",
          "2014-07-20T00:00:00",
          "2014-08-03T00:00:00",
          "2014-08-10T00:00:00",
          "2014-08-17T00:00:00",
          "2014-08-24T00:00:00",
          "2014-08-31T00:00:00",
          "2014-09-07T00:00:00",
          "2014-09-14T00:00:00",
          "2014-09-21T00:00:00",
          "2014-09-28T00:00:00",
          "2014-10-05T00:00:00",
          "2014-10-12T00:00:00",
          "2014-10-19T00:00:00",
          "2014-10-26T00:00:00",
          "2014-11-02T00:00:00",
          "2014-11-09T00:00:00",
          "2014-11-16T00:00:00",
          "2014-11-23T00:00:00",
          "2014-11-30T00:00:00",
          "2014-12-07T00:00:00",
          "2014-12-14T00:00:00",
          "2014-12-21T00:00:00",
          "2014-12-28T00:00:00",
          "2015-01-11T00:00:00",
          "2015-01-18T00:00:00",
          "2015-01-25T00:00:00",
          "2015-02-01T00:00:00",
          "2015-02-08T00:00:00",
          "2015-02-15T00:00:00",
          "2015-03-01T00:00:00",
          "2015-03-15T00:00:00",
          "2015-03-22T00:00:00",
          "2015-03-29T00:00:00",
          "2015-04-05T00:00:00",
          "2015-04-12T00:00:00",
          "2015-04-19T00:00:00",
          "2015-04-26T00:00:00",
          "2015-05-03T00:00:00",
          "2015-05-10T00:00:00",
          "2015-05-17T00:00:00",
          "2015-05-24T00:00:00",
          "2015-05-31T00:00:00",
          "2015-06-07T00:00:00",
          "2015-06-14T00:00:00",
          "2015-06-21T00:00:00",
          "2015-06-28T00:00:00",
          "2015-07-05T00:00:00",
          "2015-07-12T00:00:00",
          "2015-07-19T00:00:00",
          "2015-08-02T00:00:00",
          "2015-08-09T00:00:00",
          "2015-08-16T00:00:00",
          "2015-08-23T00:00:00",
          "2015-08-30T00:00:00",
          "2015-09-06T00:00:00",
          "2015-09-13T00:00:00",
          "2015-09-20T00:00:00",
          "2015-09-27T00:00:00",
          "2015-10-04T00:00:00",
          "2015-10-11T00:00:00",
          "2015-10-18T00:00:00",
          "2015-10-25T00:00:00",
          "2015-11-01T00:00:00",
          "2015-11-08T00:00:00",
          "2015-11-15T00:00:00",
          "2015-11-22T00:00:00",
          "2015-11-29T00:00:00",
          "2015-12-06T00:00:00",
          "2015-12-13T00:00:00",
          "2015-12-20T00:00:00",
          "2015-12-27T00:00:00",
          "2016-01-10T00:00:00",
          "2016-01-17T00:00:00",
          "2016-01-24T00:00:00",
          "2016-01-31T00:00:00",
          "2016-02-14T00:00:00",
          "2016-02-21T00:00:00",
          "2016-02-28T00:00:00",
          "2016-03-06T00:00:00",
          "2016-03-20T00:00:00",
          "2016-03-27T00:00:00",
          "2016-04-03T00:00:00",
          "2016-04-10T00:00:00",
          "2016-04-17T00:00:00",
          "2016-04-24T00:00:00",
          "2016-05-01T00:00:00",
          "2016-05-08T00:00:00",
          "2016-05-15T00:00:00",
          "2016-05-22T00:00:00",
          "2016-05-29T00:00:00",
          "2016-06-05T00:00:00",
          "2016-06-12T00:00:00",
          "2016-06-19T00:00:00",
          "2016-06-26T00:00:00",
          "2016-07-03T00:00:00",
          "2016-07-10T00:00:00",
          "2016-07-17T00:00:00",
          "2016-07-31T00:00:00",
          "2016-08-07T00:00:00",
          "2016-08-21T00:00:00",
          "2016-08-28T00:00:00",
          "2016-09-04T00:00:00",
          "2016-09-11T00:00:00",
          "2016-09-25T00:00:00",
          "2016-10-02T00:00:00",
          "2016-10-09T00:00:00",
          "2016-10-16T00:00:00",
          "2016-10-23T00:00:00",
          "2016-10-30T00:00:00",
          "2016-11-06T00:00:00",
          "2016-11-13T00:00:00",
          "2016-11-20T00:00:00",
          "2016-11-27T00:00:00",
          "2016-12-04T00:00:00",
          "2016-12-11T00:00:00",
          "2016-12-18T00:00:00",
          "2016-12-25T00:00:00",
          "2017-01-08T00:00:00",
          "2017-01-15T00:00:00",
          "2017-01-22T00:00:00",
          "2017-01-29T00:00:00",
          "2017-02-05T00:00:00",
          "2017-02-12T00:00:00",
          "2017-02-19T00:00:00",
          "2017-02-26T00:00:00",
          "2017-03-05T00:00:00",
          "2017-03-19T00:00:00",
          "2017-03-26T00:00:00",
          "2017-04-02T00:00:00",
          "2017-04-09T00:00:00",
          "2017-04-16T00:00:00",
          "2017-04-23T00:00:00",
          "2017-04-30T00:00:00",
          "2017-05-07T00:00:00",
          "2017-05-14T00:00:00",
          "2017-05-21T00:00:00",
          "2017-05-28T00:00:00",
          "2017-06-04T00:00:00",
          "2017-06-11T00:00:00",
          "2017-06-18T00:00:00",
          "2017-06-25T00:00:00",
          "2017-07-02T00:00:00",
          "2017-07-09T00:00:00",
          "2017-07-16T00:00:00",
          "2017-07-23T00:00:00",
          "2017-07-30T00:00:00",
          "2017-08-06T00:00:00",
          "2017-08-13T00:00:00",
          "2017-08-20T00:00:00",
          "2017-08-27T00:00:00",
          "2017-09-03T00:00:00",
          "2017-09-17T00:00:00",
          "2017-09-24T00:00:00",
          "2017-10-01T00:00:00",
          "2017-10-01T00:00:00",
          "2017-10-15T00:00:00",
          "2017-10-22T00:00:00",
          "2017-10-29T00:00:00",
          "2017-11-05T00:00:00",
          "2017-11-12T00:00:00",
          "2017-11-19T00:00:00",
          "2017-11-26T00:00:00",
          "2017-12-03T00:00:00",
          "2017-12-10T00:00:00",
          "2017-12-17T00:00:00",
          "2017-12-24T00:00:00",
          "2018-01-07T00:00:00",
          "2018-01-14T00:00:00",
          "2018-01-21T00:00:00",
          "2018-01-28T00:00:00",
          "2018-02-04T00:00:00",
          "2018-02-11T00:00:00",
          "2018-02-18T00:00:00",
          "2018-03-04T00:00:00",
          "2018-03-18T00:00:00",
          "2018-03-25T00:00:00",
          "2018-04-01T00:00:00",
          "2018-04-08T00:00:00",
          "2018-04-15T00:00:00",
          "2018-04-22T00:00:00",
          "2018-04-29T00:00:00",
          "2018-05-06T00:00:00",
          "2018-05-13T00:00:00",
          "2018-05-20T00:00:00",
          "2018-05-27T00:00:00",
          "2018-06-03T00:00:00",
          "2018-06-10T00:00:00",
          "2018-06-17T00:00:00",
          "2018-06-24T00:00:00",
          "2018-07-01T00:00:00",
          "2018-07-08T00:00:00",
          "2018-07-15T00:00:00",
          "2018-07-22T00:00:00",
          "2018-07-29T00:00:00",
          "2018-08-05T00:00:00",
          "2018-08-12T00:00:00",
          "2018-08-19T00:00:00",
          "2018-08-26T00:00:00",
          "2018-09-02T00:00:00",
          "2018-09-16T00:00:00",
          "2018-09-23T00:00:00",
          "2018-09-30T00:00:00",
          "2018-10-07T00:00:00",
          "2018-10-14T00:00:00",
          "2018-10-21T00:00:00",
          "2018-10-28T00:00:00",
          "2018-11-04T00:00:00",
          "2018-11-11T00:00:00",
          "2018-11-18T00:00:00",
          "2018-11-25T00:00:00",
          "2018-12-09T00:00:00",
          "2018-12-16T00:00:00",
          "2018-12-23T00:00:00",
          "2019-01-06T00:00:00",
          "2019-01-13T00:00:00",
          "2019-01-20T00:00:00",
          "2019-01-27T00:00:00",
          "2019-02-03T00:00:00",
          "2019-02-10T00:00:00",
          "2019-02-17T00:00:00",
          "2019-02-24T00:00:00",
          "2019-03-03T00:00:00",
          "2019-03-17T00:00:00",
          "2019-03-24T00:00:00",
          "2019-03-31T00:00:00",
          "2019-04-07T00:00:00",
          "2019-04-14T00:00:00",
          "2019-04-21T00:00:00",
          "2019-04-28T00:00:00",
          "2019-05-05T00:00:00",
          "2019-05-12T00:00:00",
          "2019-05-19T00:00:00",
          "2019-05-26T00:00:00",
          "2019-06-02T00:00:00",
          "2019-06-09T00:00:00",
          "2019-06-16T00:00:00",
          "2019-06-23T00:00:00",
          "2019-06-30T00:00:00",
          "2019-07-07T00:00:00",
          "2019-07-14T00:00:00",
          "2019-07-21T00:00:00",
          "2019-07-28T00:00:00",
          "2019-08-04T00:00:00",
          "2019-08-11T00:00:00",
          "2019-08-18T00:00:00",
          "2019-08-25T00:00:00",
          "2019-09-01T00:00:00",
          "2019-09-08T00:00:00",
          "2019-09-15T00:00:00",
          "2019-09-22T00:00:00",
          "2019-09-29T00:00:00",
          "2019-10-06T00:00:00",
          "2019-10-13T00:00:00",
          "2019-10-20T00:00:00",
          "2019-10-27T00:00:00",
          "2019-11-10T00:00:00",
          "2019-11-17T00:00:00",
          "2019-11-24T00:00:00",
          "2019-12-01T00:00:00",
          "2019-12-08T00:00:00",
          "2019-12-15T00:00:00",
          "2019-12-22T00:00:00",
          "2020-01-05T00:00:00",
          "2020-01-12T00:00:00",
          "2020-01-19T00:00:00",
          "2020-01-26T00:00:00",
          "2020-02-02T00:00:00",
          "2020-02-09T00:00:00",
          "2020-02-16T00:00:00",
          "2020-02-23T00:00:00",
          "2020-03-15T00:00:00",
          "2020-03-22T00:00:00",
          "2020-03-29T00:00:00",
          "2020-04-05T00:00:00",
          "2020-04-12T00:00:00",
          "2020-04-19T00:00:00",
          "2020-06-28T00:00:00",
          "2020-07-05T00:00:00",
          "2020-07-12T00:00:00",
          "2020-07-19T00:00:00",
          "2020-07-26T00:00:00",
          "2020-08-02T00:00:00",
          "2020-08-09T00:00:00",
          "2020-08-16T00:00:00",
          "2020-08-23T00:00:00",
          "2020-08-30T00:00:00",
          "2020-09-06T00:00:00",
          "2020-09-13T00:00:00",
          "2020-09-20T00:00:00",
          "2020-09-27T00:00:00",
          "2020-10-04T00:00:00",
          "2020-10-11T00:00:00",
          "2020-10-18T00:00:00",
          "2020-10-25T00:00:00",
          "2020-11-01T00:00:00",
          "2020-11-08T00:00:00",
          "2020-11-15T00:00:00",
          "2020-11-22T00:00:00",
          "2020-11-29T00:00:00",
          "2020-12-06T00:00:00",
          "2020-12-13T00:00:00",
          "2020-12-20T00:00:00",
          "2020-12-27T00:00:00",
          "2021-01-10T00:00:00",
          "2021-01-17T00:00:00",
          "2021-01-24T00:00:00",
          "2021-01-31T00:00:00",
          "2021-02-07T00:00:00",
          "2021-02-14T00:00:00",
          "2021-02-21T00:00:00",
          "2021-02-28T00:00:00",
          "2021-03-07T00:00:00",
          "2021-03-21T00:00:00",
          "2021-03-28T00:00:00",
          "2021-04-04T00:00:00",
          "2021-04-11T00:00:00",
          "2021-04-18T00:00:00",
          "2021-04-25T00:00:00",
          "2021-05-02T00:00:00",
          "2021-05-09T00:00:00",
          "2021-05-15T00:00:00",
          "2021-05-22T00:00:00",
          "2021-05-30T00:00:00",
          "2021-06-06T00:00:00",
          "2021-06-13T00:00:00",
          "2021-06-20T00:00:00",
          "2021-06-27T00:00:00",
          "2021-07-04T00:00:00",
          "2021-07-11T00:00:00",
          "2021-07-18T00:00:00",
          "2021-07-25T00:00:00",
          "2021-08-01T00:00:00",
          "2021-08-08T00:00:00",
          "2021-08-15T00:00:00",
          "2021-08-22T00:00:00",
          "2021-08-29T00:00:00",
          "2021-09-05T00:00:00",
          "2021-09-12T00:00:00",
          "2021-09-19T00:00:00",
          "2021-09-26T00:00:00",
          "2021-10-03T00:00:00",
          "2021-10-10T00:00:00",
          "2021-10-23T00:00:00",
          "2021-10-30T00:00:00",
          "2021-11-07T00:00:00",
          "2021-11-14T00:00:00",
          "2021-11-21T00:00:00",
          "2021-11-28T00:00:00",
          "2021-12-05T00:00:00",
          "2021-12-12T00:00:00",
          "2021-12-18T00:00:00",
          "2022-01-09T00:00:00",
          "2022-01-16T00:00:00",
          "2022-01-23T00:00:00",
          "2022-01-30T00:00:00",
          "2022-02-06T00:00:00",
          "2022-02-13T00:00:00",
          "2022-02-20T00:00:00",
          "2022-02-27T00:00:00",
          "2022-03-06T00:00:00",
          "2022-04-17T00:00:00",
          "2022-04-24T00:00:00",
          "2022-05-08T00:00:00",
          "2022-05-15T00:00:00",
          "2022-05-22T00:00:00",
          "2022-05-29T00:00:00",
          "2022-06-05T00:00:00",
          "2022-06-12T00:00:00",
          "2022-06-19T00:00:00",
          "2022-07-03T00:00:00",
          "2022-07-10T00:00:00",
          "2022-07-17T00:00:00",
          "2022-07-24T00:00:00",
          "2022-07-31T00:00:00",
          "2022-08-07T00:00:00",
          "2022-08-14T00:00:00",
          "2022-08-21T00:00:00",
          "2022-09-04T00:00:00",
          "2022-09-11T00:00:00",
          "2022-09-18T00:00:00",
          "2022-09-25T00:00:00",
          "2022-10-02T00:00:00",
          "2022-10-16T00:00:00",
          "2022-10-23T00:00:00",
          "2022-10-29T00:00:00",
          "2022-11-06T00:00:00",
          "2022-11-12T00:00:00",
          "2022-11-19T00:00:00",
          "2022-11-26T00:00:00",
          "2022-12-03T00:00:00",
          "2022-12-11T00:00:00",
          "2022-12-17T00:00:00",
          "2023-01-08T00:00:00",
          "2023-01-14T00:00:00",
          "2023-01-22T00:00:00",
          "2023-01-29T00:00:00",
          "2023-02-04T00:00:00",
          "2023-02-12T00:00:00",
          "2023-02-18T00:00:00",
          "2023-02-25T00:00:00",
          "2023-03-18T00:00:00",
          "2023-03-25T00:00:00",
          "2023-04-01T00:00:00",
          "2023-04-09T00:00:00",
          "2023-04-15T00:00:00",
          "2023-04-23T00:00:00",
          "2023-04-29T00:00:00",
          "2023-05-06T00:00:00",
          "2023-05-21T00:00:00",
          "2023-05-27T00:00:00",
          "2023-06-03T00:00:00",
          "2023-06-11T00:00:00",
          "2023-06-25T00:00:00",
          "2023-07-02T00:00:00",
          "2023-07-08T00:00:00",
          "2023-07-16T00:00:00",
          "2023-07-30T00:00:00",
          "2023-08-06T00:00:00",
          "2023-08-13T00:00:00",
          "2023-08-20T00:00:00",
          "2023-09-03T00:00:00",
          "2023-09-09T00:00:00",
          "2023-09-16T00:00:00",
          "2023-09-23T00:00:00",
          "2023-10-01T00:00:00",
          "2023-10-14T00:00:00",
          "2023-10-22T00:00:00",
          "2023-10-29T00:00:00",
          "2023-11-05T00:00:00",
          "2023-11-12T00:00:00",
          "2023-11-19T00:00:00",
          "2023-11-26T00:00:00",
          "2023-12-03T00:00:00",
          "2023-12-10T00:00:00",
          "2023-12-17T00:00:00",
          "2024-01-07T00:00:00",
          "2024-01-14T00:00:00",
          "2024-01-21T00:00:00",
          "2024-01-28T00:00:00",
          "2024-02-11T00:00:00",
          "2024-02-18T00:00:00",
          "2024-02-25T00:00:00",
          "2024-03-03T00:00:00",
          "2024-03-17T00:00:00",
          "2024-03-24T00:00:00",
          "2024-03-31T00:00:00",
          "2024-04-07T00:00:00",
          "2024-04-21T00:00:00",
          "2024-04-28T00:00:00",
          "2024-05-05T00:00:00",
          "2024-05-12T00:00:00",
          "2024-05-19T00:00:00",
          "2024-05-26T00:00:00",
          "2024-06-02T00:00:00",
          "2024-06-09T00:00:00",
          "2024-06-23T00:00:00",
          "2024-06-30T00:00:00",
          "2024-07-07T00:00:00",
          "2024-07-14T00:00:00",
          "2024-07-28T00:00:00",
          "2024-08-04T00:00:00",
          "2024-08-11T00:00:00",
          "2024-08-18T00:00:00",
          "2024-09-01T00:00:00"
         ],
         "xaxis": "x2",
         "y": [
          8.4,
          8.3,
          8,
          8.3,
          7.4,
          7.6,
          7.5,
          7.7,
          7.1,
          7.3,
          7.3,
          7.6,
          7.5,
          7.6,
          7.4,
          7.6,
          8,
          6.8,
          8.9,
          7.6,
          7.6,
          7.5,
          7.8,
          9.1,
          7.5,
          8.7,
          7.5,
          7.6,
          7.9,
          8.3,
          7.6,
          7.7,
          7.8,
          7.4,
          8.1,
          8.9,
          9.2,
          8.2,
          8,
          8,
          8.1,
          8,
          8.6,
          7.9,
          7.7,
          6.3,
          6.2,
          7.9,
          8,
          7.4,
          6.9,
          8.2,
          8.4,
          7,
          6.7,
          6.6,
          6.5,
          6.6,
          6.9,
          7,
          7.5,
          7.6,
          7.5,
          7.6,
          8.1,
          8,
          7.8,
          6.6,
          6.8,
          7.1,
          7.3,
          7.2,
          7.4,
          7.6,
          7.6,
          7.6,
          7.5,
          7.2,
          7.5,
          7.6,
          7.5,
          7.6,
          8,
          7.9,
          8.4,
          9.3,
          8,
          7.7,
          7.7,
          8.8,
          7.9,
          7.6,
          7.2,
          8.9,
          8.2,
          7.3,
          7.2,
          6.9,
          6.9,
          7.4,
          6.7,
          7,
          7.3,
          7.8,
          7.8,
          8.1,
          8.1,
          8.2,
          8.4,
          9.1,
          7.8,
          8,
          7.7,
          7.8,
          8,
          7.9,
          7.8,
          7.7,
          9.1,
          7.9,
          8.3,
          8.8,
          8.1,
          8,
          8.9,
          9.4,
          8.1,
          8,
          9.1,
          8.5,
          7,
          6.5,
          6.7,
          6.7,
          6.9,
          6.5,
          6.6,
          6.5,
          6.8,
          6.7,
          6.6,
          6.6,
          7.4,
          7.2,
          7.5,
          8,
          7.7,
          7.6,
          7.4,
          8.1,
          9.3,
          8.2,
          7.7,
          7.4,
          7.4,
          7.5,
          7.4,
          7.6,
          7.6,
          7.6,
          7.4,
          7.7,
          7.7,
          7.8,
          7.6,
          7.3,
          7.5,
          7.4,
          7.8,
          7.9,
          7.6,
          7.7,
          7.8,
          7.9,
          7.7,
          7.9,
          7.8,
          8.3,
          8.1,
          8.9,
          8.2,
          9,
          9,
          8,
          8.7,
          7.8,
          7.7,
          7.8,
          9,
          8,
          8.1,
          9.2,
          8,
          7.9,
          7.7,
          7.1,
          7.3,
          7.1,
          7.4,
          7.5,
          7.3,
          7.3,
          7,
          7.2,
          7.2,
          7.5,
          7.2,
          7,
          7.1,
          7.1,
          7.3,
          7.6,
          7.1,
          7.4,
          6.8,
          6.7,
          6.9,
          7,
          7.3,
          7.2,
          7,
          6.7,
          7,
          6.8,
          6.5,
          6.6,
          8.9,
          8.2,
          7.6,
          7.7,
          7.6,
          7.7,
          7.9,
          9.1,
          9.3,
          9.5,
          7.7,
          8,
          7.8,
          8,
          7.6,
          8.1,
          9.1,
          8.9,
          8.4,
          7.9,
          8.1,
          8.1,
          8.2,
          8.9,
          8.9,
          7.9,
          7.7,
          8,
          7.9,
          7.8,
          8,
          8,
          7.3,
          7.7,
          7.9,
          8.3,
          7.9,
          8,
          7.8,
          7.8,
          7.9,
          7.9,
          8,
          8.6,
          8.1,
          8.3,
          9.2,
          9.4,
          9,
          9,
          9.3,
          9.5,
          6.3,
          5.9,
          6.1,
          5.9,
          5.9,
          8,
          7.8,
          7.9,
          7.9,
          8.1,
          8,
          8.5,
          5.8,
          5.6,
          7.9,
          8,
          7.7,
          8,
          8.1,
          8.5,
          8.2,
          9.2,
          9.2,
          8.1,
          5.8,
          9,
          8.9,
          8,
          8.2,
          9,
          9.5,
          9.1,
          9,
          9.5,
          8.7,
          9.1,
          8.3,
          9.1,
          6.3,
          6.1,
          6.7,
          8,
          7.9,
          8,
          8.4,
          8.1,
          9.2,
          6.7,
          6.3,
          6.4,
          6.5,
          6.4,
          6.5,
          6.5,
          6.3,
          6.6,
          6.6,
          5.2,
          8.2,
          8,
          7.6,
          7.5,
          7.7,
          7.6,
          7.6,
          7.5,
          7,
          7.5,
          7.4,
          7.7,
          7.8,
          7.7,
          7.5,
          7.6,
          8.2,
          7.2,
          7.7,
          7.6,
          7.8,
          7.6,
          7.5,
          7.7,
          7.8,
          8.1,
          7.6,
          7.2,
          7.5,
          7.5,
          8,
          7.9,
          8,
          7.9,
          8.1,
          9,
          8.9,
          8.4,
          8.2,
          9.1,
          9.7,
          8.2,
          8.1,
          9.2,
          8.2,
          6.3,
          6.3,
          7.2,
          7.5,
          7.5,
          7.3,
          7.6,
          7.7,
          7.6,
          8,
          8.3,
          8.1,
          8.1,
          8.2,
          9.6,
          9.3,
          9,
          9,
          9.3,
          9,
          9.1,
          9.1,
          9.5,
          9.7,
          5.6,
          5.6,
          7.6,
          7.7,
          7.7,
          7.8,
          8.3,
          8.9,
          8.6,
          8.9,
          8.5,
          8.5,
          7.5,
          7,
          7.4,
          7.5,
          7.8,
          7.9,
          7.8,
          7.8,
          6.5,
          6.3,
          6.2,
          6.3,
          7.8,
          7.6,
          7.9,
          8,
          7.6,
          8.1,
          8.3,
          8,
          7.5,
          7.3,
          7.7,
          7.9,
          8.1,
          8.1,
          8.2,
          7.8,
          8.3,
          9,
          7.9,
          8.1,
          8.9,
          9.3,
          7.9,
          7,
          6.3,
          7.1,
          7.1,
          6.6,
          6.7,
          9.1,
          9.2,
          9.2,
          9.1,
          9.2,
          9.1,
          9.3,
          9.4,
          9.3,
          9.2,
          9,
          9.2,
          9.1,
          9.3,
          9.2,
          9.5,
          9.3,
          9.2,
          9.1,
          9.3,
          9.2,
          9.5,
          9.5,
          9.7,
          9.7,
          9.7,
          9.7,
          9.4,
          9.2,
          9.5,
          9.5,
          8.5,
          8.6,
          5.3,
          8.3,
          8.1,
          7.8,
          8,
          7.8,
          7.4,
          7.4,
          7.7,
          7.9,
          7.8,
          8.9,
          8.2,
          9.1,
          7.9,
          7.9,
          7.3,
          7.6,
          7.5,
          8.1,
          7.9,
          7.4,
          7.2,
          7.8,
          9.1,
          9.1,
          8.2,
          7.9,
          7.8,
          9.2,
          8.6,
          7.9,
          7.5,
          7.5,
          7.5,
          7.6,
          7.3,
          7.3,
          7.3,
          7.1,
          7.2,
          7.3,
          7.5,
          7.3,
          7.7,
          7.7,
          7.6,
          7.5,
          7.7,
          8.1,
          5.5,
          8.2,
          7.5,
          7.3,
          7.9,
          7.6,
          7.5,
          7.6,
          7,
          7,
          7.2,
          8.2,
          9,
          7.9,
          7.6,
          7.5,
          7.3,
          7.1,
          7.3,
          7.3,
          7,
          6.9,
          7.2,
          7.7,
          7.6,
          7.6,
          7.8,
          7.4,
          7.9,
          7.9,
          7.6,
          7.4,
          7.4,
          6.9,
          6.8,
          6.7,
          6.6,
          7.5,
          7.4,
          7.2,
          7.3,
          7.2,
          7.5,
          7.8,
          7.9,
          8.3,
          7.8,
          7.3,
          5.5,
          7.4,
          7.1,
          7.6,
          7.8,
          7.4,
          7.3,
          7.9,
          7.5,
          7.6,
          7.2,
          7.2,
          7.3,
          7.8,
          7.5,
          7.4,
          7.5,
          8,
          7.6,
          7.7,
          7.4,
          7.3,
          7.5,
          8.9,
          7.9,
          7.9,
          9.2,
          8.2,
          7.6,
          7.9,
          7.9,
          7.9,
          7.8,
          7.6,
          8.3,
          8,
          6.7,
          6.7,
          6.7,
          8.1,
          7.8,
          8,
          7.7,
          7.7,
          7.9,
          7.8,
          7.9,
          7.8,
          8,
          7.7,
          7.4,
          7.5,
          8.4,
          8.4,
          7.9,
          7.5,
          9,
          7.6,
          7.6,
          8.4,
          7.9,
          8,
          7.6,
          7.4,
          7.9,
          8.4,
          7.7,
          7.6,
          7.9,
          8.2,
          8.2,
          9.1,
          9.1,
          9.4,
          7.6,
          7.5,
          7.8,
          7.9,
          7.8,
          7.6,
          8,
          7.7,
          7.8,
          7.7,
          7.9,
          8.4,
          8.6,
          9.3,
          9.3,
          8.5,
          8.6,
          8.1,
          7.7,
          8,
          7.8,
          8,
          7.9,
          8.6,
          7.7,
          7.8,
          7.5,
          7.5,
          8.2,
          7.3,
          7.2,
          8,
          8.4,
          9.1,
          9.3,
          9.1,
          8.9,
          9.2,
          9.2,
          9.3,
          9.2,
          9.3,
          9.6,
          8.3,
          9.1,
          7.8,
          8.1,
          7.8,
          8.3,
          8.6,
          7.6,
          9.1,
          8.8,
          8.6,
          8.3,
          9.4,
          9,
          9.1,
          9.2,
          9.4,
          9,
          9.3,
          9.6,
          8.8,
          9.2,
          8.7,
          7.8,
          7.6,
          8,
          9.4,
          7.7,
          8.4,
          9,
          8.7,
          9,
          9.1,
          7.8,
          7.7,
          7.7,
          9.1,
          9.2,
          9.1,
          8.7,
          6.4,
          6.2,
          6.3,
          6.4,
          7.1,
          7.7,
          7.4,
          7.5,
          7.5,
          7.5,
          7.5,
          7.4,
          7.8,
          7.8,
          7.6,
          7.9,
          8.4,
          8.5,
          7.2,
          7.7,
          9.1,
          7.8,
          8.7,
          9.1,
          8.1,
          7.9,
          7.9,
          8,
          7.2,
          7.5,
          7,
          7.1,
          7.7,
          6.8,
          6.8,
          7,
          7.6,
          7.6,
          8.4,
          7.9,
          7.7,
          7.5,
          7.8,
          7.7,
          7.3,
          7.4,
          8.1,
          7.9,
          7.6,
          7.6,
          7.7,
          8.2,
          8.5,
          8.5,
          8.2,
          8.9,
          9.1,
          9.4,
          8.9,
          9.1,
          8.4,
          9.7,
          9,
          9,
          8.9,
          8.9,
          8.6,
          8.5,
          8.9,
          9,
          9.5,
          9.1,
          9.1,
          8.9,
          8.5,
          7.9,
          8.3,
          8.8,
          9.4,
          8.9,
          7.8,
          8.4,
          7.9,
          8.7,
          7.9,
          9.2,
          9.5,
          9.1,
          9.1,
          8,
          8.9,
          8.1,
          8.4,
          7.9,
          8.6,
          8.6,
          7.8,
          7.7,
          7.8,
          7.8,
          7.8,
          7.8,
          9.3,
          9.3,
          8.9,
          9,
          8.5,
          8.9,
          8.6,
          9.3,
          9,
          7.9,
          7.5,
          7.9,
          7.7,
          9.1,
          8.1,
          9,
          8.6,
          8,
          8.5,
          9.4,
          9.2,
          9.6,
          9.5,
          8.9,
          9,
          8.6,
          8.6,
          9,
          9.4,
          8.6,
          7.7,
          7.8,
          6.3,
          6.5,
          6.6,
          6.6,
          7.4,
          7.2,
          8.3,
          7.7,
          7.6,
          7.3,
          8.7,
          9.3,
          9,
          9.1,
          5.9,
          5.8,
          8.9,
          8.6,
          9.1,
          8.6,
          7.6,
          7.5,
          7.1,
          7,
          8.5,
          8.6,
          6,
          8.6,
          9,
          8.9,
          8.2,
          9.2,
          9.2,
          9.5,
          9.5,
          8.9,
          9,
          8,
          8.1,
          7.5,
          6.9,
          8,
          8.2,
          8.9,
          9,
          7.7,
          7.5,
          7.5,
          7.4,
          7.6,
          7.5,
          7.8,
          8.9,
          9.3,
          8,
          7.8,
          7.7,
          7.6,
          8.8,
          9.3,
          9.1,
          8.9,
          8.6,
          7.7,
          8.6,
          7.7,
          7.6,
          7.7,
          9,
          8.9,
          8.2,
          8.7,
          8.6,
          8.4,
          8.1,
          9,
          9.5,
          9.5,
          9,
          8.9,
          8.9,
          9.2,
          9.3,
          9.2,
          9.5,
          9.4,
          9.4,
          9.5,
          9.4,
          9.1,
          9.1,
          9.5,
          9.3,
          9.5,
          9.3,
          9.2,
          9.4,
          9.4,
          9,
          9.1,
          9.1,
          9.5,
          8.4,
          7.5,
          7.8,
          7.7,
          8.1,
          8.9,
          8.2,
          8.9,
          7.9,
          8.9,
          7.8,
          9,
          9.5,
          9.2,
          8.9,
          8.9,
          8.2,
          9.4,
          8.9,
          7.7,
          8.2,
          8.7,
          6.6,
          6.6,
          6.5,
          7.2,
          7,
          8,
          7.7,
          7.6,
          8.8,
          8.3,
          9.7,
          9.2,
          9.5,
          9,
          7.7,
          7.6,
          7.7,
          7.7,
          7.5,
          7.7,
          9,
          9.5,
          9.5,
          9.5,
          7,
          7.5,
          7.7,
          7.6,
          9.5,
          7.7,
          7.7,
          9,
          7.2,
          8.3,
          7.7,
          8.4,
          7.3,
          7.1,
          8.1,
          9.3,
          9.1,
          9.2,
          7.8,
          9,
          9.3,
          8.1,
          9.1,
          8,
          7.9,
          8.8,
          7.4,
          8.7,
          8.5,
          7.6,
          8.3,
          9.1,
          9.5,
          9.7,
          8.1,
          8.7,
          8.3,
          9.5,
          9.2,
          8.9,
          9.2,
          9.2,
          9.1,
          9.3,
          7.7,
          9.4,
          9,
          9.4,
          8.5,
          8.6,
          8.3,
          8.8,
          8.8,
          8.2,
          7.9,
          7.9,
          8.5,
          9.1,
          9.3,
          9.2,
          9.7,
          8.4,
          8.3,
          8.5,
          9.5,
          8.1,
          8,
          9,
          8.8,
          8.6,
          8.6,
          9.7,
          9.6,
          8.1,
          8.6,
          8.7,
          8.3,
          7.8,
          7.4,
          7.4,
          9.2,
          8.1,
          8.4,
          9.7,
          8.3,
          9.7,
          9.7,
          8.3,
          8.2
         ],
         "yaxis": "y2"
        }
       ],
       "layout": {
        "annotations": [
         {
          "font": {
           "size": 16
          },
          "showarrow": false,
          "text": "Votação ao longo do tempo",
          "x": 0.5,
          "xanchor": "center",
          "xref": "paper",
          "y": 1,
          "yanchor": "bottom",
          "yref": "paper"
         },
         {
          "font": {
           "size": 16
          },
          "showarrow": false,
          "text": "Avaliação ao longo do tempo",
          "x": 0.5,
          "xanchor": "center",
          "xref": "paper",
          "y": 0.375,
          "yanchor": "bottom",
          "yref": "paper"
         }
        ],
        "height": 700,
        "showlegend": false,
        "template": {
         "data": {
          "bar": [
           {
            "error_x": {
             "color": "#2a3f5f"
            },
            "error_y": {
             "color": "#2a3f5f"
            },
            "marker": {
             "line": {
              "color": "#E5ECF6",
              "width": 0.5
             },
             "pattern": {
              "fillmode": "overlay",
              "size": 10,
              "solidity": 0.2
             }
            },
            "type": "bar"
           }
          ],
          "barpolar": [
           {
            "marker": {
             "line": {
              "color": "#E5ECF6",
              "width": 0.5
             },
             "pattern": {
              "fillmode": "overlay",
              "size": 10,
              "solidity": 0.2
             }
            },
            "type": "barpolar"
           }
          ],
          "carpet": [
           {
            "aaxis": {
             "endlinecolor": "#2a3f5f",
             "gridcolor": "white",
             "linecolor": "white",
             "minorgridcolor": "white",
             "startlinecolor": "#2a3f5f"
            },
            "baxis": {
             "endlinecolor": "#2a3f5f",
             "gridcolor": "white",
             "linecolor": "white",
             "minorgridcolor": "white",
             "startlinecolor": "#2a3f5f"
            },
            "type": "carpet"
           }
          ],
          "choropleth": [
           {
            "colorbar": {
             "outlinewidth": 0,
             "ticks": ""
            },
            "type": "choropleth"
           }
          ],
          "contour": [
           {
            "colorbar": {
             "outlinewidth": 0,
             "ticks": ""
            },
            "colorscale": [
             [
              0,
              "#0d0887"
             ],
             [
              0.1111111111111111,
              "#46039f"
             ],
             [
              0.2222222222222222,
              "#7201a8"
             ],
             [
              0.3333333333333333,
              "#9c179e"
             ],
             [
              0.4444444444444444,
              "#bd3786"
             ],
             [
              0.5555555555555556,
              "#d8576b"
             ],
             [
              0.6666666666666666,
              "#ed7953"
             ],
             [
              0.7777777777777778,
              "#fb9f3a"
             ],
             [
              0.8888888888888888,
              "#fdca26"
             ],
             [
              1,
              "#f0f921"
             ]
            ],
            "type": "contour"
           }
          ],
          "contourcarpet": [
           {
            "colorbar": {
             "outlinewidth": 0,
             "ticks": ""
            },
            "type": "contourcarpet"
           }
          ],
          "heatmap": [
           {
            "colorbar": {
             "outlinewidth": 0,
             "ticks": ""
            },
            "colorscale": [
             [
              0,
              "#0d0887"
             ],
             [
              0.1111111111111111,
              "#46039f"
             ],
             [
              0.2222222222222222,
              "#7201a8"
             ],
             [
              0.3333333333333333,
              "#9c179e"
             ],
             [
              0.4444444444444444,
              "#bd3786"
             ],
             [
              0.5555555555555556,
              "#d8576b"
             ],
             [
              0.6666666666666666,
              "#ed7953"
             ],
             [
              0.7777777777777778,
              "#fb9f3a"
             ],
             [
              0.8888888888888888,
              "#fdca26"
             ],
             [
              1,
              "#f0f921"
             ]
            ],
            "type": "heatmap"
           }
          ],
          "heatmapgl": [
           {
            "colorbar": {
             "outlinewidth": 0,
             "ticks": ""
            },
            "colorscale": [
             [
              0,
              "#0d0887"
             ],
             [
              0.1111111111111111,
              "#46039f"
             ],
             [
              0.2222222222222222,
              "#7201a8"
             ],
             [
              0.3333333333333333,
              "#9c179e"
             ],
             [
              0.4444444444444444,
              "#bd3786"
             ],
             [
              0.5555555555555556,
              "#d8576b"
             ],
             [
              0.6666666666666666,
              "#ed7953"
             ],
             [
              0.7777777777777778,
              "#fb9f3a"
             ],
             [
              0.8888888888888888,
              "#fdca26"
             ],
             [
              1,
              "#f0f921"
             ]
            ],
            "type": "heatmapgl"
           }
          ],
          "histogram": [
           {
            "marker": {
             "pattern": {
              "fillmode": "overlay",
              "size": 10,
              "solidity": 0.2
             }
            },
            "type": "histogram"
           }
          ],
          "histogram2d": [
           {
            "colorbar": {
             "outlinewidth": 0,
             "ticks": ""
            },
            "colorscale": [
             [
              0,
              "#0d0887"
             ],
             [
              0.1111111111111111,
              "#46039f"
             ],
             [
              0.2222222222222222,
              "#7201a8"
             ],
             [
              0.3333333333333333,
              "#9c179e"
             ],
             [
              0.4444444444444444,
              "#bd3786"
             ],
             [
              0.5555555555555556,
              "#d8576b"
             ],
             [
              0.6666666666666666,
              "#ed7953"
             ],
             [
              0.7777777777777778,
              "#fb9f3a"
             ],
             [
              0.8888888888888888,
              "#fdca26"
             ],
             [
              1,
              "#f0f921"
             ]
            ],
            "type": "histogram2d"
           }
          ],
          "histogram2dcontour": [
           {
            "colorbar": {
             "outlinewidth": 0,
             "ticks": ""
            },
            "colorscale": [
             [
              0,
              "#0d0887"
             ],
             [
              0.1111111111111111,
              "#46039f"
             ],
             [
              0.2222222222222222,
              "#7201a8"
             ],
             [
              0.3333333333333333,
              "#9c179e"
             ],
             [
              0.4444444444444444,
              "#bd3786"
             ],
             [
              0.5555555555555556,
              "#d8576b"
             ],
             [
              0.6666666666666666,
              "#ed7953"
             ],
             [
              0.7777777777777778,
              "#fb9f3a"
             ],
             [
              0.8888888888888888,
              "#fdca26"
             ],
             [
              1,
              "#f0f921"
             ]
            ],
            "type": "histogram2dcontour"
           }
          ],
          "mesh3d": [
           {
            "colorbar": {
             "outlinewidth": 0,
             "ticks": ""
            },
            "type": "mesh3d"
           }
          ],
          "parcoords": [
           {
            "line": {
             "colorbar": {
              "outlinewidth": 0,
              "ticks": ""
             }
            },
            "type": "parcoords"
           }
          ],
          "pie": [
           {
            "automargin": true,
            "type": "pie"
           }
          ],
          "scatter": [
           {
            "fillpattern": {
             "fillmode": "overlay",
             "size": 10,
             "solidity": 0.2
            },
            "type": "scatter"
           }
          ],
          "scatter3d": [
           {
            "line": {
             "colorbar": {
              "outlinewidth": 0,
              "ticks": ""
             }
            },
            "marker": {
             "colorbar": {
              "outlinewidth": 0,
              "ticks": ""
             }
            },
            "type": "scatter3d"
           }
          ],
          "scattercarpet": [
           {
            "marker": {
             "colorbar": {
              "outlinewidth": 0,
              "ticks": ""
             }
            },
            "type": "scattercarpet"
           }
          ],
          "scattergeo": [
           {
            "marker": {
             "colorbar": {
              "outlinewidth": 0,
              "ticks": ""
             }
            },
            "type": "scattergeo"
           }
          ],
          "scattergl": [
           {
            "marker": {
             "colorbar": {
              "outlinewidth": 0,
              "ticks": ""
             }
            },
            "type": "scattergl"
           }
          ],
          "scattermapbox": [
           {
            "marker": {
             "colorbar": {
              "outlinewidth": 0,
              "ticks": ""
             }
            },
            "type": "scattermapbox"
           }
          ],
          "scatterpolar": [
           {
            "marker": {
             "colorbar": {
              "outlinewidth": 0,
              "ticks": ""
             }
            },
            "type": "scatterpolar"
           }
          ],
          "scatterpolargl": [
           {
            "marker": {
             "colorbar": {
              "outlinewidth": 0,
              "ticks": ""
             }
            },
            "type": "scatterpolargl"
           }
          ],
          "scatterternary": [
           {
            "marker": {
             "colorbar": {
              "outlinewidth": 0,
              "ticks": ""
             }
            },
            "type": "scatterternary"
           }
          ],
          "surface": [
           {
            "colorbar": {
             "outlinewidth": 0,
             "ticks": ""
            },
            "colorscale": [
             [
              0,
              "#0d0887"
             ],
             [
              0.1111111111111111,
              "#46039f"
             ],
             [
              0.2222222222222222,
              "#7201a8"
             ],
             [
              0.3333333333333333,
              "#9c179e"
             ],
             [
              0.4444444444444444,
              "#bd3786"
             ],
             [
              0.5555555555555556,
              "#d8576b"
             ],
             [
              0.6666666666666666,
              "#ed7953"
             ],
             [
              0.7777777777777778,
              "#fb9f3a"
             ],
             [
              0.8888888888888888,
              "#fdca26"
             ],
             [
              1,
              "#f0f921"
             ]
            ],
            "type": "surface"
           }
          ],
          "table": [
           {
            "cells": {
             "fill": {
              "color": "#EBF0F8"
             },
             "line": {
              "color": "white"
             }
            },
            "header": {
             "fill": {
              "color": "#C8D4E3"
             },
             "line": {
              "color": "white"
             }
            },
            "type": "table"
           }
          ]
         },
         "layout": {
          "annotationdefaults": {
           "arrowcolor": "#2a3f5f",
           "arrowhead": 0,
           "arrowwidth": 1
          },
          "autotypenumbers": "strict",
          "coloraxis": {
           "colorbar": {
            "outlinewidth": 0,
            "ticks": ""
           }
          },
          "colorscale": {
           "diverging": [
            [
             0,
             "#8e0152"
            ],
            [
             0.1,
             "#c51b7d"
            ],
            [
             0.2,
             "#de77ae"
            ],
            [
             0.3,
             "#f1b6da"
            ],
            [
             0.4,
             "#fde0ef"
            ],
            [
             0.5,
             "#f7f7f7"
            ],
            [
             0.6,
             "#e6f5d0"
            ],
            [
             0.7,
             "#b8e186"
            ],
            [
             0.8,
             "#7fbc41"
            ],
            [
             0.9,
             "#4d9221"
            ],
            [
             1,
             "#276419"
            ]
           ],
           "sequential": [
            [
             0,
             "#0d0887"
            ],
            [
             0.1111111111111111,
             "#46039f"
            ],
            [
             0.2222222222222222,
             "#7201a8"
            ],
            [
             0.3333333333333333,
             "#9c179e"
            ],
            [
             0.4444444444444444,
             "#bd3786"
            ],
            [
             0.5555555555555556,
             "#d8576b"
            ],
            [
             0.6666666666666666,
             "#ed7953"
            ],
            [
             0.7777777777777778,
             "#fb9f3a"
            ],
            [
             0.8888888888888888,
             "#fdca26"
            ],
            [
             1,
             "#f0f921"
            ]
           ],
           "sequentialminus": [
            [
             0,
             "#0d0887"
            ],
            [
             0.1111111111111111,
             "#46039f"
            ],
            [
             0.2222222222222222,
             "#7201a8"
            ],
            [
             0.3333333333333333,
             "#9c179e"
            ],
            [
             0.4444444444444444,
             "#bd3786"
            ],
            [
             0.5555555555555556,
             "#d8576b"
            ],
            [
             0.6666666666666666,
             "#ed7953"
            ],
            [
             0.7777777777777778,
             "#fb9f3a"
            ],
            [
             0.8888888888888888,
             "#fdca26"
            ],
            [
             1,
             "#f0f921"
            ]
           ]
          },
          "colorway": [
           "#636efa",
           "#EF553B",
           "#00cc96",
           "#ab63fa",
           "#FFA15A",
           "#19d3f3",
           "#FF6692",
           "#B6E880",
           "#FF97FF",
           "#FECB52"
          ],
          "font": {
           "color": "#2a3f5f"
          },
          "geo": {
           "bgcolor": "white",
           "lakecolor": "white",
           "landcolor": "#E5ECF6",
           "showlakes": true,
           "showland": true,
           "subunitcolor": "white"
          },
          "hoverlabel": {
           "align": "left"
          },
          "hovermode": "closest",
          "mapbox": {
           "style": "light"
          },
          "paper_bgcolor": "white",
          "plot_bgcolor": "#E5ECF6",
          "polar": {
           "angularaxis": {
            "gridcolor": "white",
            "linecolor": "white",
            "ticks": ""
           },
           "bgcolor": "#E5ECF6",
           "radialaxis": {
            "gridcolor": "white",
            "linecolor": "white",
            "ticks": ""
           }
          },
          "scene": {
           "xaxis": {
            "backgroundcolor": "#E5ECF6",
            "gridcolor": "white",
            "gridwidth": 2,
            "linecolor": "white",
            "showbackground": true,
            "ticks": "",
            "zerolinecolor": "white"
           },
           "yaxis": {
            "backgroundcolor": "#E5ECF6",
            "gridcolor": "white",
            "gridwidth": 2,
            "linecolor": "white",
            "showbackground": true,
            "ticks": "",
            "zerolinecolor": "white"
           },
           "zaxis": {
            "backgroundcolor": "#E5ECF6",
            "gridcolor": "white",
            "gridwidth": 2,
            "linecolor": "white",
            "showbackground": true,
            "ticks": "",
            "zerolinecolor": "white"
           }
          },
          "shapedefaults": {
           "line": {
            "color": "#2a3f5f"
           }
          },
          "ternary": {
           "aaxis": {
            "gridcolor": "white",
            "linecolor": "white",
            "ticks": ""
           },
           "baxis": {
            "gridcolor": "white",
            "linecolor": "white",
            "ticks": ""
           },
           "bgcolor": "#E5ECF6",
           "caxis": {
            "gridcolor": "white",
            "linecolor": "white",
            "ticks": ""
           }
          },
          "title": {
           "x": 0.05
          },
          "xaxis": {
           "automargin": true,
           "gridcolor": "white",
           "linecolor": "white",
           "ticks": "",
           "title": {
            "standoff": 15
           },
           "zerolinecolor": "white",
           "zerolinewidth": 2
          },
          "yaxis": {
           "automargin": true,
           "gridcolor": "white",
           "linecolor": "white",
           "ticks": "",
           "title": {
            "standoff": 15
           },
           "zerolinecolor": "white",
           "zerolinewidth": 2
          }
         }
        },
        "width": 1600,
        "xaxis": {
         "anchor": "y",
         "domain": [
          0,
          1
         ],
         "title": {
          "text": "Data de Lançamento"
         }
        },
        "xaxis2": {
         "anchor": "y2",
         "domain": [
          0,
          1
         ],
         "title": {
          "text": "Data de Lançamento"
         }
        },
        "yaxis": {
         "anchor": "x",
         "domain": [
          0.625,
          1
         ],
         "title": {
          "text": "Votos"
         }
        },
        "yaxis2": {
         "anchor": "x2",
         "domain": [
          0,
          0.375
         ],
         "title": {
          "text": "Avaliações"
         }
        }
       }
      }
     },
     "metadata": {},
     "output_type": "display_data"
    }
   ],
   "source": [
    "fig = sp.make_subplots(rows=2, cols=1, subplot_titles=['Votação ao longo do tempo', 'Avaliação ao longo do tempo'])\n",
    "\n",
    "fig.add_trace(go.Scatter(x=df['Lançamento'], y=df['Votos'], mode='lines'), row=1, col=1)\n",
    "fig.update_xaxes(title_text=\"Data de Lançamento\", row=1, col=1)\n",
    "fig.update_yaxes(title_text=\"Votos\", row=1, col=1)\n",
    "\n",
    "fig.add_trace(go.Scatter(x=df['Lançamento'], y=df['Avaliação'], mode='lines'), row=2, col=1)\n",
    "fig.update_xaxes(title_text=\"Data de Lançamento\", row=2, col=1)\n",
    "fig.update_yaxes(title_text=\"Avaliações\", row=2, col=1)\n",
    "\n",
    "fig.update_layout(height=700, width=1600, showlegend=False)\n",
    "fig.show()"
   ]
  },
  {
   "cell_type": "markdown",
   "metadata": {},
   "source": [
    "- Ao longo tempo, não parece que houve uma mudança na quantidade de votos. No começo houve uma quantidade alta de votos (como visto anteriormente) e em seguida ocorreu uma queda que se manteve com alguns picos.\n",
    "- Por volta de 2021 os picos começaram a se tornar mais frequentes, tendo um aumento na presença de episódios em destaque mais vezes. Isso sugere que a qualidade dos episódios e/ou da história pode estar melhorando e resultando nos picos com maior frequência, pois os telespectadores estão gostando e estão voltando a votar nos episódios que gostaram.\n",
    "- As avaliações variaram bastante, mas manteve uma média que aumentou, principalmente, a partir de 2015. A notas que estão abaixo de 6 provavelmente são fillers."
   ]
  },
  {
   "cell_type": "code",
   "execution_count": 402,
   "metadata": {},
   "outputs": [
    {
     "data": {
      "text/html": [
       "<div>\n",
       "<style scoped>\n",
       "    .dataframe tbody tr th:only-of-type {\n",
       "        vertical-align: middle;\n",
       "    }\n",
       "\n",
       "    .dataframe tbody tr th {\n",
       "        vertical-align: top;\n",
       "    }\n",
       "\n",
       "    .dataframe thead th {\n",
       "        text-align: right;\n",
       "    }\n",
       "</style>\n",
       "<table border=\"1\" class=\"dataframe\">\n",
       "  <thead>\n",
       "    <tr style=\"text-align: right;\">\n",
       "      <th></th>\n",
       "      <th>Episódio</th>\n",
       "      <th>Arco</th>\n",
       "      <th>Tipo</th>\n",
       "      <th>Título</th>\n",
       "      <th>Lançamento</th>\n",
       "      <th>Votos</th>\n",
       "      <th>Avaliação</th>\n",
       "    </tr>\n",
       "  </thead>\n",
       "  <tbody>\n",
       "    <tr>\n",
       "      <th>279</th>\n",
       "      <td>280</td>\n",
       "      <td>Enies Lobby</td>\n",
       "      <td>Filler</td>\n",
       "      <td>Otoko no Ikizama! Zoro no Waza, Usopp no Yume</td>\n",
       "      <td>2006-10-08</td>\n",
       "      <td>640</td>\n",
       "      <td>5.9</td>\n",
       "    </tr>\n",
       "    <tr>\n",
       "      <th>281</th>\n",
       "      <td>282</td>\n",
       "      <td>Enies Lobby</td>\n",
       "      <td>Filler</td>\n",
       "      <td>Wakare ga Otoko o Migaku! Sanji to Chopper</td>\n",
       "      <td>2006-10-22</td>\n",
       "      <td>633</td>\n",
       "      <td>5.9</td>\n",
       "    </tr>\n",
       "    <tr>\n",
       "      <th>282</th>\n",
       "      <td>283</td>\n",
       "      <td>Enies Lobby</td>\n",
       "      <td>Filler</td>\n",
       "      <td>Subete wa Nakama no Tame ni! Yami no Naka no R...</td>\n",
       "      <td>2006-10-29</td>\n",
       "      <td>636</td>\n",
       "      <td>5.9</td>\n",
       "    </tr>\n",
       "    <tr>\n",
       "      <th>290</th>\n",
       "      <td>291</td>\n",
       "      <td>Enies Lobby</td>\n",
       "      <td>Filler</td>\n",
       "      <td>Luffy Oyabun Futatabi! Yume ka Utsutsu ka Tomi...</td>\n",
       "      <td>2006-12-24</td>\n",
       "      <td>680</td>\n",
       "      <td>5.8</td>\n",
       "    </tr>\n",
       "    <tr>\n",
       "      <th>291</th>\n",
       "      <td>292</td>\n",
       "      <td>Enies Lobby</td>\n",
       "      <td>Filler</td>\n",
       "      <td>Oshiro de Mochimaki Dai Race! Akai Hana no Inbou</td>\n",
       "      <td>2007-01-07</td>\n",
       "      <td>749</td>\n",
       "      <td>5.6</td>\n",
       "    </tr>\n",
       "    <tr>\n",
       "      <th>302</th>\n",
       "      <td>303</td>\n",
       "      <td>Enies Lobby</td>\n",
       "      <td>Filler</td>\n",
       "      <td>Hannin wa Luffy Oyabun? Kieta Oozakura o Oe</td>\n",
       "      <td>2007-04-01</td>\n",
       "      <td>697</td>\n",
       "      <td>5.8</td>\n",
       "    </tr>\n",
       "    <tr>\n",
       "      <th>335</th>\n",
       "      <td>336</td>\n",
       "      <td>Ice Hunter</td>\n",
       "      <td>Filler</td>\n",
       "      <td>Shutsudou Chopperman! Mamore Nagisa no TV-kyoku</td>\n",
       "      <td>2007-12-23</td>\n",
       "      <td>763</td>\n",
       "      <td>5.2</td>\n",
       "    </tr>\n",
       "    <tr>\n",
       "      <th>405</th>\n",
       "      <td>406</td>\n",
       "      <td>Arquipélago de Sabaody</td>\n",
       "      <td>Filler</td>\n",
       "      <td>Jidaigeki Tokubetsu Hen: Luffy Oyabun Futatabi...</td>\n",
       "      <td>2009-06-21</td>\n",
       "      <td>672</td>\n",
       "      <td>5.6</td>\n",
       "    </tr>\n",
       "    <tr>\n",
       "      <th>406</th>\n",
       "      <td>407</td>\n",
       "      <td>Arquipélago de Sabaody</td>\n",
       "      <td>Filler</td>\n",
       "      <td>Jidaigeki Tokubetsu Hen: Yabure! Thriller Shou...</td>\n",
       "      <td>2009-06-28</td>\n",
       "      <td>655</td>\n",
       "      <td>5.6</td>\n",
       "    </tr>\n",
       "    <tr>\n",
       "      <th>491</th>\n",
       "      <td>492</td>\n",
       "      <td>Pós-Guerra</td>\n",
       "      <td>Filler</td>\n",
       "      <td>Saikyou Tag! Funtou, Luffy to Toriko!</td>\n",
       "      <td>2011-04-03</td>\n",
       "      <td>748</td>\n",
       "      <td>5.3</td>\n",
       "    </tr>\n",
       "    <tr>\n",
       "      <th>541</th>\n",
       "      <td>542</td>\n",
       "      <td>Ilha dos Homens-Peixe</td>\n",
       "      <td>Filler</td>\n",
       "      <td>Team Kessei! Chopper o Sukue</td>\n",
       "      <td>2012-04-08</td>\n",
       "      <td>549</td>\n",
       "      <td>5.5</td>\n",
       "    </tr>\n",
       "    <tr>\n",
       "      <th>589</th>\n",
       "      <td>590</td>\n",
       "      <td>Punk Hazard</td>\n",
       "      <td>Filler</td>\n",
       "      <td>Jijou Saikyou Colabo VS Umi no Taishokukan</td>\n",
       "      <td>2013-04-07</td>\n",
       "      <td>614</td>\n",
       "      <td>5.5</td>\n",
       "    </tr>\n",
       "    <tr>\n",
       "      <th>894</th>\n",
       "      <td>895</td>\n",
       "      <td>Rei do Ácido Carbônico</td>\n",
       "      <td>Filler</td>\n",
       "      <td>Side Story! The World's Greatest Bounty Hunter...</td>\n",
       "      <td>2019-07-28</td>\n",
       "      <td>679</td>\n",
       "      <td>5.9</td>\n",
       "    </tr>\n",
       "    <tr>\n",
       "      <th>895</th>\n",
       "      <td>896</td>\n",
       "      <td>Rei do Ácido Carbônico</td>\n",
       "      <td>Filler</td>\n",
       "      <td>Side Story! Clash! Luffy vs. the King of Carbo...</td>\n",
       "      <td>2019-08-04</td>\n",
       "      <td>684</td>\n",
       "      <td>5.8</td>\n",
       "    </tr>\n",
       "  </tbody>\n",
       "</table>\n",
       "</div>"
      ],
      "text/plain": [
       "     Episódio                    Arco    Tipo  \\\n",
       "279       280             Enies Lobby  Filler   \n",
       "281       282             Enies Lobby  Filler   \n",
       "282       283             Enies Lobby  Filler   \n",
       "290       291             Enies Lobby  Filler   \n",
       "291       292             Enies Lobby  Filler   \n",
       "302       303             Enies Lobby  Filler   \n",
       "335       336              Ice Hunter  Filler   \n",
       "405       406  Arquipélago de Sabaody  Filler   \n",
       "406       407  Arquipélago de Sabaody  Filler   \n",
       "491       492              Pós-Guerra  Filler   \n",
       "541       542   Ilha dos Homens-Peixe  Filler   \n",
       "589       590             Punk Hazard  Filler   \n",
       "894       895  Rei do Ácido Carbônico  Filler   \n",
       "895       896  Rei do Ácido Carbônico  Filler   \n",
       "\n",
       "                                                Título Lançamento  Votos  \\\n",
       "279      Otoko no Ikizama! Zoro no Waza, Usopp no Yume 2006-10-08    640   \n",
       "281         Wakare ga Otoko o Migaku! Sanji to Chopper 2006-10-22    633   \n",
       "282  Subete wa Nakama no Tame ni! Yami no Naka no R... 2006-10-29    636   \n",
       "290  Luffy Oyabun Futatabi! Yume ka Utsutsu ka Tomi... 2006-12-24    680   \n",
       "291   Oshiro de Mochimaki Dai Race! Akai Hana no Inbou 2007-01-07    749   \n",
       "302        Hannin wa Luffy Oyabun? Kieta Oozakura o Oe 2007-04-01    697   \n",
       "335    Shutsudou Chopperman! Mamore Nagisa no TV-kyoku 2007-12-23    763   \n",
       "405  Jidaigeki Tokubetsu Hen: Luffy Oyabun Futatabi... 2009-06-21    672   \n",
       "406  Jidaigeki Tokubetsu Hen: Yabure! Thriller Shou... 2009-06-28    655   \n",
       "491              Saikyou Tag! Funtou, Luffy to Toriko! 2011-04-03    748   \n",
       "541                       Team Kessei! Chopper o Sukue 2012-04-08    549   \n",
       "589         Jijou Saikyou Colabo VS Umi no Taishokukan 2013-04-07    614   \n",
       "894  Side Story! The World's Greatest Bounty Hunter... 2019-07-28    679   \n",
       "895  Side Story! Clash! Luffy vs. the King of Carbo... 2019-08-04    684   \n",
       "\n",
       "     Avaliação  \n",
       "279        5.9  \n",
       "281        5.9  \n",
       "282        5.9  \n",
       "290        5.8  \n",
       "291        5.6  \n",
       "302        5.8  \n",
       "335        5.2  \n",
       "405        5.6  \n",
       "406        5.6  \n",
       "491        5.3  \n",
       "541        5.5  \n",
       "589        5.5  \n",
       "894        5.9  \n",
       "895        5.8  "
      ]
     },
     "execution_count": 402,
     "metadata": {},
     "output_type": "execute_result"
    }
   ],
   "source": [
    "# Avaliações abaixo de 6\n",
    "df[df['Avaliação'] < 6]"
   ]
  },
  {
   "cell_type": "markdown",
   "metadata": {},
   "source": [
    "- Os picos do gráfico abaixo de avaliação 6 são todos referentes à episódios Filler."
   ]
  },
  {
   "cell_type": "markdown",
   "metadata": {},
   "source": [
    "#### Os fillers foram sendo menos votados e tiveram menos avaliações com o tempo?"
   ]
  },
  {
   "cell_type": "code",
   "execution_count": 403,
   "metadata": {},
   "outputs": [
    {
     "data": {
      "application/vnd.plotly.v1+json": {
       "config": {
        "plotlyServerURL": "https://plot.ly"
       },
       "data": [
        {
         "mode": "lines+markers",
         "type": "scatter",
         "x": [
          "2001-01-17T00:00:00",
          "2001-01-24T00:00:00",
          "2001-01-31T00:00:00",
          "2001-02-07T00:00:00",
          "2001-02-21T00:00:00",
          "2001-02-21T00:00:00",
          "2001-02-28T00:00:00",
          "2002-01-27T00:00:00",
          "2002-02-03T00:00:00",
          "2002-02-24T00:00:00",
          "2002-11-03T00:00:00",
          "2002-11-10T00:00:00",
          "2002-11-17T00:00:00",
          "2002-11-24T00:00:00",
          "2002-12-01T00:00:00",
          "2002-12-08T00:00:00",
          "2002-12-15T00:00:00",
          "2002-12-22T00:00:00",
          "2003-01-08T00:00:00",
          "2003-01-12T00:00:00",
          "2003-01-19T00:00:00",
          "2003-01-26T00:00:00",
          "2003-02-02T00:00:00",
          "2004-06-20T00:00:00",
          "2004-07-04T00:00:00",
          "2004-07-11T00:00:00",
          "2004-07-18T00:00:00",
          "2004-08-08T00:00:00",
          "2004-09-05T00:00:00",
          "2004-09-12T00:00:00",
          "2004-09-19T00:00:00",
          "2004-10-03T00:00:00",
          "2004-10-03T00:00:00",
          "2004-10-10T00:00:00",
          "2005-02-06T00:00:00",
          "2005-02-13T00:00:00",
          "2005-02-20T00:00:00",
          "2005-02-27T00:00:00",
          "2005-03-06T00:00:00",
          "2005-03-13T00:00:00",
          "2005-03-20T00:00:00",
          "2006-10-01T00:00:00",
          "2006-10-08T00:00:00",
          "2006-10-15T00:00:00",
          "2006-10-22T00:00:00",
          "2006-10-29T00:00:00",
          "2006-12-24T00:00:00",
          "2007-01-07T00:00:00",
          "2007-04-01T00:00:00",
          "2007-07-08T00:00:00",
          "2007-07-15T00:00:00",
          "2007-07-22T00:00:00",
          "2007-10-14T00:00:00",
          "2007-10-21T00:00:00",
          "2007-10-28T00:00:00",
          "2007-11-04T00:00:00",
          "2007-11-11T00:00:00",
          "2007-11-18T00:00:00",
          "2007-11-25T00:00:00",
          "2007-12-02T00:00:00",
          "2007-12-09T00:00:00",
          "2007-12-16T00:00:00",
          "2007-12-23T00:00:00",
          "2008-12-21T00:00:00",
          "2008-12-28T00:00:00",
          "2009-01-11T00:00:00",
          "2009-06-21T00:00:00",
          "2009-06-28T00:00:00",
          "2009-11-15T00:00:00",
          "2009-11-22T00:00:00",
          "2009-11-29T00:00:00",
          "2009-12-06T00:00:00",
          "2010-06-27T00:00:00",
          "2010-07-11T00:00:00",
          "2011-04-03T00:00:00",
          "2012-04-08T00:00:00",
          "2012-12-02T00:00:00",
          "2012-12-09T00:00:00",
          "2012-12-16T00:00:00",
          "2012-12-23T00:00:00",
          "2013-04-07T00:00:00",
          "2013-12-22T00:00:00",
          "2014-01-05T00:00:00",
          "2014-01-12T00:00:00",
          "2016-06-26T00:00:00",
          "2016-07-03T00:00:00",
          "2016-07-10T00:00:00",
          "2016-07-17T00:00:00",
          "2017-03-19T00:00:00",
          "2017-03-26T00:00:00",
          "2017-04-02T00:00:00",
          "2019-04-21T00:00:00",
          "2019-07-28T00:00:00",
          "2019-08-04T00:00:00",
          "2019-10-20T00:00:00",
          "2022-08-14T00:00:00",
          "2022-08-21T00:00:00"
         ],
         "xaxis": "x",
         "y": [
          1143,
          1138,
          1116,
          1101,
          1080,
          1068,
          1063,
          986,
          960,
          907,
          831,
          827,
          802,
          800,
          771,
          792,
          784,
          784,
          761,
          764,
          754,
          757,
          763,
          702,
          693,
          691,
          712,
          692,
          667,
          667,
          675,
          663,
          666,
          687,
          715,
          711,
          627,
          617,
          617,
          644,
          651,
          657,
          640,
          652,
          633,
          636,
          680,
          749,
          697,
          611,
          650,
          601,
          561,
          573,
          567,
          556,
          537,
          534,
          530,
          534,
          522,
          526,
          763,
          550,
          548,
          604,
          672,
          655,
          513,
          514,
          510,
          511,
          633,
          710,
          748,
          549,
          492,
          486,
          481,
          508,
          614,
          485,
          516,
          518,
          517,
          521,
          512,
          504,
          519,
          527,
          506,
          842,
          679,
          684,
          698,
          1362,
          1281
         ],
         "yaxis": "y"
        },
        {
         "mode": "lines+markers",
         "type": "scatter",
         "x": [
          "2001-01-17T00:00:00",
          "2001-01-24T00:00:00",
          "2001-01-31T00:00:00",
          "2001-02-07T00:00:00",
          "2001-02-21T00:00:00",
          "2001-02-21T00:00:00",
          "2001-02-28T00:00:00",
          "2002-01-27T00:00:00",
          "2002-02-03T00:00:00",
          "2002-02-24T00:00:00",
          "2002-11-03T00:00:00",
          "2002-11-10T00:00:00",
          "2002-11-17T00:00:00",
          "2002-11-24T00:00:00",
          "2002-12-01T00:00:00",
          "2002-12-08T00:00:00",
          "2002-12-15T00:00:00",
          "2002-12-22T00:00:00",
          "2003-01-08T00:00:00",
          "2003-01-12T00:00:00",
          "2003-01-19T00:00:00",
          "2003-01-26T00:00:00",
          "2003-02-02T00:00:00",
          "2004-06-20T00:00:00",
          "2004-07-04T00:00:00",
          "2004-07-11T00:00:00",
          "2004-07-18T00:00:00",
          "2004-08-08T00:00:00",
          "2004-09-05T00:00:00",
          "2004-09-12T00:00:00",
          "2004-09-19T00:00:00",
          "2004-10-03T00:00:00",
          "2004-10-03T00:00:00",
          "2004-10-10T00:00:00",
          "2005-02-06T00:00:00",
          "2005-02-13T00:00:00",
          "2005-02-20T00:00:00",
          "2005-02-27T00:00:00",
          "2005-03-06T00:00:00",
          "2005-03-13T00:00:00",
          "2005-03-20T00:00:00",
          "2006-10-01T00:00:00",
          "2006-10-08T00:00:00",
          "2006-10-15T00:00:00",
          "2006-10-22T00:00:00",
          "2006-10-29T00:00:00",
          "2006-12-24T00:00:00",
          "2007-01-07T00:00:00",
          "2007-04-01T00:00:00",
          "2007-07-08T00:00:00",
          "2007-07-15T00:00:00",
          "2007-07-22T00:00:00",
          "2007-10-14T00:00:00",
          "2007-10-21T00:00:00",
          "2007-10-28T00:00:00",
          "2007-11-04T00:00:00",
          "2007-11-11T00:00:00",
          "2007-11-18T00:00:00",
          "2007-11-25T00:00:00",
          "2007-12-02T00:00:00",
          "2007-12-09T00:00:00",
          "2007-12-16T00:00:00",
          "2007-12-23T00:00:00",
          "2008-12-21T00:00:00",
          "2008-12-28T00:00:00",
          "2009-01-11T00:00:00",
          "2009-06-21T00:00:00",
          "2009-06-28T00:00:00",
          "2009-11-15T00:00:00",
          "2009-11-22T00:00:00",
          "2009-11-29T00:00:00",
          "2009-12-06T00:00:00",
          "2010-06-27T00:00:00",
          "2010-07-11T00:00:00",
          "2011-04-03T00:00:00",
          "2012-04-08T00:00:00",
          "2012-12-02T00:00:00",
          "2012-12-09T00:00:00",
          "2012-12-16T00:00:00",
          "2012-12-23T00:00:00",
          "2013-04-07T00:00:00",
          "2013-12-22T00:00:00",
          "2014-01-05T00:00:00",
          "2014-01-12T00:00:00",
          "2016-06-26T00:00:00",
          "2016-07-03T00:00:00",
          "2016-07-10T00:00:00",
          "2016-07-17T00:00:00",
          "2017-03-19T00:00:00",
          "2017-03-26T00:00:00",
          "2017-04-02T00:00:00",
          "2019-04-21T00:00:00",
          "2019-07-28T00:00:00",
          "2019-08-04T00:00:00",
          "2019-10-20T00:00:00",
          "2022-08-14T00:00:00",
          "2022-08-21T00:00:00"
         ],
         "xaxis": "x2",
         "y": [
          7,
          6.7,
          6.6,
          6.5,
          6.6,
          6.9,
          7,
          6.9,
          6.9,
          7,
          7,
          6.5,
          6.7,
          6.7,
          6.9,
          6.5,
          6.6,
          6.5,
          6.8,
          6.7,
          6.6,
          6.6,
          7.4,
          7.1,
          7.3,
          7.1,
          7.4,
          7.5,
          7.3,
          7.3,
          7,
          7.2,
          7.2,
          7.5,
          7.2,
          7,
          6.7,
          7,
          6.8,
          6.5,
          6.6,
          6.3,
          5.9,
          6.1,
          5.9,
          5.9,
          5.8,
          5.6,
          5.8,
          6.3,
          6.1,
          6.7,
          6.7,
          6.3,
          6.4,
          6.5,
          6.4,
          6.5,
          6.5,
          6.3,
          6.6,
          6.6,
          5.2,
          6.3,
          6.3,
          7.2,
          5.6,
          5.6,
          6.5,
          6.3,
          6.2,
          6.3,
          6.6,
          6.7,
          5.3,
          5.5,
          6.9,
          6.8,
          6.7,
          6.6,
          5.5,
          6.7,
          6.7,
          6.7,
          6.4,
          6.2,
          6.3,
          6.4,
          6.8,
          6.8,
          7,
          6.3,
          5.9,
          5.8,
          6,
          7,
          7.5
         ],
         "yaxis": "y2"
        }
       ],
       "layout": {
        "height": 700,
        "showlegend": false,
        "template": {
         "data": {
          "bar": [
           {
            "error_x": {
             "color": "#2a3f5f"
            },
            "error_y": {
             "color": "#2a3f5f"
            },
            "marker": {
             "line": {
              "color": "#E5ECF6",
              "width": 0.5
             },
             "pattern": {
              "fillmode": "overlay",
              "size": 10,
              "solidity": 0.2
             }
            },
            "type": "bar"
           }
          ],
          "barpolar": [
           {
            "marker": {
             "line": {
              "color": "#E5ECF6",
              "width": 0.5
             },
             "pattern": {
              "fillmode": "overlay",
              "size": 10,
              "solidity": 0.2
             }
            },
            "type": "barpolar"
           }
          ],
          "carpet": [
           {
            "aaxis": {
             "endlinecolor": "#2a3f5f",
             "gridcolor": "white",
             "linecolor": "white",
             "minorgridcolor": "white",
             "startlinecolor": "#2a3f5f"
            },
            "baxis": {
             "endlinecolor": "#2a3f5f",
             "gridcolor": "white",
             "linecolor": "white",
             "minorgridcolor": "white",
             "startlinecolor": "#2a3f5f"
            },
            "type": "carpet"
           }
          ],
          "choropleth": [
           {
            "colorbar": {
             "outlinewidth": 0,
             "ticks": ""
            },
            "type": "choropleth"
           }
          ],
          "contour": [
           {
            "colorbar": {
             "outlinewidth": 0,
             "ticks": ""
            },
            "colorscale": [
             [
              0,
              "#0d0887"
             ],
             [
              0.1111111111111111,
              "#46039f"
             ],
             [
              0.2222222222222222,
              "#7201a8"
             ],
             [
              0.3333333333333333,
              "#9c179e"
             ],
             [
              0.4444444444444444,
              "#bd3786"
             ],
             [
              0.5555555555555556,
              "#d8576b"
             ],
             [
              0.6666666666666666,
              "#ed7953"
             ],
             [
              0.7777777777777778,
              "#fb9f3a"
             ],
             [
              0.8888888888888888,
              "#fdca26"
             ],
             [
              1,
              "#f0f921"
             ]
            ],
            "type": "contour"
           }
          ],
          "contourcarpet": [
           {
            "colorbar": {
             "outlinewidth": 0,
             "ticks": ""
            },
            "type": "contourcarpet"
           }
          ],
          "heatmap": [
           {
            "colorbar": {
             "outlinewidth": 0,
             "ticks": ""
            },
            "colorscale": [
             [
              0,
              "#0d0887"
             ],
             [
              0.1111111111111111,
              "#46039f"
             ],
             [
              0.2222222222222222,
              "#7201a8"
             ],
             [
              0.3333333333333333,
              "#9c179e"
             ],
             [
              0.4444444444444444,
              "#bd3786"
             ],
             [
              0.5555555555555556,
              "#d8576b"
             ],
             [
              0.6666666666666666,
              "#ed7953"
             ],
             [
              0.7777777777777778,
              "#fb9f3a"
             ],
             [
              0.8888888888888888,
              "#fdca26"
             ],
             [
              1,
              "#f0f921"
             ]
            ],
            "type": "heatmap"
           }
          ],
          "heatmapgl": [
           {
            "colorbar": {
             "outlinewidth": 0,
             "ticks": ""
            },
            "colorscale": [
             [
              0,
              "#0d0887"
             ],
             [
              0.1111111111111111,
              "#46039f"
             ],
             [
              0.2222222222222222,
              "#7201a8"
             ],
             [
              0.3333333333333333,
              "#9c179e"
             ],
             [
              0.4444444444444444,
              "#bd3786"
             ],
             [
              0.5555555555555556,
              "#d8576b"
             ],
             [
              0.6666666666666666,
              "#ed7953"
             ],
             [
              0.7777777777777778,
              "#fb9f3a"
             ],
             [
              0.8888888888888888,
              "#fdca26"
             ],
             [
              1,
              "#f0f921"
             ]
            ],
            "type": "heatmapgl"
           }
          ],
          "histogram": [
           {
            "marker": {
             "pattern": {
              "fillmode": "overlay",
              "size": 10,
              "solidity": 0.2
             }
            },
            "type": "histogram"
           }
          ],
          "histogram2d": [
           {
            "colorbar": {
             "outlinewidth": 0,
             "ticks": ""
            },
            "colorscale": [
             [
              0,
              "#0d0887"
             ],
             [
              0.1111111111111111,
              "#46039f"
             ],
             [
              0.2222222222222222,
              "#7201a8"
             ],
             [
              0.3333333333333333,
              "#9c179e"
             ],
             [
              0.4444444444444444,
              "#bd3786"
             ],
             [
              0.5555555555555556,
              "#d8576b"
             ],
             [
              0.6666666666666666,
              "#ed7953"
             ],
             [
              0.7777777777777778,
              "#fb9f3a"
             ],
             [
              0.8888888888888888,
              "#fdca26"
             ],
             [
              1,
              "#f0f921"
             ]
            ],
            "type": "histogram2d"
           }
          ],
          "histogram2dcontour": [
           {
            "colorbar": {
             "outlinewidth": 0,
             "ticks": ""
            },
            "colorscale": [
             [
              0,
              "#0d0887"
             ],
             [
              0.1111111111111111,
              "#46039f"
             ],
             [
              0.2222222222222222,
              "#7201a8"
             ],
             [
              0.3333333333333333,
              "#9c179e"
             ],
             [
              0.4444444444444444,
              "#bd3786"
             ],
             [
              0.5555555555555556,
              "#d8576b"
             ],
             [
              0.6666666666666666,
              "#ed7953"
             ],
             [
              0.7777777777777778,
              "#fb9f3a"
             ],
             [
              0.8888888888888888,
              "#fdca26"
             ],
             [
              1,
              "#f0f921"
             ]
            ],
            "type": "histogram2dcontour"
           }
          ],
          "mesh3d": [
           {
            "colorbar": {
             "outlinewidth": 0,
             "ticks": ""
            },
            "type": "mesh3d"
           }
          ],
          "parcoords": [
           {
            "line": {
             "colorbar": {
              "outlinewidth": 0,
              "ticks": ""
             }
            },
            "type": "parcoords"
           }
          ],
          "pie": [
           {
            "automargin": true,
            "type": "pie"
           }
          ],
          "scatter": [
           {
            "fillpattern": {
             "fillmode": "overlay",
             "size": 10,
             "solidity": 0.2
            },
            "type": "scatter"
           }
          ],
          "scatter3d": [
           {
            "line": {
             "colorbar": {
              "outlinewidth": 0,
              "ticks": ""
             }
            },
            "marker": {
             "colorbar": {
              "outlinewidth": 0,
              "ticks": ""
             }
            },
            "type": "scatter3d"
           }
          ],
          "scattercarpet": [
           {
            "marker": {
             "colorbar": {
              "outlinewidth": 0,
              "ticks": ""
             }
            },
            "type": "scattercarpet"
           }
          ],
          "scattergeo": [
           {
            "marker": {
             "colorbar": {
              "outlinewidth": 0,
              "ticks": ""
             }
            },
            "type": "scattergeo"
           }
          ],
          "scattergl": [
           {
            "marker": {
             "colorbar": {
              "outlinewidth": 0,
              "ticks": ""
             }
            },
            "type": "scattergl"
           }
          ],
          "scattermapbox": [
           {
            "marker": {
             "colorbar": {
              "outlinewidth": 0,
              "ticks": ""
             }
            },
            "type": "scattermapbox"
           }
          ],
          "scatterpolar": [
           {
            "marker": {
             "colorbar": {
              "outlinewidth": 0,
              "ticks": ""
             }
            },
            "type": "scatterpolar"
           }
          ],
          "scatterpolargl": [
           {
            "marker": {
             "colorbar": {
              "outlinewidth": 0,
              "ticks": ""
             }
            },
            "type": "scatterpolargl"
           }
          ],
          "scatterternary": [
           {
            "marker": {
             "colorbar": {
              "outlinewidth": 0,
              "ticks": ""
             }
            },
            "type": "scatterternary"
           }
          ],
          "surface": [
           {
            "colorbar": {
             "outlinewidth": 0,
             "ticks": ""
            },
            "colorscale": [
             [
              0,
              "#0d0887"
             ],
             [
              0.1111111111111111,
              "#46039f"
             ],
             [
              0.2222222222222222,
              "#7201a8"
             ],
             [
              0.3333333333333333,
              "#9c179e"
             ],
             [
              0.4444444444444444,
              "#bd3786"
             ],
             [
              0.5555555555555556,
              "#d8576b"
             ],
             [
              0.6666666666666666,
              "#ed7953"
             ],
             [
              0.7777777777777778,
              "#fb9f3a"
             ],
             [
              0.8888888888888888,
              "#fdca26"
             ],
             [
              1,
              "#f0f921"
             ]
            ],
            "type": "surface"
           }
          ],
          "table": [
           {
            "cells": {
             "fill": {
              "color": "#EBF0F8"
             },
             "line": {
              "color": "white"
             }
            },
            "header": {
             "fill": {
              "color": "#C8D4E3"
             },
             "line": {
              "color": "white"
             }
            },
            "type": "table"
           }
          ]
         },
         "layout": {
          "annotationdefaults": {
           "arrowcolor": "#2a3f5f",
           "arrowhead": 0,
           "arrowwidth": 1
          },
          "autotypenumbers": "strict",
          "coloraxis": {
           "colorbar": {
            "outlinewidth": 0,
            "ticks": ""
           }
          },
          "colorscale": {
           "diverging": [
            [
             0,
             "#8e0152"
            ],
            [
             0.1,
             "#c51b7d"
            ],
            [
             0.2,
             "#de77ae"
            ],
            [
             0.3,
             "#f1b6da"
            ],
            [
             0.4,
             "#fde0ef"
            ],
            [
             0.5,
             "#f7f7f7"
            ],
            [
             0.6,
             "#e6f5d0"
            ],
            [
             0.7,
             "#b8e186"
            ],
            [
             0.8,
             "#7fbc41"
            ],
            [
             0.9,
             "#4d9221"
            ],
            [
             1,
             "#276419"
            ]
           ],
           "sequential": [
            [
             0,
             "#0d0887"
            ],
            [
             0.1111111111111111,
             "#46039f"
            ],
            [
             0.2222222222222222,
             "#7201a8"
            ],
            [
             0.3333333333333333,
             "#9c179e"
            ],
            [
             0.4444444444444444,
             "#bd3786"
            ],
            [
             0.5555555555555556,
             "#d8576b"
            ],
            [
             0.6666666666666666,
             "#ed7953"
            ],
            [
             0.7777777777777778,
             "#fb9f3a"
            ],
            [
             0.8888888888888888,
             "#fdca26"
            ],
            [
             1,
             "#f0f921"
            ]
           ],
           "sequentialminus": [
            [
             0,
             "#0d0887"
            ],
            [
             0.1111111111111111,
             "#46039f"
            ],
            [
             0.2222222222222222,
             "#7201a8"
            ],
            [
             0.3333333333333333,
             "#9c179e"
            ],
            [
             0.4444444444444444,
             "#bd3786"
            ],
            [
             0.5555555555555556,
             "#d8576b"
            ],
            [
             0.6666666666666666,
             "#ed7953"
            ],
            [
             0.7777777777777778,
             "#fb9f3a"
            ],
            [
             0.8888888888888888,
             "#fdca26"
            ],
            [
             1,
             "#f0f921"
            ]
           ]
          },
          "colorway": [
           "#636efa",
           "#EF553B",
           "#00cc96",
           "#ab63fa",
           "#FFA15A",
           "#19d3f3",
           "#FF6692",
           "#B6E880",
           "#FF97FF",
           "#FECB52"
          ],
          "font": {
           "color": "#2a3f5f"
          },
          "geo": {
           "bgcolor": "white",
           "lakecolor": "white",
           "landcolor": "#E5ECF6",
           "showlakes": true,
           "showland": true,
           "subunitcolor": "white"
          },
          "hoverlabel": {
           "align": "left"
          },
          "hovermode": "closest",
          "mapbox": {
           "style": "light"
          },
          "paper_bgcolor": "white",
          "plot_bgcolor": "#E5ECF6",
          "polar": {
           "angularaxis": {
            "gridcolor": "white",
            "linecolor": "white",
            "ticks": ""
           },
           "bgcolor": "#E5ECF6",
           "radialaxis": {
            "gridcolor": "white",
            "linecolor": "white",
            "ticks": ""
           }
          },
          "scene": {
           "xaxis": {
            "backgroundcolor": "#E5ECF6",
            "gridcolor": "white",
            "gridwidth": 2,
            "linecolor": "white",
            "showbackground": true,
            "ticks": "",
            "zerolinecolor": "white"
           },
           "yaxis": {
            "backgroundcolor": "#E5ECF6",
            "gridcolor": "white",
            "gridwidth": 2,
            "linecolor": "white",
            "showbackground": true,
            "ticks": "",
            "zerolinecolor": "white"
           },
           "zaxis": {
            "backgroundcolor": "#E5ECF6",
            "gridcolor": "white",
            "gridwidth": 2,
            "linecolor": "white",
            "showbackground": true,
            "ticks": "",
            "zerolinecolor": "white"
           }
          },
          "shapedefaults": {
           "line": {
            "color": "#2a3f5f"
           }
          },
          "ternary": {
           "aaxis": {
            "gridcolor": "white",
            "linecolor": "white",
            "ticks": ""
           },
           "baxis": {
            "gridcolor": "white",
            "linecolor": "white",
            "ticks": ""
           },
           "bgcolor": "#E5ECF6",
           "caxis": {
            "gridcolor": "white",
            "linecolor": "white",
            "ticks": ""
           }
          },
          "title": {
           "x": 0.05
          },
          "xaxis": {
           "automargin": true,
           "gridcolor": "white",
           "linecolor": "white",
           "ticks": "",
           "title": {
            "standoff": 15
           },
           "zerolinecolor": "white",
           "zerolinewidth": 2
          },
          "yaxis": {
           "automargin": true,
           "gridcolor": "white",
           "linecolor": "white",
           "ticks": "",
           "title": {
            "standoff": 15
           },
           "zerolinecolor": "white",
           "zerolinewidth": 2
          }
         }
        },
        "width": 1600,
        "xaxis": {
         "anchor": "y",
         "domain": [
          0,
          1
         ],
         "title": {
          "text": "Data de Lançamento"
         }
        },
        "xaxis2": {
         "anchor": "y2",
         "domain": [
          0,
          1
         ],
         "title": {
          "text": "Data de Lançamento"
         }
        },
        "yaxis": {
         "anchor": "x",
         "domain": [
          0.575,
          1
         ],
         "title": {
          "text": "Avaliações"
         }
        },
        "yaxis2": {
         "anchor": "x2",
         "domain": [
          0,
          0.425
         ],
         "title": {
          "text": "Avaliações"
         }
        }
       }
      }
     },
     "metadata": {},
     "output_type": "display_data"
    }
   ],
   "source": [
    "df_filler = df[df['Tipo'].isin(['Filler'])]\n",
    "\n",
    "fig = sp.make_subplots(rows=2, cols=1)\n",
    "\n",
    "fig.add_trace(go.Scatter(x=df_filler['Lançamento'], y=df_filler['Votos'], mode='lines+markers'), row=1, col=1)\n",
    "fig.update_xaxes(title_text=\"Data de Lançamento\", row=1, col=1)\n",
    "fig.update_yaxes(title_text=\"Avaliações\", row=1, col=1)\n",
    "\n",
    "fig.add_trace(go.Scatter(x=df_filler['Lançamento'], y=df_filler['Avaliação'], mode='lines+markers'), row=2, col=1)\n",
    "fig.update_xaxes(title_text=\"Data de Lançamento\", row=2, col=1)\n",
    "fig.update_yaxes(title_text=\"Avaliações\", row=2, col=1)\n",
    "\n",
    "fig.update_layout(height=700, width=1600, showlegend=False)\n",
    "fig.show()"
   ]
  },
  {
   "cell_type": "markdown",
   "metadata": {},
   "source": [
    "- Pelo que pode ser observado, os episódios fillers apresentam uma queda com o tempo da votação, voltando a subir entre 2015 e atualmente.\n",
    "- Já sobre as avaliações, há uma variação grande que impede de criar muitas conclusões a respeito, pois alguns episódios vão bem mas logo em seguida há um filler com uma queda considerável de avaliação.\n",
    "- Uma questão a ser considerada é que fillers seguidos aparentam ter avaliações variando menos do que episódios únicos espalhados ao longo do tempo. Isso sugere que os telespectadores aceitam mais fillers em sequência (como arcos filler, por exemplo), do que um episódio filler avulso no meio de um arco."
   ]
  },
  {
   "cell_type": "markdown",
   "metadata": {},
   "source": [
    "#### Conclusão"
   ]
  },
  {
   "cell_type": "markdown",
   "metadata": {},
   "source": [
    "- A maioria dos episódios (91%) é canônica/semi-canônica e bem recebida pelos fãs, com uma avaliação média de 8.05 e uma média de 2415 votos. Picos recentes de votos sugerem um aumento na qualidade percebida dos episódios a partir de 2021.\n",
    "- O arco mais recente, Egghead, já acumula 5 avaliações máximas (9.7), sugerindo que os fãs estão satisfeitos com o rumo atual da história, que está, inclusive, em sua reta final. \n",
    "- País de Wano (96 episódios), Ilha Whole Cake (41 episódios), Dressrosa (36 episódios) e Marineford (31 episódios) foram arcos que tiveram boas quantidades de episódios com avaliação acima de 8.8. Além disso, Marineford destacou-se como o arco preferido dos telespectadores, pois teve a melhor avaliação média (9.15), 94% do arco possui avaliação acima de 8.8 e apresenta uma das maiores quantidades de votos.\n",
    "- Não foi observada uma correlação forte entre a quantidade de votos e a avaliação. \n",
    "- Episódios fillers apresentam avaliações e engajamento consideravelmente menores, principalmente quando lançados de forma avulsa e única no meio de um arco canônico."
   ]
  }
 ],
 "metadata": {
  "kernelspec": {
   "display_name": "Python 3",
   "language": "python",
   "name": "python3"
  },
  "language_info": {
   "codemirror_mode": {
    "name": "ipython",
    "version": 3
   },
   "file_extension": ".py",
   "mimetype": "text/x-python",
   "name": "python",
   "nbconvert_exporter": "python",
   "pygments_lexer": "ipython3",
   "version": "3.12.4"
  }
 },
 "nbformat": 4,
 "nbformat_minor": 2
}
